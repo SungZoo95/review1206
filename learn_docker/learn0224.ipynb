{
 "cells": [
  {
   "attachments": {},
   "cell_type": "markdown",
   "metadata": {},
   "source": [
    "# Service"
   ]
  },
  {
   "attachments": {},
   "cell_type": "markdown",
   "metadata": {},
   "source": [
    "- 오늘 배운것 복습 \n",
    "\n",
    "- client가 외부와 통신할때 (웹어플리케이션을 키고?(edge,chrome)) naver로 들어가고 싶을때 (port번호는 1234)\n",
    "- 네트워크 (IP주소) 127.123.12.1 이면 -> naver로 이동하면 네이버의 ip주소를 dns서버에서 찾아서 바꿔준다 \n",
    "(우리가 도메인네임만쳐도 들어가지는 이유)\n",
    "\n",
    "- 만약 사설 IP라면? (포트포워딩 테이블 작성)\n",
    "- 사설IP: 포트 192.123.123.12\n",
    "- 방화벽에 allow 요청한다 (192.123.123.12)\n",
    "\n",
    "- 그냥 들어가고 싶을때? ip주소 (도메인 이름) + 포트번호 \n",
    "- https(443) or http(80) 보통 이 주소로 시작해서 이걸 붙이면 ok \n",
    "- 예를 들어 www.naver.com 앞에 https가 없으니 www.naver.com:80 이런식으로 사용 \n"
   ]
  },
  {
   "attachments": {},
   "cell_type": "markdown",
   "metadata": {},
   "source": [
    "- 오늘 실습해본것 \n",
    "- 터미널 두 개 띄워놓고 \n",
    "\n",
    "``` python\n",
    "from socket import * #모듈 임포트 \n",
    "svrsock = socket(AF_INET,SOCK_DGRAM)\n",
    "svrsock = svrsock.bind(('localhost',5000)) # 로컬 ip주소 포트번호쓰고 여기까지 서버\n",
    "\n",
    "from socket import *\n",
    "csock = socket(AF_INET, SOCK_DGRAM) # clinet도 똑같이 설정해준다 \n",
    "csock.sendto('hello'.endode(), ('localhost',5000)) # 위서버가 설정해준 ip와 포트 넘버에 메세지 전송 encode 한글일시 필수 여기까지 client\n",
    "\n",
    "s, addr = svrsock.recvfrom(1024) # 데이터와 발신주소를 함께 얻는다 1024는 버퍼 크기이다 작게하면 글씨가 잘릴 수 있다 \n",
    "s\n",
    "svrsock.sendto('Hello'.encode(), addr) #이미 상대방의 수신주소가 저장됐기 때문에 addr로 바로 보낼 수 있다 \n",
    "# 여기까지 서버\n",
    "\n",
    "s, addr = csock.recvfrom(1024) # 메세지는 받을때마다 이렇게 recvfrom 해줘야 메세지가 바뀐다 \n",
    "s # 메세지 확인 \n",
    "\n",
    "svrsock.close() # 소캣 끄기 \n",
    "```"
   ]
  }
 ],
 "metadata": {
  "language_info": {
   "name": "python"
  },
  "orig_nbformat": 4
 },
 "nbformat": 4,
 "nbformat_minor": 2
}
