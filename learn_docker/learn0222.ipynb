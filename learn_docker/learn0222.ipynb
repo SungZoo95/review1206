{
 "cells": [
  {
   "attachments": {},
   "cell_type": "markdown",
   "metadata": {},
   "source": [
    "# ip"
   ]
  },
  {
   "attachments": {},
   "cell_type": "markdown",
   "metadata": {},
   "source": [
    "- apt-get, apt: 패키지 관리자(ubuntu)\n",
    "- yum : 패키지 관리자(centos, redhat)\n",
    "- brew : 패키지 관리자(brew)\n",
    "- pip,conda : 패키지 관리자 (python)\n",
    "- co nda -c conda-forge : 콘다와는 별개 두 개의 관리자\n"
   ]
  },
  {
   "attachments": {},
   "cell_type": "markdown",
   "metadata": {},
   "source": [
    "- apt-get update : 패키지 정보를 새로 받아온다\n",
    "- apt-get install : 패키지를 설치한다 \n",
    "    - apt-get install net-tools \n",
    "    "
   ]
  },
  {
   "attachments": {},
   "cell_type": "markdown",
   "metadata": {},
   "source": [
    "- 명령어 -> 옵션 -> 서브커맨드 -> 인자\n",
    "- apt-get : 명령어\n",
    "- install : 서브커맨드 \n",
    "-  net-tools : 인자"
   ]
  },
  {
   "attachments": {},
   "cell_type": "markdown",
   "metadata": {},
   "source": [
    "- docker : 명령어\n",
    "- start : 서브커맨드\n",
    "- a : 옵션, --attach (옵션은 대쉬(-)다음 띄어쓰기 없이 바로 붙이고 --두개일때는 풀스펠링 사용)\n",
    "- ubuntu:20.04 : 인자 "
   ]
  },
  {
   "attachments": {},
   "cell_type": "markdown",
   "metadata": {},
   "source": [
    "- ifconfig : 자신의 인터넷 확인가능 "
   ]
  },
  {
   "attachments": {},
   "cell_type": "markdown",
   "metadata": {},
   "source": [
    "### 네트워크 \n",
    "- 웹어플리케이션(edge,chrome)-------> Naver.Google(server)\n",
    "- www.google.com (domain name) :  도메인 이름만 안다고 넘어가는게 아니다 \n",
    "- DNS : 도메인 주소를 작성했을때 도메인 ip주소를 알고 통신할 수 있게 해주는게 DNS 서버이다 "
   ]
  },
  {
   "attachments": {},
   "cell_type": "markdown",
   "metadata": {},
   "source": [
    "- 서비스 개발 --> server에 올린다 --> server의 ip가 존재한다 --> domain name에 ip를 등록한다 \n",
    "- domain name으로 접속가능하게 하는법 \n"
   ]
  },
  {
   "attachments": {},
   "cell_type": "markdown",
   "metadata": {},
   "source": [
    "### 예습 공인 ip와 사설 ip 의 차이"
   ]
  },
  {
   "attachments": {},
   "cell_type": "markdown",
   "metadata": {},
   "source": [
    "- 공인 IP란? \n",
    "    - 인터넷 사용자의 로컬 네트워크를 식별하기 위해 인터넷 서비스 공급자가 제공하는 IP주소이다 \n",
    "    - 공용 IP주소라고 불리며 외부에 공개되어 있는 IP 주소이다\n",
    "    - 공인 IP는 전세계에서 유일한 IP주소를 갖는다 \n",
    "    - 공인 IP 주소가 외부에 공개되어 있기에 인터넷에 연결된 다른 PC로부터의 접근이 가능하다.\n",
    "    - 따라서 공인 IP주소를 사용하는 경우에는 방화벽 등의 보안 프로그램을 설치할 필요가 있다 "
   ]
  },
  {
   "attachments": {},
   "cell_type": "markdown",
   "metadata": {},
   "source": [
    "- 사설IP란?\n",
    "    - 일반 가정이나 회사 내 등에 할당된 네트워크의 ip주소이다 (로컬IP, 가상IP라고도 한다)\n",
    "    - 로컬 네트워크상의 PC나 장치에 할당된다 "
   ]
  },
  {
   "attachments": {},
   "cell_type": "markdown",
   "metadata": {},
   "source": [
    "- 사설 IP 주소대역\n",
    "   - A : 10.0.0.0 ~ 10.255.255.255\n",
    "   - B : 172.16.0.0 ~ 172.31.255.255\n",
    "   - C : 192.168.0.0 ~ 192.168.255.255\n",
    "    "
   ]
  },
  {
   "cell_type": "markdown",
   "metadata": {},
   "source": []
  }
 ],
 "metadata": {
  "kernelspec": {
   "display_name": "docker",
   "language": "python",
   "name": "python3"
  },
  "language_info": {
   "name": "python",
   "version": "3.10.6"
  },
  "orig_nbformat": 4,
  "vscode": {
   "interpreter": {
    "hash": "eebfaace1f3f3a9d2df5b4138c160651c366d071a293d5c960453ab8e00b2135"
   }
  }
 },
 "nbformat": 4,
 "nbformat_minor": 2
}
