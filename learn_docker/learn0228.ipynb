{
 "cells": [
  {
   "attachments": {},
   "cell_type": "markdown",
   "metadata": {},
   "source": [
    "# 커널과 쉘 "
   ]
  },
  {
   "attachments": {},
   "cell_type": "markdown",
   "metadata": {},
   "source": [
    "- Kernel이란? \n",
    "    - 하드웨어와 인터페이스를 연결하는 부분으로, UNIX/LINUX 시스템이 부팅될때 가장 먼저 읽혀지는 운영체제의 핵심 부분\n",
    "    - 프로세스 스케줄링, 메모리 관리, I/O 장치 관리, 파일 관리와 같은 여러가지 기능을 수행 \n"
   ]
  },
  {
   "attachments": {},
   "cell_type": "markdown",
   "metadata": {},
   "source": [
    "- Shell이란?\n",
    "    - 운영체제의 가장 바깥부분에 위치하고 있으면서 사용자가 입력한 명령을 해석하여 사용자가 지정한 프로그램을 실행하는 인터프리터 \n",
    "- 종류 : bash, ksh, sh, csh, zsh\n",
    "- 현재 시스템에서 사용중인 shell 확인 명령어 \n",
    "-----\n",
    "```Bash\n",
    "echo $SHELL\n",
    "```\n",
    "output ex) /bin/zsh ,/bin/bash "
   ]
  },
  {
   "attachments": {},
   "cell_type": "markdown",
   "metadata": {},
   "source": [
    "- Shell Script \n",
    "     - 일련의 작업들을 자동화 하기 위한 Shell Command들의 집합\n",
    "     - 특징 : Easy,Fast,Automation"
   ]
  },
  {
   "attachments": {},
   "cell_type": "markdown",
   "metadata": {},
   "source": [
    "# BASH \n"
   ]
  },
  {
   "attachments": {},
   "cell_type": "markdown",
   "metadata": {},
   "source": [
    "### 시작 파일  \n",
    "- Shell이 처음 시작할 때 Shell을 초기화 하기 위해 시작파일을 실행\n",
    "- Shell이 어떤 파일을 실행할지는 로그인 Shell인지, 비로그인 대화형 Shell인지 , 비대화형 Shell인지에 따라 다르다"
   ]
  },
  {
   "attachments": {},
   "cell_type": "markdown",
   "metadata": {},
   "source": [
    "### 로그인 Shell\n",
    "- 시스템 콘솔, 가상 콘솔 , SSH나 또 다른 프로그램을 사용한 원격 접속 또는 다른 수단으로 로그인 했을 때 프롬프트를 보여주는 최초의 셀이다.\n",
    "- 로그인 쉘은 logout 명령으로 로그아웃해서 쉘 종료를 할 수 있다.\n",
    "- 다른 사용자 계정으로 전환하는 su -l username 명령으로 수행되는 서브쉘도 로그인 쉘이다 (-ㅣ은 지정된 사용자의 로그인 쉘을 시작하는 옵션)\n",
    "\n",
    "```Bash\n",
    "[user@localhost ~]$ whoami\n",
    "user\n",
    "[user@localhost ~]$ su -l root\n",
    "Password:\n",
    "[root@localhost ~]$ whoami\n",
    "root\n",
    "[root@localhost ~]$ logout\n",
    "[user1@localhost ~]$\n",
    "```"
   ]
  },
  {
   "attachments": {},
   "cell_type": "markdown",
   "metadata": {},
   "source": [
    "### 로그인 Shell의 실행 순서\n",
    "- /etc/profile → /etc/profile.d\n",
    "- /etc/bashrc → ~/.bashrc"
   ]
  },
  {
   "attachments": {},
   "cell_type": "markdown",
   "metadata": {},
   "source": [
    "- /etc/profile : 처음 bash 에 실행하는 사용자들을 위해 기본 설정이 저장되어 있는 /etc/profile 에 있는 명령을 실행한다.\n",
    "- /etc/profile.d : /etc/profile 을 통해 실행되는 .sh 확장자를 가진 파일을 보관해 두는곳"
   ]
  }
 ],
 "metadata": {
  "kernelspec": {
   "display_name": "docker",
   "language": "python",
   "name": "python3"
  },
  "language_info": {
   "name": "python",
   "version": "3.10.6"
  },
  "orig_nbformat": 4,
  "vscode": {
   "interpreter": {
    "hash": "eebfaace1f3f3a9d2df5b4138c160651c366d071a293d5c960453ab8e00b2135"
   }
  }
 },
 "nbformat": 4,
 "nbformat_minor": 2
}
