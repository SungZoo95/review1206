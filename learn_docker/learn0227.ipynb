{
 "cells": [
  {
   "attachments": {},
   "cell_type": "markdown",
   "metadata": {},
   "source": [
    "# 복습 - 리눅스 사용자와 권한 "
   ]
  },
  {
   "attachments": {},
   "cell_type": "markdown",
   "metadata": {},
   "source": [
    "- 중앙 컴퓨터 (컴퓨터의 초기)\n",
    "    - 관리자 계정 \n",
    "    - 사용자 계정\n",
    "    - 사용자 계정 \n",
    "- 초기의 컴퓨터는 중앙 관리자 계정을 두고 사용자 계정을 여러개 사용하는 형태 (컴퓨터가 비싼시절)"
   ]
  },
  {
   "attachments": {},
   "cell_type": "markdown",
   "metadata": {},
   "source": [
    "- PC(개인용 컴퓨터)\n",
    "    - 관리자 계정 x \n",
    "    - MS-DOS -> windows -> 윈도우 3.1 \n",
    "    - 윈도우 95, windows 2000, windows me, windows xp ->\n",
    "    - windows vista (설치 -> 관리자 계정인지 확인) -> windows 7 -> windows10(리눅스 커널)-> windows11\n",
    "- 지금의 컴퓨터 pc의 초기 관리자 계정이 없는채로 windows를 진행하다 무분별한 설치와 권한 남용으로 바이러스 등 부작용이 심해져 관리자 계정인지\n",
    "확인하는 절차가 생김 그 후 windows10 부터 리눅스 커널을 사용하여 사실상 mac이 아니여도 리눅스 개발환경을 사용가능 하다는 장점이 생겼다 \n",
    "----------"
   ]
  },
  {
   "attachments": {},
   "cell_type": "markdown",
   "metadata": {},
   "source": [
    "- 계정 \n",
    "    - 관리자 (root #) : #으로 표현됨 \n",
    "    - 사용자 (user, username $) : $로 표현됨\n",
    "    - /etc/passwd (계정 설정), /etc/shadow(계정 암호 저장 : 암호화)\n",
    "- 그룹\n",
    "    - 계정이 속해있는 그룹 \n",
    "    - /etc/group\n",
    "    - 그룹명 :: 사용자 \n",
    "    - 리눅스의 모든 사용자는 무조건 1개의 그룹에 속한다.\n",
    "        - 생성되는 순간 속하게 된다 (태어나자마자 대한민국에 속한것처럼)"
   ]
  },
  {
   "attachments": {},
   "cell_type": "markdown",
   "metadata": {},
   "source": [
    "- 계정 단축키 \n",
    "    - useradd <username> : 계정 생성, home 디렉터리를 생성하지 않는다 (개인 집을 안만드는 느낌)\n",
    "    - adduser <username> : 계정 생성, home 디렉터리를 생성 \n",
    "    - passwd <username> : 계정 passwd 생성 \n",
    "    - userdel <username> : 계정 삭제\n",
    "    - groupdel <groupname> : 그룹 삭제\n",
    "    - su <username> : 계정 변경 : 현재 디렉터리에서 작업 \n",
    "        - su - : 계정 변경 : 작업디렉터리는 홈 디렉터리 \n",
    "    - sudo : superuser do \n",
    "        - sudo -i : sudo interactive를 나타내며 새 셸 세션을 시작하는데 사용함 \n",
    "        - sudo -s : sudo shell의 약자로 새 셸 세션을 시작하는데 사용하지만 새 로그인 셸은 생성되지 않는다 \n",
    "        - 둘의 차이점 sudo -i 에 비해 sudo -s 는 현재 셸 환경을 보존하는 것  현재 작업 디렉토리 별칭 및 기타 설정을 유지하는 경우 쓰임\n",
    "    - ctrl + d : logout\n",
    "    - usermod : 사용자 계정 설정 변경 \n",
    "    - chsh : 사용자 로그인쉘 변경 \n",
    "- root -> 일반 사용자 : 일반 사용자로 변경할때 passwd가 필요없다\n",
    "- 일반 사용자 -> 일반 사용자 : passwd가 필요하다\n",
    "----------"
   ]
  },
  {
   "attachments": {},
   "cell_type": "markdown",
   "metadata": {},
   "source": [
    "- 계정 정보 확인 \n",
    "    - cat/etc/passwd\n",
    "        - root:x:0:0:root:/root:/bin/bash\n",
    "        - user:x:1000:1000::/home/user:/bin/sh\n",
    "        - 사용자 이름 : 패스워드(이제는 사용x기때매 x): UID(userid): GID(groupid)::사용자home위치 : 로그인 쉘\n",
    "    - $ su <username>\n",
    "    - $ chsh -s /bin/bash\n",
    "    - $ cat /etc/passwd\n",
    "- user1이 user2의 home에서 파일을 만들고 디렉터리를 만드는 것과 같은 방법 (root와 같이)\n",
    "    - 방법 1 : root 권한 대행 \n",
    "        - sudo 라는 명령어를 이용해서 root권한을 행사할 수 있다 (sudo는 설치해줘야함)\n",
    "        - #usermod -aG (all Group) sudo user1 -- user1의 보조 그룹에 sudo를 추가한다.\n",
    "        - sudo:x:27:user1 --> user1이 sudo 보조그룹등록 확인 \n",
    "    - 방법 2 : user2의 그룹으로 속하면 어떻게 될까?  \n",
    "        - root 계정으로 usermod -aG user2 user1 \n",
    "        - user2:x:1003:user1 (user1이 user2 그룹으로 할당)\n",
    "--------\n"
   ]
  },
  {
   "attachments": {},
   "cell_type": "markdown",
   "metadata": {},
   "source": [
    "- 파일 권한 \n",
    "    - $ ls -al #해당경로의 파일들을 나열한다 a : all , l : long\n",
    "    - $ ls만 치게될 경우 그냥 디렉토리만 나오고 \n",
    "    - $ ls -a 를 치게될 경우 숨겨진 디렉토리까지 나오고 \n",
    "    - $ ls -l 을 치게될 경우 디렉토리 정보가 송출되게 된다 \n",
    "    - $ ls -al 을 하면 숨겨진 디렉토리를 포함한 정보가 길게 송출되게 된다"
   ]
  },
  {
   "attachments": {},
   "cell_type": "markdown",
   "metadata": {},
   "source": [
    "- ls -al을 사용해서 이렇게 나왔다면?\n",
    "    - d:   rwxr-xr-x    1   root     root    4096   Feb 27 02:28   ..\n",
    "    - -:   rw-r--r--    1   user1   user1    220    Feb 27 02:28   .bash_logout\n",
    "\n",
    "1. 영역 : 파일 종류 (d : 디렉토리 , -: 파일 , l:링크 )\n",
    "2. 영역 : 파일 권한 해당 필드의 사용자가 파일에 적용할 수 있는 권한 \n",
    "    - rwx r-x r-x : 소유자 권한, 소유그룹 권한, 기타 사용자 권한 (예시는 소유자가 rwx 그룹이 r-x, 기타 사용자가 r-x)\n",
    "    - 그래서 rwx는 뭐죠? r(read), w(write), x(execute)\n",
    "    - 아하 위는 소유자가 읽고 쓰고 실행이 가능하지만 소유 그룹이나 기타 사용자는 수정이 불가능하구나\n",
    "3. 영역 : 링크 (바로가기의 개수가 몇 개인가)\n",
    "4. 영역 : 소유자\n",
    "5. 영역 : 소유그룹\n",
    "6. 영역 : 파일크기 (byte)\n",
    "7. 영역 : 최종 수정 시간 \n",
    "8. 영역 : 이름 "
   ]
  },
  {
   "attachments": {},
   "cell_type": "markdown",
   "metadata": {},
   "source": [
    "- 리눅스 : 모든게 파일이다. 확장자의 개념이 없다 (window와 다른점)\n",
    "    - 디렉터리 -> 파일\n",
    "    - 계정정보 -> 파일에 저장\n",
    "    - 패스워드 -> 파일\n",
    "    - 그룹정보 -> 파일에 저장\n",
    "    - 표준출력, 표준입력(?) -> 파일\n",
    "    - 마우스 -> 파일\n",
    "    - 모니터 -> 파일\n",
    "    - 프린터기 -> 파일\n",
    "- 이렇기 때문에 sudo를 사용할 때는 조심해서 사용해야 한다 "
   ]
  }
 ],
 "metadata": {
  "language_info": {
   "name": "python"
  },
  "orig_nbformat": 4
 },
 "nbformat": 4,
 "nbformat_minor": 2
}
