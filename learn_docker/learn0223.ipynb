{
 "cells": [
  {
   "attachments": {},
   "cell_type": "markdown",
   "metadata": {},
   "source": [
    "# 공인 ip / 사설 ip"
   ]
  },
  {
   "attachments": {},
   "cell_type": "markdown",
   "metadata": {},
   "source": [
    "- ip 주소 : 주민등록번호와 비슷한걸까?\n",
    "- ip는 2진법으로 이루어진 한섹션이 8비트니 총 32 비트로 이루어져있다\n",
    "    - 0.0.0.0 ~ 255.255.255.255\n",
    "- ipv4의 갯수가 부족하다 -> 사설 ip와 공인 ip로 분리해서 사용하자    "
   ]
  },
  {
   "attachments": {},
   "cell_type": "markdown",
   "metadata": {},
   "source": [
    "- ip 주소 : 네트워크 부분 + 호스트 부분 \n",
    "    - 예) 192.168.0.1 여기서 네트워크와 호스트 부분을 알아보려면?\n",
    "    - netmask를 알아야한다 netmask는 네트워크와 호스트부분을 구분 지어준다 \n",
    "    - 예를들어 위의 ip의 netmask는 16이면 192.168 이 네트워크 부분이 되며 \n",
    "    - 뒤의 0.1 이 호스트 부분이 된다"
   ]
  },
  {
   "attachments": {},
   "cell_type": "markdown",
   "metadata": {},
   "source": [
    "- 게이트 웨이란? \n",
    "    - 외부와 연결되어 있는 주소이다 \n",
    "    - 일반적으로 호스트의 가장 첫번째 ip주소를 게이트웨이로 삼는다 "
   ]
  },
  {
   "attachments": {},
   "cell_type": "markdown",
   "metadata": {},
   "source": [
    "- 브로드 케스트는 반대로 호스트의 가장 마지막 부분을 브로드 케스트로 삼는다"
   ]
  },
  {
   "attachments": {},
   "cell_type": "markdown",
   "metadata": {},
   "source": [
    "- 네트워크 구분 \n",
    "    - A클래스 :  0.0.0.0 ~ 127.255.255.255\n",
    "\n",
    "    - B클래스 : 128.0.0.0 ~ 191.255.255.255\n",
    "\n",
    "    - C클래스 : 192.0.0.0 ~ 223.255.255.255\n",
    "\n",
    "    - D클래스 : 나머지 "
   ]
  },
  {
   "cell_type": "markdown",
   "metadata": {},
   "source": []
  }
 ],
 "metadata": {
  "language_info": {
   "name": "python"
  },
  "orig_nbformat": 4
 },
 "nbformat": 4,
 "nbformat_minor": 2
}
