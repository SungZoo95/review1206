{
 "cells": [
  {
   "attachments": {},
   "cell_type": "markdown",
   "metadata": {},
   "source": [
    "# 공인 ip / 사설 ip"
   ]
  },
  {
   "attachments": {},
   "cell_type": "markdown",
   "metadata": {},
   "source": [
    "- ip 주소 : 주민등록번호와 비슷한걸까?\n",
    "- ip는 2진법으로 이루어진 한섹션이 8비트니 총 32 비트로 이루어져있다\n",
    "    - 0.0.0.0 ~ 255.255.255.255\n",
    "- ipv4의 갯수가 부족하다 -> 사설 ip와 공인 ip로 분리해서 사용하자    "
   ]
  },
  {
   "attachments": {},
   "cell_type": "markdown",
   "metadata": {},
   "source": [
    "- ip 주소 : 네트워크 부분 + 호스트 부분 \n",
    "    - 예) 192.168.0.1 여기서 네트워크와 호스트 부분을 알아보려면?\n",
    "    - netmask를 알아야한다 netmask는 네트워크와 호스트부분을 구분 지어준다 \n",
    "    - 예를들어 위의 ip의 netmask는 16이면 192.168 이 네트워크 부분이 되며 \n",
    "    - 뒤의 0.1 이 호스트 부분이 된다"
   ]
  },
  {
   "attachments": {},
   "cell_type": "markdown",
   "metadata": {},
   "source": [
    "- 게이트 웨이란? \n",
    "    - 외부와 연결되어 있는 주소이다 \n",
    "    - 일반적으로 호스트의 가장 첫번째 ip주소를 게이트웨이로 삼는다 "
   ]
  },
  {
   "attachments": {},
   "cell_type": "markdown",
   "metadata": {},
   "source": [
    "- 브로드 케스트는 반대로 호스트의 가장 마지막 부분을 브로드 케스트로 삼는다"
   ]
  },
  {
   "attachments": {},
   "cell_type": "markdown",
   "metadata": {},
   "source": [
    "- 네트워크 구분 \n",
    "    - A클래스 :  0.0.0.0 ~ 127.255.255.255\n",
    "\n",
    "    - B클래스 : 128.0.0.0 ~ 191.255.255.255\n",
    "\n",
    "    - C클래스 : 192.0.0.0 ~ 223.255.255.255\n",
    "\n",
    "    - D클래스 : 나머지 "
   ]
  },
  {
   "attachments": {},
   "cell_type": "markdown",
   "metadata": {},
   "source": [
    "### NAT"
   ]
  },
  {
   "attachments": {},
   "cell_type": "markdown",
   "metadata": {},
   "source": [
    "- ip 주소는 global unique 해야한다 (주민등록번호처럼)\n",
    "    - 네트워크 내부에서 unique한 주소를 배분한다\n",
    "    - 내부에서 unique해도 외부해서 unique 하지 못하면 돌아오지 못함 \n",
    "    - 내부에서 배정받은 ip 주소를 글로벌 unique하게 배정해야한다"
   ]
  },
  {
   "attachments": {},
   "cell_type": "markdown",
   "metadata": {},
   "source": [
    "- 그래서 사용한게 NAT 1개의 공인주소에 다량의 가상 사설 ip주소를 할당하는 방식\n",
    "- 하지만 이렇게 해도 외부의 공인 ip와 사설ip는 1대1 맵핑이 되어 다수의 ip를 내보낼 수 없다"
   ]
  },
  {
   "attachments": {},
   "cell_type": "markdown",
   "metadata": {},
   "source": [
    "- 그래서 추가로 port라는 것을 만든 NAPT를 사용한다 \n",
    "- 사설ip주소 뿐만아닌 포트번호까지 포함시켜 내부 호스트를 구분시켜 다수의 ip를 내보내게 만들 수 있다"
   ]
  },
  {
   "cell_type": "markdown",
   "metadata": {},
   "source": []
  }
 ],
 "metadata": {
  "kernelspec": {
   "display_name": "docker",
   "language": "python",
   "name": "python3"
  },
  "language_info": {
   "name": "python",
   "version": "3.10.6"
  },
  "orig_nbformat": 4,
  "vscode": {
   "interpreter": {
    "hash": "eebfaace1f3f3a9d2df5b4138c160651c366d071a293d5c960453ab8e00b2135"
   }
  }
 },
 "nbformat": 4,
 "nbformat_minor": 2
}
