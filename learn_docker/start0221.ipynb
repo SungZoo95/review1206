{
 "cells": [
  {
   "attachments": {},
   "cell_type": "markdown",
   "metadata": {},
   "source": [
    "# Docker 서론 \n",
    "- 컨테이너란 무엇인가?\n",
    "    - 컨테이너는 어떤 환경에서나 실행하기 위해 필요한 모든 요소를 포함하는 소프트웨어 패키지입니다.\n",
    "    - 컨테이너는 이러한 방식으로 운영체제를 가상화\n",
    "    - 개발자의 개인 노트북에(윈도우,리눅스,OSX)이르기까지 어디서나 실행됩니다\n",
    "    - A라는 컴퓨터에서 개발된 code를 B에서도 실행 가능하게 만들어보자 -> 컨테이너"
   ]
  },
  {
   "attachments": {},
   "cell_type": "markdown",
   "metadata": {},
   "source": [
    "### 코드 배우기\n",
    "- docker --version (버전 체크)\n",
    "- service docker start (docker 시작)\n",
    "- service docker status (docker 상태 확인)\n",
    "- docker images (container를 생성하기 위해 base가 되는 image)\n",
    "- docker run (docker의 이미지를 기반으로, 컨테이너를 생성하는 명령어입니다 뒤에 옵션이 붙어야합니다)\n",
    "- docker run --name (컨테이너를 생성할때, 이름을 지정하여 생성하는 옵션입니다)\n",
    "- docker ps -a  (종료된 컨테이너를 포함해, 삭제되지 않은 모든 도커 컨테이너를 볼 수 있는 명령어입니다)\n",
    "- docker attach (컨테이너 내부에 다시 접근하게 해주는 명령어입니다)\n",
    "- docker run -it (-i는 컨테이너의 표준 입력을 활성화 -t는 가상터미널을 할당함 두개를 같이 쓰는경우가 많습니다)\n",
    "- docker rm (docker run 명령어가 끝나면, 컨테이너 자동삭제 해주는 명령어입니다)\n",
    "- 과정 : create --> start --> attach --> container 의 /bin/bash\n",
    "- run (create+start) --> container의 /bin/bash (-it/bin/bash)\n"
   ]
  }
 ],
 "metadata": {
  "language_info": {
   "name": "python"
  },
  "orig_nbformat": 4
 },
 "nbformat": 4,
 "nbformat_minor": 2
}
