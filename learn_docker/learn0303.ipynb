{
 "cells": [
  {
   "attachments": {},
   "cell_type": "markdown",
   "metadata": {},
   "source": [
    "# 가상화 "
   ]
  },
  {
   "attachments": {},
   "cell_type": "markdown",
   "metadata": {},
   "source": [
    "- 하나의 컴퓨터로 여러 대의 가상 컴퓨터로 나눠 사용하는 기술 \n"
   ]
  },
  {
   "attachments": {},
   "cell_type": "markdown",
   "metadata": {},
   "source": [
    "- 서버 가상화\n",
    "    - 하나의 물리적 서버에 여러대의 가상 서버를 생성하여 사용하는 기술\n",
    "- 데스크톱 가상화\n",
    "    - 하나의 물리적 데스크톱에 여러대의 가상 데스크톱을 생성하여 사용하는 기술 \n",
    "- 컨테이너 가상화 \n",
    "    - 운영체제 수준에서 가상화를 수행하는 기술\n",
    "    - 컨테이너는 격리된 환경을 제공하여 각각의 컨테이너는 독립적인 공간에서 실행된다"
   ]
  },
  {
   "attachments": {},
   "cell_type": "markdown",
   "metadata": {},
   "source": [
    "# Docker  \n"
   ]
  },
  {
   "attachments": {},
   "cell_type": "markdown",
   "metadata": {},
   "source": [
    "- 고수준 컨테이너 \n",
    "- 장점 : \n",
    "    - 격리된 환경 \n",
    "        - Docker는 이미지를 사용하여 컨테이너를 구동\n",
    "        - 컨테이너는 격리된 환경으로 하나의 애플리케이션을 실행하도록 구동\n",
    "    - 서버를 코드 형태로 정의 \n",
    "        - Docker 컨테이너에서 사용되는 이미지를 코드 형태로 정의하여 작성 가능 (Dockerfile)\n",
    "        - 이미지를 코드형태로 관리할경우 일관성을 유지할 수 있고, 버전 관리에 용이함\n",
    "    "
   ]
  },
  {
   "attachments": {},
   "cell_type": "markdown",
   "metadata": {},
   "source": [
    "- Client    \n",
    "    - docker명령어를 사용하여 Docker 데몬과 상호작용하는 구성요소\n",
    "- Host \n",
    "    - dockerd을 구동하며, Client로부터 명령을 전달받아 실행\n",
    "    - 실제 컨테이너 위치\n",
    "    - docker를 사용해 컨테이너 이미지를 저장\n",
    "- Registry\n",
    "    - Docker 이미지를 저장하는 구성요소\n",
    "    - 기본 Registry로 Docker Hub 사용가능 \n",
    "\n",
    "- docker build로 현재 가지고 있는 이미지를 만들 수 있다 (하지만 허브에서 이미지를 가져오지는 못함)\n",
    "- docker pull로 현재 가지고 있는 이미지를 컨테이너에 저장할 수 있다 \n",
    "- docker run 현재 이미지를 가지고 컨테이너에 저장할 수 있다 하지만 이미지가 없는 경우 docker hub에서 latest인 이미지를 가져와서 컨테이너에 저장한다 \n",
    "    - 내가 보기엔 docker run만 쓰면 웬만하면 해결 가능할거같다"
   ]
  }
 ],
 "metadata": {
  "language_info": {
   "name": "python"
  },
  "orig_nbformat": 4
 },
 "nbformat": 4,
 "nbformat_minor": 2
}
