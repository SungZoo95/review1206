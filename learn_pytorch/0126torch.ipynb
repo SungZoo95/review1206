{
 "cells": [
  {
   "attachments": {},
   "cell_type": "markdown",
   "metadata": {},
   "source": [
    "# pytorch 특강 리뷰"
   ]
  },
  {
   "attachments": {},
   "cell_type": "markdown",
   "metadata": {},
   "source": [
    "- import torch \n",
    "- torch.__version__ : 지금 사용하고 있는 torch 버전 불러온다\n",
    "- torch.cuda.is_available() : GPU환경인지 물어본다 참이면 True "
   ]
  },
  {
   "attachments": {},
   "cell_type": "markdown",
   "metadata": {},
   "source": [
    "### torch.Tensor vs torch.tensor \n",
    "\n",
    "- torch.Tensor\n",
    "    - 클래스 \n",
    "    - int 로 입력하면 float로 변환 1,2 --> 1.,2.\n",
    "    - list, numpy 입력 시 입력받은 데이터를 복사하여 새롭게 torch.Tensor 만든 후에 사용함\n",
    "- torch.tensor\n",
    "    - 함수\n",
    "    - int 입력하면 그대로 나옴 \n",
    "\n",
    "- 대소문자의 구분 확실하게 하자!"
   ]
  },
  {
   "attachments": {},
   "cell_type": "markdown",
   "metadata": {},
   "source": [
    "- 대문자 Tensor\n",
    "    - original : tensor([1.]) new : tensor([1.]) 에서 오리지널 데이터를 수정하면 \n",
    "    - original : tensor([2.]) new : tensor([2.])\n"
   ]
  },
  {
   "attachments": {},
   "cell_type": "markdown",
   "metadata": {},
   "source": [
    "- 소문자 tensor\n",
    "    - original : tensor([1]) new : tensor([1]) 에서 오리지널 데이터를 수정하면 \n",
    "    - original : [2] new : tensor([1])"
   ]
  },
  {
   "attachments": {},
   "cell_type": "markdown",
   "metadata": {},
   "source": [
    "- list로 텐서 생성하기\n",
    "    - torch.Tensor(list)\n",
    "- numpy array로 텐서 생성하기\n",
    "    - torch.Tensor(numpy)"
   ]
  },
  {
   "attachments": {},
   "cell_type": "markdown",
   "metadata": {},
   "source": [
    "- GPU를 사용하려면 device 정보를 텐서에 string 타입으로 전달해줘야 한다.\n",
    "    - cuda : GPU\n",
    "    - cpu : CPU\n",
    "- .to(device) 로 데이터 정보 전달해주어야 사용가능하다."
   ]
  },
  {
   "attachments": {},
   "cell_type": "markdown",
   "metadata": {},
   "source": [
    "### 랜덤 텐서 생성하기"
   ]
  },
  {
   "attachments": {},
   "cell_type": "markdown",
   "metadata": {},
   "source": [
    "- torch.manual_seed : 동일한 결과를 만들도록 seed 고정 (numpy랑 동일)\n",
    "- torch.rand : (0,1) 사이의 랜덤 텐서 생성 \n",
    "- torch.randn : 평균 =0 표준편차 =1인 정규분포로부터 랜덤텐서 생성\n",
    "- torch.randint : (최저값, 최대값) 사이에서 랜덤정수 텐서 생성 \n",
    "- numpy 랑 torch붙여 텐서 생성한다는거 빼곤 사용법이 같음 "
   ]
  },
  {
   "attachments": {},
   "cell_type": "markdown",
   "metadata": {},
   "source": [
    "- torch.zeros_like : 사용하던 텐서와 같은 크기로 0으로 채워진 텐서 생성 \n",
    "- torch.ones_like : 사용하면 텐서와 같은 크기로 1로 채워진 텐서 생성\n",
    "- x.size() = x.shape 같음 "
   ]
  },
  {
   "cell_type": "markdown",
   "metadata": {},
   "source": []
  }
 ],
 "metadata": {
  "language_info": {
   "name": "python"
  },
  "orig_nbformat": 4
 },
 "nbformat": 4,
 "nbformat_minor": 2
}
