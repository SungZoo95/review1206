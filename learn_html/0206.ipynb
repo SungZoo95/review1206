{
 "cells": [
  {
   "attachments": {},
   "cell_type": "markdown",
   "metadata": {},
   "source": [
    "# WEB\n"
   ]
  },
  {
   "attachments": {},
   "cell_type": "markdown",
   "metadata": {},
   "source": [
    "### 웹 표준 기술 \n",
    "- 프론트엔드(Front-End) : 웹 브라우저 화면에 보이는 UI를 구현 \n",
    "    - 개발을 위해선 HTML과 CSS 및 Javascript 등의 웹표준 기술을 활용하여야 한다.\n",
    "    - HTML : 콘텐츠의 구조를 설계하기 위한 마크업 언어\n",
    "    - CSS : 콘텐츠 구조에 디자인을 입히기 위한 스타일링 언어 \n",
    "    - Javascript : 콘텐츠의 동적 제어 및 갱신을 위해 사용하는 프로그래밍 언어 \n",
    "    - HTML은 뼈대 CSS는 그위에 옷을 덧입고 그럴듯해 보이게 만들고 Java는 그 상태를 움직일 수 있게 만드는 느낌\n",
    "- 백엔드(Back-End) : 시스템의 구축, 내부 로직, 데이터 베이스 설계 및 데이터의 처리 등을 담당"
   ]
  },
  {
   "attachments": {},
   "cell_type": "markdown",
   "metadata": {},
   "source": [
    "### HTML\n",
    "- HTML은 \"HyperText Markup Language\" 약자 \n",
    "- 의미에 맞게 사용하는 Markup을 시맨팅 마크업이라고 한다\n"
   ]
  },
  {
   "attachments": {},
   "cell_type": "markdown",
   "metadata": {},
   "source": [
    "- 마크업 vs 마크다운 \n",
    "- 마크업이란? 태그 등을 이용하여 문서나 데이터 구조를 표시하는 언어\n",
    "- 마크다운이란? 둘이 상반된것이 아니라 마크업에 속한 경량 마크업 언어이다\n",
    "- 일반 마크업 언어에 비해 문법이 쉬운것이 특징이다 "
   ]
  },
  {
   "attachments": {},
   "cell_type": "markdown",
   "metadata": {},
   "source": [
    "### CSS\n",
    "- CSS는 폰트, 색상, 공백 및 문서 표현을 자유롭게 지정할 수 있는 기능을 제공\n",
    "- 기존 HTML은 웹 문서를 다양하게 설계하고 수시로 변경하는데 많은 제약이 있었기 때문에 이 점을 보완하기 위해 CSS가 생겼다\n"
   ]
  },
  {
   "attachments": {},
   "cell_type": "markdown",
   "metadata": {},
   "source": [
    "### Javascript \n",
    "- 웹 페이지의 요소를 객체화해서 동작을 제어하기 위해 사용하는 웹표준 기술에는 DOM(Document Object Model)과\n",
    "Javascript가 존재한다\n",
    "- DOM은 웹페이지의 구성체계를 이야기한다 \n",
    "    - 웹페이지의 구성체계란? HTML을 작성하면서 생성 되는 논리적 규칙을 의미한다.\n",
    "- DOM 은 프로그래밍 언어는 아니지만 DOM 이 없다면 자바스크립트 언어는 웹 페이지 또는 XML 페이지 및 요소들과 관련된 모델이나 개념들에 대한 정보를 갖지 못하게 된다\n"
   ]
  },
  {
   "attachments": {},
   "cell_type": "markdown",
   "metadata": {},
   "source": [
    "### 프레임워크 \n",
    "- 프론트 엔드 : React, Angular , Vue.js \n",
    "    - React가 사용자가 가장 많고 Angular Vue.js 순이다\n",
    "    - Vue가 사용하긴 가장 쉽다 \n",
    "- 백 엔드 : Ruby on Rails , Django , Express.js , Laravel, Spring Boot, Flask\n",
    "    - 파이썬 기반인 Django와 자바 기반인 Spring Boot 정도는 들어봤다"
   ]
  },
  {
   "attachments": {},
   "cell_type": "markdown",
   "metadata": {},
   "source": [
    "# HTML 배워보기"
   ]
  },
  {
   "attachments": {},
   "cell_type": "markdown",
   "metadata": {},
   "source": [
    "### HTML 태그(Tag)\n",
    "- 웹 문서에 표시를 해주는 기능 \n"
   ]
  },
  {
   "attachments": {},
   "cell_type": "markdown",
   "metadata": {},
   "source": [
    "|< h1  |tag 명|\n",
    "|-----|------|\n",
    "|class|속성명|\n",
    "|\"classname\"|속성값|\n",
    "|>|태그종료|\n",
    "|< /h1 >|종료태그|\n",
    "|제목|콘텐츠|\n",
    "|<>..</>|요소|"
   ]
  },
  {
   "attachments": {},
   "cell_type": "markdown",
   "metadata": {},
   "source": [
    "- 요소란?\n",
    "    - 시작태그와 종료태그를 둘다 포함하여 요소라고 정의한다\n",
    "- 태그란?\n",
    "    - 태그는 시작태그와 종료태그로 나눌 수 있으며 \"<>\"이다\n",
    "    - 기본 값은 < asdasd > 종료시 < /asdasd >의 느낌을 가집니다\n",
    "- 이 두가지와 콘텐츠로 구성된 것이 HTML 문서\n",
    "- 소문자로 사용해야 합니다"
   ]
  },
  {
   "attachments": {},
   "cell_type": "markdown",
   "metadata": {},
   "source": [
    "### HTML 기본구조 외우기\n",
    "- < !DOCTYPE html >\n",
    "    - 도큐먼트 타입으로 보고 있는 문서의 버전이 어떤지 알려주려고 표시한다\n",
    "- < html lang='ko'> ! < /html >\n",
    "    - 웹문서의 시작과 끝을 나타냄\n",
    "    - lang 언어 'ko' 한국어 \n",
    "- < head > ~ < head >\n",
    "    - < head > 요소는 < html > 내부의 첫 번째 자식요소로 사용되며, 다양한 역할을 수행한다\n",
    "- < title >\n",
    "    - 문서의 제목을 지정함 \n",
    "    - 사용자에게 정보를 제공하기 위한 단락\n",
    "- < link >\n",
    "    - 외부 문서와의 연결이 필요할때 사용\n",
    "- < body > \n",
    "    - < html > 의 자식태그이다\n",
    "    - HTML 문서 내용 입력하는 곳이다 \n",
    "- < !-- -- >\n",
    "    - 주석 다는 방식이 파이썬과 다름 "
   ]
  },
  {
   "attachments": {},
   "cell_type": "markdown",
   "metadata": {},
   "source": [
    "# HTML 속성"
   ]
  },
  {
   "attachments": {},
   "cell_type": "markdown",
   "metadata": {},
   "source": [
    "HTML의 표준 구조 \n",
    "\n",
    "```html\n",
    "<!--!하나로 입력가능-->\n",
    "<!DOCTYPE html>\n",
    "<html lang=\"en\">\n",
    "<head>\n",
    "<meta charset=\"UTF-8\">\n",
    "<meta http-equiv=\"X-UA-Compatible\" content=\"IE=edge\">\n",
    "<meta name=\"viewport\" content=\"width=device-width, initial-scale=1.0\">\n",
    "<title>Document</title>\n",
    "</head>\n",
    "<body>\n",
    "```"
   ]
  },
  {
   "attachments": {},
   "cell_type": "markdown",
   "metadata": {},
   "source": [
    "자식 노드 만들어보기 \n",
    "- <!-->-->를 이용해서 생성한다\n",
    "\n",
    "```html\n",
    "<!-- div>ul>li-->\n",
    "<div>\n",
    "    <ul>\n",
    "        <li></li>\n",
    "    </ul>\n",
    "</div>\n"
   ]
  },
  {
   "attachments": {},
   "cell_type": "markdown",
   "metadata": {},
   "source": [
    "형제 노드 만들어보기 \n",
    "- +를 이용해서 생성한다\n",
    "<!-- div>ul+ol+div -->\n",
    "```html\n",
    "<div>\n",
    "    <ul></ul>\n",
    "    <ol></ol>\n",
    "    <div></div>\n",
    "</div>"
   ]
  },
  {
   "attachments": {},
   "cell_type": "markdown",
   "metadata": {},
   "source": [
    "반복 사용하기 \n",
    "- *를 사용하여 생성한다\n",
    "\n",
    "```html\n",
    "\n",
    "<!-- ul > li*3 -->\n",
    "<div>\n",
    "    <ul>\n",
    "        <li></li>\n",
    "        <li></li>\n",
    "        <li></li>\n",
    "    </ul> \n",
    "</div>  "
   ]
  },
  {
   "attachments": {},
   "cell_type": "markdown",
   "metadata": {},
   "source": [
    "Class 사용하기\n",
    "- .을 이용해서 생성한다\n",
    "```html\n",
    "<!-- div.title -->\n",
    "<div class=\"title\"></div>"
   ]
  },
  {
   "attachments": {},
   "cell_type": "markdown",
   "metadata": {},
   "source": [
    "ID 사용하기\n",
    "- #을 이용해서 생성한다\n",
    "```html\n",
    "<!-- #item -->\n",
    "<div id=\"item\"></div>"
   ]
  },
  {
   "attachments": {},
   "cell_type": "markdown",
   "metadata": {},
   "source": [
    "텍스트 입력해보기\n",
    "- {}를 사용하여 생성한다\n",
    "<!-- a{click} -->\n",
    "< a href=\"\" > click < /a >"
   ]
  }
 ],
 "metadata": {
  "language_info": {
   "name": "python"
  },
  "orig_nbformat": 4
 },
 "nbformat": 4,
 "nbformat_minor": 2
}
