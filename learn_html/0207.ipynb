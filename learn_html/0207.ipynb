{
 "cells": [
  {
   "attachments": {},
   "cell_type": "markdown",
   "metadata": {},
   "source": [
    "# 추가 사용방법 "
   ]
  },
  {
   "attachments": {},
   "cell_type": "markdown",
   "metadata": {},
   "source": [
    "- < h1 > ~ < h6 > Heading\n",
    "    - 웹 페이지의 제목 또는 부제목을 표현할때 사용\n",
    "    - h1이 제일 크다 (마크다운 #의 느낌)\n",
    "- < p >\n",
    "    - 하나의 문단을 표시 \n",
    "- < hr >\n",
    "    - 가로선 (마크다운 --- 느낌)\n",
    "- < br >\n",
    "    - 줄바꿈 \n",
    "- < i >\n",
    "    - <i>텍스트를 이텔릭체로 표시</i>\n",
    "- < em >\n",
    "    - <em>텍스트를 이텔릭체로 강조</em> \n",
    "- i 와 em의 다른점은 ??\n",
    "    - i는 텍스트를 진하게 그리고 이텔릭체로 표시 \n",
    "    - em은 실제로 페이지 내의 중요한 부분을 강조할때 사용 \n",
    "\n"
   ]
  },
  {
   "attachments": {},
   "cell_type": "markdown",
   "metadata": {},
   "source": [
    "### 글자 태그 (다양한 효과)\n",
    "- small : 작은글자\n",
    "- sub : 아래 첨자\n",
    "- sup : 위 첨자\n",
    "- ins : 밑줄 글자\n",
    "- del : 취소선이 그어진 글 "
   ]
  },
  {
   "attachments": {},
   "cell_type": "markdown",
   "metadata": {},
   "source": [
    "### 앵커 태그\n",
    "- 하이퍼 텍스트 : 사용자의 선택에 따라 특정 정보로 이동하는 문서\n",
    "- < a > : 다른 웹페이지로 이동할 수 있음\n",
    "- < Href > : Hyper Reference약자\n"
   ]
  },
  {
   "attachments": {},
   "cell_type": "markdown",
   "metadata": {},
   "source": [
    "# Table 만들기"
   ]
  },
  {
   "attachments": {},
   "cell_type": "markdown",
   "metadata": {},
   "source": [
    "- < ol > \n",
    "    - 순서가 있는 목록\n",
    "- < ul >\n",
    "    - 순서가 없는 목록 \n",
    "- < li >\n",
    "    - ol과 ul 하위에 사용 \n",
    "- < dl >\n",
    "    - 용어를 설명하는 목록을 만듦 \n",
    "- < dt >\n",
    "    - 정의되는 용어의 제목을 넣을때 사용\n",
    "- < dd >\n",
    "    - 용어를 설명할때 사용 \n",
    "- ol > li 순\n",
    "- ul > li 순\n",
    "- dl > dt > dd 순이다\n",
    "- li, dt, dd 는 독립적 사용이 불가하다"
   ]
  },
  {
   "attachments": {},
   "cell_type": "markdown",
   "metadata": {},
   "source": [
    "- < table >\n",
    "    - 표 전체를 감싸 표를 만듦 ( 가장 상위 태그 )\n",
    "- < caption >\n",
    "    - 표 제목을 정의 \n",
    "- < tr >\n",
    "    - 표의 행 밑에 < tr > or < td > 가 있어야함\n",
    "    - < th >\n",
    "        - 제목\n",
    "    - < td >\n",
    "        - 그냥 열 \n",
    "- < colgroup >\n",
    "    - 열을 그룹으로 묶을 수 있는 태그\n",
    "    - < col >\n",
    "        - < colgroup > 태그의 자식 태그 \n",
    "- < thead >\n",
    "    - 표의 제목 열들을 묶는 그룹 태그\n",
    "- < tbody >\n",
    "    - 표의 일반적인 데이터들을 묶는 태그 \n",
    "- < tfoot >\n",
    "    - 표의 하단 영역을 묶는 태그 \n",
    "\n",
    "- table을 만들때는 caption을 꼭넣어주자 (일부러 힘들게 하려는거 아니면)\n",
    "- caption은 반드시 table 다음에 위치해야 한다"
   ]
  }
 ],
 "metadata": {
  "kernelspec": {
   "display_name": "Python 3",
   "language": "python",
   "name": "python3"
  },
  "language_info": {
   "name": "python",
   "version": "3.10.6"
  },
  "orig_nbformat": 4,
  "vscode": {
   "interpreter": {
    "hash": "916dbcbb3f70747c44a77c7bcd40155683ae19c65e1c03b4aa3499c5328201f1"
   }
  }
 },
 "nbformat": 4,
 "nbformat_minor": 2
}
