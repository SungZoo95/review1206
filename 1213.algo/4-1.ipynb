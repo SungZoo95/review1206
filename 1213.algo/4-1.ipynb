{
 "cells": [
  {
   "cell_type": "code",
   "execution_count": 3,
   "metadata": {},
   "outputs": [],
   "source": [
    "## 함수\n",
    "class Node() :\n",
    "    def __init__(self):\n",
    "        self.data = None\n",
    "        self.link = None"
   ]
  },
  {
   "cell_type": "code",
   "execution_count": 2,
   "metadata": {},
   "outputs": [],
   "source": [
    "## 변수"
   ]
  },
  {
   "cell_type": "code",
   "execution_count": 8,
   "metadata": {},
   "outputs": [
    {
     "name": "stdout",
     "output_type": "stream",
     "text": [
      "다현 정연 사나 지효 \n"
     ]
    }
   ],
   "source": [
    "## 메인 \n",
    "node1 = Node()\n",
    "node1.data = '다현'\n",
    "\n",
    "node2 = Node()\n",
    "node2.data = '정연'\n",
    "node1.link = node2\n",
    "\n",
    "node3 = Node()\n",
    "node3.data = '쯔위'\n",
    "node2.link = node3 \n",
    "\n",
    "node4 = Node()\n",
    "node4.data = '사나'\n",
    "node3.link = node4\n",
    "\n",
    "node5 = Node()\n",
    "node5.data = '지효'\n",
    "node4.link = node5\n",
    "\n",
    "#newNode = Node()\n",
    "#newNode.data = '성주'\n",
    "#newNode.link = node2.link\n",
    "#node2.link = newNode\n",
    "\n",
    "node2.link = node3.link\n",
    "del(node2)\n",
    "\n",
    "\n",
    "current = node1 \n",
    "print(current.data, end= \" \")\n",
    "while (current.link != None) :\n",
    "    current = current.link\n",
    "    print(current.data, end= \" \")\n",
    "print()\n",
    "\n",
    "\n",
    "#print(node1.data, end= \" \")\n",
    "#print(node1.link.data, end= \" \")\n",
    "#print(node1.link.link.data, end= \" \")\n",
    "#print(node1.link.link.link.data, end= \" \")\n",
    "#print(node1.link.link.link.link.data, end= \" \")\n",
    "#print(node1.link.link.link.link.link.data, end= \" \")"
   ]
  },
  {
   "cell_type": "code",
   "execution_count": null,
   "metadata": {},
   "outputs": [],
   "source": []
  }
 ],
 "metadata": {
  "kernelspec": {
   "display_name": "Python 3",
   "language": "python",
   "name": "python3"
  },
  "language_info": {
   "codemirror_mode": {
    "name": "ipython",
    "version": 3
   },
   "file_extension": ".py",
   "mimetype": "text/x-python",
   "name": "python",
   "nbconvert_exporter": "python",
   "pygments_lexer": "ipython3",
   "version": "3.11.0"
  },
  "orig_nbformat": 4,
  "vscode": {
   "interpreter": {
    "hash": "5238573367df39f7286bb46f9ff5f08f63a01a80960060ce41e3c79b190280fa"
   }
  }
 },
 "nbformat": 4,
 "nbformat_minor": 2
}
