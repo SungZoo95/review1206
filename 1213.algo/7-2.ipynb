{
 "cells": [
  {
   "cell_type": "code",
   "execution_count": 31,
   "metadata": {},
   "outputs": [],
   "source": [
    "## 함수\n",
    "def isQueueFull() :\n",
    "   global SIZE, queue, front, rear\n",
    "   if (rear == SIZE-1) :\n",
    "      return True \n",
    "   else :\n",
    "      return False\n",
    "\n",
    "def enQueue(data) :\n",
    "   global SIZE, queue, front, rear\n",
    "   if (isQueueFull()) : \n",
    "      print(\"큐 꽉!\")\n",
    "      return\n",
    "   rear += 1 \n",
    "   queue[rear] = data\n",
    "\n",
    "def isQueueEmpty() :\n",
    "   global SIZE, queue, front, rear\n",
    "   if (front == rear) : \n",
    "      return True\n",
    "   else :\n",
    "      return False\n",
    "\n",
    "def deQueue() :\n",
    "   global SIZE, queue, front, rear\n",
    "   if (isQueueEmpty()) :\n",
    "      print(\"큐 텅~\")\n",
    "      return\n",
    "   front += 1\n",
    "   data = queue[front]\n",
    "   queue[front] = None \n",
    "   return data \n",
    "\n",
    "def peek() :\n",
    "   global SIZE, queue, front, rear\n",
    "   if (isQueueEmpty()) :\n",
    "      print(\"큐 텅~\")\n",
    "      return      \n",
    "   return queue[front+1]"
   ]
  },
  {
   "cell_type": "code",
   "execution_count": 35,
   "metadata": {},
   "outputs": [],
   "source": [
    "## 변수\n",
    "SIZE = 5 \n",
    "queue = [None for _ in range(SIZE)]\n",
    "front = rear = -1 "
   ]
  },
  {
   "cell_type": "code",
   "execution_count": 36,
   "metadata": {},
   "outputs": [
    {
     "name": "stdout",
     "output_type": "stream",
     "text": [
      "출구 <-- ['화사', '솔라', '휘인', None, None] <-- 입구\n"
     ]
    }
   ],
   "source": [
    "## 메인 \n",
    "enQueue('화사')\n",
    "enQueue('솔라')\n",
    "enQueue('휘인')\n",
    "#enQueue('문별')\n",
    "#enQueue('선미')\n",
    "\n",
    "print('출구 <--', queue, '<-- 입구')\n",
    "\n",
    "#enQueue('재남')\n",
    "#print('출구 <--', queue, '<-- 입구')"
   ]
  },
  {
   "cell_type": "code",
   "execution_count": 37,
   "metadata": {},
   "outputs": [
    {
     "name": "stdout",
     "output_type": "stream",
     "text": [
      "식사손님 --> 화사\n",
      "** 준비하세요: 솔라\n",
      "식사손님 --> 솔라\n",
      "식사손님 --> 휘인\n",
      "출구 <-- [None, None, None, None, None] <-- 입구\n"
     ]
    }
   ],
   "source": [
    "retData = deQueue()\n",
    "print('식사손님 -->', retData)\n",
    "print('** 준비하세요:', peek())\n",
    "retData = deQueue()\n",
    "print('식사손님 -->', retData)\n",
    "retData = deQueue()\n",
    "print('식사손님 -->', retData)\n",
    "print('출구 <--', queue, '<-- 입구')"
   ]
  }
 ],
 "metadata": {
  "kernelspec": {
   "display_name": "Python 3",
   "language": "python",
   "name": "python3"
  },
  "language_info": {
   "codemirror_mode": {
    "name": "ipython",
    "version": 3
   },
   "file_extension": ".py",
   "mimetype": "text/x-python",
   "name": "python",
   "nbconvert_exporter": "python",
   "pygments_lexer": "ipython3",
   "version": "3.11.0"
  },
  "orig_nbformat": 4,
  "vscode": {
   "interpreter": {
    "hash": "5238573367df39f7286bb46f9ff5f08f63a01a80960060ce41e3c79b190280fa"
   }
  }
 },
 "nbformat": 4,
 "nbformat_minor": 2
}
