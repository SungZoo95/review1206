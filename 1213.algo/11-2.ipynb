{
 "cells": [
  {
   "cell_type": "code",
   "execution_count": 5,
   "metadata": {},
   "outputs": [],
   "source": [
    "## 함수\n",
    "import random \n",
    "def findMinIndex(ary) : \n",
    "    minIdx = 0\n",
    "    for i in range(1, len(ary) ) :\n",
    "        if (ary[minIdx] > ary[i]) :\n",
    "            minIdx = i \n",
    "    return minIdx "
   ]
  },
  {
   "cell_type": "code",
   "execution_count": 8,
   "metadata": {},
   "outputs": [],
   "source": [
    "## 변수 \n",
    "SIZE = 20\n",
    "before = [random.randint(40, 200) for _ in range (SIZE)]\n",
    "after = []"
   ]
  },
  {
   "cell_type": "code",
   "execution_count": 9,
   "metadata": {},
   "outputs": [
    {
     "name": "stdout",
     "output_type": "stream",
     "text": [
      "정렬 전 --> [51, 171, 85, 81, 198, 88, 98, 115, 60, 132, 178, 45, 80, 159, 62, 107, 41, 121, 188, 142]\n",
      "정렬 후 --> [41, 45, 51, 60, 62, 80, 81, 85, 88, 98, 107, 115, 121, 132, 142, 159, 171, 178, 188, 198]\n"
     ]
    }
   ],
   "source": [
    "## 메인\n",
    "print('정렬 전 -->', before) \n",
    "for _ in range(SIZE) :\n",
    "    minPos = findMinIndex(before)\n",
    "    after.append(before[minPos])\n",
    "    del (before[minPos])\n",
    "\n",
    "print('정렬 후 -->', after)\n"
   ]
  }
 ],
 "metadata": {
  "kernelspec": {
   "display_name": "Python 3",
   "language": "python",
   "name": "python3"
  },
  "language_info": {
   "codemirror_mode": {
    "name": "ipython",
    "version": 3
   },
   "file_extension": ".py",
   "mimetype": "text/x-python",
   "name": "python",
   "nbconvert_exporter": "python",
   "pygments_lexer": "ipython3",
   "version": "3.11.0"
  },
  "orig_nbformat": 4,
  "vscode": {
   "interpreter": {
    "hash": "5238573367df39f7286bb46f9ff5f08f63a01a80960060ce41e3c79b190280fa"
   }
  }
 },
 "nbformat": 4,
 "nbformat_minor": 2
}
