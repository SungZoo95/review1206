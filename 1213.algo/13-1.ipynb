{
 "cells": [
  {
   "cell_type": "code",
   "execution_count": 7,
   "metadata": {},
   "outputs": [],
   "source": [
    "## 함수\n",
    "import random \n",
    "def seqSearch(ary, fData) :\n",
    "    pos = -1 \n",
    "    size = len(ary)\n",
    "    \n",
    "    for i in range(size) :\n",
    "        if (ary[i] == fData):\n",
    "            pos = i \n",
    "            break \n",
    "        \n",
    "    return pos "
   ]
  },
  {
   "cell_type": "code",
   "execution_count": 11,
   "metadata": {},
   "outputs": [],
   "source": [
    "## 변수 z\n",
    "SIZE = 8\n",
    "dateAry = [random.randint(40, 200) for _ in range(SIZE)] \n",
    "findData = random.choice(dateAry)"
   ]
  },
  {
   "cell_type": "code",
   "execution_count": 12,
   "metadata": {},
   "outputs": [
    {
     "name": "stdout",
     "output_type": "stream",
     "text": [
      "배열---> [47, 146, 112, 125, 63, 181, 85, 83]\n",
      "112 는 2 위치에 있음 ^^\n"
     ]
    }
   ],
   "source": [
    "## 메인 \n",
    "print(\"배열--->\", dateAry)\n",
    "position = seqSearch(dateAry, findData)\n",
    "if ( position == -1):\n",
    "    print(findData,'는',position, '없어요 ㅠㅠ')\n",
    "else :    \n",
    "    print(findData, '는', position, '위치에 있음 ^^')"
   ]
  }
 ],
 "metadata": {
  "kernelspec": {
   "display_name": "Python 3",
   "language": "python",
   "name": "python3"
  },
  "language_info": {
   "codemirror_mode": {
    "name": "ipython",
    "version": 3
   },
   "file_extension": ".py",
   "mimetype": "text/x-python",
   "name": "python",
   "nbconvert_exporter": "python",
   "pygments_lexer": "ipython3",
   "version": "3.11.0"
  },
  "orig_nbformat": 4,
  "vscode": {
   "interpreter": {
    "hash": "5238573367df39f7286bb46f9ff5f08f63a01a80960060ce41e3c79b190280fa"
   }
  }
 },
 "nbformat": 4,
 "nbformat_minor": 2
}
