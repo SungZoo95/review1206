{
 "cells": [
  {
   "cell_type": "code",
   "execution_count": 2,
   "metadata": {},
   "outputs": [],
   "source": [
    "## 함수\n",
    "def openBox() :\n",
    "    global count\n",
    "    print('상자 열기~~~')\n",
    "    count -= 1\n",
    "    if (count == 0 ) :\n",
    "        print('*** 선물 넣기 ***')\n",
    "        return\n",
    "    openBox()\n",
    "    print('상자 닫기####')"
   ]
  },
  {
   "cell_type": "code",
   "execution_count": 3,
   "metadata": {},
   "outputs": [
    {
     "name": "stdout",
     "output_type": "stream",
     "text": [
      "상자 열기~~~\n",
      "상자 열기~~~\n",
      "상자 열기~~~\n",
      "상자 열기~~~\n",
      "상자 열기~~~\n",
      "상자 열기~~~\n",
      "상자 열기~~~\n",
      "상자 열기~~~\n",
      "상자 열기~~~\n",
      "상자 열기~~~\n",
      "*** 선물 넣기 ***\n",
      "상자 닫기####\n",
      "상자 닫기####\n",
      "상자 닫기####\n",
      "상자 닫기####\n",
      "상자 닫기####\n",
      "상자 닫기####\n",
      "상자 닫기####\n",
      "상자 닫기####\n",
      "상자 닫기####\n"
     ]
    }
   ],
   "source": [
    "## 메인 \n",
    "count = 10 \n",
    "openBox()"
   ]
  }
 ],
 "metadata": {
  "kernelspec": {
   "display_name": "Python 3",
   "language": "python",
   "name": "python3"
  },
  "language_info": {
   "codemirror_mode": {
    "name": "ipython",
    "version": 3
   },
   "file_extension": ".py",
   "mimetype": "text/x-python",
   "name": "python",
   "nbconvert_exporter": "python",
   "pygments_lexer": "ipython3",
   "version": "3.11.0"
  },
  "orig_nbformat": 4,
  "vscode": {
   "interpreter": {
    "hash": "5238573367df39f7286bb46f9ff5f08f63a01a80960060ce41e3c79b190280fa"
   }
  }
 },
 "nbformat": 4,
 "nbformat_minor": 2
}
