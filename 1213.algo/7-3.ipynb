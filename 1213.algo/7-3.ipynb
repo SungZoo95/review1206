{
 "cells": [
  {
   "cell_type": "code",
   "execution_count": 16,
   "metadata": {},
   "outputs": [],
   "source": [
    "## 함수\n",
    "def isQueueFull() :\n",
    "   global SIZE, queue, front, rear\n",
    "   if (rear != SIZE-1) :\n",
    "      return False \n",
    "   elif (rear == SIZE-1 and front == -1) :\n",
    "      return True\n",
    "   else : \n",
    "      for i in range(front+1, SIZE, 1) :\n",
    "         queue[i-1] = queue[i]\n",
    "         queue[i] = None\n",
    "      front -= 1 \n",
    "      rear -= 1 \n",
    "      return False                 \n",
    "def enQueue(data) :\n",
    "   global SIZE, queue, front, rear\n",
    "   if (isQueueFull()) : \n",
    "      print(\"큐 꽉!\")\n",
    "      return\n",
    "   rear += 1 \n",
    "   queue[rear] = data\n",
    "\n",
    "def isQueueEmpty() :\n",
    "   global SIZE, queue, front, rear\n",
    "   if (front == rear) : \n",
    "      return True\n",
    "   else :\n",
    "      return False\n",
    "\n",
    "def deQueue() :\n",
    "   global SIZE, queue, front, rear\n",
    "   if (isQueueEmpty()) :\n",
    "      print(\"큐 텅~\")\n",
    "      return\n",
    "   front += 1\n",
    "   data = queue[front]\n",
    "   queue[front] = None \n",
    "   return data \n",
    "\n",
    "def peek() :\n",
    "   global SIZE, queue, front, rear\n",
    "   if (isQueueEmpty()) :\n",
    "      print(\"큐 텅~\")\n",
    "      return      \n",
    "   return queue[front+1]"
   ]
  },
  {
   "cell_type": "code",
   "execution_count": 20,
   "metadata": {},
   "outputs": [],
   "source": [
    "## 변수\n",
    "SIZE = 5 \n",
    "queue = [None for _ in range(SIZE)]\n",
    "front = rear = -1 "
   ]
  },
  {
   "cell_type": "code",
   "execution_count": 21,
   "metadata": {},
   "outputs": [
    {
     "name": "stdout",
     "output_type": "stream",
     "text": [
      "출구 <-- ['화사', '솔라', '휘인', '문별', '선미'] <-- 입구\n"
     ]
    }
   ],
   "source": [
    "## 메인 \n",
    "enQueue('화사')\n",
    "enQueue('솔라')\n",
    "enQueue('휘인')\n",
    "enQueue('문별')\n",
    "enQueue('선미')\n",
    "\n",
    "print('출구 <--', queue, '<-- 입구')\n",
    "\n",
    "#enQueue('재남')\n",
    "#print('출구 <--', queue, '<-- 입구')"
   ]
  },
  {
   "cell_type": "code",
   "execution_count": 23,
   "metadata": {},
   "outputs": [
    {
     "name": "stdout",
     "output_type": "stream",
     "text": [
      "식사손님 --> 휘인\n",
      "식사손님 --> 문별\n",
      "출구 <-- [None, None, '선미', '재남', '뷔'] <-- 입구\n",
      "출구 <-- [None, '선미', '재남', '뷔', '재남'] <-- 입구\n",
      "출구 <-- ['선미', '재남', '뷔', '재남', '뷔'] <-- 입구\n",
      "큐 꽉!\n",
      "출구 <-- ['선미', '재남', '뷔', '재남', '뷔'] <-- 입구\n"
     ]
    }
   ],
   "source": [
    "retData = deQueue()\n",
    "print('식사손님 -->', retData)\n",
    "retData = deQueue()\n",
    "print('식사손님 -->', retData)\n",
    "print('출구 <--', queue, '<-- 입구')\n",
    "\n",
    "enQueue('재남')\n",
    "print('출구 <--', queue, '<-- 입구')\n",
    "enQueue('뷔')\n",
    "print('출구 <--', queue, '<-- 입구')\n",
    "enQueue('길동')\n",
    "print('출구 <--', queue, '<-- 입구')"
   ]
  }
 ],
 "metadata": {
  "kernelspec": {
   "display_name": "Python 3",
   "language": "python",
   "name": "python3"
  },
  "language_info": {
   "codemirror_mode": {
    "name": "ipython",
    "version": 3
   },
   "file_extension": ".py",
   "mimetype": "text/x-python",
   "name": "python",
   "nbconvert_exporter": "python",
   "pygments_lexer": "ipython3",
   "version": "3.11.0"
  },
  "orig_nbformat": 4,
  "vscode": {
   "interpreter": {
    "hash": "5238573367df39f7286bb46f9ff5f08f63a01a80960060ce41e3c79b190280fa"
   }
  }
 },
 "nbformat": 4,
 "nbformat_minor": 2
}
