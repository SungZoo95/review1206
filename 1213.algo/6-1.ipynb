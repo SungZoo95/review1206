{
 "cells": [
  {
   "cell_type": "code",
   "execution_count": 1,
   "metadata": {},
   "outputs": [],
   "source": [
    "## 함수"
   ]
  },
  {
   "cell_type": "code",
   "execution_count": 11,
   "metadata": {},
   "outputs": [],
   "source": [
    "## 변수\n",
    "stack = [None, None, None, None, None]\n",
    "top = -1"
   ]
  },
  {
   "cell_type": "code",
   "execution_count": 12,
   "metadata": {},
   "outputs": [
    {
     "name": "stdout",
     "output_type": "stream",
     "text": [
      "바닥: ['커피', '녹차', '꿀물', None, None]\n",
      "팝---> 꿀물\n",
      "팝---> 녹차\n",
      "팝---> 커피\n",
      "바닥: [None, None, None, None, None]\n"
     ]
    }
   ],
   "source": [
    "## 메인\n",
    "# Push \n",
    "top += 1 \n",
    "stack[top] = '커피'\n",
    "top += 1 \n",
    "stack[top] = '녹차'\n",
    "top += 1 \n",
    "stack[top] = '꿀물'\n",
    "print('바닥:', stack)\n",
    "# Pop\n",
    "data = stack[top]\n",
    "stack[top] = None \n",
    "top -= 1 \n",
    "print('팝--->', data)\n",
    "data = stack[top]\n",
    "stack[top] = None \n",
    "top -= 1 \n",
    "print('팝--->', data)\n",
    "data = stack[top]\n",
    "stack[top] = None \n",
    "top -= 1 \n",
    "print('팝--->', data)\n",
    "print('바닥:', stack)"
   ]
  }
 ],
 "metadata": {
  "kernelspec": {
   "display_name": "Python 3",
   "language": "python",
   "name": "python3"
  },
  "language_info": {
   "codemirror_mode": {
    "name": "ipython",
    "version": 3
   },
   "file_extension": ".py",
   "mimetype": "text/x-python",
   "name": "python",
   "nbconvert_exporter": "python",
   "pygments_lexer": "ipython3",
   "version": "3.11.0 (main, Oct 24 2022, 18:26:48) [MSC v.1933 64 bit (AMD64)]"
  },
  "orig_nbformat": 4,
  "vscode": {
   "interpreter": {
    "hash": "5238573367df39f7286bb46f9ff5f08f63a01a80960060ce41e3c79b190280fa"
   }
  }
 },
 "nbformat": 4,
 "nbformat_minor": 2
}
