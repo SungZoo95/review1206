{
 "cells": [
  {
   "cell_type": "code",
   "execution_count": 28,
   "metadata": {},
   "outputs": [],
   "source": [
    "## 함수\n",
    "def isStackFull() : \n",
    "    global SIZE, stack, top\n",
    "    if (top == SIZE-1) :\n",
    "        return True\n",
    "    else :\n",
    "        return False\n",
    "\n",
    "def push(data) :\n",
    "    global SIZE, stack, top\n",
    "    if (isStackFull()) :\n",
    "        print('스택 꽉~')\n",
    "        return \n",
    "    top += 1\n",
    "    stack[top] = data\n",
    "\n",
    "def isStackEmpty() :\n",
    "    global SIZE, stack, top\n",
    "    if (top == -1) :\n",
    "        return True\n",
    "    else : \n",
    "        return False\n",
    "\n",
    "\n",
    "def pop():\n",
    "    global SIZE, stack, top\n",
    "    if (isStackEmpty()) :\n",
    "        print('스택 텅~')\n",
    "        return\n",
    "    data = stack[top]\n",
    "    stack[top] = None\n",
    "    top -= 1 \n",
    "    return data \n",
    "\n",
    "def peek():\n",
    "    global SIZE, stack, top\n",
    "    if (isStackEmpty()) :\n",
    "        print('스택 텅~')\n",
    "        return\n",
    "    return stack[top]\n",
    "    "
   ]
  },
  {
   "cell_type": "code",
   "execution_count": 37,
   "metadata": {},
   "outputs": [],
   "source": [
    "## 변수\n",
    "SIZE = 5  \n",
    "stack = [None for _ in range(SIZE)]\n",
    "top = -1"
   ]
  },
  {
   "cell_type": "code",
   "execution_count": 38,
   "metadata": {},
   "outputs": [
    {
     "name": "stdout",
     "output_type": "stream",
     "text": [
      "바닥: ['커피', '녹차', '꿀물', '콜라', '환타']\n"
     ]
    }
   ],
   "source": [
    "## 메인\n",
    "push('커피')\n",
    "push('녹차')\n",
    "push('꿀물')\n",
    "push('콜라')\n",
    "push('환타')\n",
    "print('바닥:', stack)\n",
    "\n",
    "#push('게토레이')\n",
    "#print('바닥:', stack)\n"
   ]
  },
  {
   "cell_type": "code",
   "execution_count": 41,
   "metadata": {},
   "outputs": [
    {
     "name": "stdout",
     "output_type": "stream",
     "text": [
      "팝 -=> 녹차\n",
      "** 다음 예정 --> 커피\n",
      "팝 -=> 커피\n",
      "스택 텅~\n",
      "팝 -=> None\n",
      "바닥: [None, None, None, None, None]\n"
     ]
    }
   ],
   "source": [
    "retData = pop()\n",
    "print('팝 -=>', retData)\n",
    "print('** 다음 예정 -->', peek())\n",
    "retData = pop()\n",
    "print('팝 -=>', retData)\n",
    "retData = pop()\n",
    "print('팝 -=>', retData)\n",
    "print('바닥:', stack)"
   ]
  }
 ],
 "metadata": {
  "kernelspec": {
   "display_name": "Python 3",
   "language": "python",
   "name": "python3"
  },
  "language_info": {
   "codemirror_mode": {
    "name": "ipython",
    "version": 3
   },
   "file_extension": ".py",
   "mimetype": "text/x-python",
   "name": "python",
   "nbconvert_exporter": "python",
   "pygments_lexer": "ipython3",
   "version": "3.11.0"
  },
  "orig_nbformat": 4,
  "vscode": {
   "interpreter": {
    "hash": "5238573367df39f7286bb46f9ff5f08f63a01a80960060ce41e3c79b190280fa"
   }
  }
 },
 "nbformat": 4,
 "nbformat_minor": 2
}
