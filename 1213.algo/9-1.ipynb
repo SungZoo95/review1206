{
 "cells": [
  {
   "cell_type": "code",
   "execution_count": 4,
   "metadata": {},
   "outputs": [],
   "source": [
    "## 함수\n",
    "class Graph() : \n",
    "    def __init__(self, size):\n",
    "        self.graph = [ [0 for _ in range(size)] for _ in range(size)]\n"
   ]
  },
  {
   "cell_type": "code",
   "execution_count": 5,
   "metadata": {},
   "outputs": [
    {
     "name": "stdout",
     "output_type": "stream",
     "text": [
      "0 1 1 1 \n",
      "1 0 1 0 \n",
      "1 1 0 1 \n",
      "1 0 1 0 \n"
     ]
    }
   ],
   "source": [
    "## 메인\n",
    "G1 = Graph(4)\n",
    "A,B,C,D = 0,1,2,3\n",
    "\n",
    "G1.graph[A][B] = 1 \n",
    "G1.graph[A][C] = 1\n",
    "G1.graph[A][D] = 1\n",
    "\n",
    "G1.graph[B][A] = 1\n",
    "G1.graph[B][C] = 1 \n",
    "\n",
    "\n",
    "G1.graph[C][A] = 1\n",
    "G1.graph[C][B] = 1\n",
    "G1.graph[C][D] = 1\n",
    "\n",
    "G1.graph[D][A] = 1\n",
    "G1.graph[D][C] = 1\n",
    "\n",
    "for row in range(4):\n",
    "    for col in range(4):\n",
    "        print(G1.graph[row][col], end= ' ')\n",
    "    print()"
   ]
  }
 ],
 "metadata": {
  "kernelspec": {
   "display_name": "Python 3",
   "language": "python",
   "name": "python3"
  },
  "language_info": {
   "codemirror_mode": {
    "name": "ipython",
    "version": 3
   },
   "file_extension": ".py",
   "mimetype": "text/x-python",
   "name": "python",
   "nbconvert_exporter": "python",
   "pygments_lexer": "ipython3",
   "version": "3.11.0"
  },
  "orig_nbformat": 4,
  "vscode": {
   "interpreter": {
    "hash": "5238573367df39f7286bb46f9ff5f08f63a01a80960060ce41e3c79b190280fa"
   }
  }
 },
 "nbformat": 4,
 "nbformat_minor": 2
}
