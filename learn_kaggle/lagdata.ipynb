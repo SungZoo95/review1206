{
 "cells": [
  {
   "attachments": {},
   "cell_type": "markdown",
   "metadata": {},
   "source": [
    "# lag data 공부"
   ]
  },
  {
   "attachments": {},
   "cell_type": "markdown",
   "metadata": {},
   "source": [
    "```python\n",
    "def lag_feature( df,lags, cols ):\n",
    "    for col in cols:\n",
    "        print(col)\n",
    "        tmp = df[[\"date_block_num\", \"shop_id\",\"item_id\",col ]]\n",
    "        for i in lags:\n",
    "            shifted = tmp.copy()\n",
    "            shifted.columns = [\"date_block_num\", \"shop_id\", \"item_id\", \n",
    "            col + \"_lag_\"+str(i)]\n",
    "            shifted.date_block_num = shifted.date_block_num + i\n",
    "            df = pd.merge(df, shifted, \n",
    "            on=['date_block_num','shop_id','item_id'], how='left')\n",
    "        return df\n",
    "```"
   ]
  },
  {
   "attachments": {},
   "cell_type": "markdown",
   "metadata": {},
   "source": [
    "\n",
    "- 이 코드는 다음 세 가지 인수를 사용하는 lag_feature라는 함수를 정의합니다.\n",
    "\n",
    "    - df: 데이터프레임\n",
    "    - lags: 정수 목록\n",
    "    - cols: 문자열 목록\n",
    "- 이 함수의 목적은 특정 열의 값을 특정 수의 \"지연\"만큼 이동하여 DataFrame에 대한 새로운 기능을 만드는 것입니다. 지연은 시간 기반 오프셋이므로 열 값을 지연 1만큼 이동하면 특정 행의 값이 이전 기간의 동일한 항목 값으로 대체됩니다.\n",
    "\n",
    "- 이 함수는 cols 인수에 지정된 열을 반복하여 시작합니다. 각 열에 대해 \"date_block_num\", \"shop_id\", \"item_id\" 및 현재 열을 포함하는 새 DataFrame tmp를 생성합니다.\n",
    "\n",
    "- 그런 다음 lags 인수의 각 지연 값에 대해 tmp의 복사본인 시프트된 새 DataFrame을 만듭니다. shifted의 열 이름은 각 열 이름에 \"lag\"와 지연 값을 추가하여 변경됩니다. 그런 다음 date_block_num 열이 현재 지연 값만큼 이동됩니다.\n",
    "\n",
    "- 그런 다음 pd.merge()를 사용하여 원본 DataFrame을 'date_block_num','shop_id','item_id'를 기반으로 이동된 데이터 프레임과 병합합니다. 'how'='left'는 원본 DataFrame의 모든 값을 유지하는 데 사용됩니다. 누락된 값을 NaN으로 채웁니다.\n",
    "\n",
    "- 마지막으로 수정된 DataFrame이 반환됩니다.\n",
    "\n",
    "- 이 함수는 미래 값을 예측하는 데 도움이 되는 추가 기능으로 이전 기간의 정보를 통합하려는 시계열 분석에 유용할 수 있습니다."
   ]
  },
  {
   "attachments": {},
   "cell_type": "markdown",
   "metadata": {},
   "source": [
    "### 예시"
   ]
  },
  {
   "attachments": {},
   "cell_type": "markdown",
   "metadata": {},
   "source": [
    "```python\n",
    "df = pd.DataFrame({'date_block_num': [1, 2, 3, 4, 5],\n",
    "                   'shop_id': [1, 2, 1, 2, 1],\n",
    "                   'item_id': [1, 2, 3, 4, 5],\n",
    "                   'sales': [10, 20, 30, 40, 50]})\n",
    "\n",
    "# Set the lags and columns to use\n",
    "lags = [1, 2, 3]\n",
    "cols = ['sales']\n",
    "\n",
    "# Add the new lagged features to the DataFrame\n",
    "df_lagged = lag_feature(df, lags, cols)\n",
    "\n",
    "# Print the resulting DataFrame\n",
    "print(df_lagged)\n",
    "\n",
    "date_block_num  shop_id  item_id  sales  sales_lag_1  sales_lag_2  sales_lag_3\n",
    "0               1        1        1     10          NaN          NaN          NaN\n",
    "1               2        2        2     20         10.0          NaN          NaN\n",
    "2               3        1        3     30         20.0         10.0          NaN\n",
    "3               4        2        4     40         30.0         20.0         10.0\n",
    "4               5        1        5     50         40.0         30.0         20.0\n",
    "```"
   ]
  },
  {
   "attachments": {},
   "cell_type": "markdown",
   "metadata": {},
   "source": [
    "- lags = [1,2,3] = sales_lag1,2,3이 나오게 됨 \n",
    "- cols = 시간예측을 하기 위한 값 \n"
   ]
  },
  {
   "cell_type": "markdown",
   "metadata": {},
   "source": []
  }
 ],
 "metadata": {
  "language_info": {
   "name": "python"
  },
  "orig_nbformat": 4
 },
 "nbformat": 4,
 "nbformat_minor": 2
}
