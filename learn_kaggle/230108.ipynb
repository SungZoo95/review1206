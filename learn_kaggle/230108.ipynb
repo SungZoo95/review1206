{
 "cells": [
  {
   "attachments": {},
   "cell_type": "markdown",
   "metadata": {},
   "source": [
    "### 데이터의 이해 \n",
    "- 변수의 평균, 표준편차, 최댓값, 최솟값, 분위수\n",
    "- 범주형 변수의 종류 수 \n",
    "- 변수의 결측값 수 \n",
    "- 변수 간 상관관계 수 \n",
    "\n",
    "------\n",
    "\n",
    "- 시각화 기법\n",
    "    - 막대그래프\n",
    "    - 상자그림, 바이올린 플롯\n",
    "    - 산점도\n",
    "    - 꺾은선 그래프\n",
    "    - 히트맵\n",
    "    - 히스토그램\n",
    "    - Q-Q플롯\n",
    "    - t-SNE, UMAP"
   ]
  },
  {
   "cell_type": "code",
   "execution_count": 1,
   "metadata": {},
   "outputs": [],
   "source": [
    "import pandas as pd "
   ]
  },
  {
   "cell_type": "code",
   "execution_count": 16,
   "metadata": {},
   "outputs": [],
   "source": [
    "train = pd.read_csv('../else/train.csv') #데이터 불러오기\n",
    "test = pd.read_csv('../else/test.csv')\n",
    "\n",
    "train_x = train.drop(['Survived'],axis=1) # data와 target 분리\n",
    "train_y = train['Survived']\n",
    "\n",
    "test_x = test.copy()"
   ]
  },
  {
   "cell_type": "code",
   "execution_count": 17,
   "metadata": {},
   "outputs": [
    {
     "data": {
      "text/html": [
       "<div>\n",
       "<style scoped>\n",
       "    .dataframe tbody tr th:only-of-type {\n",
       "        vertical-align: middle;\n",
       "    }\n",
       "\n",
       "    .dataframe tbody tr th {\n",
       "        vertical-align: top;\n",
       "    }\n",
       "\n",
       "    .dataframe thead th {\n",
       "        text-align: right;\n",
       "    }\n",
       "</style>\n",
       "<table border=\"1\" class=\"dataframe\">\n",
       "  <thead>\n",
       "    <tr style=\"text-align: right;\">\n",
       "      <th></th>\n",
       "      <th>PassengerId</th>\n",
       "      <th>Pclass</th>\n",
       "      <th>Name</th>\n",
       "      <th>Sex</th>\n",
       "      <th>Age</th>\n",
       "      <th>SibSp</th>\n",
       "      <th>Parch</th>\n",
       "      <th>Ticket</th>\n",
       "      <th>Fare</th>\n",
       "      <th>Cabin</th>\n",
       "      <th>Embarked</th>\n",
       "    </tr>\n",
       "  </thead>\n",
       "  <tbody>\n",
       "    <tr>\n",
       "      <th>0</th>\n",
       "      <td>1</td>\n",
       "      <td>3</td>\n",
       "      <td>Braund, Mr. Owen Harris</td>\n",
       "      <td>male</td>\n",
       "      <td>22.0</td>\n",
       "      <td>1</td>\n",
       "      <td>0</td>\n",
       "      <td>A/5 21171</td>\n",
       "      <td>7.2500</td>\n",
       "      <td>NaN</td>\n",
       "      <td>S</td>\n",
       "    </tr>\n",
       "    <tr>\n",
       "      <th>1</th>\n",
       "      <td>2</td>\n",
       "      <td>1</td>\n",
       "      <td>Cumings, Mrs. John Bradley (Florence Briggs Th...</td>\n",
       "      <td>female</td>\n",
       "      <td>38.0</td>\n",
       "      <td>1</td>\n",
       "      <td>0</td>\n",
       "      <td>PC 17599</td>\n",
       "      <td>71.2833</td>\n",
       "      <td>C85</td>\n",
       "      <td>C</td>\n",
       "    </tr>\n",
       "    <tr>\n",
       "      <th>2</th>\n",
       "      <td>3</td>\n",
       "      <td>3</td>\n",
       "      <td>Heikkinen, Miss. Laina</td>\n",
       "      <td>female</td>\n",
       "      <td>26.0</td>\n",
       "      <td>0</td>\n",
       "      <td>0</td>\n",
       "      <td>STON/O2. 3101282</td>\n",
       "      <td>7.9250</td>\n",
       "      <td>NaN</td>\n",
       "      <td>S</td>\n",
       "    </tr>\n",
       "  </tbody>\n",
       "</table>\n",
       "</div>"
      ],
      "text/plain": [
       "   PassengerId  Pclass                                               Name  \\\n",
       "0            1       3                            Braund, Mr. Owen Harris   \n",
       "1            2       1  Cumings, Mrs. John Bradley (Florence Briggs Th...   \n",
       "2            3       3                             Heikkinen, Miss. Laina   \n",
       "\n",
       "      Sex   Age  SibSp  Parch            Ticket     Fare Cabin Embarked  \n",
       "0    male  22.0      1      0         A/5 21171   7.2500   NaN        S  \n",
       "1  female  38.0      1      0          PC 17599  71.2833   C85        C  \n",
       "2  female  26.0      0      0  STON/O2. 3101282   7.9250   NaN        S  "
      ]
     },
     "execution_count": 17,
     "metadata": {},
     "output_type": "execute_result"
    }
   ],
   "source": [
    "train_x.head(3)"
   ]
  },
  {
   "cell_type": "code",
   "execution_count": null,
   "metadata": {},
   "outputs": [],
   "source": [
    "from sklearn.preprocessing import LabelEncoder"
   ]
  },
  {
   "cell_type": "code",
   "execution_count": 18,
   "metadata": {},
   "outputs": [],
   "source": [
    "train_x = train_x.drop([\"PassengerId\"],axis=1)\n",
    "test_x = test_x.drop([\"PassengerId\"],axis=1)\n",
    "train_x = train_x.drop([\"Name\",\"Ticket\",\"Cabin\"],axis=1)\n",
    "test_x = test_x.drop([\"Name\",\"Ticket\",\"Cabin\"],axis=1) # 필요없는 데이터 제거\n",
    "\n",
    "for i in ['Sex',\"Embarked\"]: # 학습데이터,테스트 데이터 라벨 인코딩 \n",
    "    le = LabelEncoder()\n",
    "    train_x[i] = le.fit_transform(train_x[i].fillna(\"NA\"))\n",
    "    test_x[i] = le.transform(test_x[i].fillna('NA'))"
   ]
  },
  {
   "cell_type": "code",
   "execution_count": 33,
   "metadata": {},
   "outputs": [
    {
     "data": {
      "text/html": [
       "<div>\n",
       "<style scoped>\n",
       "    .dataframe tbody tr th:only-of-type {\n",
       "        vertical-align: middle;\n",
       "    }\n",
       "\n",
       "    .dataframe tbody tr th {\n",
       "        vertical-align: top;\n",
       "    }\n",
       "\n",
       "    .dataframe thead th {\n",
       "        text-align: right;\n",
       "    }\n",
       "</style>\n",
       "<table border=\"1\" class=\"dataframe\">\n",
       "  <thead>\n",
       "    <tr style=\"text-align: right;\">\n",
       "      <th></th>\n",
       "      <th>Pclass</th>\n",
       "      <th>Sex</th>\n",
       "      <th>Age</th>\n",
       "      <th>SibSp</th>\n",
       "      <th>Parch</th>\n",
       "      <th>Fare</th>\n",
       "      <th>Embarked</th>\n",
       "    </tr>\n",
       "  </thead>\n",
       "  <tbody>\n",
       "    <tr>\n",
       "      <th>0</th>\n",
       "      <td>3</td>\n",
       "      <td>1</td>\n",
       "      <td>22.0</td>\n",
       "      <td>1</td>\n",
       "      <td>0</td>\n",
       "      <td>7.2500</td>\n",
       "      <td>3</td>\n",
       "    </tr>\n",
       "    <tr>\n",
       "      <th>1</th>\n",
       "      <td>1</td>\n",
       "      <td>0</td>\n",
       "      <td>38.0</td>\n",
       "      <td>1</td>\n",
       "      <td>0</td>\n",
       "      <td>71.2833</td>\n",
       "      <td>0</td>\n",
       "    </tr>\n",
       "    <tr>\n",
       "      <th>2</th>\n",
       "      <td>3</td>\n",
       "      <td>0</td>\n",
       "      <td>26.0</td>\n",
       "      <td>0</td>\n",
       "      <td>0</td>\n",
       "      <td>7.9250</td>\n",
       "      <td>3</td>\n",
       "    </tr>\n",
       "  </tbody>\n",
       "</table>\n",
       "</div>"
      ],
      "text/plain": [
       "   Pclass  Sex   Age  SibSp  Parch     Fare  Embarked\n",
       "0       3    1  22.0      1      0   7.2500         3\n",
       "1       1    0  38.0      1      0  71.2833         0\n",
       "2       3    0  26.0      0      0   7.9250         3"
      ]
     },
     "execution_count": 33,
     "metadata": {},
     "output_type": "execute_result"
    }
   ],
   "source": [
    "train_x.head(3 )"
   ]
  },
  {
   "cell_type": "code",
   "execution_count": 52,
   "metadata": {},
   "outputs": [],
   "source": [
    "from xgboost import XGBClassifier\n",
    "\n",
    "model = XGBClassifier(n_estimators=20, random_state=71) # 모델에 학습\n",
    "model.fit(train_x, train_y)\n",
    "\n",
    "pred = model.predict_proba(test_x)[:,1] #테스트 데이터 예측결과를 확률로 출력 \n",
    "\n",
    "import numpy as np \n",
    "pred_label = np.where(pred>0.5, 1, 0) # 0.5보다 큰수는 1로 아니면 0으로 반환 \n",
    "\n",
    "submission = pd.DataFrame({'PassengerId': test[\"PassengerId\"], 'survived':pred_label}) # 테스트 예측데이터 저장 \n",
    "submission.to_csv('submission_first.csv', index=False) #인덱스 같이 내보내기 싫으면 False "
   ]
  },
  {
   "cell_type": "code",
   "execution_count": 55,
   "metadata": {},
   "outputs": [],
   "source": [
    "# 모델 검증해보기\n",
    "from sklearn.metrics import log_loss, accuracy_score\n",
    "from sklearn.model_selection import KFold"
   ]
  },
  {
   "cell_type": "code",
   "execution_count": 56,
   "metadata": {},
   "outputs": [],
   "source": [
    "# fold 평가점수를 위한 빈 리스트 생성\n",
    "scores_accuracy = []\n",
    "scores_logloss = []\n"
   ]
  },
  {
   "cell_type": "code",
   "execution_count": 61,
   "metadata": {},
   "outputs": [],
   "source": [
    "# 교차 검증 수행\n",
    "# 1. 학습데이터를 4개로 분할\n",
    "# 2. 그중 하나를 평가용 데이터셋으로 지정\n",
    "# 3. 이후 평가용 데이터의 블록을 하나씩 옆으로 옮겨가며 검증을 수행 \n",
    "kf = KFold(n_splits=4, shuffle=True, random_state=71)\n",
    "for tr_idx, va_idx in kf.split(train_x):\n",
    "    # 학습데이터를 학습데이터와 평가용 데이터셋으로 분할\n",
    "    tr_x, va_x = train_x.iloc[tr_idx], train_x.iloc[va_idx]\n",
    "    tr_y, va_y = train_y.iloc[tr_idx], train_y.iloc[va_idx]"
   ]
  },
  {
   "cell_type": "code",
   "execution_count": 76,
   "metadata": {},
   "outputs": [
    {
     "name": "stdout",
     "output_type": "stream",
     "text": [
      "logloss: 0.438, accuracy : 0.829\n"
     ]
    }
   ],
   "source": [
    "# 모델 학습 수행\n",
    "model = XGBClassifier(n_estimators=20, random_state=71)\n",
    "model.fit(tr_x,tr_y)\n",
    "# 평가용 데이터의 예측결과를 확률로 출력 \n",
    "va_pred = model.predict_proba(va_x)[:,1]\n",
    "# 평가용 데이터의 점수를 계산\n",
    "logloss = log_loss(va_y, va_pred)\n",
    "accuracy = accuracy_score(va_y, va_pred >0.5)\n",
    "# 각 fold의 점수를 저장 \n",
    "scores_logloss.append(logloss)\n",
    "scores_accuracy.append(accuracy)\n",
    "# 각 fold의 점수 평균을 출력 \n",
    "logloss = np.mean(scores_logloss)\n",
    "accuracy = np.mean(scores_accuracy)\n",
    "print(f\"logloss: {logloss:.3f}, accuracy : {accuracy:.3f}\") # f는 뒤에 소숫점 자리수 의미"
   ]
  },
  {
   "cell_type": "code",
   "execution_count": 80,
   "metadata": {},
   "outputs": [],
   "source": [
    "# 모델 튜닝 \n",
    "\n",
    "import itertools\n",
    "\n",
    "param_space = {\n",
    "    'max_depth' : [3,5,7], # 트리의 최대 깊이입니다. None이면 모든 잎이 순수하거나 모든 잎이 min_samples_split 샘플 미만을 포함할 때까지 노드가 확장됩니다.\n",
    "    'min_child_weight' : [1.0, 2.0, 4.0] # 자식에 필요한 인스턴스 가중치(헤시안)의 최소 합입니다, 클수록 min_child_weight알고리즘이 더 보수적입니다.\n",
    "}\n",
    "# 하이퍼 파라미터의 값을 조합\n",
    "param_combinations = itertools.product(param_space['max_depth'], param_space['min_child_weight']) # 두개 이상의 리스트(or 집합) 끼리의 데카르트 곱(cartesian product)를 계산하여 iterator로 반환해준다.\n",
    "\n",
    "# 각 파라미터의 조합과 그에 대한 점수를 보존하는 빈 리스트\n",
    "params = []\n",
    "scores = []"
   ]
  },
  {
   "cell_type": "code",
   "execution_count": 81,
   "metadata": {},
   "outputs": [
    {
     "name": "stdout",
     "output_type": "stream",
     "text": [
      "max_depth:3, min_child_weight: 2.0\n"
     ]
    }
   ],
   "source": [
    "for max_depth, min_child_weight in param_combinations:\n",
    "    score_folds = []\n",
    "# 교차 검증 수행\n",
    "# 학습데이터 4개로 분할\n",
    "# 그중 하나를 평가용 데이터로 삼아서 평가 \n",
    "    kf = KFold(n_splits=4, shuffle=True, random_state=123456)\n",
    "    for tr_idx, va_idx in kf.split(train_x):\n",
    "        # 학습데이터를 학습데이터와 평가용 데이터셋으로 분할\n",
    "        tr_x, va_x = train_x.iloc[tr_idx], train_x.iloc[va_idx]\n",
    "        tr_y, va_y = train_y.iloc[tr_idx], train_y.iloc[va_idx]\n",
    "        #모델의 학습을 수행 \n",
    "        model = XGBClassifier(n_estimators=20, random_state=71,\n",
    "                              max_depth=max_depth,\n",
    "                              min_child_weight=min_child_weight)\n",
    "        model.fit(tr_x,tr_y)\n",
    "        #검증용 데이터의 점수 계산 후 저장 \n",
    "        va_pred = model.predict_proba(va_x)[:,1]\n",
    "        logloss = log_loss(va_y, va_pred)\n",
    "        score_folds.append(logloss)\n",
    "    # 각 fold의 점수 평균을 구함 \n",
    "    score_mean = np.mean(score_folds)\n",
    "    # 파라미터를 조합하고 그에 대한 점수를 저장 \n",
    "    params.append((max_depth, min_child_weight))\n",
    "    scores.append(score_mean)\n",
    "# 가장 점수가 좋은것을 베스트 파라미터로 지정 \n",
    "best_idx = np.argsort(scores)[0]\n",
    "best_param = params[best_idx]\n",
    "print(f'max_depth:{best_param[0]}, min_child_weight: {best_param[1]}')"
   ]
  }
 ],
 "metadata": {
  "kernelspec": {
   "display_name": "dl",
   "language": "python",
   "name": "python3"
  },
  "language_info": {
   "codemirror_mode": {
    "name": "ipython",
    "version": 3
   },
   "file_extension": ".py",
   "mimetype": "text/x-python",
   "name": "python",
   "nbconvert_exporter": "python",
   "pygments_lexer": "ipython3",
   "version": "3.10.6"
  },
  "orig_nbformat": 4,
  "vscode": {
   "interpreter": {
    "hash": "e590ff645bce4c900d07635f4e74b6a2bb3fadaba462b70c8ba1aa5f592d3106"
   }
  }
 },
 "nbformat": 4,
 "nbformat_minor": 2
}
