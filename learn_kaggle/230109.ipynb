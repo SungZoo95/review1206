{
 "cells": [
  {
   "attachments": {},
   "cell_type": "markdown",
   "metadata": {},
   "source": [
    "# 문제 종류"
   ]
  },
  {
   "attachments": {},
   "cell_type": "markdown",
   "metadata": {},
   "source": [
    "1. 회귀\n",
    "- 회귀 문제 : 물건 가격이나 주가의 투자수익 매장 방문자 수 같은 수치 예측 문제가 회귀 문제.\n",
    "- 평가지표로는 RMSE,MAE등이 있습니다."
   ]
  },
  {
   "attachments": {},
   "cell_type": "markdown",
   "metadata": {},
   "source": [
    "2. 분류 \n",
    "- 이진분류 문제 : 예를 들어 환자가 병에 걸렸는지 아닌지와 같은 데이터가 어떤 속성에 속하는지를 예측하는 문제. \n",
    "- (0/1 레이블에 속하는지 예측하는경우) / (0/1 사이의 확률로 예측하는 경우) 로 나뉜다.\n",
    "- 전자의 평가지표로는 F1-score, 후자의 평가지표로는 로그 손실이나 AUC를 사용합니다. \n",
    "\n",
    "----\n",
    "\n",
    "- 다중 클래스 분류 : 여러 클래스 중 어느 하나의 선택이제 속하는 문제 \n",
    "- 다중 레이블 분류 : 동시에 여러클래스에 속하는 문제 \n",
    "- 이때도 이진분류와 마찬가지로 전자 후자로 나뉜다.\n",
    "- 전자일때는 multi-class logloss를 후자일때는 mean-F1 or macro-F1등을 사용한다."
   ]
  },
  {
   "attachments": {},
   "cell_type": "markdown",
   "metadata": {},
   "source": [
    "3. 추천 문제 \n",
    "- 추천 문제 : 고객의 구매와 기대되는 상품과 반응이 있을법한 광고 등을 예측하는 문제\n",
    "- 고객별로 상품이 여러개 예측하는 경우가 대부분이다. \n",
    "- 실제 정답 수 역시 여러 개일 수 있다 \n",
    "- 제출 시 순위 매기기 / 안매기기 로 나뉜다.\n",
    "    - 모두 이진 분류로 푸는게 일반적이다. \n",
    "    "
   ]
  },
  {
   "attachments": {},
   "cell_type": "markdown",
   "metadata": {},
   "source": [
    "# 평가 지표 "
   ]
  },
  {
   "attachments": {},
   "cell_type": "markdown",
   "metadata": {},
   "source": [
    "- 학습시킨 모델의 성능이나 예측결과의 좋고 나쁨을 평가하는 지표이다.\n"
   ]
  },
  {
   "attachments": {},
   "cell_type": "markdown",
   "metadata": {},
   "source": [
    "### 회귀의 평가지표 \n",
    "- RMSE \n",
    "    - RMSE는 회귀문제에서 가장 대표적인 평가지표이다.\n",
    "    - sklearn.metrics mean_squared_error 함수로 사용\n",
    "    - 이상치를 미리 제거해주지 않으면 오버피팅이 난다.\n",
    "- RMSLE \n",
    "    - sklearn.metrics mean_squared_log_error 함수로 사용 \n",
    "- MAE \n",
    "    - sklearn.metrics mean_absolute_error 함수로 사용 \n",
    "    - 이상치의 영향을 상대적으로 줄여주는 평가에 적절한 함수이다. \n",
    "- 결정계수(r2-score)\n",
    "    - 회귀분석의 적합성이다. \n",
    "    - 1에 가까워질수록 모델성능이 좋은 예측이다. \n",
    "    - sklearn.metrics r2_score 함수로 사용 "
   ]
  },
  {
   "attachments": {},
   "cell_type": "markdown",
   "metadata": {},
   "source": [
    "### 이진분류의 평가지표\n",
    "\n"
   ]
  }
 ],
 "metadata": {
  "language_info": {
   "name": "python"
  },
  "orig_nbformat": 4
 },
 "nbformat": 4,
 "nbformat_minor": 2
}
