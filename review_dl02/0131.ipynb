{
 "cells": [
  {
   "cell_type": "markdown",
   "metadata": {},
   "source": [
    "# GAN"
   ]
  },
  {
   "cell_type": "markdown",
   "metadata": {},
   "source": [
    "- GAN 이란?\n",
    "  - Generative : 생성하다\n",
    "  - Adversarial : 적대적 방식으로\n"
   ]
  },
  {
   "cell_type": "markdown",
   "metadata": {},
   "source": [
    "- GAN의 구조 \n",
    "  - AE와 다르게 제네레이터가 존재 (만드는거) 만들어낸 것을 심사하는 디스크리미네이터가 존재한다\n",
    "  - Discriminator가 generator의 만들어낸것과 원본(오리지널)을 비교했을 때 원본과 만들어낸(fake)를 구분하지 못할 때까지 학습하는 것이 GAN의 구조"
   ]
  },
  {
   "cell_type": "markdown",
   "metadata": {},
   "source": [
    "- 예를들어 generator(G)가 위조지폐를 만들경우 fake money(G(x))를 real money와 함께 Discriminator(D)에 비교를 한다 (진짜,가짜 판별)\n",
    "- 진짜일때는 1을 출력 가짜면 0을 출력한다.  "
   ]
  },
  {
   "cell_type": "markdown",
   "metadata": {},
   "source": [
    "- GAN vs VAE \n",
    "  -  VAE는 원본데이터가 ENC 후 확률과 시그마 + 입실론(샘플링)을 통한  정규분포 생성 후 DEC 원본에 가까운데이터 형식의 구조라면\n",
    "  -  GAN은 반대로 원본데이터가 GEN를 지나 fake데이터를 만들고 real 데이터와 Dis에서 심사를 받아 real/fake 구분을 해주는구조이다.\n",
    "  -  dec/enc 순서가 반대라는 뜻.."
   ]
  },
  {
   "cell_type": "markdown",
   "metadata": {},
   "source": [
    "- 단계 1 Discriminator Model\n",
    "  - Discriminator 에게 진짜와 가짜를 구분할 수 있도록 학습한다. \n",
    "  - sigmoid function 을 사용합니다.\n",
    "- 왜 sigmoid ? \n",
    "  - 진짜(1) 가짜(0)로 구분해야 하기 때문입니다,"
   ]
  },
  {
   "cell_type": "markdown",
   "metadata": {},
   "source": [
    "- 단계 2 Generator Model \n",
    "    - Generator에서 만든 fake data가 Dis에서 진짜와 구분이 될 경우 구분이 안될때까지 학습시킨다"
   ]
  },
  {
   "cell_type": "markdown",
   "metadata": {},
   "source": [
    "### loss function"
   ]
  },
  {
   "cell_type": "markdown",
   "metadata": {},
   "source": [
    "- Discriminator : V(D,G)를 최대화 하는 D를 찾는게 목표 (손실함수가 2개이다 : real data/ fake data)\n",
    "- Generator : V(D,G)를 최소화 하는 G를 찾는게 목표 "
   ]
  },
  {
   "cell_type": "markdown",
   "metadata": {},
   "source": [
    "- 학습을 계속 거듭할수록 generator 생성 데이터가 original data에 가까워지는 분포를 볼 수 있고 이 때 Discriminator distribution (진짜와 가짜를 구분하는값 0~1사이)는 0.5가 됨을 볼 수 있다.\n",
    "- 0.5의 의미? 반/반 사실상 진짜와 가짜의 모델 판별이 안된다는 의미이다. "
   ]
  },
  {
   "cell_type": "markdown",
   "metadata": {},
   "source": []
  }
 ],
 "metadata": {
  "kernelspec": {
   "display_name": "Python 3.10.6 ('ml': venv)",
   "language": "python",
   "name": "python3"
  },
  "language_info": {
   "name": "python",
   "version": "3.10.6"
  },
  "orig_nbformat": 4,
  "vscode": {
   "interpreter": {
    "hash": "090c450229820821642eda28cf9f1335c0a9c61bfe48f459620fdc15e7d68c7b"
   }
  }
 },
 "nbformat": 4,
 "nbformat_minor": 2
}
