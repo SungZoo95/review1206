{
 "cells": [
  {
   "attachments": {},
   "cell_type": "markdown",
   "metadata": {},
   "source": [
    "# RCNN"
   ]
  },
  {
   "attachments": {},
   "cell_type": "markdown",
   "metadata": {},
   "source": [
    "- 기존 CNN 방식에 Region proposal 방식을 더한 알고리즘 "
   ]
  },
  {
   "attachments": {},
   "cell_type": "markdown",
   "metadata": {},
   "source": [
    "- 예시로 해보기\n",
    "1. 입력 이미지에 Selective Search 알고리즘을 적용하여 물체가 있을만한 바운딩 박스 2000개를 추출한다.\n",
    "2. 모든 박스를 잘라내고 (crop) 227x227로 resize(wrap)해준다.\n",
    "3. 미리 image-Net 데이터를 통해 학습시켜놓은 CNN을 통과시켜 4096 차원의 특징 벡터를 추출한다.\n",
    "4. 이 추출된 벡터를 가지고 각각의 클래스(사람,개,고양이 등등 object)마다 학습시켜놓은 SVM Classifier를 통과한다.\n",
    "4. Bounding Box Regression 을 이용하여 박스의 위치를 조정한다."
   ]
  },
  {
   "attachments": {},
   "cell_type": "markdown",
   "metadata": {},
   "source": [
    "### Region Proposal\n",
    "- 1번 내용 박스 2000개를 추출한다 (region proposal)\n"
   ]
  },
  {
   "attachments": {},
   "cell_type": "markdown",
   "metadata": {},
   "source": [
    "### Bounding Box Regression\n",
    "- Selective search를 통해 임의의 Bounding Box 설정 \n",
    "- IOU의 값이 0.5 이상 되도록 영역을 조정해준다.\n"
   ]
  },
  {
   "attachments": {},
   "cell_type": "markdown",
   "metadata": {},
   "source": [
    "### CNN Detection\n",
    "- warp&crop\n",
    "    - 2번처럼 리사이즈 해준다 (input 벡터의 크기를 맞춰주기 위해서)\n",
    "    - VGG-16과 같은 미리 학습되어 있는 CNN 모델을 통과하여 4096개의 특정 벡터를 추출\n",
    "    (Image Classification)\n",
    "    "
   ]
  },
  {
   "attachments": {},
   "cell_type": "markdown",
   "metadata": {},
   "source": [
    "### R-CNN 정리\n",
    "- 매우 높은 Detection 정확도\n",
    "- 서로 다른 종류의 알고리즘이 섞여 있음 (classi,regre)\n",
    "- 정확도가 높은대신 시간이 오래 걸림"
   ]
  },
  {
   "attachments": {},
   "cell_type": "markdown",
   "metadata": {},
   "source": [
    "# SPP-Net"
   ]
  },
  {
   "attachments": {},
   "cell_type": "markdown",
   "metadata": {},
   "source": [
    "### RCNN 과 Fast RCNN\n",
    "- RCNN의 문제점\n",
    "    - 시간이 너무 오래걸린다 \n",
    "    - FC Layer에서 고정된 길이의 input 값을 요구하므로 Region 영역의 Image를 Crop/warp 해야함\n",
    "    (자르고/늘리기) 당연히 데이터의 손실이 일어남\n",
    "    - Classification 과 Regression 영역의 분리"
   ]
  },
  {
   "attachments": {},
   "cell_type": "markdown",
   "metadata": {},
   "source": [
    "### 해결법\n",
    "- Region Proposal -> 각각의 영역에 대한 Feature MAP 생성 \n",
    "- Region Proposal -> 한개의 이미지에 대한 Feature MAP 생성 \n",
    "- Classification 과 Regression 영역의 분리\n",
    "    - SPP Layer의 생성으로 해결"
   ]
  },
  {
   "attachments": {},
   "cell_type": "markdown",
   "metadata": {},
   "source": [
    "### SPM (Spatial Pyramid Matching)\n",
    "- Image -> crop/warp -> conv layers -> fc layers -> output \n",
    "- Image -> conv layers -> spatial pyramid pooling -> fc layers -> output\n",
    "- FC Layer에서 고정된 크기의 Input 값을 요구하므로 Crop/warp가 일어나야 한다.\n",
    "- SPP는 CNN 상에서 Image Classification 에서 서로 다른 이미지의 크기를 crop/warp없이 고정된 크기로 변화하는 기법 \n"
   ]
  }
 ],
 "metadata": {
  "language_info": {
   "name": "python"
  },
  "orig_nbformat": 4
 },
 "nbformat": 4,
 "nbformat_minor": 2
}
