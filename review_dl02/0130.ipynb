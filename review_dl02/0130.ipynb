{
 "cells": [
  {
   "cell_type": "markdown",
   "metadata": {},
   "source": [
    "# 비지도 학습\n",
    "- 지도와 비지도 학습을 구분짓는 가장 큰 요인은 레이블이다 (정답의 존재 여부 )\n",
    "- 지도 학습은 레이블이 충분히 확보되고 명확한 작업에서 특출난 성능을 보인다.\n",
    "- 비지도 학습은 레이블이 없는 현실세계의 대부분의 형태에 사용할 때 도움이 되지만 레이블을 지정하게 되면 비용이 너무 비싸다."
   ]
  },
  {
   "cell_type": "markdown",
   "metadata": {},
   "source": [
    "- 비지도 학습을 하다보면 어느정도의 피처로 학습이 가능하게 될 때 알아서 추출 해줄수도 있다 .\n",
    "- 지도 학습으로 구분이 되지 않을때 비지도 학습을 사용해 군집화를 확인하고 이상치를 탐지하여 분류하는 것이 더 나을수도 있다."
   ]
  },
  {
   "cell_type": "markdown",
   "metadata": {},
   "source": [
    "# 차원축소\n"
   ]
  },
  {
   "cell_type": "markdown",
   "metadata": {},
   "source": [
    "- 차원이 너무 높아 발생하는 많은 문제들 (시각화, 계산이 복잡해지는)을 해결하는 방법 \n",
    "    - Feature Selection\n",
    "      - 기존의 변수들 중 상관관계가 존재하는 변수를 추출한다.\n",
    "    - Feature Extraction \n",
    "      - 기존의 변수들을 변환해 새로운 변수를 추출한다.\n",
    "- AutoEncoder의 결과는 자기를 인코딩하여 가운데 코드로 축소하면 결국 디코딩하면 자기 자신이 나올 수 있다는 결과를 보여줍니다."
   ]
  },
  {
   "cell_type": "markdown",
   "metadata": {},
   "source": [
    "# Manifold Learning"
   ]
  },
  {
   "cell_type": "markdown",
   "metadata": {},
   "source": [
    "- 데이터가 차원을 축소하기 윈해서 실행\n",
    "- 데이터의 줄일때 분포는 최대한 유지해야 한다.\n",
    "- 목적 \n",
    "  - Data compression\n",
    "  - Data Visualization\n",
    "  - Curse of Dimensionality\n",
    "  - Discovering most importand features"
   ]
  },
  {
   "cell_type": "markdown",
   "metadata": {},
   "source": [
    "### Data compression"
   ]
  },
  {
   "cell_type": "markdown",
   "metadata": {},
   "source": [
    "- 이미지를 압축해서 Autoencoder모델로 만들어 돌리면 jpeg보다 성능이좋다"
   ]
  },
  {
   "cell_type": "markdown",
   "metadata": {},
   "source": [
    "### Manifold Hypothesis \n",
    "- 처음 데이터의 밀도는 낮지만 저차원으로 변환시켜주면 밀도가 높아진다\n",
    "- manifold 위에 있는 데이터는 우리가 원하는 data로 표현되지만 manifold 위에 있는 데이터가 아니라면 중복된 값으로 표현된다."
   ]
  },
  {
   "cell_type": "markdown",
   "metadata": {},
   "source": [
    "### PCA\n",
    "- 로직에 넣고 샘플에서 평균을 제외해주고 weight를 곱해주는 방식 \n",
    "- 근처에 있는 애들을 찾아주는 방식\n"
   ]
  },
  {
   "cell_type": "markdown",
   "metadata": {},
   "source": [
    "# AE "
   ]
  },
  {
   "cell_type": "markdown",
   "metadata": {},
   "source": [
    "- Feature을 복제하는 방법\n",
    "  - 1 to 1 신경망으로 구성해준다.\n",
    "- Feature Extraction 해주는 방법\n",
    "  - 제약을 주고 Feature을 복제한다 -> 중요요소 판별\n",
    "  - 제약: Feature 뽑아오기 "
   ]
  },
  {
   "cell_type": "markdown",
   "metadata": {},
   "source": [
    "\n",
    "### AutoEnoder\n"
   ]
  },
  {
   "cell_type": "markdown",
   "metadata": {},
   "source": [
    "- Encoder\n",
    "    - 특징을 추출 \n",
    "    - 고차원 입력 데이터를 저차원으로 변환 \n",
    "- Decoder\n",
    "    - 새로 학습한 표현을 원본의 형식으로 재구성 (Feature Construction) \n",
    "    - 저차원으로 된 차원을 다시 원본차원으로 만든다 \n",
    "-  이런 관계들은 역함수가 아닌 각각 개인의 함수이다."
   ]
  },
  {
   "cell_type": "markdown",
   "metadata": {},
   "source": [
    "- Latent Space는 입력 된 Data를 표현하는 가장 핵심적인 값들을 갖고있는 차원이다."
   ]
  },
  {
   "cell_type": "markdown",
   "metadata": {},
   "source": [
    "# VAE"
   ]
  },
  {
   "cell_type": "markdown",
   "metadata": {},
   "source": [
    "- AE는 가지고 있던 데이터를 가지고 차원 축소 학습하는거라면\n",
    "- VAE는 가지고 있던 데이터로 새로운 DATA를 생성하는 것이다."
   ]
  },
  {
   "cell_type": "markdown",
   "metadata": {},
   "source": [
    "- Latent Space를 사용하여 새로운 데이터를 만들어 볼 순 없을까? = VAE"
   ]
  },
  {
   "cell_type": "markdown",
   "metadata": {},
   "source": [
    "- Latent Space에서 확률과 시그마를 뽑아 정규분포를 생성한다.\n",
    "- Latent Space에 도달하기 위해서 sampling이 필요하다(입실론)\n",
    "  "
   ]
  },
  {
   "cell_type": "markdown",
   "metadata": {},
   "source": [
    "- Lost function 은 cross entropy를 사용한다."
   ]
  },
  {
   "cell_type": "markdown",
   "metadata": {},
   "source": [
    "확률 시그마 정규분포 ??? "
   ]
  }
 ],
 "metadata": {
  "kernelspec": {
   "display_name": "Python 3.10.6 ('ml': venv)",
   "language": "python",
   "name": "python3"
  },
  "language_info": {
   "name": "python",
   "version": "3.10.6"
  },
  "orig_nbformat": 4,
  "vscode": {
   "interpreter": {
    "hash": "090c450229820821642eda28cf9f1335c0a9c61bfe48f459620fdc15e7d68c7b"
   }
  }
 },
 "nbformat": 4,
 "nbformat_minor": 2
}
