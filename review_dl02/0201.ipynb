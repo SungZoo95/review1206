{
 "cells": [
  {
   "cell_type": "markdown",
   "metadata": {},
   "source": [
    "# 컴퓨터 비전"
   ]
  },
  {
   "cell_type": "markdown",
   "metadata": {},
   "source": [
    "- 디지털 이미지에서 정보를 자동으로 추출하는 것 "
   ]
  },
  {
   "cell_type": "markdown",
   "metadata": {},
   "source": [
    "- 객체 분류 : 이미지에 적절한 레이블을 찾아서 할당시켜주는것 \n",
    "- 객체 식별 : 객체가 무엇인지 이미지를 분류하는것 "
   ]
  },
  {
   "cell_type": "markdown",
   "metadata": {},
   "source": [
    "### Localization"
   ]
  },
  {
   "cell_type": "markdown",
   "metadata": {},
   "source": [
    "- 하나의 object의 위치를 Bounding Box로 지정하여 찾는다 "
   ]
  },
  {
   "cell_type": "markdown",
   "metadata": {},
   "source": [
    "- 객체 및 인스턴스 분할\n",
    "    - 객체 분할은 각각 객체를 종류별로 나눠줍니다. (인간,차,나무)\n",
    "    - 인스턴스 분할은 객체를 개인으로 나눠줍니다 (인간1,인간2,인간3,나무1,나무2)"
   ]
  },
  {
   "cell_type": "markdown",
   "metadata": {},
   "source": [
    "### 동영상 분석 \n",
    "- 동영상 스트림의 작업 \n",
    "  - 프레임을 \n",
    "- 인스턴스 추적\n",
    "  - 탐지와 식별 기법을 적용함으로써 이루어 질 수 있다.\n",
    "  - 움직임 연속성\n",
    "- 행동 인식 \n",
    "  - 사전 정의된 집합 중에 특정행동을 인식하는 것 (수영,네모,원,등등)\n",
    "- 움직임 추정\n",
    "  "
   ]
  },
  {
   "cell_type": "markdown",
   "metadata": {},
   "source": [
    "### 콘텐츠-인식 이미지본\n",
    "- 장면 복원 \n",
    "  - 이미지 자체의 개선을 위해 적용\n",
    "  - 기본 이미지의 품질을 개선해준다"
   ]
  },
  {
   "cell_type": "markdown",
   "metadata": {},
   "source": [
    "### 객체 인식의 계보 \n",
    "1. 1-Stage Detector : Regional proposal(object가 있을법한 곳을 찾아내는 것) + Classfication 을 동시 진행\n",
    "2. 2-stage Detector : Regional proposal 따로 Classfication을 따로 진행 \n",
    "- 1-Stage 를 사용하면 신속성이 증가하고 2-Stage를 사용하면 정확도가 증가합니다"
   ]
  },
  {
   "cell_type": "markdown",
   "metadata": {},
   "source": [
    "### 객체 탐지의 주요 구성 요소 \n",
    "- 영역추정\n",
    "  - 방법1 : 박스를 지정한 후 순차적으로 픽셀을 탐색한다\n",
    "  - 방법2 : 물체가 있을 만한 곳을 학습하여 예측한다"
   ]
  },
  {
   "cell_type": "markdown",
   "metadata": {},
   "source": [
    "### Object Localization\n",
    "- Classification vs Localization \n",
    "- Classification : 객체 분류 Classification + Localization : 객체 분류 후 Bounding Box 그려준다\n",
    "- Localization : Multiple objects 를 분류 Object Detection (Cat, Dog, Duck) Bounding Box 형식으로 분류 Instance Segmentation (Cat, Dog, Duck) 테두리 형식으로 분류 "
   ]
  },
  {
   "cell_type": "markdown",
   "metadata": {},
   "source": [
    "### Object Detection(기법)\n",
    "- Sliding Window \n",
    "  - Region Proposal의 초기 기법으로 활용 \n",
    "  - Window를 왼쪽 상단에서부터 오른쪽 하단으로 이동시키면서 Object를 Detection하는 방식 \n",
    "- 단점은?\n",
    "  - Object가 없는 영역은?\n",
    "  - 여러 형태의 Window와 여러 Scale을 가진 이미지를 스캔 -> 수행시간이 오래걸림 "
   ]
  },
  {
   "cell_type": "markdown",
   "metadata": {},
   "source": [
    "### Region Proposal(영역 추정)\n",
    "- Object가 있을만한 후보를 정해보자\n",
    "- 원본 이미지를 입력하고 Bounding Box를 선택하여 탐색하고, 최종 Object를 검출해 낸다."
   ]
  },
  {
   "attachments": {},
   "cell_type": "markdown",
   "metadata": {},
   "source": [
    "### Selective Search(SS)\n",
    "- 빠른 Detecttion과 높은 Recall 예측을 성능을 동시에 만족하는 알고리즘 "
   ]
  },
  {
   "attachments": {},
   "cell_type": "markdown",
   "metadata": {},
   "source": [
    "### 주요 용어 정리\n",
    "- Ground-Truth : 모델이 실제 예측하기 원하는 값 \n",
    "- IOU : 모델이 예측한 결과와 Ground-Truth Box 가 얼마나 정확하게 겹치는가 \n",
    "- 예를 들어 모델이 예측한 결과와 Ground Truth box 가 정확하게 겹친다면 IOU의 값은 당연히 1이 된다."
   ]
  },
  {
   "attachments": {},
   "cell_type": "markdown",
   "metadata": {},
   "source": [
    "- NMS 동작 방식\n",
    "- IOU 값을 기준으로 여러개의 Bounding Box가 생성됐을때 threshold 값 이하의 박스들은 전부 제거해준다.\n",
    "- 일반적인 threshold의 값은 0.6 이상이다.\n",
    " "
   ]
  },
  {
   "attachments": {},
   "cell_type": "markdown",
   "metadata": {},
   "source": [
    "### mAP\n",
    "- Object detection에서 모델의 성능(정확도)를 측정하는 지표 \n",
    "- 실제 Object가 Detected된 재현율의 변화에 따른 정밀도의 값을 평균화한 성능 수치\n",
    "- mAP가 높을수록 정확하고 작을수록 부정확하다."
   ]
  },
  {
   "attachments": {},
   "cell_type": "markdown",
   "metadata": {},
   "source": [
    "- 혼동행렬도 여기에 쓰입니다.\n",
    "- 정밀도 : 사람을 사람으로 구별했는가 사람이 두명있어도 한 명을 사람으로 구분했어도 정밀도가 100%\n",
    "- 재현율 : 사람이 두 명있을때 한명을 구분하면 50%\n",
    "- 정밀도는 모델의 입장에서, 재현율은 실제 정답의 입장에서 맞춘 경우를 바라보고 있다."
   ]
  },
  {
   "attachments": {},
   "cell_type": "markdown",
   "metadata": {},
   "source": [
    "- 정밀도와 재현율은 상보(상호보완)적이기 때문에 Confidence Threshold를 조절해서 적절한 값을 찾으면 그 값이 최고의 값이 됩니다. (둘의 교차 지점) \n",
    "- Precision(정밀도)의 값을 평균을 ap라고하며, 면적값으로 계산 한다"
   ]
  },
  {
   "attachments": {},
   "cell_type": "markdown",
   "metadata": {},
   "source": [
    "### Object Detection의 목표\n",
    "- Detection 시간의 최소화 (recall)\n",
    "- 서로 다른 크기의 object를 detect"
   ]
  },
  {
   "cell_type": "markdown",
   "metadata": {},
   "source": []
  }
 ],
 "metadata": {
  "language_info": {
   "name": "python"
  },
  "orig_nbformat": 4
 },
 "nbformat": 4,
 "nbformat_minor": 2
}
