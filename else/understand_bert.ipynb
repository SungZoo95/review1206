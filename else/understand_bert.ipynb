{
 "cells": [
  {
   "attachments": {},
   "cell_type": "markdown",
   "metadata": {},
   "source": [
    "# 자연어 처리 기술"
   ]
  },
  {
   "attachments": {},
   "cell_type": "markdown",
   "metadata": {},
   "source": [
    "- 규칙/지식 기반 접근법 "
   ]
  },
  {
   "attachments": {},
   "cell_type": "markdown",
   "metadata": {},
   "source": [
    "- 확률 통계 기반 접근법 \n",
    "- TF/IDF를 이용한 키워드 추출\n",
    "    - TF : 단어가 문서에 등장한 횟수\n",
    "    - DF : 해당 단어가 등장한 문서의 개수\n",
    "    - TF가 높을수록 중요하고 DF가 높을수록 중요하지 않음"
   ]
  },
  {
   "attachments": {},
   "cell_type": "markdown",
   "metadata": {},
   "source": [
    "- 전처리 기술\n",
    "    - 개행문자 제거\n",
    "    - 특수문자 제거\n",
    "    - 공백 제거\n",
    "    - 중복 표현 제어\n",
    "    - 이메일, 링크 제거 \n",
    "    - 제목 제거\n",
    "    - 불용어\n",
    "    - 조사 제거\n",
    "    - 띄어쓰기, 문장분리 조정\n",
    "    - 사전 구축 "
   ]
  },
  {
   "attachments": {},
   "cell_type": "markdown",
   "metadata": {},
   "source": [
    "- Tokenizing\n",
    "    - 자연어를 어떤 단위로 나눌까?\n",
    "    - 어절\n",
    "    - 형태소\n",
    "    - n-gram\n",
    "    - WordPiece"
   ]
  },
  {
   "cell_type": "markdown",
   "metadata": {},
   "source": []
  }
 ],
 "metadata": {
  "kernelspec": {
   "display_name": "Python 3",
   "language": "python",
   "name": "python3"
  },
  "language_info": {
   "name": "python",
   "version": "3.10.6"
  },
  "orig_nbformat": 4,
  "vscode": {
   "interpreter": {
    "hash": "916dbcbb3f70747c44a77c7bcd40155683ae19c65e1c03b4aa3499c5328201f1"
   }
  }
 },
 "nbformat": 4,
 "nbformat_minor": 2
}
