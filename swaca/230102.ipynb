{
 "cells": [
  {
   "attachments": {},
   "cell_type": "markdown",
   "metadata": {},
   "source": [
    "1244. 최대상금 \n",
    "- [입력]\n",
    "\n",
    "가장 첫 줄은 전체 테스트 케이스의 수이다.\n",
    "\n",
    "최대 10개의 테스트 케이스가 표준 입력을 통하여 주어진다.\n",
    "\n",
    "각 테스트 케이스에는 숫자판의 정보와 교환 횟수가 주어진다.\n",
    "\n",
    "숫자판의 정보는 정수형 숫자로 주어지고 최대 자릿수는 6자리이며, 최대 교환 횟수는 10번이다.\n",
    "\n",
    "- [출력]\n",
    "\n",
    "각 테스트 케이스마다, 첫 줄에는 “#C”를 출력해야 하는데 C는 케이스 번호이다.\n",
    "\n",
    "같은 줄에 빈 칸을 하나 사이에 두고 교환 후 받을 수 있는 가장 큰 금액을 출력한다."
   ]
  },
  {
   "attachments": {},
   "cell_type": "markdown",
   "metadata": {},
   "source": [
    "- input :\n",
    "    - 10 : 데이터 입력하는 개수 (T에 들어가야함)\n",
    "    - 123 1\n",
    "    - 2737 1\n",
    "    - 757148 1\n",
    "    - 78466 2\n",
    "    - 32888 2\n",
    "    - 777770 5\n",
    "    - 436659 2\n",
    "    - 431159 7\n",
    "    - 112233 3\n",
    "    - 456789 10"
   ]
  },
  {
   "attachments": {},
   "cell_type": "markdown",
   "metadata": {},
   "source": [
    "- out put : \n",
    "    - #1 321 : 123 맨 끝자리와 앞자리를 바꿈 \n",
    "    - #2 7732 : 2 7 맨 끝자리와 앞자리를 바꿈\n",
    "    - #3 857147 : 8 7 맨 끝자리와 앞자리를 바꿈 \n",
    "    - #4 87664 : 8 7 앞자리 바꾸고 6 7 둘째와 끝자리를 바꿈 \n",
    "    - #5 88832 : 8 3 8 2 자리를 바꿈 \n",
    "    - #6 777770 : 최고의 수이므로 자리를 바꾸지 않습니다. \n",
    "    - #7 966354 : 9와 4  3 6의 자리를 바꿉니다.\n",
    "    - #8 954311 : 높은수를 다 앞으로밀고 같은수끼리 자리를 계속 바꿔줌 \n",
    "    - #9 332211 : 높은 수 앞으로 배주고 같은수 자리 바꿔줌 \n",
    "    - #10 987645 : 큰 수 앞으로 빼주고 마지막 뒷자리 두개만 교환해줌 "
   ]
  },
  {
   "attachments": {},
   "cell_type": "markdown",
   "metadata": {},
   "source": [
    "- 맨 끝자리와 앞자리를 바꾸는 수(디폴트)\n",
    "- 최고의 수 일때 자리를 바꾸지 않기 (같은 수끼리 바꾸게 만들어주면 됨)\n",
    "    - 이때 동일한 숫자가 있을경우 뒷자리 우선으로 바꿔주게 만들어줌\n",
    "- 최고의 수 일대 자리바꾸는 횟수가 남을 경우 : (맨뒤 두자리만 교환하게 만들어줌)\n",
    "총 3가지 정도의 수가 필요하다."
   ]
  },
  {
   "cell_type": "code",
   "execution_count": null,
   "metadata": {},
   "outputs": [],
   "source": [
    "T = int(input())\n",
    "\n",
    "for test_case in range (0, T+1):\n",
    "    price = "
   ]
  },
  {
   "cell_type": "code",
   "execution_count": 23,
   "metadata": {},
   "outputs": [
    {
     "name": "stdout",
     "output_type": "stream",
     "text": [
      "1\n",
      "123\n"
     ]
    }
   ],
   "source": [
    "b = list(map(str,input().split(\" \")))\n",
    "shake = int(b[1])\n",
    "price = b[0]\n",
    "print(shake)\n",
    "print(price)"
   ]
  },
  {
   "cell_type": "code",
   "execution_count": 25,
   "metadata": {},
   "outputs": [
    {
     "data": {
      "text/plain": [
       "'1'"
      ]
     },
     "execution_count": 25,
     "metadata": {},
     "output_type": "execute_result"
    }
   ],
   "source": [
    "price[0]"
   ]
  },
  {
   "cell_type": "code",
   "execution_count": null,
   "metadata": {},
   "outputs": [],
   "source": [
    "for i in range(1, shake+1):\n",
    "    if price[0] "
   ]
  },
  {
   "cell_type": "code",
   "execution_count": 135,
   "metadata": {},
   "outputs": [
    {
     "name": "stdout",
     "output_type": "stream",
     "text": [
      "123\n",
      "123\n"
     ]
    }
   ],
   "source": [
    "b =  list(map(str,input()))\n",
    "print(*b, sep= \"\")\n",
    "print(''.join(b))\n",
    "# b[0] = b[0].replace(b[0],b[2])\n",
    "# b[2] = b[2].replace(b[2],b[0])\n",
    "# int(b[0]) > 1\n",
    "a = b.copy()\n",
    "print(a)\n"
   ]
  },
  {
   "cell_type": "code",
   "execution_count": 147,
   "metadata": {},
   "outputs": [
    {
     "name": "stdout",
     "output_type": "stream",
     "text": [
      "321\n"
     ]
    }
   ],
   "source": [
    "# 기본 디폴트 함수 \n",
    "if int(b[0]) < int(b[-1]) :\n",
    "    a[0] = a[0].replace(a[0],b[2])  \n",
    "    a[2] = a[2].replace(a[2],b[0])\n",
    "    print(''.join(a))"
   ]
  },
  {
   "cell_type": "code",
   "execution_count": null,
   "metadata": {},
   "outputs": [],
   "source": [
    "# 1번, 2번 , 3번 까지 해결 가능 \n",
    "# 4번, "
   ]
  },
  {
   "cell_type": "code",
   "execution_count": 172,
   "metadata": {},
   "outputs": [
    {
     "name": "stdout",
     "output_type": "stream",
     "text": [
      "82883\n",
      "88882\n"
     ]
    }
   ],
   "source": [
    "t = int(input())\n",
    "b =  list(map(str,input()))\n",
    "a = b.copy()\n",
    "for i in range(0, t):\n",
    "    if int(b[i]) < int(b[-1]) : \n",
    "        a[i] = a[i].replace(a[i],b[-1])\n",
    "        a[-1] = a[-1].replace(a[-1],b[i])\n",
    "        print(''.join(a))\n",
    "    elif int(b[i]) > int(b[-1]) :\n",
    "        a.sort(reverse=True)\n",
    "        print(''.join(a))\n",
    "        break"
   ]
  },
  {
   "cell_type": "code",
   "execution_count": 161,
   "metadata": {},
   "outputs": [],
   "source": [
    "b.sort(reverse=True)\n"
   ]
  },
  {
   "cell_type": "code",
   "execution_count": 162,
   "metadata": {},
   "outputs": [
    {
     "data": {
      "text/plain": [
       "['8', '7', '7', '5', '4', '1']"
      ]
     },
     "execution_count": 162,
     "metadata": {},
     "output_type": "execute_result"
    }
   ],
   "source": [
    "b"
   ]
  },
  {
   "cell_type": "code",
   "execution_count": null,
   "metadata": {},
   "outputs": [],
   "source": []
  }
 ],
 "metadata": {
  "kernelspec": {
   "display_name": "Python 3",
   "language": "python",
   "name": "python3"
  },
  "language_info": {
   "codemirror_mode": {
    "name": "ipython",
    "version": 3
   },
   "file_extension": ".py",
   "mimetype": "text/x-python",
   "name": "python",
   "nbconvert_exporter": "python",
   "pygments_lexer": "ipython3",
   "version": "3.10.6"
  },
  "orig_nbformat": 4,
  "vscode": {
   "interpreter": {
    "hash": "916dbcbb3f70747c44a77c7bcd40155683ae19c65e1c03b4aa3499c5328201f1"
   }
  }
 },
 "nbformat": 4,
 "nbformat_minor": 2
}
