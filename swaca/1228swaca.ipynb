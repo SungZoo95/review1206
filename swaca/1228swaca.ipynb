{
 "cells": [
  {
   "cell_type": "code",
   "execution_count": 98,
   "metadata": {},
   "outputs": [
    {
     "ename": "TypeError",
     "evalue": "unsupported operand type(s) for +: 'int' and 'str'",
     "output_type": "error",
     "traceback": [
      "\u001b[0;31m---------------------------------------------------------------------------\u001b[0m",
      "\u001b[0;31mTypeError\u001b[0m                                 Traceback (most recent call last)",
      "Cell \u001b[0;32mIn[98], line 11\u001b[0m\n\u001b[1;32m      9\u001b[0m     \u001b[39mif\u001b[39;00m score\u001b[39m.\u001b[39mcount(score[i]) \u001b[39m>\u001b[39m score\u001b[39m.\u001b[39mcount(score[i\u001b[39m+\u001b[39m\u001b[39m1\u001b[39m]):\n\u001b[1;32m     10\u001b[0m         rg \u001b[39m=\u001b[39m rg \u001b[39m+\u001b[39m score\u001b[39m.\u001b[39mcount(score[i])\n\u001b[0;32m---> 11\u001b[0m         ri \u001b[39m=\u001b[39m ri \u001b[39m+\u001b[39;49m score[i]\n\u001b[1;32m     12\u001b[0m         \u001b[39mprint\u001b[39m(ri)\n\u001b[1;32m     16\u001b[0m \u001b[39mprint\u001b[39m(score[i])            \n",
      "\u001b[0;31mTypeError\u001b[0m: unsupported operand type(s) for +: 'int' and 'str'"
     ]
    }
   ],
   "source": [
    "T = int(input())\n",
    "for test_case in range(1, T + 1):\n",
    "    time = input()\n",
    "    score = input()\n",
    "    score = score.split(\" \")\n",
    "    ri = int(0)\n",
    "    rg = int(0)\n",
    "    for i in range (0, 1000):\n",
    "        if score.count(score[i]) > score.count(score[i+1]):\n",
    "            rg = rg + score.count(score[i])\n",
    "            ri = ri + score[i]\n",
    "            print(ri)\n",
    "        \n",
    "                         \n",
    "    \n",
    "    print(score[i])            \n",
    "        #elif score.count(score[i]) == score.count(score[i+1]) :\n",
    "        #    if ri > score[i] :\n",
    "                "
   ]
  },
  {
   "cell_type": "code",
   "execution_count": 91,
   "metadata": {},
   "outputs": [
    {
     "data": {
      "text/plain": [
       "int"
      ]
     },
     "execution_count": 91,
     "metadata": {},
     "output_type": "execute_result"
    }
   ],
   "source": [
    "type(rg)"
   ]
  },
  {
   "cell_type": "code",
   "execution_count": 56,
   "metadata": {},
   "outputs": [
    {
     "data": {
      "text/plain": [
       "1"
      ]
     },
     "execution_count": 56,
     "metadata": {},
     "output_type": "execute_result"
    }
   ],
   "source": [
    "score.count(score[0])"
   ]
  },
  {
   "cell_type": "code",
   "execution_count": 93,
   "metadata": {},
   "outputs": [
    {
     "ename": "ValueError",
     "evalue": "invalid literal for int() with base 10: ''",
     "output_type": "error",
     "traceback": [
      "\u001b[0;31m---------------------------------------------------------------------------\u001b[0m",
      "\u001b[0;31mValueError\u001b[0m                                Traceback (most recent call last)",
      "Cell \u001b[0;32mIn[93], line 1\u001b[0m\n\u001b[0;32m----> 1\u001b[0m a \u001b[39m=\u001b[39m \u001b[39mint\u001b[39;49m(\u001b[39minput\u001b[39;49m())\u001b[39m.\u001b[39msplit()\n\u001b[1;32m      2\u001b[0m a \u001b[39m=\u001b[39m a\u001b[39m.\u001b[39msplit(\u001b[39m\"\u001b[39m\u001b[39m \u001b[39m\u001b[39m\"\u001b[39m)\n\u001b[1;32m      3\u001b[0m \u001b[39mprint\u001b[39m(a)\n",
      "\u001b[0;31mValueError\u001b[0m: invalid literal for int() with base 10: ''"
     ]
    }
   ],
   "source": [
    "a = int(input()).split()\n",
    "a = a.split(\" \")\n",
    "print(a)\n",
    "#for i in a:\n",
    "#    if a[i]"
   ]
  },
  {
   "cell_type": "code",
   "execution_count": 53,
   "metadata": {},
   "outputs": [
    {
     "data": {
      "text/plain": [
       "'41'"
      ]
     },
     "execution_count": 53,
     "metadata": {},
     "output_type": "execute_result"
    }
   ],
   "source": [
    "a[0]"
   ]
  },
  {
   "cell_type": "code",
   "execution_count": 79,
   "metadata": {},
   "outputs": [
    {
     "data": {
      "text/plain": [
       "17"
      ]
     },
     "execution_count": 79,
     "metadata": {},
     "output_type": "execute_result"
    }
   ],
   "source": [
    "a.count(\"71\")"
   ]
  },
  {
   "cell_type": "code",
   "execution_count": 35,
   "metadata": {},
   "outputs": [
    {
     "data": {
      "text/plain": [
       "1"
      ]
     },
     "execution_count": 35,
     "metadata": {},
     "output_type": "execute_result"
    }
   ],
   "source": [
    "a.count(\"41\")"
   ]
  },
  {
   "cell_type": "code",
   "execution_count": 26,
   "metadata": {},
   "outputs": [
    {
     "data": {
      "text/plain": [
       "16"
      ]
     },
     "execution_count": 26,
     "metadata": {},
     "output_type": "execute_result"
    }
   ],
   "source": [
    "len(a)"
   ]
  },
  {
   "cell_type": "code",
   "execution_count": null,
   "metadata": {},
   "outputs": [],
   "source": [
    "a.count"
   ]
  },
  {
   "cell_type": "code",
   "execution_count": null,
   "metadata": {},
   "outputs": [],
   "source": [
    "if a.count(a[i]) > a.count(a[i+1]) : \n",
    "    score_count = a.count(a[i]) 3\n",
    "    score = a[i] \n",
    "    print(a[i]) \n",
    "    if score_count == a.count(a[i]):\n",
    "        if \n",
    "    "
   ]
  },
  {
   "cell_type": "code",
   "execution_count": null,
   "metadata": {},
   "outputs": [],
   "source": [
    "T = int(input())\n",
    "for test_case in range(1, T + 1):\n",
    "    time = input()\n",
    "    score = input()\n",
    "    if "
   ]
  },
  {
   "cell_type": "code",
   "execution_count": 13,
   "metadata": {},
   "outputs": [
    {
     "data": {
      "text/plain": [
       "50"
      ]
     },
     "execution_count": 13,
     "metadata": {},
     "output_type": "execute_result"
    }
   ],
   "source": [
    "len(a)"
   ]
  },
  {
   "cell_type": "code",
   "execution_count": 22,
   "metadata": {},
   "outputs": [
    {
     "data": {
      "text/plain": [
       "1"
      ]
     },
     "execution_count": 22,
     "metadata": {},
     "output_type": "execute_result"
    }
   ],
   "source": [
    "a.count(a[0])"
   ]
  },
  {
   "cell_type": "code",
   "execution_count": 47,
   "metadata": {},
   "outputs": [],
   "source": [
    "number = str(input())"
   ]
  },
  {
   "cell_type": "code",
   "execution_count": 58,
   "metadata": {},
   "outputs": [
    {
     "data": {
      "text/plain": [
       "False"
      ]
     },
     "execution_count": 58,
     "metadata": {},
     "output_type": "execute_result"
    }
   ],
   "source": [
    "number[4:6] == 2"
   ]
  },
  {
   "cell_type": "code",
   "execution_count": 46,
   "metadata": {},
   "outputs": [
    {
     "ename": "TypeError",
     "evalue": "int() argument must be a string, a bytes-like object or a real number, not 'list'",
     "output_type": "error",
     "traceback": [
      "\u001b[0;31m---------------------------------------------------------------------------\u001b[0m",
      "\u001b[0;31mTypeError\u001b[0m                                 Traceback (most recent call last)",
      "Cell \u001b[0;32mIn[46], line 2\u001b[0m\n\u001b[1;32m      1\u001b[0m number \u001b[39m=\u001b[39m \u001b[39mlist\u001b[39m(\u001b[39mmap\u001b[39m(\u001b[39mstr\u001b[39m,\u001b[39minput\u001b[39m()\u001b[39m.\u001b[39msplit()))\n\u001b[0;32m----> 2\u001b[0m \u001b[39mint\u001b[39;49m(number[\u001b[39m4\u001b[39;49m:\u001b[39m7\u001b[39;49m])\n\u001b[1;32m      3\u001b[0m \u001b[39mint\u001b[39m(number[\u001b[39m0\u001b[39m:\u001b[39m-\u001b[39m\u001b[39m1\u001b[39m])\n",
      "\u001b[0;31mTypeError\u001b[0m: int() argument must be a string, a bytes-like object or a real number, not 'list'"
     ]
    }
   ],
   "source": [
    "number = map(str,input().split()))\n",
    "int(number[4:7])\n",
    "int(number[0:-1])"
   ]
  },
  {
   "cell_type": "code",
   "execution_count": 37,
   "metadata": {},
   "outputs": [
    {
     "data": {
      "text/plain": [
       "2222"
      ]
     },
     "execution_count": 37,
     "metadata": {},
     "output_type": "execute_result"
    }
   ],
   "source": [
    "int(number[0:4])\n"
   ]
  },
  {
   "cell_type": "code",
   "execution_count": 40,
   "metadata": {},
   "outputs": [
    {
     "data": {
      "text/plain": [
       "'22220228'"
      ]
     },
     "execution_count": 40,
     "metadata": {},
     "output_type": "execute_result"
    }
   ],
   "source": [
    "number"
   ]
  },
  {
   "cell_type": "code",
   "execution_count": 44,
   "metadata": {},
   "outputs": [
    {
     "data": {
      "text/plain": [
       "2"
      ]
     },
     "execution_count": 44,
     "metadata": {},
     "output_type": "execute_result"
    }
   ],
   "source": [
    "int(number[4:6])"
   ]
  },
  {
   "cell_type": "code",
   "execution_count": 28,
   "metadata": {},
   "outputs": [
    {
     "data": {
      "text/plain": [
       "22"
      ]
     },
     "execution_count": 28,
     "metadata": {},
     "output_type": "execute_result"
    }
   ],
   "source": [
    "int(number[4:7]) "
   ]
  },
  {
   "cell_type": "code",
   "execution_count": 99,
   "metadata": {},
   "outputs": [
    {
     "name": "stdout",
     "output_type": "stream",
     "text": [
      "#1 2222/02/28\n",
      "#2 -1\n",
      "#3 0101/01/01\n",
      "#4 -1\n",
      "#5 1111/11/11\n"
     ]
    }
   ],
   "source": [
    "# 2056\n",
    "T = int(input())\n",
    "for test_case in range (1, T+1):\n",
    "    number_list = str(input())\n",
    "    year = number_list[0:4]\n",
    "    month = number_list[4:6]\n",
    "    day = number_list[6:8]\n",
    "    month_1 = int(month)\n",
    "    day_1 = int(day)\n",
    "    if month_1 == 1 or month_1 == 3 or month_1 == 5  or month_1 == 7 or month_1 == 8 or month_1 == 10 or month_1 == 12 :\n",
    "         if day_1 > 0 and day_1 < 32 :\n",
    "            print(f\"#{test_case} {year}/{month}/{day}\")\n",
    "         else : \n",
    "            print(f\"#{test_case} -1\")\n",
    "    elif month_1 == 4 or month_1 == 6 or month_1 == 9 or month_1 == 11 :\n",
    "         if day_1 > 0 and day_1 < 31 :\n",
    "            print(f\"#{test_case} {year}/{month}/{day}\")\n",
    "         else:\n",
    "            print(f\"#{test_case} -1\")\n",
    "    elif month_1 == 2 :\n",
    "         if day_1 > 0 and day_1 < 29 : \n",
    "            print(f\"#{test_case} {year}/{month}/{day}\")\n",
    "         else:\n",
    "            print(f\"#{test_case} -1\")\n",
    "    else:\n",
    "        print(f\"#{test_case} -1\")"
   ]
  },
  {
   "cell_type": "code",
   "execution_count": 94,
   "metadata": {},
   "outputs": [
    {
     "data": {
      "text/plain": [
       "True"
      ]
     },
     "execution_count": 94,
     "metadata": {},
     "output_type": "execute_result"
    }
   ],
   "source": [
    "month ==11"
   ]
  },
  {
   "cell_type": "code",
   "execution_count": 73,
   "metadata": {},
   "outputs": [
    {
     "data": {
      "text/plain": [
       "False"
      ]
     },
     "execution_count": 73,
     "metadata": {},
     "output_type": "execute_result"
    }
   ],
   "source": [
    "int(month) == 12"
   ]
  },
  {
   "cell_type": "code",
   "execution_count": 64,
   "metadata": {},
   "outputs": [
    {
     "data": {
      "text/plain": [
       "True"
      ]
     },
     "execution_count": 64,
     "metadata": {},
     "output_type": "execute_result"
    }
   ],
   "source": [
    "month == \"11\""
   ]
  },
  {
   "cell_type": "code",
   "execution_count": 31,
   "metadata": {},
   "outputs": [
    {
     "data": {
      "text/plain": [
       "''"
      ]
     },
     "execution_count": 31,
     "metadata": {},
     "output_type": "execute_result"
    }
   ],
   "source": [
    "number_list"
   ]
  },
  {
   "cell_type": "code",
   "execution_count": 25,
   "metadata": {},
   "outputs": [
    {
     "data": {
      "text/plain": [
       "''"
      ]
     },
     "execution_count": 25,
     "metadata": {},
     "output_type": "execute_result"
    }
   ],
   "source": [
    "number_list[4:6]"
   ]
  },
  {
   "cell_type": "code",
   "execution_count": null,
   "metadata": {},
   "outputs": [],
   "source": [
    "t = int(input())\n",
    "number_list = list(map(str,input().split()))\n",
    "for test_case in range(1, t + 1): \n",
    "    if int(number_list[test_case-1][4:6]) < 13 and int(number_list[test_case-1][4:6]) != 0 :\n",
    "            if int(number_list[test_case-1][6:8]) <= 28 :\n",
    "                print(f\"#{test_case} {number_list[test_case-1][0:4]}/{number_list[test_case-1][4:6]}/{number_list[test_case-1][6:8]}\")\n",
    "            else : \n",
    "                print(f\"#{test_case} -1\")\n",
    "    else: \n",
    "        print(f\"#{test_case} -1\")"
   ]
  },
  {
   "cell_type": "code",
   "execution_count": 102,
   "metadata": {},
   "outputs": [
    {
     "name": "stdout",
     "output_type": "stream",
     "text": [
      "1 2 3 4 5 6 7 8 9 10 11 12 13 14 15 16 17 18 19 20 21 22 23 24 25 26 "
     ]
    }
   ],
   "source": [
    "# 2050\n",
    "a = input()\n",
    "for i in range(26):\n",
    "    print(ord(a[i])-64,\"\",end=\"\")"
   ]
  },
  {
   "cell_type": "code",
   "execution_count": null,
   "metadata": {},
   "outputs": [],
   "source": [
    "#1204\n",
    "T = int(input())\n",
    "for test_case in range(1, T + 1):\n",
    "    time = input()\n",
    "    score = input()\n",
    "    score = score.split(\" \")\n",
    "    \n",
    "    for i in range (0, 10):\n",
    "        if score.count(score[i]) > score.count(score[i+1]):\n",
    "            rg = score.count(score[i])\n",
    "            print(rg)"
   ]
  },
  {
   "cell_type": "code",
   "execution_count": 160,
   "metadata": {},
   "outputs": [
    {
     "ename": "AttributeError",
     "evalue": "'NoneType' object has no attribute 'append'",
     "output_type": "error",
     "traceback": [
      "\u001b[0;31m---------------------------------------------------------------------------\u001b[0m",
      "\u001b[0;31mAttributeError\u001b[0m                            Traceback (most recent call last)",
      "Cell \u001b[0;32mIn[160], line 6\u001b[0m\n\u001b[1;32m      4\u001b[0m \u001b[39mfor\u001b[39;00m i \u001b[39min\u001b[39;00m \u001b[39mrange\u001b[39m (\u001b[39m0\u001b[39m,\u001b[39m10\u001b[39m):\n\u001b[1;32m      5\u001b[0m     s \u001b[39m=\u001b[39m score\u001b[39m.\u001b[39mcount(score[i])\n\u001b[0;32m----> 6\u001b[0m     count \u001b[39m=\u001b[39m count\u001b[39m.\u001b[39;49mappend(s)\n\u001b[1;32m      8\u001b[0m \u001b[39mprint\u001b[39m(count)\n",
      "\u001b[0;31mAttributeError\u001b[0m: 'NoneType' object has no attribute 'append'"
     ]
    }
   ],
   "source": [
    "test = 1 \n",
    "score = \"41\",\"85\",\"72\",\"80\",\"69\",\"22\",\"41\",\"69\",\"22\",\"55\"\n",
    "count = []\n",
    "for i in range (0,10):\n",
    "    s = score.count(score[i])\n",
    "    count = count.append(s)\n",
    "    \n",
    "print(count)\n",
    "\n",
    "    "
   ]
  },
  {
   "cell_type": "code",
   "execution_count": 293,
   "metadata": {},
   "outputs": [
    {
     "name": "stdout",
     "output_type": "stream",
     "text": [
      "71\n"
     ]
    }
   ],
   "source": [
    "T = int(input())\n",
    "for test_case in range(1, T + 1):\n",
    "   s = list(map(int, (input().split())))\n",
    "   #s = list(s)\n",
    "   ac = 0\n",
    "   for i in range (0,101): \n",
    "      if s.count(i) == 0 : # 1부터 시작해서 100까지 점수비교해서 카운트세고\n",
    "         pass # 포함안되면 패스 \n",
    "      elif s.count(i) >= s.count(ac): # 처음엔 ac가 0일거고 점점 높아ㅣㅈ면\n",
    "         ac = i # 최종수 개잘했다\n",
    "   print(f\"{ac}\")"
   ]
  },
  {
   "cell_type": "code",
   "execution_count": null,
   "metadata": {},
   "outputs": [],
   "source": [
    "T = int(input())\n",
    "for test_case in range(1, T + 1):\n",
    "    Try = input()\n",
    "    score = list(map(int, input().split()))\n",
    "    acc = 0\n",
    "    for i in range (1,101):\n",
    "      if score.count(i) == 0 :\n",
    "          pass\n",
    "      elif score.count(i) >= score.count(acc):\n",
    "           acc = i \n",
    "    print(f\"#{Try} {acc}\")\n",
    "    \n",
    "    \n",
    "   "
   ]
  },
  {
   "cell_type": "code",
   "execution_count": 278,
   "metadata": {},
   "outputs": [],
   "source": [
    "score = list(map(int, input().split()))\n"
   ]
  },
  {
   "cell_type": "code",
   "execution_count": 282,
   "metadata": {},
   "outputs": [
    {
     "data": {
      "text/plain": [
       "17"
      ]
     },
     "execution_count": 282,
     "metadata": {},
     "output_type": "execute_result"
    }
   ],
   "source": [
    "score.count(71)"
   ]
  },
  {
   "cell_type": "code",
   "execution_count": 263,
   "metadata": {},
   "outputs": [
    {
     "data": {
      "text/plain": [
       "9"
      ]
     },
     "execution_count": 263,
     "metadata": {},
     "output_type": "execute_result"
    }
   ],
   "source": [
    "a =  map(int, input().split()) \n",
    "a = list(a)\n",
    "a.count(70)"
   ]
  },
  {
   "cell_type": "code",
   "execution_count": 204,
   "metadata": {},
   "outputs": [
    {
     "data": {
      "text/plain": [
       "1"
      ]
     },
     "execution_count": 204,
     "metadata": {},
     "output_type": "execute_result"
    }
   ],
   "source": [
    "q = \"41\" \"85\"\n",
    "e = \"23\" \n",
    "q.count(\"1\")"
   ]
  },
  {
   "cell_type": "code",
   "execution_count": 140,
   "metadata": {},
   "outputs": [],
   "source": [
    "b.append(e.count(\"23\"))"
   ]
  },
  {
   "cell_type": "code",
   "execution_count": 128,
   "metadata": {},
   "outputs": [],
   "source": [
    "b.append(q)\n",
    "b.append(e)"
   ]
  },
  {
   "cell_type": "code",
   "execution_count": 141,
   "metadata": {},
   "outputs": [
    {
     "data": {
      "text/plain": [
       "[1, 1, 1]"
      ]
     },
     "execution_count": 141,
     "metadata": {},
     "output_type": "execute_result"
    }
   ],
   "source": [
    "b"
   ]
  },
  {
   "cell_type": "code",
   "execution_count": 339,
   "metadata": {},
   "outputs": [
    {
     "ename": "SyntaxError",
     "evalue": "invalid syntax (1400760846.py, line 4)",
     "output_type": "error",
     "traceback": [
      "\u001b[0;36m  Cell \u001b[0;32mIn[339], line 4\u001b[0;36m\u001b[0m\n\u001b[0;31m    pwd =\u001b[0m\n\u001b[0m          ^\u001b[0m\n\u001b[0;31mSyntaxError\u001b[0m\u001b[0;31m:\u001b[0m invalid syntax\n"
     ]
    }
   ],
   "source": [
    "# 비밀번호 \n",
    "T = int(input())\n",
    "for test_case in range(1, 11):\n",
    "    pwd = "
   ]
  },
  {
   "cell_type": "code",
   "execution_count": 358,
   "metadata": {},
   "outputs": [
    {
     "ename": "IndexError",
     "evalue": "list index out of range",
     "output_type": "error",
     "traceback": [
      "\u001b[0;31m---------------------------------------------------------------------------\u001b[0m",
      "\u001b[0;31mIndexError\u001b[0m                                Traceback (most recent call last)",
      "Cell \u001b[0;32mIn[358], line 4\u001b[0m\n\u001b[1;32m      2\u001b[0m b \u001b[39m=\u001b[39m []\n\u001b[1;32m      3\u001b[0m \u001b[39mfor\u001b[39;00m i \u001b[39min\u001b[39;00m \u001b[39mrange\u001b[39m(\u001b[39m1\u001b[39m):\n\u001b[0;32m----> 4\u001b[0m     \u001b[39mif\u001b[39;00m a\u001b[39m.\u001b[39mcount(a[i]) \u001b[39m==\u001b[39m \u001b[39m1\u001b[39m :\n\u001b[1;32m      5\u001b[0m         b\u001b[39m.\u001b[39mappend(a[i])\n\u001b[1;32m      6\u001b[0m \u001b[39mprint\u001b[39m(b)\n",
      "\u001b[0;31mIndexError\u001b[0m: list index out of range"
     ]
    }
   ],
   "source": [
    "a  = input().split()\n",
    "b = []\n",
    "for i in range(1):\n",
    "    if a.count(a[i]) == f\"{i}\" :\n",
    "        b.append(a[i])\n",
    "print(b)"
   ]
  },
  {
   "cell_type": "code",
   "execution_count": 413,
   "metadata": {},
   "outputs": [
    {
     "name": "stdout",
     "output_type": "stream",
     "text": [
      "3\n",
      "3\n",
      "4\n",
      "4\n",
      "3\n",
      "3\n",
      "1\n",
      "1\n",
      "2\n",
      "4\n",
      "2\n",
      "2\n",
      "4\n",
      "2\n",
      "3\n",
      "3\n"
     ]
    }
   ],
   "source": [
    "a = list(map(int, input().split()))\n",
    "a = str(a[1])\n",
    "b = 0\n",
    "for i in a : \n",
    "    #if a.count(f\"{i}\") ==  1 :\n",
    "    #   b = b + f\"{i}\"\n",
    " print(a.count(f\"{i}\"))"
   ]
  },
  {
   "cell_type": "code",
   "execution_count": 392,
   "metadata": {},
   "outputs": [],
   "source": [
    "a = list(map(int, input().split()))\n"
   ]
  },
  {
   "cell_type": "code",
   "execution_count": 425,
   "metadata": {},
   "outputs": [],
   "source": [
    "b = list(map(str, input().split()))\n",
    "b = b[1]\n",
    "for i in range (0, 16):\n",
    "    if b.count(\"{i}\") > 1 : \n",
    "        b.replace(\"{i}\",\"\")\n",
    "        print(b)"
   ]
  },
  {
   "cell_type": "code",
   "execution_count": 492,
   "metadata": {},
   "outputs": [
    {
     "name": "stdout",
     "output_type": "stream",
     "text": [
      "411123899844\n",
      "4111238844\n",
      "1112388\n"
     ]
    },
    {
     "ename": "IndexError",
     "evalue": "string index out of range",
     "output_type": "error",
     "traceback": [
      "\u001b[0;31m---------------------------------------------------------------------------\u001b[0m",
      "\u001b[0;31mIndexError\u001b[0m                                Traceback (most recent call last)",
      "Cell \u001b[0;32mIn[492], line 5\u001b[0m\n\u001b[1;32m      3\u001b[0m b \u001b[39m=\u001b[39m b[\u001b[39m1\u001b[39m]\n\u001b[1;32m      4\u001b[0m \u001b[39mfor\u001b[39;00m i \u001b[39min\u001b[39;00m \u001b[39mrange\u001b[39m (\u001b[39m0\u001b[39m, \u001b[39m16\u001b[39m):\n\u001b[0;32m----> 5\u001b[0m     \u001b[39mif\u001b[39;00m b[i] \u001b[39m==\u001b[39m b[i\u001b[39m+\u001b[39m\u001b[39m1\u001b[39m] : \n\u001b[1;32m      6\u001b[0m         b \u001b[39m=\u001b[39m b\u001b[39m.\u001b[39mreplace(b[i],\u001b[39m\"\u001b[39m\u001b[39m\"\u001b[39m)\n\u001b[1;32m      7\u001b[0m         \u001b[39mprint\u001b[39m(b)\n",
      "\u001b[0;31mIndexError\u001b[0m: string index out of range"
     ]
    }
   ],
   "source": [
    "############\n",
    "b = list(map(str, input().split()))\n",
    "b = b[1]\n",
    "for i in range (0, 16):\n",
    "    if b[i] == b[i+1] : \n",
    "        b = b.replace(b[i],\"\")\n",
    "        print(b)"
   ]
  },
  {
   "cell_type": "code",
   "execution_count": 506,
   "metadata": {},
   "outputs": [
    {
     "ename": "IndexError",
     "evalue": "list index out of range",
     "output_type": "error",
     "traceback": [
      "\u001b[0;31m---------------------------------------------------------------------------\u001b[0m",
      "\u001b[0;31mIndexError\u001b[0m                                Traceback (most recent call last)",
      "Cell \u001b[0;32mIn[506], line 2\u001b[0m\n\u001b[1;32m      1\u001b[0m b \u001b[39m=\u001b[39m \u001b[39mlist\u001b[39m(\u001b[39mmap\u001b[39m(\u001b[39mstr\u001b[39m, \u001b[39minput\u001b[39m()\u001b[39m.\u001b[39msplit()))\n\u001b[0;32m----> 2\u001b[0m b \u001b[39m=\u001b[39m b[\u001b[39m1\u001b[39;49m]\n\u001b[1;32m      4\u001b[0m \u001b[39mfor\u001b[39;00m i \u001b[39min\u001b[39;00m \u001b[39mrange\u001b[39m (\u001b[39m0\u001b[39m, \u001b[39m10\u001b[39m):\n\u001b[1;32m      5\u001b[0m     c \u001b[39m=\u001b[39m \u001b[39mf\u001b[39m\u001b[39m\"\u001b[39m\u001b[39m{\u001b[39;00mi\u001b[39m}\u001b[39;00m\u001b[39m{\u001b[39;00mi\u001b[39m}\u001b[39;00m\u001b[39m\"\u001b[39m\n",
      "\u001b[0;31mIndexError\u001b[0m: list index out of range"
     ]
    }
   ],
   "source": [
    "b = list(map(str, input().split()))\n",
    "b = b[1]\n",
    "\n",
    "for i in range (0, 10):\n",
    "    c = f\"{i}{i}\"\n",
    "    if b.count(f\"{c}\") == True :\n",
    "       b = b.replace(f\"{c}\",\"\")\n",
    "       print(f\"{c}\")\n",
    "       print(b)\n",
    "        "
   ]
  },
  {
   "cell_type": "code",
   "execution_count": 556,
   "metadata": {},
   "outputs": [
    {
     "ename": "KeyboardInterrupt",
     "evalue": "",
     "output_type": "error",
     "traceback": [
      "\u001b[0;31m---------------------------------------------------------------------------\u001b[0m",
      "\u001b[0;31mKeyboardInterrupt\u001b[0m                         Traceback (most recent call last)",
      "Cell \u001b[0;32mIn[556], line 5\u001b[0m\n\u001b[1;32m      3\u001b[0m i \u001b[39m=\u001b[39m \u001b[39m0\u001b[39m\n\u001b[1;32m      4\u001b[0m \u001b[39mwhile\u001b[39;00m \u001b[39mTrue\u001b[39;00m : \n\u001b[0;32m----> 5\u001b[0m     \u001b[39mif\u001b[39;00m b[i] \u001b[39m==\u001b[39m b[i\u001b[39m+\u001b[39m\u001b[39m1\u001b[39m] : \n\u001b[1;32m      6\u001b[0m         \u001b[39mdel\u001b[39;00m(b[i])\n\u001b[1;32m      7\u001b[0m         \u001b[39mdel\u001b[39;00m(b[i\u001b[39m+\u001b[39m\u001b[39m1\u001b[39m])\n",
      "\u001b[0;31mKeyboardInterrupt\u001b[0m: "
     ]
    }
   ],
   "source": [
    "b = list(map(str, input().split()))\n",
    "b = b[1]\n",
    "i = 0\n",
    "while True : \n",
    "    if b[i] == b[i+1] : \n",
    "        del(b[i])\n",
    "        del(b[i+1])\n",
    "        i +=1 \n",
    "        continue "
   ]
  },
  {
   "cell_type": "code",
   "execution_count": 555,
   "metadata": {},
   "outputs": [
    {
     "name": "stdout",
     "output_type": "stream",
     "text": [
      "088098123800844100132123800844123800844321800844\n",
      "08809812388441132123884412388443218844\n",
      "0098123441132123441234432144\n",
      "00981231132123123321\n"
     ]
    }
   ],
   "source": [
    "b = list(map(str, input().split()))\n",
    "b = b[1]\n",
    "while True :  \n",
    "    if b.count(\"00\") > 1 :\n",
    "       b = b.replace(\"00\",\"\")\n",
    "       print(b)\n",
    "       continue\n",
    "    elif b.count(\"11\") > 1 :\n",
    "       b = b.replace(\"11\",\"\")\n",
    "       print(b)\n",
    "       continue        \n",
    "    elif b.count(\"22\") > 1 :\n",
    "       b = b.replace(\"22\",\"\")\n",
    "       print(b)\n",
    "       continue \n",
    "    elif b.count(\"99\") > 1 :\n",
    "       b = b.replace(\"99\",\"\")\n",
    "       print(b)\n",
    "       continue \n",
    "    elif b.count(\"88\") > 1 :\n",
    "       b = b.replace(\"88\",\"\")\n",
    "       print(b) \n",
    "       continue \n",
    "    elif b.count(\"77\") > 1 :\n",
    "       b = b.replace(\"77\",\"\")\n",
    "       print(b) \n",
    "       continue\n",
    "    elif b.count(\"66\") > 1 :\n",
    "       b = b.replace(\"66\",\"\")\n",
    "       print(b) \n",
    "       continue  \n",
    "    elif b.count(\"55\") > 1 :\n",
    "       b = b.replace(\"55\",\"\")\n",
    "       print(b) \n",
    "       continue\n",
    "    elif b.count(\"44\") > 1 :\n",
    "       b = b.replace(\"44\",\"\")\n",
    "       print(b) \n",
    "       continue   \n",
    "    elif b.count(\"33\") > 1 :\n",
    "       b = b.replace(\"33\",\"\")\n",
    "       print(b) \n",
    "       continue   \n",
    "    else: \n",
    "        break\n",
    "\n",
    "       \n",
    "      \n",
    "   \n",
    "       "
   ]
  },
  {
   "cell_type": "code",
   "execution_count": 531,
   "metadata": {},
   "outputs": [],
   "source": [
    "b = list(map(str, input().split()))\n",
    "b = b[1]"
   ]
  },
  {
   "cell_type": "code",
   "execution_count": 537,
   "metadata": {},
   "outputs": [
    {
     "data": {
      "text/plain": [
       "True"
      ]
     },
     "execution_count": 537,
     "metadata": {},
     "output_type": "execute_result"
    }
   ],
   "source": [
    "b.count(\"00\") > 1 "
   ]
  },
  {
   "cell_type": "code",
   "execution_count": 522,
   "metadata": {},
   "outputs": [
    {
     "data": {
      "text/plain": [
       "str"
      ]
     },
     "execution_count": 522,
     "metadata": {},
     "output_type": "execute_result"
    }
   ],
   "source": [
    "b= b[1]\n",
    "\n",
    "len(b)\n",
    "type(b)"
   ]
  },
  {
   "cell_type": "code",
   "execution_count": 511,
   "metadata": {},
   "outputs": [
    {
     "name": "stdout",
     "output_type": "stream",
     "text": [
      "00\n",
      "123809908441112380990844\n",
      "11\n",
      "1238099084412380990844\n"
     ]
    }
   ],
   "source": [
    "b = list(map(str, input().split()))\n",
    "b = b[1]\n",
    "\n",
    "for i in range (0, 10):\n",
    "    c = f\"{i}{i}\"\n",
    "    if b.count(f\"{c}\") == True :\n",
    "       b = b.replace(f\"{c}\",\"\")\n",
    "       print(f\"{c}\")\n",
    "       print(b)"
   ]
  },
  {
   "cell_type": "code",
   "execution_count": 510,
   "metadata": {},
   "outputs": [
    {
     "data": {
      "text/plain": [
       "22"
      ]
     },
     "execution_count": 510,
     "metadata": {},
     "output_type": "execute_result"
    }
   ],
   "source": [
    "len(b)"
   ]
  },
  {
   "cell_type": "code",
   "execution_count": 474,
   "metadata": {},
   "outputs": [
    {
     "name": "stdout",
     "output_type": "stream",
     "text": [
      "00\n",
      "1238099084\n",
      "00\n",
      "1238099084\n",
      "00\n",
      "1238099084\n",
      "00\n",
      "1238099084\n",
      "00\n",
      "1238099084\n",
      "00\n",
      "1238099084\n",
      "00\n",
      "1238099084\n",
      "00\n",
      "1238099084\n",
      "00\n",
      "1238099084\n",
      "00\n",
      "1238099084\n",
      "11\n",
      "1238099084\n",
      "11\n",
      "1238099084\n",
      "11\n",
      "1238099084\n",
      "11\n",
      "1238099084\n",
      "11\n",
      "1238099084\n",
      "11\n",
      "1238099084\n",
      "11\n",
      "1238099084\n",
      "11\n",
      "1238099084\n",
      "11\n",
      "1238099084\n",
      "11\n",
      "1238099084\n",
      "22\n",
      "1238099084\n",
      "22\n",
      "1238099084\n",
      "22\n",
      "1238099084\n",
      "22\n",
      "1238099084\n",
      "22\n",
      "1238099084\n",
      "22\n",
      "1238099084\n",
      "22\n",
      "1238099084\n",
      "22\n",
      "1238099084\n",
      "22\n",
      "1238099084\n",
      "22\n",
      "1238099084\n",
      "33\n",
      "1238099084\n",
      "33\n",
      "1238099084\n",
      "33\n",
      "1238099084\n",
      "33\n",
      "1238099084\n",
      "33\n",
      "1238099084\n",
      "33\n",
      "1238099084\n",
      "33\n",
      "1238099084\n",
      "33\n",
      "1238099084\n",
      "33\n",
      "1238099084\n",
      "33\n",
      "1238099084\n",
      "44\n",
      "1238099084\n",
      "44\n",
      "1238099084\n",
      "44\n",
      "1238099084\n",
      "44\n",
      "1238099084\n",
      "44\n",
      "1238099084\n",
      "44\n",
      "1238099084\n",
      "44\n",
      "1238099084\n",
      "44\n",
      "1238099084\n",
      "44\n",
      "1238099084\n",
      "44\n",
      "1238099084\n",
      "55\n",
      "1238099084\n",
      "55\n",
      "1238099084\n",
      "55\n",
      "1238099084\n",
      "55\n",
      "1238099084\n",
      "55\n",
      "1238099084\n",
      "55\n",
      "1238099084\n",
      "55\n",
      "1238099084\n",
      "55\n",
      "1238099084\n",
      "55\n",
      "1238099084\n",
      "55\n",
      "1238099084\n",
      "66\n",
      "1238099084\n",
      "66\n",
      "1238099084\n",
      "66\n",
      "1238099084\n",
      "66\n",
      "1238099084\n",
      "66\n",
      "1238099084\n",
      "66\n",
      "1238099084\n",
      "66\n",
      "1238099084\n",
      "66\n",
      "1238099084\n",
      "66\n",
      "1238099084\n",
      "66\n",
      "1238099084\n",
      "77\n",
      "1238099084\n",
      "77\n",
      "1238099084\n",
      "77\n",
      "1238099084\n",
      "77\n",
      "1238099084\n",
      "77\n",
      "1238099084\n",
      "77\n",
      "1238099084\n",
      "77\n",
      "1238099084\n",
      "77\n",
      "1238099084\n",
      "77\n",
      "1238099084\n",
      "77\n",
      "1238099084\n",
      "88\n",
      "1238099084\n",
      "88\n",
      "1238099084\n",
      "88\n",
      "1238099084\n",
      "88\n",
      "1238099084\n",
      "88\n",
      "1238099084\n",
      "88\n",
      "1238099084\n",
      "88\n",
      "1238099084\n",
      "88\n",
      "1238099084\n",
      "88\n",
      "1238099084\n",
      "88\n",
      "1238099084\n",
      "99\n",
      "12380084\n",
      "99\n",
      "12380084\n",
      "99\n",
      "12380084\n",
      "99\n",
      "12380084\n",
      "99\n",
      "12380084\n",
      "99\n",
      "12380084\n",
      "99\n",
      "12380084\n",
      "99\n",
      "12380084\n",
      "99\n",
      "12380084\n",
      "99\n",
      "12380084\n"
     ]
    }
   ],
   "source": [
    "b = list(map(str, input().split()))\n",
    "b = b[1]\n",
    "\n",
    "for i in range (0, 10):\n",
    "    for _ in b : \n",
    "        c = f\"{i}{i}\"\n",
    "        if b.count(f\"{c}\") == True :\n",
    "           b = b.replace(f\"{c}\",\"\")\n",
    "        elif b.count(f\"{c}\") > 1 : \n",
    "           b = b.replace(f\"{c}\",\"\") \n",
    "        print(f\"{c}\")\n",
    "        print(b)\n",
    "        "
   ]
  },
  {
   "cell_type": "code",
   "execution_count": 470,
   "metadata": {},
   "outputs": [
    {
     "name": "stdout",
     "output_type": "stream",
     "text": [
      "99\n",
      "12380084\n"
     ]
    }
   ],
   "source": [
    "b = list(map(str, input().split()))\n",
    "b = b[1]\n",
    "for i in range(0,10):\n",
    "    for j in range (100):\n",
    "        c = f\"{i}{i}\"\n",
    "        d = b.count(f\"{c}\")\n",
    "        if b.count(f\"{c}\") == True :\n",
    "           b = b.replace(f\"{c}\",\"\")\n",
    "        elif d == 2  :\n",
    "           b = b.replace(f\"{c}\",\"\")\n",
    "        else: \n",
    "            break\n",
    "        print(f\"{c}\")\n",
    "        print(b)"
   ]
  },
  {
   "cell_type": "code",
   "execution_count": 459,
   "metadata": {},
   "outputs": [
    {
     "name": "stdout",
     "output_type": "stream",
     "text": [
      "0\n",
      "411123899844\n",
      "8\n",
      "4111239944\n",
      "9\n",
      "41112344\n"
     ]
    }
   ],
   "source": [
    "b = list(map(str, input().split()))\n",
    "b = b[1]\n",
    "for i in range (0, 10):\n",
    "    c = f\"{i}\"\n",
    "    d = b.count(f\"{c}\")\n",
    "    if d == 2 or d == 4 or d == 6 or d == 8 or d == 10 :\n",
    "       b = b.replace(f\"{c}\",\"\")\n",
    "       print(f\"{c}\")\n",
    "       print(b)\n",
    "    "
   ]
  },
  {
   "cell_type": "code",
   "execution_count": 502,
   "metadata": {},
   "outputs": [],
   "source": [
    "b = list(map(str, input().split()))"
   ]
  },
  {
   "cell_type": "code",
   "execution_count": 503,
   "metadata": {},
   "outputs": [],
   "source": [
    "b = b[1]"
   ]
  },
  {
   "cell_type": "code",
   "execution_count": 504,
   "metadata": {},
   "outputs": [
    {
     "data": {
      "text/plain": [
       "'12380990844100112380990844'"
      ]
     },
     "execution_count": 504,
     "metadata": {},
     "output_type": "execute_result"
    }
   ],
   "source": [
    "b."
   ]
  },
  {
   "cell_type": "code",
   "execution_count": 448,
   "metadata": {},
   "outputs": [
    {
     "data": {
      "text/plain": [
       "1"
      ]
     },
     "execution_count": 448,
     "metadata": {},
     "output_type": "execute_result"
    }
   ],
   "source": [
    "b.count(\"00\")"
   ]
  },
  {
   "cell_type": "code",
   "execution_count": 443,
   "metadata": {},
   "outputs": [
    {
     "data": {
      "text/plain": [
       "1"
      ]
     },
     "execution_count": 443,
     "metadata": {},
     "output_type": "execute_result"
    }
   ],
   "source": [
    "b.count(\"11\")"
   ]
  },
  {
   "cell_type": "code",
   "execution_count": 420,
   "metadata": {},
   "outputs": [
    {
     "data": {
      "text/plain": [
       "'411123899844'"
      ]
     },
     "execution_count": 420,
     "metadata": {},
     "output_type": "execute_result"
    }
   ],
   "source": [
    "b[1].replace(\"0\",\"\")"
   ]
  },
  {
   "cell_type": "code",
   "execution_count": 410,
   "metadata": {},
   "outputs": [],
   "source": [
    "a = a[1]"
   ]
  },
  {
   "cell_type": "code",
   "execution_count": 411,
   "metadata": {},
   "outputs": [
    {
     "data": {
      "text/plain": [
       "'1'"
      ]
     },
     "execution_count": 411,
     "metadata": {},
     "output_type": "execute_result"
    }
   ],
   "source": []
  },
  {
   "cell_type": "code",
   "execution_count": 412,
   "metadata": {},
   "outputs": [],
   "source": [
    "a = str(a)"
   ]
  },
  {
   "cell_type": "code",
   "execution_count": 404,
   "metadata": {},
   "outputs": [
    {
     "data": {
      "text/plain": [
       "'4'"
      ]
     },
     "execution_count": 404,
     "metadata": {},
     "output_type": "execute_result"
    }
   ],
   "source": [
    "a[0]"
   ]
  },
  {
   "cell_type": "code",
   "execution_count": 402,
   "metadata": {},
   "outputs": [
    {
     "data": {
      "text/plain": [
       "4"
      ]
     },
     "execution_count": 402,
     "metadata": {},
     "output_type": "execute_result"
    }
   ],
   "source": [
    "a.count(\"0\")"
   ]
  },
  {
   "cell_type": "code",
   "execution_count": 399,
   "metadata": {},
   "outputs": [
    {
     "data": {
      "text/plain": [
       "'4100112380990844'"
      ]
     },
     "execution_count": 399,
     "metadata": {},
     "output_type": "execute_result"
    }
   ],
   "source": [
    "a.count "
   ]
  },
  {
   "cell_type": "code",
   "execution_count": 355,
   "metadata": {},
   "outputs": [
    {
     "data": {
      "text/plain": [
       "{'10', '1238099084'}"
      ]
     },
     "execution_count": 355,
     "metadata": {},
     "output_type": "execute_result"
    }
   ],
   "source": [
    "set(a)"
   ]
  },
  {
   "cell_type": "code",
   "execution_count": 351,
   "metadata": {},
   "outputs": [],
   "source": [
    "a = a[1]"
   ]
  },
  {
   "cell_type": "code",
   "execution_count": null,
   "metadata": {},
   "outputs": [],
   "source": [
    "a.sort()"
   ]
  },
  {
   "cell_type": "code",
   "execution_count": 348,
   "metadata": {},
   "outputs": [
    {
     "data": {
      "text/plain": [
       "['', '084', '12380']"
      ]
     },
     "execution_count": 348,
     "metadata": {},
     "output_type": "execute_result"
    }
   ],
   "source": [
    "a"
   ]
  },
  {
   "cell_type": "code",
   "execution_count": 331,
   "metadata": {},
   "outputs": [
    {
     "data": {
      "text/plain": [
       "['1238', '99', '84']"
      ]
     },
     "execution_count": 331,
     "metadata": {},
     "output_type": "execute_result"
    }
   ],
   "source": []
  },
  {
   "cell_type": "code",
   "execution_count": 316,
   "metadata": {},
   "outputs": [
    {
     "data": {
      "text/plain": [
       "2"
      ]
     },
     "execution_count": 316,
     "metadata": {},
     "output_type": "execute_result"
    }
   ],
   "source": [
    "a.count(\"0\")"
   ]
  },
  {
   "cell_type": "code",
   "execution_count": null,
   "metadata": {},
   "outputs": [],
   "source": [
    "a."
   ]
  },
  {
   "cell_type": "code",
   "execution_count": null,
   "metadata": {},
   "outputs": [],
   "source": []
  }
 ],
 "metadata": {
  "kernelspec": {
   "display_name": "ml",
   "language": "python",
   "name": "python3"
  },
  "language_info": {
   "codemirror_mode": {
    "name": "ipython",
    "version": 3
   },
   "file_extension": ".py",
   "mimetype": "text/x-python",
   "name": "python",
   "nbconvert_exporter": "python",
   "pygments_lexer": "ipython3",
   "version": "3.10.6 (main, Nov  2 2022, 18:53:38) [GCC 11.3.0]"
  },
  "orig_nbformat": 4,
  "vscode": {
   "interpreter": {
    "hash": "c8aae155f827574366a4383a9f1891653118f94e22d7f1616b84a49a297bbb0b"
   }
  }
 },
 "nbformat": 4,
 "nbformat_minor": 2
}
