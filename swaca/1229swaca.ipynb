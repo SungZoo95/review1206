{
 "cells": [
  {
   "cell_type": "code",
   "execution_count": 3,
   "metadata": {},
   "outputs": [
    {
     "name": "stdout",
     "output_type": "stream",
     "text": [
      "1\n",
      "2\n",
      "3\n",
      "4\n",
      "5\n",
      "6\n",
      "7\n",
      "8\n",
      "9\n",
      "10\n"
     ]
    }
   ],
   "source": [
    "# 2007\n",
    "T = int(input()) \n",
    "for test_case in range(1, T + 1):\n",
    "    sen = input()\n",
    "    wd = len(sen)\n",
    "    ma = \"\"\n",
    "    for i in range(wd):\n",
    "        if ma.count(sen[i]) == 0 :\n",
    "            ma = ma + sen[i]\n",
    "        elif ma.count(sen[i]) <= 3 and ma[:2] != sen[i:i+2] :\n",
    "            ma = ma + sen[i]   \n",
    "        else : \n",
    "            break\n",
    "    print(f\"#{test_case} {len(ma)}\")"
   ]
  },
  {
   "cell_type": "code",
   "execution_count": 133,
   "metadata": {},
   "outputs": [
    {
     "name": "stdout",
     "output_type": "stream",
     "text": [
      "#1 5\n",
      "#2 7\n",
      "#3 3\n",
      "#4 3\n",
      "#5 4\n",
      "#6 5\n",
      "#7 8\n",
      "#8 5\n",
      "#9 4\n",
      "#10 3\n"
     ]
    }
   ],
   "source": [
    "T = int(input()) \n",
    "for test_case in range(1, T + 1):\n",
    "    sen = input()\n",
    "    wd = len(sen)\n",
    "    ma = \"\"\n",
    "    for i in range(wd):\n",
    "        if ma.count(sen[i]) == 0 :\n",
    "            ma = ma + sen[i]\n",
    "        elif ma[0] == sen[i] and ma[1] != sen[i+1] :\n",
    "            ma = ma + sen[i] \n",
    "        else : \n",
    "            break\n",
    "    print(f\"#{test_case} {len(ma)}\")\n",
    "   "
   ]
  },
  {
   "cell_type": "code",
   "execution_count": 162,
   "metadata": {},
   "outputs": [
    {
     "name": "stdout",
     "output_type": "stream",
     "text": [
      "#1 5\n",
      "KOREA\n",
      "#2 7\n",
      "SAMSUNG\n",
      "#3 6\n",
      "GALAXY\n",
      "#4 3\n",
      "EXO\n",
      "#5 4\n",
      "B1A4\n",
      "#6 5\n",
      "APINK\n",
      "#7 9\n",
      "BLACKPINK\n",
      "#8 5\n",
      "TWICE\n",
      "#9 9\n",
      "REDVELVET\n",
      "#10 3\n",
      "ABC\n"
     ]
    }
   ],
   "source": [
    "#2\n",
    "T = int(input()) \n",
    "for test_case in range(1, T + 1):\n",
    "    sen = input()\n",
    "    wd = len(sen)\n",
    "    ma = \"\"\n",
    "    for i in range(wd):\n",
    "        if ma.count(sen[i]) == 0 :\n",
    "            ma = ma + sen[i]\n",
    "        elif ma.count(sen[i]) <= 3 and ma[:2] != sen[i:i+2] :\n",
    "            ma = ma + sen[i]   \n",
    "        else : \n",
    "            break\n",
    "    print(f\"#{test_case} {len(ma)}\")\n"
   ]
  },
  {
   "cell_type": "code",
   "execution_count": 130,
   "metadata": {},
   "outputs": [
    {
     "name": "stdout",
     "output_type": "stream",
     "text": [
      "6\n",
      "GALAXY\n",
      "6\n",
      "GALAXY\n",
      "6\n",
      "GALAXY\n",
      "6\n",
      "GALAXY\n",
      "6\n",
      "GALAXY\n",
      "6\n",
      "GALAXY\n",
      "6\n",
      "GALAXY\n",
      "6\n",
      "GALAXY\n",
      "6\n",
      "GALAXY\n",
      "6\n",
      "GALAXY\n"
     ]
    }
   ],
   "source": [
    "for i in range(1, 11):\n",
    "    sen = \"GALAXYGALAXYGALAXYGALAXYGALAXY\"\n",
    "    wd = len(sen)\n",
    "    a = \"\"\n",
    "    for j in range(wd):\n",
    "        if a.count(sen[j]) == 0 :\n",
    "            a = a + sen[j]\n",
    "        elif a[0] == sen[j] and a[1] != sen[j+1] :\n",
    "            a = a + sen[j]\n",
    "        elif a[1] == sen[j] and a[2] != sen[j+1] :\n",
    "            a = a + sen[j]    \n",
    "        else :\n",
    "            break \n",
    "    print(len(a))\n",
    "    print(a)\n",
    "    "
   ]
  },
  {
   "cell_type": "code",
   "execution_count": 113,
   "metadata": {},
   "outputs": [
    {
     "name": "stdout",
     "output_type": "stream",
     "text": [
      "#1 3\n",
      "#2 3\n"
     ]
    }
   ],
   "source": [
    "T = int(input())\n",
    "for test_case in range(1, T + 1):\n",
    "    words = input()\n",
    "    words = words.split(\" \")\n",
    "    words = list(words)\n",
    "    words_len = words[0].split(words[1])\n",
    "    words_len = \"\".join(words_len)\n",
    "    print(f\"#{test_case}\", (len(words_len)+words[0].count(words[1])))\n"
   ]
  },
  {
   "cell_type": "code",
   "execution_count": null,
   "metadata": {},
   "outputs": [],
   "source": [
    "c = \"sam\"\n"
   ]
  },
  {
   "cell_type": "code",
   "execution_count": 96,
   "metadata": {},
   "outputs": [],
   "source": [
    "b =\"\""
   ]
  },
  {
   "cell_type": "code",
   "execution_count": 97,
   "metadata": {},
   "outputs": [
    {
     "ename": "IndexError",
     "evalue": "string index out of range",
     "output_type": "error",
     "traceback": [
      "\u001b[0;31m---------------------------------------------------------------------------\u001b[0m",
      "\u001b[0;31mIndexError\u001b[0m                                Traceback (most recent call last)",
      "Cell \u001b[0;32mIn[97], line 1\u001b[0m\n\u001b[0;32m----> 1\u001b[0m b[\u001b[39m0\u001b[39;49m]\n",
      "\u001b[0;31mIndexError\u001b[0m: string index out of range"
     ]
    }
   ],
   "source": [
    "b[0]"
   ]
  },
  {
   "cell_type": "code",
   "execution_count": 80,
   "metadata": {},
   "outputs": [
    {
     "data": {
      "text/plain": [
       "4"
      ]
     },
     "execution_count": 80,
     "metadata": {},
     "output_type": "execute_result"
    }
   ],
   "source": [
    "sen.count(\"SAM\")"
   ]
  },
  {
   "cell_type": "code",
   "execution_count": 25,
   "metadata": {},
   "outputs": [
    {
     "data": {
      "text/plain": [
       "'K'"
      ]
     },
     "execution_count": 25,
     "metadata": {},
     "output_type": "execute_result"
    }
   ],
   "source": [
    "j"
   ]
  },
  {
   "cell_type": "code",
   "execution_count": 70,
   "metadata": {},
   "outputs": [],
   "source": [
    "se = input()"
   ]
  },
  {
   "cell_type": "code",
   "execution_count": 87,
   "metadata": {},
   "outputs": [
    {
     "data": {
      "text/plain": [
       "'KOREAKOREAKOREAKOREAKOREAKOREA'"
      ]
     },
     "execution_count": 87,
     "metadata": {},
     "output_type": "execute_result"
    }
   ],
   "source": [
    "se"
   ]
  },
  {
   "cell_type": "code",
   "execution_count": 89,
   "metadata": {},
   "outputs": [
    {
     "data": {
      "text/plain": [
       "'KOREA'"
      ]
     },
     "execution_count": 89,
     "metadata": {},
     "output_type": "execute_result"
    }
   ],
   "source": [
    "se[0:5]"
   ]
  },
  {
   "cell_type": "code",
   "execution_count": 73,
   "metadata": {},
   "outputs": [
    {
     "data": {
      "text/plain": [
       "str"
      ]
     },
     "execution_count": 73,
     "metadata": {},
     "output_type": "execute_result"
    }
   ],
   "source": [
    "type(se)"
   ]
  },
  {
   "cell_type": "code",
   "execution_count": 108,
   "metadata": {},
   "outputs": [],
   "source": [
    "a = \"\"\n",
    "sen = \"KOREAKOREAKOREAKOREAKOREAKOREA\"\n",
    "a = sen[0] +sen[1]\n"
   ]
  },
  {
   "cell_type": "code",
   "execution_count": 107,
   "metadata": {},
   "outputs": [
    {
     "name": "stdout",
     "output_type": "stream",
     "text": [
      "KOREAKOREAKOREAKOREAKOREAKOREA\n"
     ]
    }
   ],
   "source": [
    "print(sen)"
   ]
  },
  {
   "cell_type": "code",
   "execution_count": 145,
   "metadata": {},
   "outputs": [],
   "source": [
    "ss = \"REDVELVETREDVELVETREDVELVETRED\"\n",
    "s_1=\"REDVELVETR\"\n",
    "s_2= \"REDVELVET\"\n"
   ]
  },
  {
   "cell_type": "code",
   "execution_count": 150,
   "metadata": {},
   "outputs": [
    {
     "data": {
      "text/plain": [
       "True"
      ]
     },
     "execution_count": 150,
     "metadata": {},
     "output_type": "execute_result"
    }
   ],
   "source": [
    "s_1[-1] == s_1[0]"
   ]
  },
  {
   "cell_type": "code",
   "execution_count": 151,
   "metadata": {},
   "outputs": [
    {
     "data": {
      "text/plain": [
       "False"
      ]
     },
     "execution_count": 151,
     "metadata": {},
     "output_type": "execute_result"
    }
   ],
   "source": [
    "s_2[-1] == s_1[0]"
   ]
  },
  {
   "cell_type": "code",
   "execution_count": 138,
   "metadata": {},
   "outputs": [],
   "source": [
    "s_1_1 = s_1.split(\"REDVELVET\")"
   ]
  },
  {
   "cell_type": "code",
   "execution_count": 141,
   "metadata": {},
   "outputs": [
    {
     "data": {
      "text/plain": [
       "True"
      ]
     },
     "execution_count": 141,
     "metadata": {},
     "output_type": "execute_result"
    }
   ],
   "source": [
    "\"R\" in s_1_1"
   ]
  },
  {
   "cell_type": "code",
   "execution_count": 143,
   "metadata": {},
   "outputs": [],
   "source": [
    " s_2_2 = s_2.split(\"REDVELVE\")"
   ]
  },
  {
   "cell_type": "code",
   "execution_count": 144,
   "metadata": {},
   "outputs": [
    {
     "data": {
      "text/plain": [
       "True"
      ]
     },
     "execution_count": 144,
     "metadata": {},
     "output_type": "execute_result"
    }
   ],
   "source": [
    "\"T\" in s_2_2"
   ]
  },
  {
   "cell_type": "code",
   "execution_count": 57,
   "metadata": {},
   "outputs": [
    {
     "data": {
      "text/plain": [
       "1"
      ]
     },
     "execution_count": 57,
     "metadata": {},
     "output_type": "execute_result"
    }
   ],
   "source": [
    "a.count(\"K\")"
   ]
  },
  {
   "cell_type": "code",
   "execution_count": 49,
   "metadata": {},
   "outputs": [
    {
     "data": {
      "text/plain": [
       "['KOREAK', 'KOREAK']"
      ]
     },
     "execution_count": 49,
     "metadata": {},
     "output_type": "execute_result"
    }
   ],
   "source": [
    "a"
   ]
  },
  {
   "cell_type": "code",
   "execution_count": 56,
   "metadata": {},
   "outputs": [
    {
     "data": {
      "text/plain": [
       "2"
      ]
     },
     "execution_count": 56,
     "metadata": {},
     "output_type": "execute_result"
    }
   ],
   "source": [
    "len(a)"
   ]
  },
  {
   "cell_type": "code",
   "execution_count": 40,
   "metadata": {},
   "outputs": [
    {
     "name": "stdout",
     "output_type": "stream",
     "text": [
      "['K']\n"
     ]
    }
   ],
   "source": [
    "print(a)"
   ]
  },
  {
   "cell_type": "code",
   "execution_count": null,
   "metadata": {},
   "outputs": [],
   "source": []
  }
 ],
 "metadata": {
  "kernelspec": {
   "display_name": "Python 3",
   "language": "python",
   "name": "python3"
  },
  "language_info": {
   "codemirror_mode": {
    "name": "ipython",
    "version": 3
   },
   "file_extension": ".py",
   "mimetype": "text/x-python",
   "name": "python",
   "nbconvert_exporter": "python",
   "pygments_lexer": "ipython3",
   "version": "3.10.6"
  },
  "orig_nbformat": 4,
  "vscode": {
   "interpreter": {
    "hash": "916dbcbb3f70747c44a77c7bcd40155683ae19c65e1c03b4aa3499c5328201f1"
   }
  }
 },
 "nbformat": 4,
 "nbformat_minor": 2
}
