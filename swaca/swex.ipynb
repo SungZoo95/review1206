{
 "cells": [
  {
   "cell_type": "code",
   "execution_count": null,
   "metadata": {},
   "outputs": [],
   "source": [
    "#1206번 문제 풀이 "
   ]
  },
  {
   "cell_type": "code",
   "execution_count": 269,
   "metadata": {},
   "outputs": [
    {
     "name": "stdout",
     "output_type": "stream",
     "text": [
      "11 8 102\n",
      "49 53\n",
      "37 15 5\n",
      "21\n",
      "28\n",
      "32\n",
      "88\n",
      "34 52 58\n",
      "29 32 37 "
     ]
    }
   ],
   "source": [
    "T = int(input())\n",
    "s = map(int, input().split())\n",
    "s = list(s)\n",
    "for i in range (2, T-2):\n",
    "    if s[i-2] >= s[i-1] and s[i+1] >= s[i+2] : \n",
    "        if s[i] - s[i-2] > 0 and s[i] - s[i+1] > 0 :\n",
    "            if s[i] - s[i-2] > s[i] - s[i+1] :\n",
    "                print(s[i]- s[i+1], end=\" \")\n",
    "            else :\n",
    "                print(s[i]-s[i-2], end=\" \")\n",
    "    elif s[i-2] >= s[i-1] and s[i+1] < s[i+2] :\n",
    "        if s[i] - s[i-2] > 0 and s[i] - s[i+2] > 0 :\n",
    "            if s[i] - s[i-2] > s[i] - s[i+2] :\n",
    "                print(s[i]- s[i+2], end=\" \") \n",
    "            else :\n",
    "                print(s[i] - s[i-2], end=\" \")  \n",
    "    elif s[i-2] < s[i-1] and s[i+1] >= s[i+2] : \n",
    "        if s[i] - s[i-1] > 0 and s[i] - s[i+1] > 0 :\n",
    "            if s[i] - s[i-1] > s[i] - s[i+1] :\n",
    "                print(s[i] - s[i+1])\n",
    "            else : \n",
    "                print(s[i] - s[i-1])\n",
    "    elif s[i-2] < s[i-1] and s[i+1] < s[i+2] :\n",
    "        if s[i] - s[i-1] >0 and s[i] - s[i+2] > 0 :\n",
    "            if s[i] - s[i-1] > s[i] - s[i+2] :\n",
    "                print(s[i] - s[i+2])\n",
    "            else : \n",
    "                print(s[i] - s[i-1])"
   ]
  },
  {
   "cell_type": "code",
   "execution_count": 289,
   "metadata": {},
   "outputs": [
    {
     "name": "stdout",
     "output_type": "stream",
     "text": [
      "0\n"
     ]
    }
   ],
   "source": [
    "T = int(input())\n",
    "s = map(int, input().split())\n",
    "s = list(s)\n",
    "for i in range (2, T-2):\n",
    "    sum_i = 0\n",
    "    if s[i-2] >= s[i-1] and s[i+1] >= s[i+2] : \n",
    "        if s[i] - s[i-2] > 0 and s[i] - s[i+1] > 0 :\n",
    "            if s[i] - s[i-2] > s[i] - s[i+1] :\n",
    "                k = (s[i]- s[i+1])\n",
    "            else :\n",
    "                k = (s[i]-s[i-2])               \n",
    "    elif s[i-2] >= s[i-1] and s[i+1] < s[i+2] :\n",
    "        if s[i] - s[i-2] > 0 and s[i] - s[i+2] > 0 :\n",
    "            if s[i] - s[i-2] > s[i] - s[i+2] :\n",
    "                k = (s[i]- s[i+2])\n",
    "            else :\n",
    "                k = (s[i] - s[i-2])\n",
    "    elif s[i-2] < s[i-1] and s[i+1] >= s[i+2] : \n",
    "        if s[i] - s[i-1] > 0 and s[i] - s[i+1] > 0 :\n",
    "            if s[i] - s[i-1] > s[i] - s[i+1] :\n",
    "                k = (s[i] - s[i+1])\n",
    "            else : \n",
    "                k = (s[i] - s[i-1])\n",
    "    elif s[i-2] < s[i-1] and s[i+1] < s[i+2] :\n",
    "        if s[i] - s[i-1] >0 and s[i] - s[i+2] > 0 :\n",
    "            if s[i] - s[i-1] > s[i] - s[i+2] :\n",
    "                k = (s[i] - s[i+2])\n",
    "            else : \n",
    "                k = (s[i] - s[i-1])\n",
    "    elif k : \n",
    "        sum_i += k\n",
    "print(sum_i)\n",
    "     "
   ]
  },
  {
   "cell_type": "code",
   "execution_count": 286,
   "metadata": {},
   "outputs": [
    {
     "data": {
      "text/plain": [
       "0"
      ]
     },
     "execution_count": 286,
     "metadata": {},
     "output_type": "execute_result"
    }
   ],
   "source": [
    "sum_i"
   ]
  },
  {
   "cell_type": "code",
   "execution_count": 279,
   "metadata": {},
   "outputs": [
    {
     "data": {
      "text/plain": [
       "int"
      ]
     },
     "execution_count": 279,
     "metadata": {},
     "output_type": "execute_result"
    }
   ],
   "source": [
    "type(sum_i)"
   ]
  },
  {
   "cell_type": "code",
   "execution_count": 261,
   "metadata": {},
   "outputs": [
    {
     "ename": "AttributeError",
     "evalue": "'tuple' object has no attribute 'append'",
     "output_type": "error",
     "traceback": [
      "\u001b[0;31m---------------------------------------------------------------------------\u001b[0m",
      "\u001b[0;31mAttributeError\u001b[0m                            Traceback (most recent call last)",
      "Cell \u001b[0;32mIn[261], line 4\u001b[0m\n\u001b[1;32m      2\u001b[0m a \u001b[39m=\u001b[39m \u001b[39m2\u001b[39m\n\u001b[1;32m      3\u001b[0m b \u001b[39m=\u001b[39m \u001b[39m3\u001b[39m \n\u001b[0;32m----> 4\u001b[0m c\u001b[39m.\u001b[39;49mappend(a)\n\u001b[1;32m      5\u001b[0m c\u001b[39m.\u001b[39mappend(b)\n\u001b[1;32m      6\u001b[0m c\n",
      "\u001b[0;31mAttributeError\u001b[0m: 'tuple' object has no attribute 'append'"
     ]
    }
   ],
   "source": [
    "a = 5\n",
    "b = 3\n"
   ]
  },
  {
   "cell_type": "code",
   "execution_count": 237,
   "metadata": {},
   "outputs": [
    {
     "data": {
      "text/plain": [
       "False"
      ]
     },
     "execution_count": 237,
     "metadata": {},
     "output_type": "execute_result"
    }
   ],
   "source": [
    "225\n",
    "73\n",
    "241\n",
    "179\n",
    "219\n",
    "62"
   ]
  },
  {
   "cell_type": "code",
   "execution_count": 38,
   "metadata": {},
   "outputs": [
    {
     "ename": "TypeError",
     "evalue": "count() takes at least 1 argument (0 given)",
     "output_type": "error",
     "traceback": [
      "\u001b[0;31m---------------------------------------------------------------------------\u001b[0m",
      "\u001b[0;31mTypeError\u001b[0m                                 Traceback (most recent call last)",
      "Cell \u001b[0;32mIn[38], line 2\u001b[0m\n\u001b[1;32m      1\u001b[0m a \u001b[39m=\u001b[39m \u001b[39m\"\u001b[39m\u001b[39mbanana\u001b[39m\u001b[39m\"\u001b[39m\n\u001b[0;32m----> 2\u001b[0m a\u001b[39m.\u001b[39;49mcount()\n",
      "\u001b[0;31mTypeError\u001b[0m: count() takes at least 1 argument (0 given)"
     ]
    }
   ],
   "source": [
    "a = \"banana\"\n",
    "a.count()"
   ]
  },
  {
   "cell_type": "code",
   "execution_count": 41,
   "metadata": {},
   "outputs": [
    {
     "data": {
      "text/plain": [
       "2"
      ]
     },
     "execution_count": 41,
     "metadata": {},
     "output_type": "execute_result"
    }
   ],
   "source": [
    "a = \"banana\" \n",
    "b = \"bana\"\n",
    "a = a.split(b)\n",
    "len(a)"
   ]
  },
  {
   "cell_type": "code",
   "execution_count": 74,
   "metadata": {},
   "outputs": [
    {
     "data": {
      "text/plain": [
       "['banana', 'bana']"
      ]
     },
     "execution_count": 74,
     "metadata": {},
     "output_type": "execute_result"
    }
   ],
   "source": [
    "a = str(\"banana bana\")\n",
    "a  = a.split(\" \")\n",
    "a"
   ]
  },
  {
   "cell_type": "code",
   "execution_count": 75,
   "metadata": {},
   "outputs": [
    {
     "ename": "AttributeError",
     "evalue": "'list' object has no attribute 'find'",
     "output_type": "error",
     "traceback": [
      "\u001b[0;31m---------------------------------------------------------------------------\u001b[0m",
      "\u001b[0;31mAttributeError\u001b[0m                            Traceback (most recent call last)",
      "Cell \u001b[0;32mIn[75], line 1\u001b[0m\n\u001b[0;32m----> 1\u001b[0m a\u001b[39m.\u001b[39;49mfind(b)\n",
      "\u001b[0;31mAttributeError\u001b[0m: 'list' object has no attribute 'find'"
     ]
    }
   ],
   "source": [
    "a.find(b)"
   ]
  },
  {
   "cell_type": "code",
   "execution_count": 61,
   "metadata": {},
   "outputs": [
    {
     "data": {
      "text/plain": [
       "'bana'"
      ]
     },
     "execution_count": 61,
     "metadata": {},
     "output_type": "execute_result"
    }
   ],
   "source": [
    "a[1]"
   ]
  },
  {
   "cell_type": "code",
   "execution_count": 113,
   "metadata": {},
   "outputs": [
    {
     "data": {
      "text/plain": [
       "1"
      ]
     },
     "execution_count": 113,
     "metadata": {},
     "output_type": "execute_result"
    }
   ],
   "source": [
    "a= \"banana\"\n",
    "b= \"bana\"\n",
    "a.count(b)"
   ]
  },
  {
   "cell_type": "code",
   "execution_count": 125,
   "metadata": {},
   "outputs": [
    {
     "name": "stdout",
     "output_type": "stream",
     "text": [
      "#2 5\n"
     ]
    }
   ],
   "source": [
    "T = int(input())\n",
    "tes = \"asakusa sa\"\n",
    "tes =tes.split(\" \")\n",
    "tes = list(tes)\n",
    "test = tes[0].split(tes[1])\n",
    "print(f\"#{T}\",len(test)+tes[0].count(tes[1]))\n"
   ]
  },
  {
   "cell_type": "code",
   "execution_count": 132,
   "metadata": {},
   "outputs": [
    {
     "name": "stdout",
     "output_type": "stream",
     "text": [
      "#2 3\n"
     ]
    }
   ],
   "source": [
    "T= int(input())\n",
    "words = \"banana bana\"\n",
    "words = words.split(\" \")\n",
    "words = list(words)\n",
    "words_len = words[0].split(words[1])\n",
    "print(f\"#{test_case}\", (len(words_len)+words[0].count(words[1])))"
   ]
  },
  {
   "cell_type": "code",
   "execution_count": 136,
   "metadata": {},
   "outputs": [
    {
     "data": {
      "text/plain": [
       "1"
      ]
     },
     "execution_count": 136,
     "metadata": {},
     "output_type": "execute_result"
    }
   ],
   "source": [
    "words[0].count(words[1])"
   ]
  },
  {
   "cell_type": "code",
   "execution_count": 200,
   "metadata": {},
   "outputs": [
    {
     "name": "stdout",
     "output_type": "stream",
     "text": [
      "18\n"
     ]
    }
   ],
   "source": [
    "words = \"thereistreeishereisme is\"\n",
    "words = words.split(\" \")\n",
    "words = list(words)\n",
    "words_len = words[0].split(words[1])\n",
    "words_len = \"\".join(words_len)\n",
    "print(len(words_len)+words[0].count(words[1]))"
   ]
  },
  {
   "cell_type": "code",
   "execution_count": 201,
   "metadata": {},
   "outputs": [
    {
     "data": {
      "text/plain": [
       "'theretreehereme'"
      ]
     },
     "execution_count": 201,
     "metadata": {},
     "output_type": "execute_result"
    }
   ],
   "source": [
    "words_len "
   ]
  },
  {
   "cell_type": "code",
   "execution_count": 170,
   "metadata": {},
   "outputs": [
    {
     "data": {
      "text/plain": [
       "9"
      ]
     },
     "execution_count": 170,
     "metadata": {},
     "output_type": "execute_result"
    }
   ],
   "source": [
    "len(str(words_len))"
   ]
  },
  {
   "cell_type": "code",
   "execution_count": 193,
   "metadata": {},
   "outputs": [
    {
     "data": {
      "text/plain": [
       "1"
      ]
     },
     "execution_count": 193,
     "metadata": {},
     "output_type": "execute_result"
    }
   ],
   "source": [
    "a = []\n",
    "a.append(words_len)\n",
    "len(a)"
   ]
  },
  {
   "cell_type": "code",
   "execution_count": 195,
   "metadata": {},
   "outputs": [],
   "source": [
    "a = \"\".join(words_len)"
   ]
  },
  {
   "cell_type": "code",
   "execution_count": 197,
   "metadata": {},
   "outputs": [
    {
     "data": {
      "text/plain": [
       "3"
      ]
     },
     "execution_count": 197,
     "metadata": {},
     "output_type": "execute_result"
    }
   ],
   "source": [
    "len(a)"
   ]
  },
  {
   "cell_type": "code",
   "execution_count": 181,
   "metadata": {},
   "outputs": [
    {
     "data": {
      "text/plain": [
       "3"
      ]
     },
     "execution_count": 181,
     "metadata": {},
     "output_type": "execute_result"
    }
   ],
   "source": [
    "len(words_len)"
   ]
  },
  {
   "cell_type": "code",
   "execution_count": 182,
   "metadata": {},
   "outputs": [
    {
     "data": {
      "text/plain": [
       "'a'"
      ]
     },
     "execution_count": 182,
     "metadata": {},
     "output_type": "execute_result"
    }
   ],
   "source": [
    "words_len[0]"
   ]
  },
  {
   "cell_type": "code",
   "execution_count": 190,
   "metadata": {},
   "outputs": [
    {
     "data": {
      "text/plain": [
       "'ku'"
      ]
     },
     "execution_count": 190,
     "metadata": {},
     "output_type": "execute_result"
    }
   ],
   "source": [
    "words_len[0]\n",
    "words_len[1]"
   ]
  },
  {
   "cell_type": "code",
   "execution_count": 188,
   "metadata": {},
   "outputs": [
    {
     "data": {
      "text/plain": [
       "2"
      ]
     },
     "execution_count": 188,
     "metadata": {},
     "output_type": "execute_result"
    }
   ],
   "source": [
    "len(words_len[:-1])"
   ]
  },
  {
   "cell_type": "code",
   "execution_count": 148,
   "metadata": {},
   "outputs": [
    {
     "data": {
      "text/plain": [
       "5"
      ]
     },
     "execution_count": 148,
     "metadata": {},
     "output_type": "execute_result"
    }
   ],
   "source": [
    "len(words_len[1])"
   ]
  },
  {
   "cell_type": "code",
   "execution_count": 204,
   "metadata": {},
   "outputs": [
    {
     "name": "stdout",
     "output_type": "stream",
     "text": [
      "#1 12\n",
      "#2 10\n"
     ]
    }
   ],
   "source": [
    "# 1213번 문제 풀이 \n",
    "T= int(input())\n",
    "for test_case in range(1, T+1):\n",
    "    words = input()\n",
    "    words = words.split(\" \")\n",
    "    words = list(words)\n",
    "    words_len = words[0].split(words[1])\n",
    "    words_len = \"\".join(words_len)\n",
    "    print(f\"#{test_case}\", (len(words_len)+words[0].count(words[1])))"
   ]
  },
  {
   "cell_type": "code",
   "execution_count": 128,
   "metadata": {},
   "outputs": [
    {
     "data": {
      "text/plain": [
       "1"
      ]
     },
     "execution_count": 128,
     "metadata": {},
     "output_type": "execute_result"
    }
   ],
   "source": [
    "len(words_len)"
   ]
  },
  {
   "cell_type": "code",
   "execution_count": 65,
   "metadata": {},
   "outputs": [
    {
     "data": {
      "text/plain": [
       "str"
      ]
     },
     "execution_count": 65,
     "metadata": {},
     "output_type": "execute_result"
    }
   ],
   "source": [
    "a = \"asakusa sa\"\n",
    "a.split(\" \")\n",
    "type(a)"
   ]
  },
  {
   "cell_type": "code",
   "execution_count": 63,
   "metadata": {},
   "outputs": [
    {
     "data": {
      "text/plain": [
       "'s'"
      ]
     },
     "execution_count": 63,
     "metadata": {},
     "output_type": "execute_result"
    }
   ],
   "source": [
    "a[1]"
   ]
  },
  {
   "cell_type": "code",
   "execution_count": 48,
   "metadata": {},
   "outputs": [
    {
     "name": "stdout",
     "output_type": "stream",
     "text": [
      "2 len(words)\n",
      "2 len(words)\n"
     ]
    }
   ],
   "source": [
    "T= int(input())\n",
    "for test_case in range(1, T+1):\n",
    "    words = input()\n",
    "    words.split(\" \")\n",
    "    words[0].split(words[1])\n",
    "    print(f\"{T} len(words)\")\n",
    "    "
   ]
  },
  {
   "cell_type": "code",
   "execution_count": null,
   "metadata": {},
   "outputs": [],
   "source": [
    "T = input()"
   ]
  },
  {
   "cell_type": "code",
   "execution_count": 8,
   "metadata": {},
   "outputs": [
    {
     "data": {
      "text/plain": [
       "2"
      ]
     },
     "execution_count": 8,
     "metadata": {},
     "output_type": "execute_result"
    }
   ],
   "source": [
    "a = \"Starteatingwellwiththeseeighttipsforhealthyeating,whichcoverthebasicsofahealthydietandgoodnutrition.\"\n",
    "a.count(\"ti\")\n",
    "a.count(\"ing\")"
   ]
  },
  {
   "cell_type": "code",
   "execution_count": 13,
   "metadata": {},
   "outputs": [
    {
     "name": "stdout",
     "output_type": "stream",
     "text": [
      "# 1 4\n",
      "# 2 2\n"
     ]
    }
   ],
   "source": [
    "for test_case in range(1, 3):\n",
    "    tc_num = input(int())\n",
    "    tc_str = input()\n",
    "    tc_sen = input()    \n",
    "    output = tc_sen.count(f\"{tc_str}\")\n",
    "    print(f\"#{tc_num} {output}\")  "
   ]
  },
  {
   "cell_type": "code",
   "execution_count": 144,
   "metadata": {},
   "outputs": [
    {
     "name": "stdout",
     "output_type": "stream",
     "text": [
      "#1 2222/02/28\n",
      "#2 -1\n",
      "#3 0101/01/01\n",
      "#4 -1\n",
      "#5 1111/11/11\n"
     ]
    }
   ],
   "source": [
    "t = int(input())\n",
    "number_list = list(map(str,input().split()))\n",
    "for test_case in range(1, t + 1): \n",
    "    if int(number_list[test_case-1][4:6]) < 13 and int(number_list[test_case-1][4:6]) != 0 :\n",
    "        #print(f\"{number_list[test_case-1][0:4]}/{number_list[test_case-1][4:6]}/{number_list[test_case-1][6:8]}\")\n",
    "        if int(number_list[test_case-1][6:8]) <= 28 :\n",
    "          print(f\"#{test_case} {number_list[test_case-1][0:4]}/{number_list[test_case-1][4:6]}/{number_list[test_case-1][6:8]}\")\n",
    "        else : \n",
    "          print(f\"#{test_case} -1\")\n",
    "    else: \n",
    "        print(f\"#{test_case} -1\")\n",
    "    \n",
    "    \n",
    "    #print(number_list[test_case-1])\n",
    "    "
   ]
  },
  {
   "cell_type": "code",
   "execution_count": 123,
   "metadata": {},
   "outputs": [
    {
     "data": {
      "text/plain": [
       "28"
      ]
     },
     "execution_count": 123,
     "metadata": {},
     "output_type": "execute_result"
    }
   ],
   "source": [
    "int(number_list[0][6:8])"
   ]
  },
  {
   "cell_type": "code",
   "execution_count": 106,
   "metadata": {},
   "outputs": [
    {
     "data": {
      "text/plain": [
       "2"
      ]
     },
     "execution_count": 106,
     "metadata": {},
     "output_type": "execute_result"
    }
   ],
   "source": [
    "int(number_list[0][4:6])"
   ]
  },
  {
   "cell_type": "code",
   "execution_count": 93,
   "metadata": {},
   "outputs": [
    {
     "data": {
      "text/plain": [
       "'2222/02/28'"
      ]
     },
     "execution_count": 93,
     "metadata": {},
     "output_type": "execute_result"
    }
   ],
   "source": [
    "f\"{number_list[test_case-1][0:4]}/{number_list[test_case-1][4:6]}/{number_list[test_case-1][6:8]}\""
   ]
  },
  {
   "cell_type": "code",
   "execution_count": 87,
   "metadata": {},
   "outputs": [
    {
     "data": {
      "text/plain": [
       "2"
      ]
     },
     "execution_count": 87,
     "metadata": {},
     "output_type": "execute_result"
    }
   ],
   "source": [
    "int(number_list[0][4:6])"
   ]
  },
  {
   "cell_type": "code",
   "execution_count": 64,
   "metadata": {},
   "outputs": [
    {
     "data": {
      "text/plain": [
       "20150002"
      ]
     },
     "execution_count": 64,
     "metadata": {},
     "output_type": "execute_result"
    }
   ],
   "source": [
    "number_list[0]\n",
    "number_list[1]"
   ]
  },
  {
   "cell_type": "code",
   "execution_count": 57,
   "metadata": {},
   "outputs": [
    {
     "name": "stdout",
     "output_type": "stream",
     "text": [
      "2022/02/28\n",
      "11111111\n"
     ]
    },
    {
     "ename": "ValueError",
     "evalue": "invalid literal for int() with base 10: ''",
     "output_type": "error",
     "traceback": [
      "\u001b[0;31m---------------------------------------------------------------------------\u001b[0m",
      "\u001b[0;31mValueError\u001b[0m                                Traceback (most recent call last)",
      "Cell \u001b[0;32mIn[57], line 5\u001b[0m\n\u001b[1;32m      3\u001b[0m \u001b[39mfor\u001b[39;00m test_case \u001b[39min\u001b[39;00m \u001b[39mrange\u001b[39m(\u001b[39m1\u001b[39m, t \u001b[39m+\u001b[39m \u001b[39m1\u001b[39m): \n\u001b[1;32m      4\u001b[0m    number_list \u001b[39m=\u001b[39m \u001b[39mstr\u001b[39m(number_list[t\u001b[39m-\u001b[39m\u001b[39m1\u001b[39m])\n\u001b[0;32m----> 5\u001b[0m    \u001b[39mif\u001b[39;00m \u001b[39mint\u001b[39;49m(number_list[\u001b[39m4\u001b[39;49m:\u001b[39m6\u001b[39;49m]) \u001b[39m<\u001b[39m \u001b[39m13\u001b[39m :\n\u001b[1;32m      6\u001b[0m       \u001b[39mprint\u001b[39m(\u001b[39m\"\u001b[39m\u001b[39m2022/02/28\u001b[39m\u001b[39m\"\u001b[39m)\n\u001b[1;32m      7\u001b[0m    \u001b[39melif\u001b[39;00m number_list :\n",
      "\u001b[0;31mValueError\u001b[0m: invalid literal for int() with base 10: ''"
     ]
    }
   ],
   "source": [
    "t = int(input())\n",
    "number_list = list(map(int,input().split()))\n",
    "for test_case in range(1, t + 1): \n",
    "   number_list = str(number_list[t-1])\n",
    "   if int(number_list[4:6]) < 13 :\n",
    "      print(\"2022/02/28\")\n",
    "   elif number_list :\n",
    "      print(\"-1\")\n",
    "   \n",
    "   print(number_list)\n",
    "   "
   ]
  },
  {
   "cell_type": "code",
   "execution_count": 44,
   "metadata": {},
   "outputs": [
    {
     "data": {
      "text/plain": [
       "'22220228 20150002 01010101 20140230 11111111'"
      ]
     },
     "execution_count": 44,
     "metadata": {},
     "output_type": "execute_result"
    }
   ],
   "source": [
    "number_list"
   ]
  },
  {
   "cell_type": "code",
   "execution_count": 52,
   "metadata": {},
   "outputs": [
    {
     "data": {
      "text/plain": [
       "list"
      ]
     },
     "execution_count": 52,
     "metadata": {},
     "output_type": "execute_result"
    }
   ],
   "source": [
    "type(number_list)"
   ]
  },
  {
   "cell_type": "code",
   "execution_count": 56,
   "metadata": {},
   "outputs": [
    {
     "ename": "TypeError",
     "evalue": "'int' object is not subscriptable",
     "output_type": "error",
     "traceback": [
      "\u001b[0;31m---------------------------------------------------------------------------\u001b[0m",
      "\u001b[0;31mTypeError\u001b[0m                                 Traceback (most recent call last)",
      "Cell \u001b[0;32mIn[56], line 1\u001b[0m\n\u001b[0;32m----> 1\u001b[0m number_list[\u001b[39m0\u001b[39;49m][\u001b[39m1\u001b[39;49m]\n",
      "\u001b[0;31mTypeError\u001b[0m: 'int' object is not subscriptable"
     ]
    }
   ],
   "source": [
    "number_list[0]"
   ]
  },
  {
   "cell_type": "code",
   "execution_count": 19,
   "metadata": {},
   "outputs": [
    {
     "data": {
      "text/plain": [
       "'02'"
      ]
     },
     "execution_count": 19,
     "metadata": {},
     "output_type": "execute_result"
    }
   ],
   "source": [
    "number_list[4:6]"
   ]
  },
  {
   "cell_type": "code",
   "execution_count": 22,
   "metadata": {},
   "outputs": [
    {
     "ename": "IndexError",
     "evalue": "string index out of range",
     "output_type": "error",
     "traceback": [
      "\u001b[0;31m---------------------------------------------------------------------------\u001b[0m",
      "\u001b[0;31mIndexError\u001b[0m                                Traceback (most recent call last)",
      "Cell \u001b[0;32mIn[22], line 1\u001b[0m\n\u001b[0;32m----> 1\u001b[0m number_list[\u001b[39m0\u001b[39;49m][\u001b[39m1\u001b[39;49m]\n",
      "\u001b[0;31mIndexError\u001b[0m: string index out of range"
     ]
    }
   ],
   "source": [
    "number_list[0][1]"
   ]
  },
  {
   "cell_type": "code",
   "execution_count": 207,
   "metadata": {},
   "outputs": [
    {
     "data": {
      "text/plain": [
       "1"
      ]
     },
     "execution_count": 207,
     "metadata": {},
     "output_type": "execute_result"
    }
   ],
   "source": [
    "int(number_list[2][4:6])"
   ]
  },
  {
   "cell_type": "code",
   "execution_count": 206,
   "metadata": {},
   "outputs": [
    {
     "data": {
      "text/plain": [
       "True"
      ]
     },
     "execution_count": 206,
     "metadata": {},
     "output_type": "execute_result"
    }
   ],
   "source": [
    "int(number_list[2][4:6]) < 13"
   ]
  },
  {
   "cell_type": "code",
   "execution_count": 160,
   "metadata": {},
   "outputs": [],
   "source": [
    "a = \"20150002\""
   ]
  },
  {
   "cell_type": "code",
   "execution_count": null,
   "metadata": {},
   "outputs": [],
   "source": [
    "pd.to_datetime(a)"
   ]
  },
  {
   "cell_type": "code",
   "execution_count": 157,
   "metadata": {},
   "outputs": [
    {
     "name": "stdout",
     "output_type": "stream",
     "text": [
      "[22220228, 20150002, 1010101, 20140230, '1970/00/01']\n"
     ]
    }
   ],
   "source": [
    "def validate_date(number_list):\n",
    "    try:\n",
    "        number_list = pd.to_datetime(number_list) \n",
    "        number_list = datetime.datetime.strftime(number_list, \"%Y/%M/%d\")\n",
    "        return number_list\n",
    "    except : \n",
    "        print(-1) \n",
    "        return False \n",
    "print(validate_date(number_list))"
   ]
  },
  {
   "cell_type": "code",
   "execution_count": 153,
   "metadata": {},
   "outputs": [],
   "source": [
    "a = \"12345\""
   ]
  },
  {
   "cell_type": "code",
   "execution_count": 156,
   "metadata": {},
   "outputs": [
    {
     "data": {
      "text/plain": [
       "['12345']"
      ]
     },
     "execution_count": 156,
     "metadata": {},
     "output_type": "execute_result"
    }
   ],
   "source": []
  },
  {
   "cell_type": "code",
   "execution_count": null,
   "metadata": {},
   "outputs": [],
   "source": []
  },
  {
   "cell_type": "code",
   "execution_count": null,
   "metadata": {},
   "outputs": [],
   "source": []
  },
  {
   "cell_type": "code",
   "execution_count": null,
   "metadata": {},
   "outputs": [],
   "source": []
  },
  {
   "cell_type": "code",
   "execution_count": null,
   "metadata": {},
   "outputs": [],
   "source": []
  },
  {
   "cell_type": "code",
   "execution_count": null,
   "metadata": {},
   "outputs": [],
   "source": []
  },
  {
   "cell_type": "code",
   "execution_count": null,
   "metadata": {},
   "outputs": [],
   "source": []
  },
  {
   "cell_type": "code",
   "execution_count": null,
   "metadata": {},
   "outputs": [],
   "source": []
  }
 ],
 "metadata": {
  "kernelspec": {
   "display_name": "ml",
   "language": "python",
   "name": "python3"
  },
  "language_info": {
   "codemirror_mode": {
    "name": "ipython",
    "version": 3
   },
   "file_extension": ".py",
   "mimetype": "text/x-python",
   "name": "python",
   "nbconvert_exporter": "python",
   "pygments_lexer": "ipython3",
   "version": "3.10.6"
  },
  "orig_nbformat": 4,
  "vscode": {
   "interpreter": {
    "hash": "c8aae155f827574366a4383a9f1891653118f94e22d7f1616b84a49a297bbb0b"
   }
  }
 },
 "nbformat": 4,
 "nbformat_minor": 2
}
