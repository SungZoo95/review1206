{
 "cells": [
  {
   "attachments": {},
   "cell_type": "markdown",
   "metadata": {},
   "source": [
    "# 자료구조 \n",
    "요리의 재료 + 재료를 다듬는법 "
   ]
  },
  {
   "attachments": {},
   "cell_type": "markdown",
   "metadata": {},
   "source": [
    "## 선형 \n",
    "리스트, 스택, 큐"
   ]
  },
  {
   "attachments": {},
   "cell_type": "markdown",
   "metadata": {},
   "source": [
    "### 리스트 "
   ]
  },
  {
   "attachments": {},
   "cell_type": "markdown",
   "metadata": {},
   "source": [
    "#### 선형(순차) 리스트\n",
    "- 배열 \n",
    "- 틈이 없다 \n",
    "- 장점으로는 접근이 빠르다, 공간 절약\n",
    "- 단점으로는 삽입,삭제시 오버헤드 가능성이 크다 (적은 양은 크게 상관이 없다.)\n"
   ]
  },
  {
   "attachments": {},
   "cell_type": "markdown",
   "metadata": {},
   "source": [
    "- 선형 리스트의 기본형 \n",
    "    - 데이터 삽입의 원리 \n",
    "        - 1단계 빈칸 확보 \n",
    "        - 2단계 자리 이동 \n",
    "        - 3단계 데이터 삽입 \n",
    "    - 데이터 삭제의 원리 \n",
    "        - 1단계 데이터 삭제\n",
    "        - 2단계 자리 이동 \n",
    "        - 3단계 빈칸 제 거  "
   ]
  },
  {
   "cell_type": "code",
   "execution_count": 417,
   "metadata": {},
   "outputs": [
    {
     "name": "stdout",
     "output_type": "stream",
     "text": [
      "['다현', '정연', '쯔위', '사나', '지효']\n"
     ]
    }
   ],
   "source": [
    "# 선형 리스트 간단 구현 (리스트 생성)\n",
    "katok = [\"다현\", \"정연\", \"쯔위\", \"사나\", \"지효\"]\n",
    "print(katok)"
   ]
  },
  {
   "cell_type": "code",
   "execution_count": 418,
   "metadata": {},
   "outputs": [
    {
     "name": "stdout",
     "output_type": "stream",
     "text": [
      "['다현', '정연', '쯔위', '사나', '지효', None]\n"
     ]
    }
   ],
   "source": [
    "# 선형 리스트 간단 구현 (데이터 삽입 : 끝에 삽입)\n",
    "katok.append(None)\n",
    "print(katok)"
   ]
  },
  {
   "cell_type": "code",
   "execution_count": 419,
   "metadata": {},
   "outputs": [
    {
     "name": "stdout",
     "output_type": "stream",
     "text": [
      "['다현', '정연', '쯔위', '사나', '지효', '모모']\n"
     ]
    }
   ],
   "source": [
    "katok[5] = \"모모\"\n",
    "print(katok)"
   ]
  },
  {
   "cell_type": "code",
   "execution_count": 420,
   "metadata": {},
   "outputs": [
    {
     "name": "stdout",
     "output_type": "stream",
     "text": [
      "['다현', '정연', '쯔위', '사나', '지효', '모모', None]\n"
     ]
    }
   ],
   "source": [
    "# 선형 리스트 간단 구현 (데이터 삽입 : 중간에 삽입)\n",
    "katok.append(None)\n",
    "print(katok)"
   ]
  },
  {
   "cell_type": "code",
   "execution_count": 421,
   "metadata": {},
   "outputs": [
    {
     "name": "stdout",
     "output_type": "stream",
     "text": [
      "['다현', '정연', '쯔위', '미나', '사나', '지효', '모모']\n"
     ]
    }
   ],
   "source": [
    "katok[6] = katok[5]\n",
    "katok[5] = None\n",
    "katok[5] = katok[4] \n",
    "katok[4] = None \n",
    "katok[4] = katok[3]\n",
    "katok[3] = None\n",
    "katok[3] = \"미나\"\n",
    "print(katok)"
   ]
  },
  {
   "cell_type": "code",
   "execution_count": 422,
   "metadata": {},
   "outputs": [
    {
     "name": "stdout",
     "output_type": "stream",
     "text": [
      "['다현', '정연', '쯔위', '미나', '지효', '모모', None]\n"
     ]
    }
   ],
   "source": [
    "# 선형 리스트 간단 구현 (데이터 삭제 : 중간 삭제)\n",
    "katok[4] = None\n",
    "katok[4] = katok[5]\n",
    "katok[5] = None\n",
    "katok[5] = katok[6]\n",
    "katok[6] = None\n",
    "print(katok)"
   ]
  },
  {
   "cell_type": "code",
   "execution_count": 423,
   "metadata": {},
   "outputs": [
    {
     "name": "stdout",
     "output_type": "stream",
     "text": [
      "['다현', '정연', '쯔위', '미나', '지효', '모모']\n"
     ]
    }
   ],
   "source": [
    "del(katok[6])\n",
    "print(katok) "
   ]
  },
  {
   "cell_type": "code",
   "execution_count": 424,
   "metadata": {},
   "outputs": [],
   "source": [
    "# 선형 리스트 일반 구현 (리스트 생성 : 기본 틀 생성)\n",
    "#normal = [] \n",
    "#\n",
    "#normal.append(None)\n",
    "#lens = len(normal)\n",
    "#normal[lens-1] = \"다현\"\n",
    "#print(normal)\n",
    "#\n",
    "#normal.append(None)\n",
    "#lens = len(normal)\n",
    "#normal[lens-1] = \"정연\"\n",
    "#print(normal)\n"
   ]
  },
  {
   "cell_type": "code",
   "execution_count": 425,
   "metadata": {},
   "outputs": [
    {
     "name": "stdout",
     "output_type": "stream",
     "text": [
      "['다현', '정연', '쯔위', '사나', '지효']\n"
     ]
    }
   ],
   "source": [
    "# 선형 리스트 일반 구현 (리스트 생성 : 함수 생성)\n",
    "normal = []\n",
    "\n",
    "def add_data(friend):\n",
    "    normal.append(None)\n",
    "    lens = len(normal)\n",
    "    normal[lens-1] = friend\n",
    "\n",
    "add_data('다현')\n",
    "add_data('정연')\n",
    "add_data('쯔위')\n",
    "add_data('사나')\n",
    "add_data('지효')\n",
    "\n",
    "print(normal)"
   ]
  },
  {
   "cell_type": "code",
   "execution_count": 426,
   "metadata": {},
   "outputs": [],
   "source": [
    "#선형 리스트 일반 구현 (데이터 삽입 : 중간에 삽입 : 기본 틀 생성)\n",
    "normal.append(None)\n",
    "#normal[5] = normal[4]\n",
    "#normal[4] = None\n",
    "#normal[4] = normal[3]\n",
    "#normal[3] = None\n",
    "#normal[3] = normal[2] \n",
    "#normal[2] = None\n",
    "#normal[2] = '솔라'\n",
    "#print(normal)"
   ]
  },
  {
   "cell_type": "code",
   "execution_count": 427,
   "metadata": {},
   "outputs": [],
   "source": [
    "# 선형 리스트 일반 구현 (데이터 삽입 : 중간에 삽입 : 함수 생성)\n",
    "def insert_data(friend, place):\n",
    "    normal.append(None)\n",
    "    lens = len(normal)\n",
    "    \n",
    "    for i in range(lens-1, place ,-1):\n",
    "        normal[i] = normal[i-1]\n",
    "        normal[i-1] = None\n",
    "    normal[place] = friend"
   ]
  },
  {
   "cell_type": "code",
   "execution_count": 428,
   "metadata": {},
   "outputs": [],
   "source": [
    "normal = [\"다현\", \"정연\", \"쯔위\", \"사나\", \"지효\"]"
   ]
  },
  {
   "cell_type": "code",
   "execution_count": 429,
   "metadata": {},
   "outputs": [
    {
     "name": "stdout",
     "output_type": "stream",
     "text": [
      "['다현', '정연', '솔라', '쯔위', '사나', '지효']\n"
     ]
    }
   ],
   "source": [
    "insert_data(\"솔라\", 2)\n",
    "print(normal)"
   ]
  },
  {
   "cell_type": "code",
   "execution_count": 430,
   "metadata": {},
   "outputs": [],
   "source": [
    "#선형 리스트 일반 구현 (데이터 삽입 : 맨 끝에 삽입 : 기본 틀 생성)\n",
    "#normal.append(None)\n",
    "#normal[6] = \"문별\"\n",
    "#print(normal)"
   ]
  },
  {
   "cell_type": "code",
   "execution_count": 431,
   "metadata": {},
   "outputs": [],
   "source": [
    "# 선형 리스트 일반 구현 (데이터 삽입 : 맨 끝에 삽입 : 함수 생성)\n",
    "def insert_end_data(friend):\n",
    "    normal.append(None)\n",
    "    normal[-1] = friend"
   ]
  },
  {
   "cell_type": "code",
   "execution_count": 432,
   "metadata": {},
   "outputs": [
    {
     "name": "stdout",
     "output_type": "stream",
     "text": [
      "['다현', '정연', '솔라', '쯔위', '사나', '지효', '문별']\n"
     ]
    }
   ],
   "source": [
    "insert_end_data(\"문별\")\n",
    "print(normal)"
   ]
  },
  {
   "cell_type": "code",
   "execution_count": 433,
   "metadata": {},
   "outputs": [],
   "source": [
    "#선형 리스트 일반 구현 (데이터 삽입 : 중간 데이터 삭제 : 기본 틀 생성)\n",
    "normal = [\"다현\", \"정연\", \"쯔위\", \"사나\", \"지효\"]\n",
    "#normal[1] = None \n",
    "##normal[1] = normal[2]\n",
    "##normal[2] = None\n",
    "##normal[2] = normal[3]\n",
    "##normal[3] = None\n",
    "##normal[3] = normal[4]\n",
    "##normal[4] = None\n",
    "##del(normal[4])\n",
    "#print(normal)"
   ]
  },
  {
   "cell_type": "code",
   "execution_count": 434,
   "metadata": {},
   "outputs": [],
   "source": [
    "#선형 리스트 일반 구현 (데이터 삽입 : 중간 데이터 삭제 : 함수 생성)\n",
    "def delete_data(place):\n",
    "    normal[place] = None\n",
    "    lens = len(normal)\n",
    "    for i in range(place, lens-1, 1):\n",
    "        normal[i] = None\n",
    "        normal[i] = normal[i+1]\n",
    "        \n",
    "    del(normal[-1])"
   ]
  },
  {
   "cell_type": "code",
   "execution_count": 435,
   "metadata": {},
   "outputs": [
    {
     "name": "stdout",
     "output_type": "stream",
     "text": [
      "['다현', '쯔위', '사나', '지효']\n"
     ]
    }
   ],
   "source": [
    "delete_data(1)\n",
    "print(normal)"
   ]
  },
  {
   "cell_type": "code",
   "execution_count": 436,
   "metadata": {},
   "outputs": [],
   "source": [
    "#선형 리스트 일반 구현 (데이터 삽입 : 마지막 데이터 삭제 : 기본 틀 생성)\n",
    "#normal[-1] = None\n",
    "#del(normal[-1])\n",
    "#normal"
   ]
  },
  {
   "cell_type": "code",
   "execution_count": 437,
   "metadata": {},
   "outputs": [],
   "source": [
    "#선형 리스트 일반 구현 (데이터 삽입 : 마지막 데이터 삭제 : 함수 생성)\n",
    "def delete_end_data():\n",
    "    normal[-1] = None\n",
    "    del(normal[-1])\n",
    "    print(normal)"
   ]
  },
  {
   "cell_type": "code",
   "execution_count": 438,
   "metadata": {},
   "outputs": [
    {
     "name": "stdout",
     "output_type": "stream",
     "text": [
      "['다현', '정연', '쯔위', '사나']\n",
      "['다현', '정연', '쯔위']\n",
      "['다현', '정연']\n",
      "['다현']\n"
     ]
    }
   ],
   "source": [
    "normal = [\"다현\", \"정연\", \"쯔위\", \"사나\", \"지효\"]\n",
    "delete_end_data()\n",
    "delete_end_data()\n",
    "delete_end_data()\n",
    "delete_end_data()"
   ]
  },
  {
   "attachments": {},
   "cell_type": "markdown",
   "metadata": {},
   "source": [
    "#### 단순 연결 리스트 \n",
    "- Node로 구성되어 있다 (Data + Link의 형태)\n",
    "- 장점으로는 오버헤드가 일어나지 않음 \n",
    "- 단점으로는 접근이 느리고 공간이 더 필요함 (고비용)\n",
    "- 마지막 Link는 None"
   ]
  },
  {
   "cell_type": "code",
   "execution_count": 439,
   "metadata": {},
   "outputs": [
    {
     "name": "stdout",
     "output_type": "stream",
     "text": [
      "다현\n",
      "정연\n",
      "쯔위\n",
      "사나\n",
      "지효\n"
     ]
    }
   ],
   "source": [
    "# 노드 생성과 연결 \n",
    "class Node():\n",
    "    def __init__(self):\n",
    "        self.data = None\n",
    "        self.link = None\n",
    "\n",
    "node1 = Node()\n",
    "node1.data = \"다현\"\n",
    "node2 = Node()\n",
    "node2.data = \"정연\"\n",
    "node1.link = node2\n",
    "node3 = Node()\n",
    "node3.data = \"쯔위\"\n",
    "node2.link = node3\n",
    "node4 = Node()\n",
    "node4.data = \"사나\"\n",
    "node3.link = node4\n",
    "node5 = Node()\n",
    "node5.data = \"지효\"\n",
    "node4.link = node5\n",
    "\n",
    "print(node1.data)\n",
    "print(node2.data)\n",
    "print(node3.data)\n",
    "print(node4.data)\n",
    "print(node5.data)"
   ]
  },
  {
   "cell_type": "code",
   "execution_count": 440,
   "metadata": {},
   "outputs": [],
   "source": [
    "# 단순 연결 리스트 간단 구현 (노드의 처음부터 끝가지 생성 : 함수구현)\n",
    "def link_node():\n",
    "    current = node1\n",
    "    print(current.data, end = \" \")\n",
    "    while current.link != None : \n",
    "        current = current.link\n",
    "        print(current.data, end = \" \")"
   ]
  },
  {
   "cell_type": "code",
   "execution_count": 441,
   "metadata": {},
   "outputs": [
    {
     "name": "stdout",
     "output_type": "stream",
     "text": [
      "다현 정연 쯔위 사나 지효 "
     ]
    }
   ],
   "source": [
    "link_node()"
   ]
  },
  {
   "cell_type": "code",
   "execution_count": 442,
   "metadata": {},
   "outputs": [],
   "source": [
    "# 단순 연결 리스트 간단 구현 (노드의 중간 데이터 삽입)\n",
    "new_node = Node()\n",
    "new_node.data = \"재남\"\n",
    "new_node.link = node2.link\n",
    "node2.link = new_node.data\n"
   ]
  },
  {
   "cell_type": "code",
   "execution_count": 443,
   "metadata": {},
   "outputs": [
    {
     "name": "stdout",
     "output_type": "stream",
     "text": [
      "다현 정연 사나 지효 "
     ]
    }
   ],
   "source": [
    "# 단순 연결 리스트 간단 구현 (노드의 중간 데이터 삭제)\n",
    "node2.link = node3.link\n",
    "del(node3)\n",
    "link_node()"
   ]
  },
  {
   "attachments": {},
   "cell_type": "markdown",
   "metadata": {},
   "source": [
    "단순 연결 리스트의 일반 형태 \n"
   ]
  },
  {
   "cell_type": "code",
   "execution_count": null,
   "metadata": {},
   "outputs": [],
   "source": []
  },
  {
   "attachments": {},
   "cell_type": "markdown",
   "metadata": {},
   "source": [
    "#### 원형 연결 리스트 "
   ]
  },
  {
   "attachments": {},
   "cell_type": "markdown",
   "metadata": {},
   "source": [
    "### 스택"
   ]
  },
  {
   "attachments": {},
   "cell_type": "markdown",
   "metadata": {},
   "source": [
    "### 큐\n"
   ]
  },
  {
   "attachments": {},
   "cell_type": "markdown",
   "metadata": {},
   "source": [
    "#### 순차 큐 "
   ]
  },
  {
   "attachments": {},
   "cell_type": "markdown",
   "metadata": {},
   "source": [
    "#### 원형 큐"
   ]
  },
  {
   "attachments": {},
   "cell_type": "markdown",
   "metadata": {},
   "source": [
    "## 비선형"
   ]
  },
  {
   "attachments": {},
   "cell_type": "markdown",
   "metadata": {},
   "source": [
    "### 트리"
   ]
  },
  {
   "attachments": {},
   "cell_type": "markdown",
   "metadata": {},
   "source": [
    "### 그래프"
   ]
  },
  {
   "attachments": {},
   "cell_type": "markdown",
   "metadata": {},
   "source": [
    "# 알고리즘 "
   ]
  },
  {
   "attachments": {},
   "cell_type": "markdown",
   "metadata": {},
   "source": [
    "## 정렬"
   ]
  },
  {
   "attachments": {},
   "cell_type": "markdown",
   "metadata": {},
   "source": [
    "### 선택 정렬 "
   ]
  },
  {
   "attachments": {},
   "cell_type": "markdown",
   "metadata": {},
   "source": [
    "## 검색"
   ]
  },
  {
   "attachments": {},
   "cell_type": "markdown",
   "metadata": {},
   "source": [
    "## 재귀"
   ]
  }
 ],
 "metadata": {
  "kernelspec": {
   "display_name": "Python 3",
   "language": "python",
   "name": "python3"
  },
  "language_info": {
   "codemirror_mode": {
    "name": "ipython",
    "version": 3
   },
   "file_extension": ".py",
   "mimetype": "text/x-python",
   "name": "python",
   "nbconvert_exporter": "python",
   "pygments_lexer": "ipython3",
   "version": "3.10.6 (main, Nov  2 2022, 18:53:38) [GCC 11.3.0]"
  },
  "orig_nbformat": 4,
  "vscode": {
   "interpreter": {
    "hash": "916dbcbb3f70747c44a77c7bcd40155683ae19c65e1c03b4aa3499c5328201f1"
   }
  }
 },
 "nbformat": 4,
 "nbformat_minor": 2
}
