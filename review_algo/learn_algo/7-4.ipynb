{
 "cells": [
  {
   "cell_type": "code",
   "execution_count": 2,
   "metadata": {},
   "outputs": [],
   "source": [
    "## 함수\n",
    "def isQueueFull() :\n",
    "   global SIZE, queue, front, rear\n",
    "   if ( (rear+1) %SIZE == front) :\n",
    "      return True\n",
    "   else : \n",
    "      return False    \n",
    "\n",
    "def enQueue(data) :\n",
    "   global SIZE, queue, front, rear\n",
    "   if (isQueueFull()) : \n",
    "      print(\"큐 꽉!\")\n",
    "      return\n",
    "   rear = (rear + 1) % SIZE\n",
    "   queue[rear] = data\n",
    "\n",
    "def isQueueEmpty() :\n",
    "   global SIZE, queue, front, rear\n",
    "   if (front == rear) : \n",
    "      return True\n",
    "   else :\n",
    "      return False\n",
    "\n",
    "def deQueue() :\n",
    "   global SIZE, queue, front, rear\n",
    "   if (isQueueEmpty()) :\n",
    "      print(\"큐 텅~\")\n",
    "      return\n",
    "   front = (front  +1) % SIZE\n",
    "   data = queue[front]\n",
    "   queue[front] = None \n",
    "   return data \n",
    "\n",
    "def peek() :\n",
    "   global SIZE, queue, front, rear\n",
    "   if (isQueueEmpty()) :\n",
    "      print(\"큐 텅~\")\n",
    "      return      \n",
    "   return queue[(front+1) % SIZE]"
   ]
  },
  {
   "cell_type": "code",
   "execution_count": 15,
   "metadata": {},
   "outputs": [],
   "source": [
    "## 변수\n",
    "SIZE = 5 \n",
    "queue = [None for _ in range(SIZE)]\n",
    "front = rear = 0"
   ]
  },
  {
   "cell_type": "code",
   "execution_count": 16,
   "metadata": {},
   "outputs": [
    {
     "name": "stdout",
     "output_type": "stream",
     "text": [
      "큐 꽉!\n",
      "출구 <-- [None, '화사', '솔라', '휘인', '문별'] <-- 입구\n"
     ]
    }
   ],
   "source": [
    "## 메인 \n",
    "enQueue('화사')\n",
    "enQueue('솔라')\n",
    "enQueue('휘인')\n",
    "enQueue('문별')\n",
    "enQueue('선미')\n",
    "\n",
    "print('출구 <--', queue, '<-- 입구')\n",
    "\n",
    "#enQueue('재남')\n",
    "#print('출구 <--', queue, '<-- 입구')"
   ]
  },
  {
   "cell_type": "code",
   "execution_count": 17,
   "metadata": {},
   "outputs": [
    {
     "name": "stdout",
     "output_type": "stream",
     "text": [
      "식사손님 --> 화사\n",
      "식사손님 --> 솔라\n",
      "출구 <-- [None, None, None, '휘인', '문별'] <-- 입구\n",
      "출구 <-- ['재남', None, None, '휘인', '문별'] <-- 입구\n",
      "출구 <-- ['재남', '뷔', None, '휘인', '문별'] <-- 입구\n",
      "큐 꽉!\n",
      "출구 <-- ['재남', '뷔', None, '휘인', '문별'] <-- 입구\n"
     ]
    }
   ],
   "source": [
    "retData = deQueue()\n",
    "print('식사손님 -->', retData)\n",
    "retData = deQueue()\n",
    "print('식사손님 -->', retData)\n",
    "print('출구 <--', queue, '<-- 입구')\n",
    "\n",
    "enQueue('재남')\n",
    "print('출구 <--', queue, '<-- 입구')\n",
    "enQueue('뷔')\n",
    "print('출구 <--', queue, '<-- 입구')\n",
    "enQueue('길동')\n",
    "print('출구 <--', queue, '<-- 입구')"
   ]
  }
 ],
 "metadata": {
  "kernelspec": {
   "display_name": "Python 3",
   "language": "python",
   "name": "python3"
  },
  "language_info": {
   "codemirror_mode": {
    "name": "ipython",
    "version": 3
   },
   "file_extension": ".py",
   "mimetype": "text/x-python",
   "name": "python",
   "nbconvert_exporter": "python",
   "pygments_lexer": "ipython3",
   "version": "3.11.0"
  },
  "orig_nbformat": 4,
  "vscode": {
   "interpreter": {
    "hash": "5238573367df39f7286bb46f9ff5f08f63a01a80960060ce41e3c79b190280fa"
   }
  }
 },
 "nbformat": 4,
 "nbformat_minor": 2
}
