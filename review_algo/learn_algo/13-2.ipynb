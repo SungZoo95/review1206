{
 "cells": [
  {
   "cell_type": "code",
   "execution_count": 13,
   "metadata": {},
   "outputs": [],
   "source": [
    "## 함수\n",
    "import random \n",
    "def binSearch(ary, fData) :\n",
    "    pos = -1 \n",
    "    start = 0\n",
    "    end = len(ary) -1 \n",
    "    while (start <= end) :\n",
    "        mid = (start + end) // 2 \n",
    "        if (ary[mid] == fData):\n",
    "            pos = mid\n",
    "            break \n",
    "        elif (ary[mid] < fData) : \n",
    "            start = mid + 1\n",
    "        else : \n",
    "            end = mid - 1\n",
    "    \n",
    "    return pos"
   ]
  },
  {
   "cell_type": "code",
   "execution_count": 17,
   "metadata": {},
   "outputs": [],
   "source": [
    "## 변수 z\n",
    "SIZE = 10\n",
    "dateAry = [random.randint(40, 200) for _ in range(SIZE)] \n",
    "dateAry.sort()\n",
    "findData = random.choice(dateAry)"
   ]
  },
  {
   "cell_type": "code",
   "execution_count": 18,
   "metadata": {},
   "outputs": [
    {
     "name": "stdout",
     "output_type": "stream",
     "text": [
      "배열---> [41, 61, 65, 97, 103, 145, 169, 171, 174, 196]\n",
      "65 는 2 위치에 있음 ^^\n"
     ]
    }
   ],
   "source": [
    "## 메인 \n",
    "print(\"배열--->\", dateAry)\n",
    "position = binSearch(dateAry, findData)\n",
    "if ( position == -1):\n",
    "    print(findData,'는',position, '없어요 ㅠㅠ')\n",
    "else :    \n",
    "    print(findData, '는', position, '위치에 있음 ^^')"
   ]
  }
 ],
 "metadata": {
  "kernelspec": {
   "display_name": "Python 3",
   "language": "python",
   "name": "python3"
  },
  "language_info": {
   "codemirror_mode": {
    "name": "ipython",
    "version": 3
   },
   "file_extension": ".py",
   "mimetype": "text/x-python",
   "name": "python",
   "nbconvert_exporter": "python",
   "pygments_lexer": "ipython3",
   "version": "3.11.0"
  },
  "orig_nbformat": 4,
  "vscode": {
   "interpreter": {
    "hash": "5238573367df39f7286bb46f9ff5f08f63a01a80960060ce41e3c79b190280fa"
   }
  }
 },
 "nbformat": 4,
 "nbformat_minor": 2
}
