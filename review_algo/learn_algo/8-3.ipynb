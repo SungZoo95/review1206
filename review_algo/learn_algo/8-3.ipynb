{
 "cells": [
  {
   "cell_type": "code",
   "execution_count": 4,
   "metadata": {},
   "outputs": [],
   "source": [
    "## 함수\n",
    "class TreeNode() :\n",
    "    def __init__(self) :\n",
    "        self.left = None\n",
    "        self.data = None\n",
    "        self.right = None"
   ]
  },
  {
   "cell_type": "code",
   "execution_count": 5,
   "metadata": {},
   "outputs": [],
   "source": [
    "## 변수 \n",
    "memory = []\n",
    "root = None\n",
    "nameAry = ['블랙핑크', '레드벨벳', '마마무', '에이핑크', '걸스데이', '트와이스']"
   ]
  },
  {
   "cell_type": "code",
   "execution_count": 6,
   "metadata": {},
   "outputs": [
    {
     "name": "stdout",
     "output_type": "stream",
     "text": [
      "이진 탐색 트리 완료!\n"
     ]
    }
   ],
   "source": [
    "## 메인 \n",
    "node = TreeNode()\n",
    "node.data = nameAry[0]\n",
    "root = node \n",
    "memory.append(node)\n",
    "\n",
    "for name in nameAry[1:] : # ['레드벨벳', '마마무',....\n",
    "\n",
    "    node = TreeNode()\n",
    "    node.data = name\n",
    "    \n",
    "    current = root\n",
    "    while True :  \n",
    "        if (name < current.data) :\n",
    "            if (current.left == None):\n",
    "                current.left = node\n",
    "                break\n",
    "            else : \n",
    "                current = current.left\n",
    "        else : \n",
    "            if (current.right == None):\n",
    "                current.right = node \n",
    "                break \n",
    "            else : ㅅ\n",
    "                current = current.right\n",
    "print('이진 탐색 트리 완료!')"
   ]
  }
 ],
 "metadata": {
  "kernelspec": {
   "display_name": "Python 3",
   "language": "python",
   "name": "python3"
  },
  "language_info": {
   "codemirror_mode": {
    "name": "ipython",
    "version": 3
   },
   "file_extension": ".py",
   "mimetype": "text/x-python",
   "name": "python",
   "nbconvert_exporter": "python",
   "pygments_lexer": "ipython3",
   "version": "3.11.0"
  },
  "orig_nbformat": 4,
  "vscode": {
   "interpreter": {
    "hash": "5238573367df39f7286bb46f9ff5f08f63a01a80960060ce41e3c79b190280fa"
   }
  }
 },
 "nbformat": 4,
 "nbformat_minor": 2
}
