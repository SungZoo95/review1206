{
 "cells": [
  {
   "cell_type": "code",
   "execution_count": 48,
   "metadata": {},
   "outputs": [],
   "source": [
    "## 함수\n",
    "class Node() :\n",
    "    def __init__(self):\n",
    "        self.data = None\n",
    "        self.link = None"
   ]
  },
  {
   "cell_type": "code",
   "execution_count": 49,
   "metadata": {},
   "outputs": [],
   "source": [
    "def printNodes(start) :\n",
    "    current = start \n",
    "    print(current.data, end= \" \")\n",
    "    while (current.link != None) :\n",
    "        current = current.link\n",
    "        print(current.data, end= \" \")\n",
    "    print()"
   ]
  },
  {
   "cell_type": "code",
   "execution_count": 50,
   "metadata": {},
   "outputs": [],
   "source": [
    "def insertNode(findData, insertData) : \n",
    "    global memory, head, current, pre\n",
    "    # Case1 : 머리 앞에 삽입 (다현, 화사)\n",
    "    if  (findData == head.data):\n",
    "        node = Node()\n",
    "        node.data = insertData\n",
    "        node.link = head\n",
    "        head = node\n",
    "        memory.append(node)\n",
    "        return\n",
    "    # Case2 : 중간노드 앞에 삽입(사나, 솔라)\n",
    "    current = head\n",
    "    while (current.link != None) :\n",
    "        pre = current \n",
    "        current = current.link\n",
    "        if (current.data == findData) :\n",
    "            node = Node()\n",
    "            node.data = insertData\n",
    "            node.link = current\n",
    "            pre.link = node \n",
    "            memory.append(node)\n",
    "            return\n",
    "    # Case3 : 없는 노드 앞에 삽입(=뒤에 추가)(재남,문별)\n",
    "    node = Node()\n",
    "    node.data = insertData\n",
    "    current.link = node\n",
    "    memory.append(node)\n",
    "    return "
   ]
  },
  {
   "cell_type": "code",
   "execution_count": 68,
   "metadata": {},
   "outputs": [],
   "source": [
    "def deleteNode(delData) :\n",
    "    global memory, head, current, pre\n",
    "    # Case1 : 머리를 삭제할 때 (다현)\n",
    "    if (delData == head.data) : \n",
    "        current = head \n",
    "        head = head.link\n",
    "        del(current)\n",
    "        return \n",
    "    # Case2 : 중간노드를 삭제할 때 (쯔위)\n",
    "    current = head\n",
    "    while (current.link != None) :\n",
    "        pre = current\n",
    "        current = current.link\n",
    "        if (current.data == delData) : \n",
    "            pre.link = current.link\n",
    "            del(current)\n",
    "            return"
   ]
  },
  {
   "cell_type": "code",
   "execution_count": 73,
   "metadata": {},
   "outputs": [],
   "source": [
    "def findNode(findData) : \n",
    "    global memory, head, current, pre\n",
    "    current = head\n",
    "    if (current.data == findData) : \n",
    "        return current # 노드를 통재로 리턴 \n",
    "    while (current.link != None) : \n",
    "        current = current.link \n",
    "        if (current.data == findData) :\n",
    "            return current\n",
    "    return Node()            \n",
    "\n",
    "    "
   ]
  },
  {
   "cell_type": "code",
   "execution_count": 70,
   "metadata": {},
   "outputs": [],
   "source": [
    "## 변수 \n",
    "memory = []\n",
    "head, current, pre = None, None , None\n",
    "dataAry = ['다현', '정연', '쯔위', '사나', '지효']"
   ]
  },
  {
   "cell_type": "code",
   "execution_count": 71,
   "metadata": {},
   "outputs": [],
   "source": [
    "## 메인 \n",
    "# 첫 노드 만들기 \n",
    "node = Node()\n",
    "node.data = dataAry[0]\n",
    "head = node \n",
    "memory.append(node)\n",
    "\n"
   ]
  },
  {
   "cell_type": "code",
   "execution_count": 72,
   "metadata": {},
   "outputs": [],
   "source": [
    "# 두번째 이후 노드 만들기\n",
    "for data in dataAry[1:] : # ['정연', '쯔위',.......]\n",
    "    pre = node\n",
    "    node = Node()\n",
    "    node.data = data\n",
    "    pre.link = node\n",
    "    memory.append(node)"
   ]
  },
  {
   "cell_type": "code",
   "execution_count": 54,
   "metadata": {},
   "outputs": [
    {
     "name": "stdout",
     "output_type": "stream",
     "text": [
      "다현 정연 쯔위 사나 지효 \n"
     ]
    }
   ],
   "source": [
    "printNodes(head)"
   ]
  },
  {
   "cell_type": "code",
   "execution_count": 55,
   "metadata": {},
   "outputs": [
    {
     "name": "stdout",
     "output_type": "stream",
     "text": [
      "다현 정연 쯔위 사나 지효 문별 \n"
     ]
    }
   ],
   "source": [
    "# insertNode('다현', '화사')\n",
    "# printNodes(head)\n",
    "# insertNode('사나', '솔라')\n",
    "# printNodes(head)\n",
    "# insertNode('재남','문별')\n",
    "# printNodes(head)"
   ]
  },
  {
   "cell_type": "code",
   "execution_count": 69,
   "metadata": {},
   "outputs": [
    {
     "name": "stdout",
     "output_type": "stream",
     "text": [
      "다현 정연 사나 지효 \n"
     ]
    }
   ],
   "source": [
    "# deleteNode('다현')\n",
    "# printNodes(head)\n",
    "# deleteNode('쯔위')\n",
    "# printNodes(head)\n",
    "# deleteNode('재남')\n",
    "# printNodes(head)"
   ]
  },
  {
   "cell_type": "code",
   "execution_count": 74,
   "metadata": {},
   "outputs": [
    {
     "name": "stdout",
     "output_type": "stream",
     "text": [
      "사나 의 뮤비가 나옵니다. 쿵짝쿵짝~~~~\n"
     ]
    }
   ],
   "source": [
    "retData = findNode('사나')\n",
    "print(retData.data, '의 뮤비가 나옵니다. 쿵짝쿵짝~~~~')"
   ]
  }
 ],
 "metadata": {
  "kernelspec": {
   "display_name": "Python 3",
   "language": "python",
   "name": "python3"
  },
  "language_info": {
   "codemirror_mode": {
    "name": "ipython",
    "version": 3
   },
   "file_extension": ".py",
   "mimetype": "text/x-python",
   "name": "python",
   "nbconvert_exporter": "python",
   "pygments_lexer": "ipython3",
   "version": "3.10.6 (main, Nov  2 2022, 18:53:38) [GCC 11.3.0]"
  },
  "orig_nbformat": 4,
  "vscode": {
   "interpreter": {
    "hash": "916dbcbb3f70747c44a77c7bcd40155683ae19c65e1c03b4aa3499c5328201f1"
   }
  }
 },
 "nbformat": 4,
 "nbformat_minor": 2
}
