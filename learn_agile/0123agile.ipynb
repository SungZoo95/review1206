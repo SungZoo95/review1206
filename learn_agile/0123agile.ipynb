{
 "cells": [
  {
   "attachments": {},
   "cell_type": "markdown",
   "metadata": {},
   "source": [
    "# 적응형 라이프사이클 3부 (8강)"
   ]
  },
  {
   "attachments": {},
   "cell_type": "markdown",
   "metadata": {},
   "source": [
    "- 하이브리드 라이프 사이클 \n",
    "    - 혼합형 라이프 사이클 \n",
    "    - 예측형 라이프 사이클 + 애자일 라이프 사이클 "
   ]
  },
  {
   "attachments": {},
   "cell_type": "markdown",
   "metadata": {},
   "source": [
    "- 하이브리드 라이프 사이클 유형 1 \n",
    "- 선 애자일 개발 -> 후 예측형 진행 \n",
    "    - 하이브리드 라이프 사이클의 가장 기본적이고 순수한 형태\n",
    "    - 프로젝트 개발 범위의 불확실성, 복잡성, 리스크가 존재할 때 활용함\n",
    "    - 위의 문제들을 애자일 접근법을 통해 해결할 수 있음\n",
    "    - 전반에서 불확실성을 애자일로 해결한 후에 후반은 예측 가능 단계를 진행\n",
    "    - 예측형 라이프 사이클의 후반부 단계는 애자일 팀이 아닌 다른 팀이 \n",
    "    프로젝트를 진행할 수 있음 "
   ]
  },
  {
   "attachments": {},
   "cell_type": "markdown",
   "metadata": {},
   "source": [
    "- 하이브리드 라이프 사이클 유형 2 \n",
    "- 애자일 예측형 동시 진행 접근법\n",
    "    - 애자일과 예측형을 동시에 진행함 \n",
    "    - 애자일 : 짧은 반복, 일일 기립 회의(서서 회의), 회고(지식의 대한 공유)\n",
    "    - 예측형 : 하향식 작업량 산정과 원가 상정, 작업 배정, 진행 상황 추적과 보고\n"
   ]
  },
  {
   "attachments": {},
   "cell_type": "markdown",
   "metadata": {},
   "source": [
    "- 하이브리드 라이프 사이클 유형 3 \n",
    "- 부분적 애자일과 전체적 예측형 접근법\n",
    "    - 일부 범위 추가의 불확실성, 복잡성, 리스크이 존재하는 특정 시기에만\n",
    "    애자일 접근법으로 진행함\n",
    "    - 프로젝트의 전 시기에 걸쳐 대부분의 작업들은 예측형 접근법으로 진행함 \n",
    "    "
   ]
  },
  {
   "attachments": {},
   "cell_type": "markdown",
   "metadata": {},
   "source": [
    "- 하이브리드 라이프 사이클 유형 4\n",
    "- 부분적 예측형과 전체적 애자일 접근법\n",
    "    - 애자일 접근법으로만 진행하면, 협상불가이거나 실행불가 프로젝트의 \n",
    "    특정 구성 요소에 대해서만 이 접근법을 사용함\n",
    "    - 프로젝트 전 시기에 걸쳐 대부분 작업들을 애자일 접근법으로 진행함\n",
    "    - 외주로 진행하는 하위 프로젝트는 발주자의 관점으로 예측형 접근법을 사용해야 함"
   ]
  },
  {
   "attachments": {},
   "cell_type": "markdown",
   "metadata": {},
   "source": [
    "# 애자일 환경 (9강)"
   ]
  },
  {
   "attachments": {},
   "cell_type": "markdown",
   "metadata": {},
   "source": [
    "- 애자일 하지 못한 환경\n",
    "    - 만능 방법론에 지나치게 집착함\n",
    "    - 회사의 공식 툴만을 활용하려고 함\n",
    "- 애자일 하지 못한 물리적 환경\n",
    "    - 칸막이\n",
    "    - 뮤지컬 극장처럼 시끄러운 공간\n",
    "    - 함께 모이지 못하고 가상팀으로 일함 "
   ]
  },
  {
   "attachments": {},
   "cell_type": "markdown",
   "metadata": {},
   "source": [
    "### 애자일 환경에 필요한"
   ]
  },
  {
   "attachments": {},
   "cell_type": "markdown",
   "metadata": {},
   "source": [
    "- 최소화된 문서 격식주의 (Minimal Ceremony)\n",
    "    - 균형 잡기 : 문서화는 필요하지만 지나친 문서화를 경계한다 \n",
    "        - 개발자의 재능을 믿고 문서를 최소화한다\n",
    "        - 프로세스를 활용하지 않고 자원의 재능에만 의존하는 것은 너무 부족한 것이다"
   ]
  },
  {
   "attachments": {},
   "cell_type": "markdown",
   "metadata": {},
   "source": [
    "- 지속 가능한 페이스 \n",
    "    - 지속 가능한 페이스란?\n",
    "        - 열심히 일 함 \n",
    "        - 개인의 한계를 인식함\n",
    "        - 장기간 작업을 지속할 수 있도록 페이스를 조절해야 함 "
   ]
  },
  {
   "attachments": {},
   "cell_type": "markdown",
   "metadata": {},
   "source": [
    "- 동일 장소 배치 \n",
    "    - 가능하면 동일 장소에 배치해야함 \n",
    "    - 팀은 하나의 프로젝트에만 참여해야 함\n",
    "    - 가능하면 고객의 대표 역할이 참여해야 함\n",
    "    - 프로젝트에 도움이 되지 않는 사람은 과감하게 퇴출시킴\n",
    "    "
   ]
  },
  {
   "attachments": {},
   "cell_type": "markdown",
   "metadata": {},
   "source": [
    "- 정보의 소통이 원활한 작업 환경\n",
    "    - 정보의 소통이 원활한 작업 환경을 구성하면 상황 보고를 줄일 수 있음\n",
    "    - 즉각적인 상황 공유 메커니즘을 통해서 소통함 \n"
   ]
  },
  {
   "attachments": {},
   "cell_type": "markdown",
   "metadata": {},
   "source": [
    "- 조용한 환경(Minimal Noise)\n",
    "    - 줄여야 할 것\n",
    "        - 회사의 간섬\n",
    "        - 자질구레한 의무 \n",
    "        - 프로젝트와 관계되지 않은 작업\n",
    "        - 행정적 작업\n",
    "        - 팀 외부로부터 사내 정치 \n",
    "    - 늘려야 할 것\n",
    "        - 동기 부여\n",
    "        - 작업 수행 역량과 가용성\n",
    "        "
   ]
  },
  {
   "attachments": {},
   "cell_type": "markdown",
   "metadata": {},
   "source": [
    "- 협업을 위한 좌석 배치\n",
    "    - 의사소통에 협업에 도움이 되는 작업 환경을 만들어야 함\n",
    "    - 팀원들은 자신이 원하는 자리에 마음대로 앉을 수 있어야 함\n",
    "    - 개발자를 위한 그들의 동굴과 공동구역을 제공하면, 훌륭한 보고서가 더 잘 나올 수있다.\n",
    "        - 동굴 : 작업에 몰두할 수 있는 공간\n",
    "        - 공동구역 : 함께 토론하고 공유하는 공간 \n",
    "        - 동굴과 공동구역 적절히 구성되도록 사무실을 설계해야 함\n",
    "        "
   ]
  },
  {
   "attachments": {},
   "cell_type": "markdown",
   "metadata": {},
   "source": [
    "# 스크럼 개요 (10강)"
   ]
  },
  {
   "attachments": {},
   "cell_type": "markdown",
   "metadata": {},
   "source": [
    "- 스크럼이란?\n",
    "    - 프로젝트를 위한 상호협력적이며 점진적인 개발 방법론 \n",
    "- 스크럼은 자기 조직화 팀으로 진행됨\n",
    "- 스크럼은 개발팀을 효율적으로 관리하는 방법을 제공함 "
   ]
  },
  {
   "cell_type": "code",
   "execution_count": null,
   "metadata": {},
   "outputs": [],
   "source": []
  },
  {
   "cell_type": "markdown",
   "metadata": {},
   "source": []
  }
 ],
 "metadata": {
  "kernelspec": {
   "display_name": "Python 3",
   "language": "python",
   "name": "python3"
  },
  "language_info": {
   "name": "python",
   "version": "3.10.6 (main, Nov  2 2022, 18:53:38) [GCC 11.3.0]"
  },
  "orig_nbformat": 4,
  "vscode": {
   "interpreter": {
    "hash": "916dbcbb3f70747c44a77c7bcd40155683ae19c65e1c03b4aa3499c5328201f1"
   }
  }
 },
 "nbformat": 4,
 "nbformat_minor": 2
}
