{
 "cells": [
  {
   "attachments": {},
   "cell_type": "markdown",
   "metadata": {},
   "source": [
    "# 프로젝트 관리 방법론 (2강)"
   ]
  },
  {
   "attachments": {},
   "cell_type": "markdown",
   "metadata": {},
   "source": [
    "- pmbok\n",
    "    - 테일러링하고 선택적으로 사용할 것을 추천함\n",
    "    - 포괄적 지식 중심\n",
    "    - 모든 산업 분야에 적용가능 \n",
    "    - 49개의 프로세스\n",
    "- prince2 \n",
    "    - 간단한 핵심 프로세스 중심\n",
    "    - it프로젝트에 초점\n",
    "    - 7개의 프로세스 41개의 활동\n",
    "    - 모든내용을 반드시 적용할 것을 추천함 "
   ]
  },
  {
   "attachments": {},
   "cell_type": "markdown",
   "metadata": {},
   "source": [
    "### 프로젝트 관리 지식 개요 \n",
    "- 예측형 (waterfall) 프로젝트 vs 애자일 (Agile) 프로젝트\n",
    "- 예측형은 요구사항이 확정적일때 프로젝트의 지연이 됐을때 작업이 지연됐음을 인정하고 진행하는 작업 \n",
    "- 애자일은 모든 기능을 확정적으로 구현하는것이 아니고 시간안에 되면 된만큼 안되면 안된만큼 가변적으로 생각하는게 \n",
    "맞다고 생각하는게 애자일 프로젝트의 방식 \n",
    "- 애자일의 생산성을 늘리는 방법은 기능의 우선순위를 정하는 것 (가장 우선순위가 높은을 중심으로 선 개발하고 2차 개발요소\n",
    "이런식으로 넘어감 -> 이런식으로 진행하다보면 가장 우선순위가 낮은것에 개발이 없더라도 진행이 가능해질 수 있다. 믄제없다)\n",
    "라는 방식으로 진행함 \n"
   ]
  },
  {
   "attachments": {},
   "cell_type": "markdown",
   "metadata": {},
   "source": [
    "### 애자일\n",
    "- 변화에 능동적으로 대응하면서 문서화를 최소화하는것이 중요함 (꼭 필요한 문서들만 보고하고 나머지는 개발에 집중하고\n",
    "고객에게 시연하는것만으로 의사소통하는 체계를 만든다.)\n",
    "- 창의적으로 범위를 구현하는데 초점을 맞춤\n",
    "- 경계할점은 개발자들의 역량을 믿고 프로젝트가 가능할 것이라는 믿음을 가지고 수행해야 한다."
   ]
  },
  {
   "attachments": {},
   "cell_type": "markdown",
   "metadata": {},
   "source": [
    "- scrum : 가장 많은 실무자가 선택하는 방법 \n",
    "    - 포괄적인 많은 내용을 담고 있어서 이 방법으로 공략하는것이 중요하다\n",
    "- XP : 팀원에 의존하기보단 개발자 개개인의 실력에 의존한다."
   ]
  },
  {
   "attachments": {},
   "cell_type": "markdown",
   "metadata": {},
   "source": [
    "### 예측형과 애자일의 공통점 \n",
    "- 프로젝트를 성공적으로 관리하는 것을 목표로 함 \n",
    "- 요구사항을 식별함 \n",
    "- 적극적이며, 효과적이고, 실질적으로 상호 협력적으로 이해관계자들 간에 소통함\n",
    "- 프로젝트 제약 조건을 균형적을 조정"
   ]
  },
  {
   "attachments": {},
   "cell_type": "markdown",
   "metadata": {},
   "source": [
    "### 애자일 지식의 발전 과정 \n",
    "- 프로젝트 관리 방법론 (전략, 전술)\n",
    "- 프로젝트 관리 전문 소프트웨어 (무기)\n",
    "- 인적 자원 (유능한 인재와 조직) "
   ]
  },
  {
   "attachments": {},
   "cell_type": "markdown",
   "metadata": {},
   "source": [
    "# 애자일 프로젝트 개요 (3강)"
   ]
  },
  {
   "cell_type": "markdown",
   "metadata": {},
   "source": []
  }
 ],
 "metadata": {
  "kernelspec": {
   "display_name": "Python 3",
   "language": "python",
   "name": "python3"
  },
  "language_info": {
   "name": "python",
   "version": "3.10.6 (main, Nov  2 2022, 18:53:38) [GCC 11.3.0]"
  },
  "orig_nbformat": 4,
  "vscode": {
   "interpreter": {
    "hash": "916dbcbb3f70747c44a77c7bcd40155683ae19c65e1c03b4aa3499c5328201f1"
   }
  }
 },
 "nbformat": 4,
 "nbformat_minor": 2
}
