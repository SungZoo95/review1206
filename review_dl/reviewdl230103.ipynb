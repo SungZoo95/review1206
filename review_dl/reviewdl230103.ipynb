{
 "cells": [
  {
   "attachments": {},
   "cell_type": "markdown",
   "metadata": {},
   "source": [
    "# OR XOR 연산 만들어보기\n"
   ]
  },
  {
   "attachments": {},
   "cell_type": "markdown",
   "metadata": {},
   "source": [
    "```python\n",
    "x_data = [[0,0],\n",
    "          [0,1],\n",
    "          [1,0],\n",
    "          [1,1]]\n",
    "y_data = [[0],\n",
    "          [1],\n",
    "          [1],\n",
    "          [1]]\n",
    "```\n",
    "- 데이터를 생성 (or 데이터의 기본형 )"
   ]
  },
  {
   "attachments": {},
   "cell_type": "markdown",
   "metadata": {},
   "source": [
    "```python\n",
    "model = tf.keras.Sequential()\n",
    "model.add(tf.keras.layers.Dense(units = 1, activation = \"sigmoid\", input_shape=(2,))) # node :1 (출력 값이 1개니깐) input_shape : x_data.shape[1:]\n",
    "model.compile(optimizer = \"SGD\", loss = \"binary_crossentropy\", metrics=\"accuracy\")\n",
    "```"
   ]
  },
  {
   "attachments": {},
   "cell_type": "markdown",
   "metadata": {},
   "source": [
    "- 시퀀셜 모델 생성해주고 0과 1로 구분해주는 데이터기 때문에 활성화 함수는 시그모이드를 선택 x_data의 shape 가 (2,)이므로 인풋 쉐이프는 2이다. \n",
    "출력값은 1개니까 units=1 "
   ]
  },
  {
   "attachments": {},
   "cell_type": "markdown",
   "metadata": {},
   "source": [
    "- [https://dbstndi6316.tistory.com/297](옵티마이저의 종류) \n",
    "- [https://didu-story.tistory.com/27](손실함수 종류) \n",
    "- sigmoid 함수는 크로스 엔트로피와 함께 쓴다."
   ]
  },
  {
   "attachments": {},
   "cell_type": "markdown",
   "metadata": {},
   "source": [
    "```python\n",
    "model.fit(x_data, y_data, batch_size=4, epochs = 500)\n",
    "```\n",
    "- batch_size 에 따라 GD,SGD,mini-batch GD 가 된다. "
   ]
  },
  {
   "attachments": {},
   "cell_type": "markdown",
   "metadata": {},
   "source": [
    "```python\n",
    "np.round(model.predict(x_data))\n",
    "```\n",
    "- 반올림하여 0과 1로 구분지어준다."
   ]
  },
  {
   "cell_type": "markdown",
   "metadata": {},
   "source": []
  }
 ],
 "metadata": {
  "kernelspec": {
   "display_name": "dl",
   "language": "python",
   "name": "python3"
  },
  "language_info": {
   "codemirror_mode": {
    "name": "ipython",
    "version": 3
   },
   "file_extension": ".py",
   "mimetype": "text/x-python",
   "name": "python",
   "nbconvert_exporter": "python",
   "pygments_lexer": "ipython3",
   "version": "3.10.6"
  },
  "orig_nbformat": 4,
  "vscode": {
   "interpreter": {
    "hash": "e590ff645bce4c900d07635f4e74b6a2bb3fadaba462b70c8ba1aa5f592d3106"
   }
  }
 },
 "nbformat": 4,
 "nbformat_minor": 2
}
