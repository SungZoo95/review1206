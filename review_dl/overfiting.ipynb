{
 "cells": [
  {
   "attachments": {},
   "cell_type": "markdown",
   "metadata": {},
   "source": [
    "# Overfiting 방지 "
   ]
  },
  {
   "attachments": {},
   "cell_type": "markdown",
   "metadata": {},
   "source": [
    "- 오버피팅을 근본적으로 방지하는 방법은 데이터 보충이다. \n",
    "- 원본이미지를 회전, 자르고, 뒤집고 여러가지 방법으로 데이터를 보충해줘 과적합을 방지해준다.\n",
    "- train 셋에만 적용해야 한다. \n"
   ]
  },
  {
   "attachments": {},
   "cell_type": "markdown",
   "metadata": {},
   "source": [
    "## Dropout\n"
   ]
  },
  {
   "attachments": {},
   "cell_type": "markdown",
   "metadata": {},
   "source": [
    "- 데이터를 보충해주기 힘들때 테크닉으로 쓰는 방법이다.\n",
    "- 학습데이터들중 일부를 작동하지 못하게 멈춰주면서 과적합을 방지해준다.\n",
    "- 수능 전날은 공부하지 않고 쉬듯 뉴런에 휴식을 주면서 과적합 방지 \n",
    "```python\n",
    "model.add(tf.keras.layers.Dropout(0.15))\n",
    "```\n",
    "- 예시 : 레이어에 15%를 멈춰줘서 오버피팅을 방지 (보통 conv 활성함수를 쓰기전에 앞에 쓴다.)"
   ]
  },
  {
   "attachments": {},
   "cell_type": "markdown",
   "metadata": {},
   "source": [
    "## 배치정규화"
   ]
  },
  {
   "attachments": {},
   "cell_type": "markdown",
   "metadata": {},
   "source": [
    "- 학습된 데이터를 역전파하는 과정에서 학습된 데이터와 다른방향이 나오게 되면 오차게 생기게 되어 \n",
    "데이터 분포가 달라지는 현상이 발생한다.\n",
    "- 예를 들어 어떤 경우의 레이어가 다음레이어로 높은값을 이동했을때 항상 그쪽으로 높은값이 가지않으니 정규화를 시켜 모두 값을 동일하게 구성시켜주는것이다.\n",
    "- 왼쪽 오른쪽으로 치우쳐져있다면 가운데로 모아주는 효과라고 이해했음 "
   ]
  }
 ],
 "metadata": {
  "language_info": {
   "name": "python"
  },
  "orig_nbformat": 4
 },
 "nbformat": 4,
 "nbformat_minor": 2
}
