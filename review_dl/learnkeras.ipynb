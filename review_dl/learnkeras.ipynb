{
 "cells": [
  {
   "attachments": {},
   "cell_type": "markdown",
   "metadata": {},
   "source": [
    "# 인공지능 활용"
   ]
  },
  {
   "attachments": {},
   "cell_type": "markdown",
   "metadata": {},
   "source": [
    "#### 1. 텐서플로우/케라스 배우기"
   ]
  },
  {
   "attachments": {},
   "cell_type": "markdown",
   "metadata": {},
   "source": [
    "1. 텐서플로우\n",
    "- 머신러닝과 관련된 작업을 수행할 때 기존의 컴퓨터로는 오래걸려 텐서플로우의 GPU 개발툴을 이용해 많은 양의 연산을 병렬 처리 할 수 있게 만들어준다.\n",
    "- 백터 연산은 단일로 처리할 경우 일반적인 연산과 같지만 모아서 행렬로 변환해 처리하게 되면 한번에 많은 양을 \n",
    "효율적으로 처리할 수 있다. 이러한 계산에 특화된 도구가 GPU이다. "
   ]
  },
  {
   "attachments": {},
   "cell_type": "markdown",
   "metadata": {},
   "source": [
    "2. 케라스 \n",
    "- 신경망을 쉽게 만들고 , 훈련, 평가, 실행 할 수 있는 텐서플로우 API이다. \n",
    "- 동일한 코드로 CPU GPU에서 둘다 실행 할 수 있다.\n",
    "- 사용하기 쉬운 api로  딥러닝 모델을 쉽게 만들어 낼 수 있다.\n",
    "\n",
    "\n"
   ]
  },
  {
   "attachments": {},
   "cell_type": "markdown",
   "metadata": {},
   "source": [
    "#### 케라스 요소들에 대한 이해 \n",
    "- 케라스를 통해 신경망을 생성하기 위해서는 신경망 훈련에 관련된 요소들에 대해 이해하고 있어야 한다.\n",
    "  - 네트워크 구성하는 층\n",
    "  - 입력한 데이터 , Target (label)\n",
    "  - 학습에 사용하는 손실함수\n",
    "  - 학습 진행을 결정할 옵티마이저\n"
   ]
  },
  {
   "attachments": {},
   "cell_type": "markdown",
   "metadata": {},
   "source": [
    "1. 레이어\n",
    "- 레이어란 신경망을 구성하는 층이고 하나 이상의 텐서를 입력받고 하나 이상의 텐서를 출력하는 데이터 처리 모듈이다.\n",
    "- 레이어는 가중치를 가지고 있다  (w1,w2 등등)\n",
    "- 레이어는 이런 기본적인 종류를 가지고 있다.\n",
    "    - 완전 연결층\n",
    "    - 밀집층\n",
    "    - 순환층 \n",
    "    - 합성곱층 "
   ]
  },
  {
   "attachments": {},
   "cell_type": "markdown",
   "metadata": {},
   "source": [
    "2. 모델 설계 \n",
    "- 케라스에서 모델을 설계하는 방식은 크게 Sequential API 와 Keras functional API 사용방식으로 나뉜다.\n",
    "Sequential API는 쉽게 간단하게 모델을 설계 할 수 있다는 장점이 있다.\n",
    "- Sequential API 모델 : \n",
    "     - input : InputLayer -> dense:Dense -> dense_1:Dense -> dense_2 : Dense\n",
    "- Sequential API 모델은 선형적인 모델만 설계 가능하여 여러 층을 공유하거나 다양한 입출력 반복의 복잡한 모델을 \n",
    "만들기에는 한계가 있다. 그러한 모델은 Fuctionmal API를 사용한다.\n",
    "- Fuctional API 모델은 Squential API보다 더 복잡한 모델을 설계할 수있다. (비선형, 공유레이어, 다중입력, 다중출력)\n",
    "- Functial API 모델 :\n",
    "     - 입력노드 생성 -> 입력노드객체에서 레이어 호출하여 새 노드 생성 -> 레이어 추가 -> 입력 출력 지정해 모델 생성 \n",
    "     "
   ]
  },
  {
   "attachments": {},
   "cell_type": "markdown",
   "metadata": {},
   "source": [
    "3. 모델 생성 및 학습 \n",
    "- 모델의 생성과 학습 과정의 단계 : \n",
    "    1. Input Tensor와 Target Tensor로 이루어진 Training Dataset을 정의한다.\n",
    "    2. Input Tensor와 Target Tensor을 연결하는 모델을 정의한다.\n",
    "    3. Metric, Loss function, Optimizer 값을 설정해 트레이닝 과정을 만든다.\n",
    "    4. Train된 데이터 셋을 사용하여 핏으로 학습시킨다. \n",
    "    5. 학습한 모델로 평가시작 "
   ]
  },
  {
   "attachments": {},
   "cell_type": "markdown",
   "metadata": {},
   "source": [
    "- 예제를 통한 순서 외워보기 : \n",
    "    - 일단 필요한 모듈을 가져오기 : import tensorflow as tf \n",
    "    - 학습시킬 데이터 셋 생성 : def make data(): ~~~  만들고 \n",
    "    - sklearn.model_selection 을 이용해 트레이닝셋과 테스트셋으로 분리해준다. (머신러닝과 같은과정)\n",
    "    - 모델 생성 : tf.keras.Sequential() \n",
    "    - 모델 생성2 : model.add(tf.keras.layers.Dense(units = 1, input shape=(1,))) 모델 객체에 레이어추가\n",
    "    - input shape 는 dim을 확인하거나 data.shape (x,y)에서 y자리를 보면 차원을 보고 적어주면 된다.\n",
    "    - 트레이닝 과정 설정 : model.compile(optimizer = \"sgd\", loss = \"mse\", metrics = ['accuracy']) lossfunction, optimizer , Metric 과정도 있다. \n",
    "    - sgd : 제일 많이 쓰는 optimizer이다. (왜그러는진 아직 잘 모름)\n",
    "    - mse : loss_fuction\n",
    "    - accuracy : 학습 과정에서 정확도를 파악하는 설정 \n",
    "    - 이제 설정을 다했으니 모델에 학습시켜준다 : model.fit(x_train, y_train, epochs = 100, validation_split = 0.3)\n",
    "    - epochs : 학습되는 횟수 (accuracy 정확도 올리려면 이걸 올려야 할 수도? 경험담)\n",
    "    - validation_split = 분할하여 학습하기 (검증하기)\n",
    "    - 그래프 그려보기 : plt.plot -> x라벨 y라벨 -> show()"
   ]
  },
  {
   "attachments": {},
   "cell_type": "markdown",
   "metadata": {},
   "source": [
    "4. 모델 학습 후 \n",
    "- 모델 학습 끝난 후 : \n",
    "    - 모델에 저장된 가중치를 이용해 실제 모델이 어떻게 학습된지 확인해보기 \n",
    "    - y_predict = model.predict(x_test) plt.plot(x_test, y_test, \"o\"), plt.plot(x_test, y_predict,\"x\")\n",
    "- 가중치 편향 찾아보기 : \n",
    "    - print(model.get_weights()[0][0]) w_1(가중치)\n",
    "    - print(model.get_weights()[1][0]) b = w_0(편향)\n",
    "- 저장기능 : model.save('model.h5') h5확장자로 모델을 저장한다. \n",
    "- 가져오기 기능 : load_model = tf.keras.models.load_model('model.h5')\n",
    "- 체크포인트 기능 : 학습 중간 모델 저장 (나중에 이어서 할 수 있게 하는 작업) \n",
    "- ModelCheckpoint callback을 사용하기 위해서는 checkpoint 위치와 학습 시 callback을 전달 할 수 있도록 설정해줘야 한다.\n",
    "``` python\n",
    "callback_list = [tf.keras.callbacks.TensorBoard(log_dir='logs')] #로그를 저장해줄 디렉토리의 위치 지정\n",
    "\n",
    "model.compile(optimizer='sgd', loss='mse') #모델 저장\n",
    "history = model.fit(x_train,y_train,epochs = 100, callbacks=callback_list, validation_split=0.3)\n",
    "\n",
    "logdir = './logs'\n",
    "tensorboard_callback = tf.keras.callbacks.Tensorboard(logdir, histogram_freq=1) # 몇번의 에폭시에 기록할지 정하는 histogram_freq  0으로 준다면 히스토그램은 계산되지 않음 \n",
    "%load_ext tensorboard # 텐서보드 extension 로드를 위한 magic command  \n",
    "%tensorboard --logdir=./logs # 텐서보드 load \n",
    "```\n"
   ]
  },
  {
   "attachments": {},
   "cell_type": "markdown",
   "metadata": {},
   "source": [
    "- 학습이 완료된 후 모델 평가와 학습과정 분석에 있어서 시각화된 결과가 필요할 때 Tensorflow를 사용한다.\n",
    "- Tensorflow에 Tensorboard라는 기능이 있는데 다양한 시각화 분석 도구를 제공한다.\n"
   ]
  },
  {
   "attachments": {},
   "cell_type": "markdown",
   "metadata": {},
   "source": [
    "#### 2. ANN 배워보기"
   ]
  },
  {
   "cell_type": "markdown",
   "metadata": {},
   "source": []
  }
 ],
 "metadata": {
  "kernelspec": {
   "display_name": "dl",
   "language": "python",
   "name": "python3"
  },
  "language_info": {
   "name": "python",
   "version": "3.10.6 (main, Nov  2 2022, 18:53:38) [GCC 11.3.0]"
  },
  "orig_nbformat": 4,
  "vscode": {
   "interpreter": {
    "hash": "e590ff645bce4c900d07635f4e74b6a2bb3fadaba462b70c8ba1aa5f592d3106"
   }
  }
 },
 "nbformat": 4,
 "nbformat_minor": 2
}
