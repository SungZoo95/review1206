{
 "cells": [
  {
   "cell_type": "markdown",
   "metadata": {},
   "source": [
    "### CNN "
   ]
  },
  {
   "cell_type": "markdown",
   "metadata": {},
   "source": [
    "- CNN Layer에 input 가능한 형태로 변경\n",
    "```python\n",
    "X_train = np.expand_dims(X_train, -1)\n",
    "(60000, 28, 28)의 shape 에서 (60000, 28, 28, 1)의 shape로 변경해준다.\n",
    "```\n",
    "- y는 역시 변경하지 않음 \n",
    "\n",
    "\n"
   ]
  },
  {
   "cell_type": "markdown",
   "metadata": {},
   "source": [
    "- Y_train을 이용해 one hot encoding == to_categorical\n",
    "```python\n",
    "Y_train = keras.utils.to_categorical(y_train)\n",
    "\n",
    "Y_train :array([[0., 0., 0., ..., 0., 0., 0.],\n",
    "       [1., 0., 0., ..., 0., 0., 0.],\n",
    "       [0., 0., 0., ..., 0., 0., 0.],\n",
    "       ...,\n",
    "       [0., 0., 0., ..., 0., 0., 0.],\n",
    "       [0., 0., 0., ..., 0., 0., 0.],\n",
    "       [0., 0., 0., ..., 0., 1., 0.]], dtype=float32)\n",
    "\n",
    "y_train : array([5, 0, 4, ..., 5, 6, 8], dtype=uint8)\n",
    "\n",
    "```\n",
    "- 차이점 발생\n"
   ]
  },
  {
   "cell_type": "markdown",
   "metadata": {},
   "source": [
    "- 모델 생성 \n",
    "  - input_shape = (28, 28, 1) \n",
    "    - 왜? RGB의 기준이 3개의 값이 필요하기 때문 저번 grayscale은 한가지의 값만 필요하기 때매 1개의 값만 들어감 \n",
    "  "
   ]
  },
  {
   "cell_type": "markdown",
   "metadata": {},
   "source": [
    "- 모델 예시\n",
    "  \n",
    "```python\n",
    "model = keras.Sequential()\n",
    "model.add(keras.layers.Conv2D(64, kernel_size=(3, 3), activation='relu',input_shape=(28, 28, 1)))\n",
    "\n",
    "model.add(keras.layers.MaxPooling2D(pool_size=2))\n",
    "\n",
    "model.add(keras.layers.Conv2D(128, (3, 3), activation='relu'))\n",
    "\n",
    "model.add(keras.layers.MaxPooling2D(pool_size=2))\n",
    "\n",
    "model.add(keras.layers.Flatten())\n",
    "\n",
    "model.add(keras.layers.Dense(units=128, activation='relu'))\n",
    "\n",
    "model.add(keras.layers.Dense(units=64, activation='relu'))\n",
    "\n",
    "model.add(keras.layers.Dense(units=10, activation='softmax'))\n",
    "\n",
    "```\n",
    "\n"
   ]
  },
  {
   "cell_type": "markdown",
   "metadata": {},
   "source": [
    "- 모델 학습 \n",
    "```python\n",
    "history=model.fit(X_train, Y_train, batch_size=128, epochs=4, validation_split= 0.2) \n",
    "```\n",
    "- validation_split validation data를 X_train의 20% 를 사용해 측정 "
   ]
  },
  {
   "cell_type": "markdown",
   "metadata": {},
   "source": [
    "- 모델 구조 \n",
    "```python\n",
    "model.summary()\n",
    "```\n",
    "  "
   ]
  },
  {
   "cell_type": "markdown",
   "metadata": {},
   "source": [
    "- 입력 텐서 형태 , 출력 텐서 형태, model의 중간 계층의 layer 객체를 확인 할 수 있다. \n",
    "\n",
    "model.input, model.output, model.layers\n",
    "\n",
    "```python\n",
    "<KerasTensor: shape=(None, 28, 28, 1) dtype=float32 (created by layer 'conv2d_4_input')>,\n",
    " <KerasTensor: shape=(None, 10) dtype=float32 (created by layer 'dense_8')>,\n",
    " [<keras.layers.convolutional.conv2d.Conv2D at 0x7f8e1620d1f0>,\n",
    "  <keras.layers.pooling.max_pooling2d.MaxPooling2D at 0x7f8e1620ddc0>,\n",
    "  <keras.layers.convolutional.conv2d.Conv2D at 0x7f8e1620dca0>,\n",
    "  <keras.layers.pooling.max_pooling2d.MaxPooling2D at 0x7f8e1620dd90>,\n",
    "  <keras.layers.reshaping.flatten.Flatten at 0x7f8df9f57ca0>,\n",
    "  <keras.layers.core.dense.Dense at 0x7f8df99015b0>,\n",
    "  <keras.layers.core.dense.Dense at 0x7f8df9974970>,\n",
    "  <keras.layers.core.dense.Dense at 0x7f8df9901550>]\n",
    "  ```"
   ]
  },
  {
   "cell_type": "markdown",
   "metadata": {},
   "source": [
    "- input : shape=(None, 28, 28, 1)\n",
    "- output : shape=(None, 10)"
   ]
  },
  {
   "cell_type": "markdown",
   "metadata": {},
   "source": [
    "- 첫 번째 레이어 선택 \n",
    "model.layers[0]\n",
    "model.layers[0].input\n",
    "model.layers[0].output\n",
    "```python\n",
    "\n",
    "# model.add(keras.layers.Conv2D(64, kernel_size=(3, 3), activation='relu',input_shape=(28, 28, 1)))\n",
    "#(<KerasTensor: shape=(None, 28, 28, 1) dtype=float32 (created by layer 'conv2d_input')>\n",
    "#<KerasTensor: shape=(None, 26, 26, 64) dtype=float32 (created by layer 'conv2d')>)\n",
    "\n",
    "```"
   ]
  },
  {
   "cell_type": "markdown",
   "metadata": {},
   "source": [
    "- 레이어 가중치 확인 \n",
    "- model.layers[0].weights[0]\n",
    "- (3,3,1, 64): 3x3 kernel 1개 64개 존재의 개수만큼의 가중치 존재 (9*64)\n",
    "- model.layers[0].weights[1]\n",
    "- 64개의 kernel에 대한 가중치 64개 존재 "
   ]
  },
  {
   "cell_type": "markdown",
   "metadata": {},
   "source": []
  }
 ],
 "metadata": {
  "kernelspec": {
   "display_name": "Python 3.10.6 ('ml': venv)",
   "language": "python",
   "name": "python3"
  },
  "language_info": {
   "name": "python",
   "version": "3.10.6"
  },
  "orig_nbformat": 4,
  "vscode": {
   "interpreter": {
    "hash": "090c450229820821642eda28cf9f1335c0a9c61bfe48f459620fdc15e7d68c7b"
   }
  }
 },
 "nbformat": 4,
 "nbformat_minor": 2
}
