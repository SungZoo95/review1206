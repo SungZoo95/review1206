{
 "cells": [
  {
   "attachments": {},
   "cell_type": "markdown",
   "metadata": {},
   "source": [
    "# regression"
   ]
  },
  {
   "attachments": {},
   "cell_type": "markdown",
   "metadata": {},
   "source": [
    "- activation function = [\"sigmoid\", \"tanh\", \"relu\"]\n",
    "- unit_1 학습시킬 노드의 개수\n",
    "- unit_2  y.shape의 값이 (100,)이면 shape 끝이 1이므로 1이다.\n",
    "- input_shape x.shape의 값이 (100,)이면 역시 1이다. "
   ]
  },
  {
   "attachments": {},
   "cell_type": "markdown",
   "metadata": {},
   "source": [
    "### 정리 : 고차원의 polynomial regression\n",
    "1. sklearn polynomialfeatures 이용해서 linear regression 진행\n",
    "2. NN을 이용해 regression 진행 -> model의 레이어 추가 / unit의 개수를 추가해준다.\n",
    "3. RNN을 이용해서 sequence로 학습 "
   ]
  },
  {
   "attachments": {},
   "cell_type": "markdown",
   "metadata": {},
   "source": [
    "# Mnist-keras"
   ]
  },
  {
   "attachments": {},
   "cell_type": "markdown",
   "metadata": {},
   "source": [
    "- X_train shape : (60000, 28, 28)\n",
    "- y_train shape : (60000,) 의 데이터를 다운 받았을때\n",
    "- X_train의 형상을 (60000, 28*28)인 (60000, 784)의 형태로 flatten 시켜주고\n",
    "- y_train의 데이터는 변경해주지 않는다. \n"
   ]
  },
  {
   "attachments": {},
   "cell_type": "markdown",
   "metadata": {},
   "source": [
    "### to_categorical\n",
    "- one hot encoding 과 같이 작동하는 함수 (array를 0과 1로 변경해줌)"
   ]
  },
  {
   "attachments": {},
   "cell_type": "markdown",
   "metadata": {},
   "source": [
    "### 모델 제작\n",
    "- relu 모델 사용 shape는 784 당연히 써주고 마지막에 0과 1로 나눠져있으니 softmax함수"
   ]
  },
  {
   "attachments": {},
   "cell_type": "markdown",
   "metadata": {},
   "source": [
    "- model.evaluate : 학습에서 얻은 모델을 test데이터로 평가함\n"
   ]
  },
  {
   "attachments": {},
   "cell_type": "markdown",
   "metadata": {},
   "source": [
    "# CNN"
   ]
  },
  {
   "attachments": {},
   "cell_type": "markdown",
   "metadata": {},
   "source": [
    "- Convlution\n",
    "- Relu\n",
    "- Pooling   \n",
    "- 이 세가지를 적절하게 조합해서 이루어진 딥러닝"
   ]
  },
  {
   "attachments": {},
   "cell_type": "markdown",
   "metadata": {},
   "source": [
    "### Convlution \n",
    "- Convlution 연산은 input값과 kernel의 크기만큼 곱을 진행한다.\n",
    "- 한 수용장과 다음 수용장 사이의 간격을 스트라이드 라고 한다.\n",
    "- Convlution 연산이 반복될수록 이미지의 크기가 1픽셀식(이상) 줄게되는데 \n",
    "이걸 방지하기 위해서 padding이 존재한다.\n",
    "- padding은 가장자리 값을 특정값(기본값=0)으로 채운채로 곱을 진행한다.\n",
    "(크기가 줄지 않음)\n"
   ]
  },
  {
   "attachments": {},
   "cell_type": "markdown",
   "metadata": {},
   "source": [
    "### Pooling\n",
    "- 이미지의 크기를 줄여주며 효율적인 연산을 가능하게 해준다\n",
    "- Maxpooling, Minpooling, Avaragepooling 이 다양하게 존재한다.\n",
    "(컴퓨터로 행렬 표현은 힘들어 곱 연습은 손으로 진행한다)"
   ]
  },
  {
   "cell_type": "markdown",
   "metadata": {},
   "source": []
  }
 ],
 "metadata": {
  "kernelspec": {
   "display_name": "dl",
   "language": "python",
   "name": "python3"
  },
  "language_info": {
   "name": "python",
   "version": "3.10.6 (main, Nov  2 2022, 18:53:38) [GCC 11.3.0]"
  },
  "orig_nbformat": 4,
  "vscode": {
   "interpreter": {
    "hash": "e590ff645bce4c900d07635f4e74b6a2bb3fadaba462b70c8ba1aa5f592d3106"
   }
  }
 },
 "nbformat": 4,
 "nbformat_minor": 2
}
