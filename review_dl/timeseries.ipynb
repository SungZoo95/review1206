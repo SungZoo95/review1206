{
 "cells": [
  {
   "attachments": {},
   "cell_type": "markdown",
   "metadata": {},
   "source": [
    "# 타임시리즈 데이터 예측"
   ]
  },
  {
   "attachments": {},
   "cell_type": "markdown",
   "metadata": {},
   "source": [
    "- 지금까지 공부했을때는 정지된 상태에서 모델로 예측을 해봤지만 지금부턴 정지되지 않은 흐르는 시간속에 있는 데이터를 예측하는 법을 알아본다."
   ]
  },
  {
   "attachments": {},
   "cell_type": "markdown",
   "metadata": {},
   "source": [
    "### 순차 데이터의 종류\n",
    "- 자연어 : 나 xx했어, 나 오늘 xx먹었어 \n",
    "- 심전도 : 시간에 따른 심장박동\n",
    "- 동영상 : 사진들을 시간에따라 보여주면 동영상\n",
    "- 주식 : 어제가 주가를 반영한 오늘의 주식 "
   ]
  },
  {
   "attachments": {},
   "cell_type": "markdown",
   "metadata": {},
   "source": [
    "### 타임 시리즈 두 가지 분류"
   ]
  },
  {
   "attachments": {},
   "cell_type": "markdown",
   "metadata": {},
   "source": [
    "1. deterministic \n",
    "- 어떤 특정한 입력이 들어오면 언제나 똑같은 과정을 거쳐 똑같은 데이터를 보내는 데이터 (예측 쉬움)\n",
    "- 예) 점화식 \n",
    "2 . stochastic \n",
    "- 과거에 데이터가 미래의 데이터에 영향을 미치지만 확률적으로 변화하는 데이터 \n",
    "    - stationary : 시간이 변해도 평균과 분산이 변하지 않는다 -> 특정 패턴을 따라감\n",
    "    - Non-stationary : 매 시간마다 값이 바뀜(주가같은거) -> 예측하기가 어려움 \n"
   ]
  },
  {
   "attachments": {},
   "cell_type": "markdown",
   "metadata": {},
   "source": [
    "### 타임시리즈 데이터를 예측하는 방법 "
   ]
  },
  {
   "attachments": {},
   "cell_type": "markdown",
   "metadata": {},
   "source": [
    "1. Markov Procss\n",
    "    - 이전의 사건들이 영향을 끼쳐 현재사건을 일으킨다는 생각 \n",
    "    - 오늘 저녁을 뭘먹었지? -> 점심에서 영향을 받았음 그럼 점심을 뭘먹었지 -> 아침에 영향을 받음-> ... 태어났을때 뭐먹었지? \n",
    "    - 이렇듯 너무 멀리가게 됨 \n",
    "- Markovian Property\n",
    "    - 지금의 상태가 미래를 측정하는 기준이기 때문에 지금 상태에 과거의 확률이 축적되어 있다고 생각하자. (수식이 간단해지고 고려할게 적어짐)\n",
    "    - 오늘 아침에 면을 먹었으니 점심엔 밥을먹자! (현재 상황을 통해 미래를 결정)\n",
    "- Markov chain\n",
    "    - 다른 모델과 다르게 자기 자신과 곱해주는 값도 존재한다.\n",
    "    - input 레이어에서 은닉층으로 가는 값을 입력해주는 U 은닉층에서 아웃풋레이어로 값을 입력해주는 V와 자기자신과 곱해주는 W라는 값이 있는게 특징 \n",
    "    - 자기자신에게 가는 값이 0.8이면 다음층으로 가는 값은 0.2 (합이 1이되어야 하기 때문)\n",
    "- 이렇듯 Markov model은 너무 복잡하다(과거에 영향을 받는 모델이라)\n",
    "2 . Kalman Filter\n",
    "    - 칼만 필터는 상태 예측과 측정값 업데이트를 반복적으로 수행하여 상태를 예측한다.\n",
    "    - 타임시리즈 데이터를 예측하는 가장 일반적 방법 \n",
    "    - 커피 필터와 뜨거운물을 커피필터에 부어주고 그뒤에 커피필터를 제거해주면 커피가 나오게된다.\n",
    "    - 이처럼 칼만 필터를 사용하면 레이어에 반영되는값이 나오고 (커피필터 제거하듯) 나머지(커피)는 다음층으로 반영이 된다 ."
   ]
  },
  {
   "cell_type": "markdown",
   "metadata": {},
   "source": []
  }
 ],
 "metadata": {
  "language_info": {
   "name": "python"
  },
  "orig_nbformat": 4
 },
 "nbformat": 4,
 "nbformat_minor": 2
}
