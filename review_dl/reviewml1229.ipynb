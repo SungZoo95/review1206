{
 "cells": [
  {
   "attachments": {},
   "cell_type": "markdown",
   "metadata": {},
   "source": [
    "# 딥러닝"
   ]
  },
  {
   "attachments": {},
   "cell_type": "markdown",
   "metadata": {},
   "source": [
    "### 퍼셉트론\n",
    "- 특정 확률에 대한 문제 (1:0, 0:x)\n",
    "    - 성별\n",
    "    - 나이 "
   ]
  },
  {
   "attachments": {},
   "cell_type": "markdown",
   "metadata": {},
   "source": [
    "- 다수의 신호를 입력 받아 하나의 신호를 출력한다.\n",
    "- 신호는 0 또는 1로 나타낸다.\n",
    "- x : 입력신호\n",
    "- y : 출력신호\n",
    "- w : 가중치\n",
    "- 원 : 뉴런(or 노드)"
   ]
  },
  {
   "attachments": {},
   "cell_type": "markdown",
   "metadata": {},
   "source": [
    "### 단순한 논리 회로"
   ]
  },
  {
   "attachments": {},
   "cell_type": "markdown",
   "metadata": {},
   "source": [
    "1. AND 게이트 \n",
    "\n",
    "| x1   |  x2 |     y|\n",
    "|:-----:|:-------:|:------:|\n",
    "|  0   |  0  |     0|\n",
    "| 1     | 0 |  0   |\n",
    "|0     |1    |0       |\n",
    "|1     |1    |1       |"
   ]
  },
  {
   "attachments": {},
   "cell_type": "markdown",
   "metadata": {},
   "source": [
    "2. NAND 게이트 (AND 게이트와 반대 )\n",
    "\n",
    "| x1   |  x2 |     y|\n",
    "|:-----:|:-------:|:------:|\n",
    "|  0   |  0  |     1|\n",
    "| 1     | 0 |  1   |\n",
    "|0     |1    |1      |\n",
    "|1     |1    |0       |"
   ]
  },
  {
   "attachments": {},
   "cell_type": "markdown",
   "metadata": {},
   "source": [
    "3. OR 게이트 \n",
    "\n",
    "| x1   |  x2 |     y|\n",
    "|:-----:|:-------:|:------:|\n",
    "|  0   |  0  |     0|\n",
    "| 1     | 0 |  1  |\n",
    "|0     |1    |1       |\n",
    "|1     |1    |1       |"
   ]
  },
  {
   "attachments": {},
   "cell_type": "markdown",
   "metadata": {},
   "source": [
    "- XOR 게이트는 안되는 이유 \n",
    "- 그래프로 그리게 될때 XOR의 범위를 포함하려면 선을 두개로 그려야한다. \n",
    "- 직선으로는 두영역으로 나눌수가 없다."
   ]
  },
  {
   "attachments": {},
   "cell_type": "markdown",
   "metadata": {},
   "source": [
    "### 퍼셉트론의 장단점\n",
    "- 장점\n",
    "    - 퍼셉트론은 복잡한 함수도 표현가능하다.\n",
    "- 단점\n",
    "    - 가중치를 설정하는 작업은 우리가 input 해줘야한다."
   ]
  },
  {
   "attachments": {},
   "cell_type": "markdown",
   "metadata": {},
   "source": [
    "### 신경망 "
   ]
  },
  {
   "attachments": {},
   "cell_type": "markdown",
   "metadata": {},
   "source": [
    "- 신경망의 은닉충은 우리가 볼 수 없음 \n"
   ]
  },
  {
   "attachments": {},
   "cell_type": "markdown",
   "metadata": {},
   "source": [
    "- 퍼셉트론 예제 \n",
    "- x1과 x2라는 두 신호를 입력받아 y를 출력하는 퍼셉트론일 경우 수식은?\n",
    "- b(편향)+w1x1+w2x2(가중치,매개변수 w1)\n",
    "- y = h(b+ w1x1 + w2x2) \n",
    "- 과정 : 가중치 1 x1 x2 총 세개의  뉴런이 다음 뉴런에 전달하기 위해 편향은 b x1은w1의 가중치 x2는 w2의\n",
    "가중치를 가지고 y에게 가서 h(x)라는 함수로 변환되어 출력된다.(은닉함수일 경우 다음거로 출력)\n"
   ]
  },
  {
   "attachments": {},
   "cell_type": "markdown",
   "metadata": {},
   "source": [
    "#### 활성화 함수 \n",
    "- 입력 신호의 합을 출력신호로 변환해준다.\n",
    "- 활성화 라는 이름따라 입력 신호의 총합이 활성화를 일으키는지를 정하는 역할을 한다.\n",
    "- 과정 : \n",
    "    - 1. 가중치가 달린 입력신호(x1w1,x2w2...)와 편향(b)의 총합을 계산 이것을 a라한다.\n",
    "    - 2. a를 h()함수에 넣어 y라는 값을 출력한다.\n",
    "- 가중치 신호를 조합한 a라는 노드가 되고, 그걸 활성화 함수로 통과시켜 y라는 노드로 변환시켜 출력\n",
    "\n"
   ]
  },
  {
   "attachments": {},
   "cell_type": "markdown",
   "metadata": {},
   "source": [
    "#### 계단함수와 시그모이드 함수의 차이 \n",
    "\n",
    "- 가장 직관적인 차이는 매끄러움의 차이\n",
    "    - 시그모이드는 곡선의 형태이고 입력에 따라 출력이 변경된다.\n",
    "    - 계단함수는 갑자기 출력 값이 0으로 바뀌어버린다."
   ]
  },
  {
   "cell_type": "markdown",
   "metadata": {},
   "source": []
  }
 ],
 "metadata": {
  "kernelspec": {
   "display_name": "dl",
   "language": "python",
   "name": "python3"
  },
  "language_info": {
   "name": "python",
   "version": "3.10.6 (main, Nov  2 2022, 18:53:38) [GCC 11.3.0]"
  },
  "orig_nbformat": 4,
  "vscode": {
   "interpreter": {
    "hash": "e590ff645bce4c900d07635f4e74b6a2bb3fadaba462b70c8ba1aa5f592d3106"
   }
  }
 },
 "nbformat": 4,
 "nbformat_minor": 2
}
