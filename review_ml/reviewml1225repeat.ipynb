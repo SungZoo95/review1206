{
 "cells": [
  {
   "attachments": {},
   "cell_type": "markdown",
   "metadata": {},
   "source": [
    "# sciket - learn  복습 "
   ]
  },
  {
   "attachments": {},
   "cell_type": "markdown",
   "metadata": {},
   "source": [
    "- 데이터 전처리 과정 -> 데이터 셋 분리 -> 모델 생성 및 학습 -> 예측 수행 -> 평가 \n",
    "- 이해한대로 설명 \n",
    "    - 필요없는 컬럼 제거 (target값이 같이 붙어있는다던지 등등 제거)\n",
    "    - 데이터 셋 분리 (data와 target)로 나눈다\n",
    "    - 모델 생성 : model = regression(예시)\n",
    "    - 학습 : model.fit(학습할거리 x,y | x_train, y_train , x_test , y_test)\n",
    "    - 예측 수행 : model.predict(x_test) 보통 x_train,y_train을 입력해 놓은 모델에 x_test의 값을 예측하게 하는편 \n",
    "    - 평가 : 실제모델 평가 model.fit(y_test, predict된 x_test의 값)"
   ]
  },
  {
   "attachments": {},
   "cell_type": "markdown",
   "metadata": {},
   "source": [
    "- 처음 배웠던것 LinearRegression \n",
    "- 항상 데이터 셋의 쉐잎은 확인해주는것이 좋다 x.shape y.shape  \n",
    "- 쉐잎이 맞지 않을경우 리쉐잎으로 하나는 이차원 배열을 만들어줘야한다 보통 .reshape(-1,1을 쓴다)\n",
    "- coef_ 기울기 intercept_ y절편의 값 (coef_가 컬럼 개수만큼 나오는걸로 기억..)\n",
    "- train_test_split 함수 중요 from sklearn.model_selection 모델에 데이터 전부를 넣어버리면 이 데이터를 입력했을때 자기의 구성성분으로 이루어진 모델에 자기 구성성분을 넣으면 무조건 100%가 나올것이므로 나눠주는것이 필요해 만든 함수 \n",
    "- x_train, y_train , x_test , y_test (x_valid, y_valid) = train_test_split(x_date,y_data)\n",
    "기본 형이며 y_data 뒤에 test_size= 0.2 를 붙여준다 \n",
    "- 이렇게 사용하면 x_data와 y_data의 값을 train 과 test의 형태로 분할해준다 \n",
    "- test_size 를 사용하면 그 비율을 정할 수 있다 . 0.2 같은경우면 train 0.8 test 0.2 의 비율 \n",
    "- 쓰지 않은다면 디폴트 값은 0.25로 기억한다. \n"
   ]
  },
  {
   "attachments": {},
   "cell_type": "markdown",
   "metadata": {},
   "source": [
    "- predeict_proba : 예측 확률을 알려준다 \n",
    "예를들어 결과가 0일 확률을 predict_proba로 뽑고 1일 확률을 predict_proba로 뽑는다면 \n",
    "둘의 합은 1이 된다 . "
   ]
  },
  {
   "attachments": {},
   "cell_type": "markdown",
   "metadata": {},
   "source": [
    "# Simple Linear Regression"
   ]
  },
  {
   "attachments": {},
   "cell_type": "markdown",
   "metadata": {},
   "source": [
    "- 독립 변수 X와 그에 따라 바뀌는 종속 변수 y로 만든 관계 \n",
    "- 독립 변수 X_data X_train X_test 등등 (꼭 x여야 하는것이 아님)\n",
    "- 종속 변수 y_data y_train y_test (X의 타겟값)"
   ]
  },
  {
   "attachments": {},
   "cell_type": "markdown",
   "metadata": {},
   "source": [
    "# Metric"
   ]
  },
  {
   "cell_type": "code",
   "execution_count": null,
   "metadata": {},
   "outputs": [],
   "source": [
    "# 실습 당뇨병 진행 예측 \n",
    "from sklearn.datasets import load_diabetes\n",
    "from sklearn.model_selection import train_test_split\n",
    "diabetes = load_diabetes()  # 저장되어있는 데이터 값을 불러옴 \n",
    "diabetes.data, diabetes.target # data 가 독립변수 target 값이 종속변수 "
   ]
  },
  {
   "cell_type": "code",
   "execution_count": 6,
   "metadata": {},
   "outputs": [
    {
     "name": "stdout",
     "output_type": "stream",
     "text": [
      "(442, 10)\n",
      "(442,)\n"
     ]
    }
   ],
   "source": [
    "# 데이터 셋 분리작업 \n",
    "print(diabetes.data.shape)\n",
    "print(diabetes.target.shape) # 하나는 백터고 앞에 숫자가 맞으면 서로 train_test_split 가능"
   ]
  },
  {
   "cell_type": "code",
   "execution_count": 12,
   "metadata": {},
   "outputs": [],
   "source": [
    "# 데이터 셋 분리작업 마무리 \n",
    "X_train , X_valid , y_train, y_valid = train_test_split(diabetes.data, diabetes.target, test_size=0.2)"
   ]
  },
  {
   "cell_type": "code",
   "execution_count": 13,
   "metadata": {},
   "outputs": [],
   "source": [
    "# 모델 생성 작업 \n",
    "from sklearn.linear_model import LinearRegression\n",
    "model = LinearRegression()"
   ]
  },
  {
   "cell_type": "code",
   "execution_count": 14,
   "metadata": {},
   "outputs": [
    {
     "data": {
      "text/html": [
       "<style>#sk-container-id-2 {color: black;background-color: white;}#sk-container-id-2 pre{padding: 0;}#sk-container-id-2 div.sk-toggleable {background-color: white;}#sk-container-id-2 label.sk-toggleable__label {cursor: pointer;display: block;width: 100%;margin-bottom: 0;padding: 0.3em;box-sizing: border-box;text-align: center;}#sk-container-id-2 label.sk-toggleable__label-arrow:before {content: \"▸\";float: left;margin-right: 0.25em;color: #696969;}#sk-container-id-2 label.sk-toggleable__label-arrow:hover:before {color: black;}#sk-container-id-2 div.sk-estimator:hover label.sk-toggleable__label-arrow:before {color: black;}#sk-container-id-2 div.sk-toggleable__content {max-height: 0;max-width: 0;overflow: hidden;text-align: left;background-color: #f0f8ff;}#sk-container-id-2 div.sk-toggleable__content pre {margin: 0.2em;color: black;border-radius: 0.25em;background-color: #f0f8ff;}#sk-container-id-2 input.sk-toggleable__control:checked~div.sk-toggleable__content {max-height: 200px;max-width: 100%;overflow: auto;}#sk-container-id-2 input.sk-toggleable__control:checked~label.sk-toggleable__label-arrow:before {content: \"▾\";}#sk-container-id-2 div.sk-estimator input.sk-toggleable__control:checked~label.sk-toggleable__label {background-color: #d4ebff;}#sk-container-id-2 div.sk-label input.sk-toggleable__control:checked~label.sk-toggleable__label {background-color: #d4ebff;}#sk-container-id-2 input.sk-hidden--visually {border: 0;clip: rect(1px 1px 1px 1px);clip: rect(1px, 1px, 1px, 1px);height: 1px;margin: -1px;overflow: hidden;padding: 0;position: absolute;width: 1px;}#sk-container-id-2 div.sk-estimator {font-family: monospace;background-color: #f0f8ff;border: 1px dotted black;border-radius: 0.25em;box-sizing: border-box;margin-bottom: 0.5em;}#sk-container-id-2 div.sk-estimator:hover {background-color: #d4ebff;}#sk-container-id-2 div.sk-parallel-item::after {content: \"\";width: 100%;border-bottom: 1px solid gray;flex-grow: 1;}#sk-container-id-2 div.sk-label:hover label.sk-toggleable__label {background-color: #d4ebff;}#sk-container-id-2 div.sk-serial::before {content: \"\";position: absolute;border-left: 1px solid gray;box-sizing: border-box;top: 0;bottom: 0;left: 50%;z-index: 0;}#sk-container-id-2 div.sk-serial {display: flex;flex-direction: column;align-items: center;background-color: white;padding-right: 0.2em;padding-left: 0.2em;position: relative;}#sk-container-id-2 div.sk-item {position: relative;z-index: 1;}#sk-container-id-2 div.sk-parallel {display: flex;align-items: stretch;justify-content: center;background-color: white;position: relative;}#sk-container-id-2 div.sk-item::before, #sk-container-id-2 div.sk-parallel-item::before {content: \"\";position: absolute;border-left: 1px solid gray;box-sizing: border-box;top: 0;bottom: 0;left: 50%;z-index: -1;}#sk-container-id-2 div.sk-parallel-item {display: flex;flex-direction: column;z-index: 1;position: relative;background-color: white;}#sk-container-id-2 div.sk-parallel-item:first-child::after {align-self: flex-end;width: 50%;}#sk-container-id-2 div.sk-parallel-item:last-child::after {align-self: flex-start;width: 50%;}#sk-container-id-2 div.sk-parallel-item:only-child::after {width: 0;}#sk-container-id-2 div.sk-dashed-wrapped {border: 1px dashed gray;margin: 0 0.4em 0.5em 0.4em;box-sizing: border-box;padding-bottom: 0.4em;background-color: white;}#sk-container-id-2 div.sk-label label {font-family: monospace;font-weight: bold;display: inline-block;line-height: 1.2em;}#sk-container-id-2 div.sk-label-container {text-align: center;}#sk-container-id-2 div.sk-container {/* jupyter's `normalize.less` sets `[hidden] { display: none; }` but bootstrap.min.css set `[hidden] { display: none !important; }` so we also need the `!important` here to be able to override the default hidden behavior on the sphinx rendered scikit-learn.org. See: https://github.com/scikit-learn/scikit-learn/issues/21755 */display: inline-block !important;position: relative;}#sk-container-id-2 div.sk-text-repr-fallback {display: none;}</style><div id=\"sk-container-id-2\" class=\"sk-top-container\"><div class=\"sk-text-repr-fallback\"><pre>LinearRegression()</pre><b>In a Jupyter environment, please rerun this cell to show the HTML representation or trust the notebook. <br />On GitHub, the HTML representation is unable to render, please try loading this page with nbviewer.org.</b></div><div class=\"sk-container\" hidden><div class=\"sk-item\"><div class=\"sk-estimator sk-toggleable\"><input class=\"sk-toggleable__control sk-hidden--visually\" id=\"sk-estimator-id-2\" type=\"checkbox\" checked><label for=\"sk-estimator-id-2\" class=\"sk-toggleable__label sk-toggleable__label-arrow\">LinearRegression</label><div class=\"sk-toggleable__content\"><pre>LinearRegression()</pre></div></div></div></div></div>"
      ],
      "text/plain": [
       "LinearRegression()"
      ]
     },
     "execution_count": 14,
     "metadata": {},
     "output_type": "execute_result"
    }
   ],
   "source": [
    "# 모델 생성 후 학습 \n",
    "model.fit(X_train,y_train)"
   ]
  },
  {
   "cell_type": "code",
   "execution_count": 15,
   "metadata": {},
   "outputs": [],
   "source": [
    "y_valid_predict = model.predict(X_valid) # 생성된 모델에 X_valid 테스트 값을 예측값으로 저장 "
   ]
  },
  {
   "attachments": {},
   "cell_type": "markdown",
   "metadata": {},
   "source": [
    "### 회귀 평가 지표"
   ]
  },
  {
   "attachments": {},
   "cell_type": "markdown",
   "metadata": {},
   "source": [
    "### MSE (Mean Squared Error)\n",
    "- 실체값과 예측값의 차이를 제곱해서 평균화 "
   ]
  },
  {
   "cell_type": "code",
   "execution_count": 17,
   "metadata": {},
   "outputs": [
    {
     "name": "stdout",
     "output_type": "stream",
     "text": [
      "3600.5985968812074\n"
     ]
    }
   ],
   "source": [
    "from sklearn.metrics import mean_squared_error\n",
    "mse = mean_squared_error(y_valid_predict, y_valid)\n",
    "print(mse) # 값이 너무크게 나옴 "
   ]
  },
  {
   "attachments": {},
   "cell_type": "markdown",
   "metadata": {},
   "source": [
    "### RMSE (Root Mean Squared Error)\n",
    "- MSE에 루트만 씌운 형태 "
   ]
  },
  {
   "cell_type": "code",
   "execution_count": 19,
   "metadata": {},
   "outputs": [
    {
     "name": "stdout",
     "output_type": "stream",
     "text": [
      "60.004988100000546\n",
      "60.004988100000546\n"
     ]
    }
   ],
   "source": [
    "# 방법 1\n",
    "import numpy as np\n",
    "print(np.sqrt(mse))\n",
    "\n",
    "# 방법 2 \n",
    "rmse = mean_squared_error(y_valid_predict, y_valid, squared=False)\n",
    "print(rmse)"
   ]
  },
  {
   "attachments": {},
   "cell_type": "markdown",
   "metadata": {},
   "source": [
    "### MAE (Mean Absolute Error)\n",
    "- 실제값과 예측값의 차이를 절대값으로 변환해서 평균화 "
   ]
  },
  {
   "cell_type": "code",
   "execution_count": 20,
   "metadata": {},
   "outputs": [
    {
     "data": {
      "text/plain": [
       "48.432230104354396"
      ]
     },
     "execution_count": 20,
     "metadata": {},
     "output_type": "execute_result"
    }
   ],
   "source": [
    "from sklearn.metrics import mean_absolute_error\n",
    "mae = mean_absolute_error(y_valid_predict, y_valid) \n",
    "mae"
   ]
  },
  {
   "attachments": {},
   "cell_type": "markdown",
   "metadata": {},
   "source": [
    "### MAPE (Mean Absolute Percentage Error)\n",
    "\n",
    "- 실제값에 대한 절대오차 비율의 평균을 퍼센트로 표현 "
   ]
  },
  {
   "cell_type": "code",
   "execution_count": 21,
   "metadata": {},
   "outputs": [
    {
     "name": "stdout",
     "output_type": "stream",
     "text": [
      "0.3472310147505409\n"
     ]
    },
    {
     "data": {
      "text/plain": [
       "0.3472310147505409"
      ]
     },
     "execution_count": 21,
     "metadata": {},
     "output_type": "execute_result"
    }
   ],
   "source": [
    "# 방법1 \n",
    "def mape(true,pred):\n",
    "    return np.mean(np.abs((true-pred) / true))\n",
    "print(mape(y_valid_predict, y_valid))\n",
    "\n",
    "# 방법2 \n",
    "from sklearn.metrics import mean_absolute_percentage_error\n",
    "mean_absolute_percentage_error(y_valid_predict, y_valid)"
   ]
  },
  {
   "attachments": {},
   "cell_type": "markdown",
   "metadata": {},
   "source": [
    "### SMAPE (Symmetric Mean Absolute Percentage Error)\n",
    "\n",
    "- 기존 MAPE의 단점을 보완 \n",
    "- 실제값과 예측값을 절대값으로 변경 후 합으로 나눈다.\n",
    "- 실제값이 예측값보다 크거나 작을 수도 있다. \n"
   ]
  },
  {
   "cell_type": "code",
   "execution_count": 22,
   "metadata": {},
   "outputs": [
    {
     "data": {
      "text/plain": [
       "0.17059206280827396"
      ]
     },
     "execution_count": 22,
     "metadata": {},
     "output_type": "execute_result"
    }
   ],
   "source": [
    "def smape(true,pred):\n",
    "    error = np.abs(true-pred) / (np.abs(true) + np.abs(pred))\n",
    "    return np.mean(error)\n",
    "smape(y_valid_predict, y_valid)"
   ]
  },
  {
   "attachments": {},
   "cell_type": "markdown",
   "metadata": {},
   "source": [
    "### 결정계수 R2 \n",
    "\n",
    "- 실제 관측값의 분산대비 예측값의 분산을 계산해 데이터 예측의 정확도 성능을 측청한다.\n",
    "- 0~1사이의 수로 나타내어지며 1에 가까울수록 100%에 가까워진다.\n"
   ]
  },
  {
   "cell_type": "code",
   "execution_count": 23,
   "metadata": {},
   "outputs": [
    {
     "data": {
      "text/plain": [
       "0.4235282260426284"
      ]
     },
     "execution_count": 23,
     "metadata": {},
     "output_type": "execute_result"
    }
   ],
   "source": [
    "from sklearn.metrics import r2_score\n",
    "r2_score(y_valid, y_valid_predict) # r2 스코어는 y_valid값을 앞으로 써줘야한다. "
   ]
  },
  {
   "attachments": {},
   "cell_type": "markdown",
   "metadata": {},
   "source": [
    "# 선형 모델 (Linear Models )"
   ]
  },
  {
   "attachments": {},
   "cell_type": "markdown",
   "metadata": {},
   "source": [
    "### 실습 캘리포니아 주택 가격 데이터 "
   ]
  },
  {
   "cell_type": "code",
   "execution_count": 26,
   "metadata": {},
   "outputs": [],
   "source": [
    "from sklearn.datasets import fetch_california_housing\n",
    "import pandas as pd \n",
    "california = fetch_california_housing()"
   ]
  },
  {
   "cell_type": "code",
   "execution_count": 27,
   "metadata": {},
   "outputs": [],
   "source": [
    "california.keys() # 데이터와 타겟 값을 찾기 \n",
    "california_df = pd.DataFrame(california.data, columns= california.feature_names)\n",
    "# 켈리포니아 데이터셋 만들어주기 "
   ]
  },
  {
   "cell_type": "code",
   "execution_count": null,
   "metadata": {},
   "outputs": [],
   "source": [
    "import seaborn as sns\n",
    "sns.pairplot(california_df) # 데이터의 컬름들을 x,y로 삼아 그래프를 그린다 그중 상관있는 그래프 찾기 "
   ]
  },
  {
   "cell_type": "code",
   "execution_count": 28,
   "metadata": {},
   "outputs": [],
   "source": [
    "model = LinearRegression()\n",
    "X_train, X_valid, y_train , y_valid = train_test_split(california.data, california.target, \n",
    "                                                       test_size = 0.2)"
   ]
  },
  {
   "cell_type": "code",
   "execution_count": 30,
   "metadata": {},
   "outputs": [
    {
     "data": {
      "text/html": [
       "<style>#sk-container-id-3 {color: black;background-color: white;}#sk-container-id-3 pre{padding: 0;}#sk-container-id-3 div.sk-toggleable {background-color: white;}#sk-container-id-3 label.sk-toggleable__label {cursor: pointer;display: block;width: 100%;margin-bottom: 0;padding: 0.3em;box-sizing: border-box;text-align: center;}#sk-container-id-3 label.sk-toggleable__label-arrow:before {content: \"▸\";float: left;margin-right: 0.25em;color: #696969;}#sk-container-id-3 label.sk-toggleable__label-arrow:hover:before {color: black;}#sk-container-id-3 div.sk-estimator:hover label.sk-toggleable__label-arrow:before {color: black;}#sk-container-id-3 div.sk-toggleable__content {max-height: 0;max-width: 0;overflow: hidden;text-align: left;background-color: #f0f8ff;}#sk-container-id-3 div.sk-toggleable__content pre {margin: 0.2em;color: black;border-radius: 0.25em;background-color: #f0f8ff;}#sk-container-id-3 input.sk-toggleable__control:checked~div.sk-toggleable__content {max-height: 200px;max-width: 100%;overflow: auto;}#sk-container-id-3 input.sk-toggleable__control:checked~label.sk-toggleable__label-arrow:before {content: \"▾\";}#sk-container-id-3 div.sk-estimator input.sk-toggleable__control:checked~label.sk-toggleable__label {background-color: #d4ebff;}#sk-container-id-3 div.sk-label input.sk-toggleable__control:checked~label.sk-toggleable__label {background-color: #d4ebff;}#sk-container-id-3 input.sk-hidden--visually {border: 0;clip: rect(1px 1px 1px 1px);clip: rect(1px, 1px, 1px, 1px);height: 1px;margin: -1px;overflow: hidden;padding: 0;position: absolute;width: 1px;}#sk-container-id-3 div.sk-estimator {font-family: monospace;background-color: #f0f8ff;border: 1px dotted black;border-radius: 0.25em;box-sizing: border-box;margin-bottom: 0.5em;}#sk-container-id-3 div.sk-estimator:hover {background-color: #d4ebff;}#sk-container-id-3 div.sk-parallel-item::after {content: \"\";width: 100%;border-bottom: 1px solid gray;flex-grow: 1;}#sk-container-id-3 div.sk-label:hover label.sk-toggleable__label {background-color: #d4ebff;}#sk-container-id-3 div.sk-serial::before {content: \"\";position: absolute;border-left: 1px solid gray;box-sizing: border-box;top: 0;bottom: 0;left: 50%;z-index: 0;}#sk-container-id-3 div.sk-serial {display: flex;flex-direction: column;align-items: center;background-color: white;padding-right: 0.2em;padding-left: 0.2em;position: relative;}#sk-container-id-3 div.sk-item {position: relative;z-index: 1;}#sk-container-id-3 div.sk-parallel {display: flex;align-items: stretch;justify-content: center;background-color: white;position: relative;}#sk-container-id-3 div.sk-item::before, #sk-container-id-3 div.sk-parallel-item::before {content: \"\";position: absolute;border-left: 1px solid gray;box-sizing: border-box;top: 0;bottom: 0;left: 50%;z-index: -1;}#sk-container-id-3 div.sk-parallel-item {display: flex;flex-direction: column;z-index: 1;position: relative;background-color: white;}#sk-container-id-3 div.sk-parallel-item:first-child::after {align-self: flex-end;width: 50%;}#sk-container-id-3 div.sk-parallel-item:last-child::after {align-self: flex-start;width: 50%;}#sk-container-id-3 div.sk-parallel-item:only-child::after {width: 0;}#sk-container-id-3 div.sk-dashed-wrapped {border: 1px dashed gray;margin: 0 0.4em 0.5em 0.4em;box-sizing: border-box;padding-bottom: 0.4em;background-color: white;}#sk-container-id-3 div.sk-label label {font-family: monospace;font-weight: bold;display: inline-block;line-height: 1.2em;}#sk-container-id-3 div.sk-label-container {text-align: center;}#sk-container-id-3 div.sk-container {/* jupyter's `normalize.less` sets `[hidden] { display: none; }` but bootstrap.min.css set `[hidden] { display: none !important; }` so we also need the `!important` here to be able to override the default hidden behavior on the sphinx rendered scikit-learn.org. See: https://github.com/scikit-learn/scikit-learn/issues/21755 */display: inline-block !important;position: relative;}#sk-container-id-3 div.sk-text-repr-fallback {display: none;}</style><div id=\"sk-container-id-3\" class=\"sk-top-container\"><div class=\"sk-text-repr-fallback\"><pre>LinearRegression()</pre><b>In a Jupyter environment, please rerun this cell to show the HTML representation or trust the notebook. <br />On GitHub, the HTML representation is unable to render, please try loading this page with nbviewer.org.</b></div><div class=\"sk-container\" hidden><div class=\"sk-item\"><div class=\"sk-estimator sk-toggleable\"><input class=\"sk-toggleable__control sk-hidden--visually\" id=\"sk-estimator-id-3\" type=\"checkbox\" checked><label for=\"sk-estimator-id-3\" class=\"sk-toggleable__label sk-toggleable__label-arrow\">LinearRegression</label><div class=\"sk-toggleable__content\"><pre>LinearRegression()</pre></div></div></div></div></div>"
      ],
      "text/plain": [
       "LinearRegression()"
      ]
     },
     "execution_count": 30,
     "metadata": {},
     "output_type": "execute_result"
    }
   ],
   "source": [
    "model.fit(X_train, y_train)"
   ]
  },
  {
   "cell_type": "code",
   "execution_count": 31,
   "metadata": {},
   "outputs": [],
   "source": [
    "y_valid_predict = model.predict(X_valid)"
   ]
  },
  {
   "cell_type": "code",
   "execution_count": 32,
   "metadata": {},
   "outputs": [
    {
     "name": "stdout",
     "output_type": "stream",
     "text": [
      "R2 Score 0.6136776329457192\n",
      "MSE 0.525511110660273\n"
     ]
    }
   ],
   "source": [
    "print(\"R2 Score\", r2_score(y_valid, y_valid_predict))\n",
    "print(\"MSE\", mean_squared_error(y_valid_predict, y_valid))"
   ]
  },
  {
   "cell_type": "code",
   "execution_count": 35,
   "metadata": {},
   "outputs": [
    {
     "data": {
      "text/plain": [
       "array([-0.72785379, -0.70896322, -0.73452073, -0.73443761])"
      ]
     },
     "execution_count": 35,
     "metadata": {},
     "output_type": "execute_result"
    }
   ],
   "source": [
    "from sklearn.model_selection import cross_val_score\n",
    "scores = cross_val_score(model, X_train, y_train, cv = 4, scoring=\"neg_root_mean_squared_error\")\n",
    "scores"
   ]
  },
  {
   "attachments": {},
   "cell_type": "markdown",
   "metadata": {},
   "source": [
    "#### cross_val_score \n",
    "- 교차검증을 하는 함수 모델과 거기에 넣은 xy값을 집어넣고 cv(교차검증 횟수) 돌리면 나온다. \n",
    "- 아직 어떤 상황에서 쓰는지 이해가 안감.. "
   ]
  },
  {
   "attachments": {},
   "cell_type": "markdown",
   "metadata": {},
   "source": [
    "# 교차 검증 "
   ]
  },
  {
   "attachments": {},
   "cell_type": "markdown",
   "metadata": {},
   "source": [
    "- 트레이닝셋과 테스트 셋의 비율 : 1만개정도면 80% 트레이닝셋 20% 테스트셋 10만개정도면 99% 트레이닝셋 1% 테스트셋 \n",
    "- random_state : Random seed 번호, 번호를 지정하면 동일한 데이터 세트로 분리해 준다.\n",
    "- test_size : 전체 데이터에서 테스트 데이터 세트 크기를 얼마로 샘플링 할것인가(기본 25%)\n",
    "- train_size : test_size의 남은 값\n",
    "- shuffle : 데이터를 분리하기 전에 섞을지 결정"
   ]
  },
  {
   "attachments": {},
   "cell_type": "markdown",
   "metadata": {},
   "source": [
    "## 릿지 회귀"
   ]
  },
  {
   "attachments": {},
   "cell_type": "markdown",
   "metadata": {},
   "source": [
    "- 내가 기억하는것 : 회귀계수를 0에 가깝게 하지만 0으로 만들지 않음 \n",
    "- 사용법 : 데이터셋 분리작업까지 똑같이 진행 후 모델만들때 부터 차이남\n",
    "- 모델 생성 : model = Ridge(alpha = 0.2) * alpha가 규제의 크기 \n",
    "- 쓰다보면 어느 부분쯤에서 지지부진한 결과가 나오게 되는데 그게 릿지 모델로 개선할 수 있는 한계점이다.\n"
   ]
  },
  {
   "attachments": {},
   "cell_type": "markdown",
   "metadata": {},
   "source": [
    "### 캘리포니아 주택 가격 릿지 회귀 간단 실습 "
   ]
  },
  {
   "cell_type": "code",
   "execution_count": null,
   "metadata": {},
   "outputs": [],
   "source": [
    "from sklearn.datasets import fetch_california_housing\n",
    "from sklearn.linear_model import Ridge\n",
    "from sklearn.model_selection import train_test_split\n",
    "california = fetch_california_housing()  # 정보들과 임포트 모듈 불러오고 \n",
    "\n",
    "# 데이터셋 분리작업 \n",
    "x_train, x_test, y_train, y_test = train_test_split(california.data, california.target, test_size = 0.2)\n",
    "# 모델생성 (릿지 규제는 0.2)\n",
    "model = Ridge(alpha = 0.2)\n",
    "# 모델 학습 \n",
    "model.fit(x_train, y_train)\n",
    "# 그뒤 테스트 \n",
    "print(f'Train Data Score: {model.score(x_train, y_train)}')\n",
    "print(f'Test Data Score: {model.score(x_test, y_test)}')"
   ]
  },
  {
   "attachments": {},
   "cell_type": "markdown",
   "metadata": {},
   "source": [
    "# 라쏘 회귀\n",
    "\n",
    "- 내가 기억하는것 : 불필요한 회귀계수를 급격하게 감소시켜 0으로 만들고 제거 \n",
    "- 사용법 : 릿지랑 똑같지만 알파는 0.01 -> 0.001 10의 단위로 바꿀 수 있다.\n"
   ]
  },
  {
   "attachments": {},
   "cell_type": "markdown",
   "metadata": {},
   "source": [
    "### 캘리포니아 주택 가격 릿지 회귀 간단 실습 "
   ]
  },
  {
   "cell_type": "code",
   "execution_count": null,
   "metadata": {},
   "outputs": [],
   "source": [
    "from sklearn.linear_model import Lasso\n",
    "#데이터셋 분리작업 진행 \n",
    "model = Lasso(alpha = 0.1)\n",
    "# 모델 학습 \n",
    "model.fit(x_train, y_train)"
   ]
  },
  {
   "attachments": {},
   "cell_type": "markdown",
   "metadata": {},
   "source": [
    "# 신축망\n",
    "\n",
    "- 내가 기억하는것: 릿지, 라쏘 두 모델 둘 다 사용한다."
   ]
  },
  {
   "attachments": {},
   "cell_type": "markdown",
   "metadata": {},
   "source": [
    "### 캘리포니아 주택 가격 신축망 실습"
   ]
  },
  {
   "cell_type": "code",
   "execution_count": null,
   "metadata": {},
   "outputs": [],
   "source": [
    "from sklearn.linear_model import ElasticNet\n",
    "\n",
    "# l1_ratio = 0 L2 규제 = 1 L1 규제 0과 1사이 혼합사용 \n",
    "model = ElasticNet(alpha=0.001, l1_ratio=0.5)\n",
    "model.fit(x_train, y_train)"
   ]
  },
  {
   "attachments": {},
   "cell_type": "markdown",
   "metadata": {},
   "source": [
    "# 학습곡선"
   ]
  },
  {
   "attachments": {},
   "cell_type": "markdown",
   "metadata": {},
   "source": [
    "- overfiting/underfiting :\n",
    "- 과대 적합이란 모델이 훈련 세트에서는 좋은 성능을 내지만 검증 세트에서는 낮은 성능을 내\n",
    "는 경우를 말한다.\n",
    "- 훈련세트의 정확도가 99% 이고, 검증세트의 정확도가 80% 수준이라면 과대 적합을 의심할\n",
    "수 있다.\n",
    "- 과소 적합은 훈련세트와 검증 세트의 성능에는 차이가 크지 않지만 모두 낮은 성능을 내는\n",
    "경우를 의미한다."
   ]
  },
  {
   "attachments": {},
   "cell_type": "markdown",
   "metadata": {},
   "source": [
    "# Logistic Regression"
   ]
  },
  {
   "attachments": {},
   "cell_type": "markdown",
   "metadata": {},
   "source": [
    "- 이진 데이터 분류 문제입니다.\n",
    "- 로지스틱 리그레션을 사용하기 위해서는 출력값을 0과 1로 변경해야 함 "
   ]
  },
  {
   "cell_type": "code",
   "execution_count": null,
   "metadata": {},
   "outputs": [],
   "source": [
    "from sklearn.model_selection import train_test_split, cross_val_score\n",
    "from sklearn.linear_model import LogisticRegression\n",
    "x_train, x_test, y_train, y_test = train_test_split(x, y, test_size=0.2)\n",
    "# 모델 생성\n",
    "model = LogisticRegression()\n",
    "# 모델 학습\n",
    "model.fit(x_train, y_train)\n",
    "# 학습 결과\n",
    "print(f'Train Data Score : {model.score(x_train, y_train)}')\n",
    "print(f'Test Data Score : {model.score(x_test, y_test)}')\n",
    "# model의 정확도 평가 \n",
    "scores = cross_val_score(model, x, y, cv = 10, scoring = 'accuracy') # accur 제대로 분류가 됐는지 측정\n",
    "print(f'CV mean score: {scores.mean()}') "
   ]
  },
  {
   "attachments": {},
   "cell_type": "markdown",
   "metadata": {},
   "source": [
    "### Box plot\n",
    "\n",
    "- Median : 데이터의 중앙값\n",
    "- 1사분위(Q1) : Median 을 기준으로 하위 25% 지점\n",
    "- 3사분위(Q3) : Median 을 기준으로 상위 25% 지점\n",
    "- IQR (상자길이) : Q3-Q1\n",
    "- Q1 - 1.5 * IQR or Q3 + 1.5 * IQR 을 whisker라고 함 \n",
    "- Outliers: Q1 - 1.5 * IQR | Q3 + 1.5 * IQR 밖에 있는데이터 이상치라고도 함 "
   ]
  },
  {
   "cell_type": "code",
   "execution_count": null,
   "metadata": {},
   "outputs": [],
   "source": [
    "# 유방암 데이터 간단 실습 \n",
    "x, y = load_breast_cancer(return_X_y=True) # xy를 바로 train_test 함수 사용할 수 있게 바꿔줌\n",
    "x_train, x_test, y_train, y_test = train_test_split(x, y)\n",
    "# 모델생성\n",
    "model = LogisticRegression()\n",
    "# 모델학슴 \n",
    "model.fit(x_train, y_train)\n",
    "# 값 출력\n",
    "print(f'Train Data Score: {model.score(x_train, y_train)}')\n",
    "print(f'Test Data Score: {model.score(x_test, y_test)}')"
   ]
  },
  {
   "attachments": {},
   "cell_type": "markdown",
   "metadata": {},
   "source": [
    "# 확률적 경사 하강법\n",
    "\n",
    "내가 이해한 부분: 기울기가 최소화 되는 방향으로 학습 "
   ]
  },
  {
   "attachments": {},
   "cell_type": "markdown",
   "metadata": {},
   "source": [
    "# Confusion Matrix\n",
    "|                     | 실제 True          | 실제 False          |\n",
    "|---                  |---                 |---                  |\n",
    "| 분류결과 True       | $$N_{TP}$$         |    $$N_{FP}$$       |\n",
    "| 분류결과 False      |   $$N_{FN}$$       |   $$N_{TN}$$        | \n"
   ]
  },
  {
   "attachments": {},
   "cell_type": "markdown",
   "metadata": {},
   "source": [
    "#### Precision(정밀도)\n",
    "- 모델이 True라고 했던것중에 진짜 True의 비율 \n",
    "- 예측한 결과가 얼마나 실제로 일치하는지 여부 \n"
   ]
  },
  {
   "attachments": {},
   "cell_type": "markdown",
   "metadata": {},
   "source": [
    "#### Recall(재현율)\n",
    "- 실제 True 중에서 모델이 True라고 예측한 것의 비율\n"
   ]
  }
 ],
 "metadata": {
  "kernelspec": {
   "display_name": "ml",
   "language": "python",
   "name": "python3"
  },
  "language_info": {
   "codemirror_mode": {
    "name": "ipython",
    "version": 3
   },
   "file_extension": ".py",
   "mimetype": "text/x-python",
   "name": "python",
   "nbconvert_exporter": "python",
   "pygments_lexer": "ipython3",
   "version": "3.10.6"
  },
  "orig_nbformat": 4,
  "vscode": {
   "interpreter": {
    "hash": "c8aae155f827574366a4383a9f1891653118f94e22d7f1616b84a49a297bbb0b"
   }
  }
 },
 "nbformat": 4,
 "nbformat_minor": 2
}
