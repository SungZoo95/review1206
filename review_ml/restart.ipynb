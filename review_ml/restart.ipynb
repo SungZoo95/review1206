{
 "cells": [
  {
   "attachments": {},
   "cell_type": "markdown",
   "metadata": {},
   "source": [
    "# sciket - learn  복습 "
   ]
  },
  {
   "attachments": {},
   "cell_type": "markdown",
   "metadata": {},
   "source": [
    "- 데이터 전처리 과정 -> 데이터 셋 분리 -> 모델 생성 및 학습 -> 예측 수행 -> 평가 \n",
    "- 이해한대로 설명 \n",
    "    - 필요없는 컬럼 제거 (target값이 같이 붙어있는다던지 등등 제거)\n",
    "    - 데이터 셋 분리 (data와 target)로 나눈다\n",
    "    - 모델 생성 : model = regression(예시)\n",
    "    - 학습 : model.fit(학습할거리 x,y | x_train, y_train , x_test , y_test)\n",
    "    - 예측 수행 : model.predict(x_test) 보통 x_train,y_train을 입력해 놓은 모델에 x_test의 값을 예측하게 하는편 \n",
    "    - 평가 : 실제모델 평가 model.fit(y_test, predict된 x_test의 값)"
   ]
  },
  {
   "attachments": {},
   "cell_type": "markdown",
   "metadata": {},
   "source": [
    "- 처음 배웠던것 LinearRegression \n",
    "- 항상 데이터 셋의 쉐잎은 확인해주는것이 좋다 x.shape y.shape  \n",
    "- 쉐잎이 맞지 않을경우 리쉐잎으로 하나는 이차원 배열을 만들어줘야한다 보통 .reshape(-1,1을 쓴다)\n",
    "- coef_ 기울기 intercept_ y절편의 값 (coef_가 컬럼 개수만큼 나오는걸로 기억..)\n",
    "- train_test_split 함수 중요 from sklearn.model_selection 모델에 데이터 전부를 넣어버리면 이 데이터를 입력했을때 자기의 구성성분으로 이루어진 모델에 자기 구성성분을 넣으면 무조건 100%가 나올것이므로 나눠주는것이 필요해 만든 함수 \n",
    "- x_train, y_train , x_test , y_test (x_valid, y_valid) = train_test_split(x_date,y_data)\n",
    "기본 형이며 y_data 뒤에 test_size= 0.2 를 붙여준다 \n",
    "- 이렇게 사용하면 x_data와 y_data의 값을 train 과 test의 형태로 분할해준다 \n",
    "- test_size 를 사용하면 그 비율을 정할 수 있다 . 0.2 같은경우면 train 0.8 test 0.2 의 비율 \n",
    "- 쓰지 않은다면 디폴트 값은 0.25로 기억한다. \n"
   ]
  },
  {
   "attachments": {},
   "cell_type": "markdown",
   "metadata": {},
   "source": [
    "- predeict_proba : 예측 확률을 알려준다 \n",
    "예를들어 결과가 0일 확률을 predict_proba로 뽑고 1일 확률을 predict_proba로 뽑는다면 \n",
    "둘의 합은 1이 된다 . "
   ]
  },
  {
   "attachments": {},
   "cell_type": "markdown",
   "metadata": {},
   "source": [
    "# Simple Linear Regression"
   ]
  },
  {
   "attachments": {},
   "cell_type": "markdown",
   "metadata": {},
   "source": [
    "- 독립 변수 X와 그에 따라 바뀌는 종속 변수 y로 만든 관계 \n",
    "- 독립 변수 X_data X_train X_test 등등 (꼭 x여야 하는것이 아님)\n",
    "- 종속 변수 y_data y_train y_test (X의 타겟값)"
   ]
  },
  {
   "attachments": {},
   "cell_type": "markdown",
   "metadata": {},
   "source": [
    "# Metric"
   ]
  },
  {
   "cell_type": "code",
   "execution_count": null,
   "metadata": {},
   "outputs": [],
   "source": [
    "# 실습 당뇨병 진행 예측 \n",
    "from sklearn.datasets import load_diabetes\n",
    "from sklearn.model_selection import train_test_split\n",
    "diabetes = load_diabetes()  # 저장되어있는 데이터 값을 불러옴 \n",
    "diabetes.data, diabetes.target # data 가 독립변수 target 값이 종속변수 "
   ]
  },
  {
   "cell_type": "code",
   "execution_count": 6,
   "metadata": {},
   "outputs": [
    {
     "name": "stdout",
     "output_type": "stream",
     "text": [
      "(442, 10)\n",
      "(442,)\n"
     ]
    }
   ],
   "source": [
    "# 데이터 셋 분리작업 \n",
    "print(diabetes.data.shape)\n",
    "print(diabetes.target.shape) # 하나는 백터고 앞에 숫자가 맞으면 서로 train_test_split 가능"
   ]
  },
  {
   "cell_type": "code",
   "execution_count": 12,
   "metadata": {},
   "outputs": [],
   "source": [
    "# 데이터 셋 분리작업 마무리 \n",
    "X_train , X_valid , y_train, y_valid = train_test_split(diabetes.data, diabetes.target, test_size=0.2)"
   ]
  },
  {
   "cell_type": "code",
   "execution_count": 13,
   "metadata": {},
   "outputs": [],
   "source": [
    "# 모델 생성 작업 \n",
    "from sklearn.linear_model import LinearRegression\n",
    "model = LinearRegression()"
   ]
  },
  {
   "cell_type": "code",
   "execution_count": 14,
   "metadata": {},
   "outputs": [
    {
     "data": {
      "text/html": [
       "<style>#sk-container-id-2 {color: black;background-color: white;}#sk-container-id-2 pre{padding: 0;}#sk-container-id-2 div.sk-toggleable {background-color: white;}#sk-container-id-2 label.sk-toggleable__label {cursor: pointer;display: block;width: 100%;margin-bottom: 0;padding: 0.3em;box-sizing: border-box;text-align: center;}#sk-container-id-2 label.sk-toggleable__label-arrow:before {content: \"▸\";float: left;margin-right: 0.25em;color: #696969;}#sk-container-id-2 label.sk-toggleable__label-arrow:hover:before {color: black;}#sk-container-id-2 div.sk-estimator:hover label.sk-toggleable__label-arrow:before {color: black;}#sk-container-id-2 div.sk-toggleable__content {max-height: 0;max-width: 0;overflow: hidden;text-align: left;background-color: #f0f8ff;}#sk-container-id-2 div.sk-toggleable__content pre {margin: 0.2em;color: black;border-radius: 0.25em;background-color: #f0f8ff;}#sk-container-id-2 input.sk-toggleable__control:checked~div.sk-toggleable__content {max-height: 200px;max-width: 100%;overflow: auto;}#sk-container-id-2 input.sk-toggleable__control:checked~label.sk-toggleable__label-arrow:before {content: \"▾\";}#sk-container-id-2 div.sk-estimator input.sk-toggleable__control:checked~label.sk-toggleable__label {background-color: #d4ebff;}#sk-container-id-2 div.sk-label input.sk-toggleable__control:checked~label.sk-toggleable__label {background-color: #d4ebff;}#sk-container-id-2 input.sk-hidden--visually {border: 0;clip: rect(1px 1px 1px 1px);clip: rect(1px, 1px, 1px, 1px);height: 1px;margin: -1px;overflow: hidden;padding: 0;position: absolute;width: 1px;}#sk-container-id-2 div.sk-estimator {font-family: monospace;background-color: #f0f8ff;border: 1px dotted black;border-radius: 0.25em;box-sizing: border-box;margin-bottom: 0.5em;}#sk-container-id-2 div.sk-estimator:hover {background-color: #d4ebff;}#sk-container-id-2 div.sk-parallel-item::after {content: \"\";width: 100%;border-bottom: 1px solid gray;flex-grow: 1;}#sk-container-id-2 div.sk-label:hover label.sk-toggleable__label {background-color: #d4ebff;}#sk-container-id-2 div.sk-serial::before {content: \"\";position: absolute;border-left: 1px solid gray;box-sizing: border-box;top: 0;bottom: 0;left: 50%;z-index: 0;}#sk-container-id-2 div.sk-serial {display: flex;flex-direction: column;align-items: center;background-color: white;padding-right: 0.2em;padding-left: 0.2em;position: relative;}#sk-container-id-2 div.sk-item {position: relative;z-index: 1;}#sk-container-id-2 div.sk-parallel {display: flex;align-items: stretch;justify-content: center;background-color: white;position: relative;}#sk-container-id-2 div.sk-item::before, #sk-container-id-2 div.sk-parallel-item::before {content: \"\";position: absolute;border-left: 1px solid gray;box-sizing: border-box;top: 0;bottom: 0;left: 50%;z-index: -1;}#sk-container-id-2 div.sk-parallel-item {display: flex;flex-direction: column;z-index: 1;position: relative;background-color: white;}#sk-container-id-2 div.sk-parallel-item:first-child::after {align-self: flex-end;width: 50%;}#sk-container-id-2 div.sk-parallel-item:last-child::after {align-self: flex-start;width: 50%;}#sk-container-id-2 div.sk-parallel-item:only-child::after {width: 0;}#sk-container-id-2 div.sk-dashed-wrapped {border: 1px dashed gray;margin: 0 0.4em 0.5em 0.4em;box-sizing: border-box;padding-bottom: 0.4em;background-color: white;}#sk-container-id-2 div.sk-label label {font-family: monospace;font-weight: bold;display: inline-block;line-height: 1.2em;}#sk-container-id-2 div.sk-label-container {text-align: center;}#sk-container-id-2 div.sk-container {/* jupyter's `normalize.less` sets `[hidden] { display: none; }` but bootstrap.min.css set `[hidden] { display: none !important; }` so we also need the `!important` here to be able to override the default hidden behavior on the sphinx rendered scikit-learn.org. See: https://github.com/scikit-learn/scikit-learn/issues/21755 */display: inline-block !important;position: relative;}#sk-container-id-2 div.sk-text-repr-fallback {display: none;}</style><div id=\"sk-container-id-2\" class=\"sk-top-container\"><div class=\"sk-text-repr-fallback\"><pre>LinearRegression()</pre><b>In a Jupyter environment, please rerun this cell to show the HTML representation or trust the notebook. <br />On GitHub, the HTML representation is unable to render, please try loading this page with nbviewer.org.</b></div><div class=\"sk-container\" hidden><div class=\"sk-item\"><div class=\"sk-estimator sk-toggleable\"><input class=\"sk-toggleable__control sk-hidden--visually\" id=\"sk-estimator-id-2\" type=\"checkbox\" checked><label for=\"sk-estimator-id-2\" class=\"sk-toggleable__label sk-toggleable__label-arrow\">LinearRegression</label><div class=\"sk-toggleable__content\"><pre>LinearRegression()</pre></div></div></div></div></div>"
      ],
      "text/plain": [
       "LinearRegression()"
      ]
     },
     "execution_count": 14,
     "metadata": {},
     "output_type": "execute_result"
    }
   ],
   "source": [
    "# 모델 생성 후 학습 \n",
    "model.fit(X_train,y_train)"
   ]
  },
  {
   "cell_type": "code",
   "execution_count": 15,
   "metadata": {},
   "outputs": [],
   "source": [
    "y_valid_predict = model.predict(X_valid) # 생성된 모델에 X_valid 테스트 값을 예측값으로 저장 "
   ]
  },
  {
   "attachments": {},
   "cell_type": "markdown",
   "metadata": {},
   "source": [
    "### 회귀 평가 지표"
   ]
  },
  {
   "attachments": {},
   "cell_type": "markdown",
   "metadata": {},
   "source": [
    "### MSE (Mean Squared Error)\n",
    "- 실체값과 예측값의 차이를 제곱해서 평균화 "
   ]
  },
  {
   "cell_type": "code",
   "execution_count": 17,
   "metadata": {},
   "outputs": [
    {
     "name": "stdout",
     "output_type": "stream",
     "text": [
      "3600.5985968812074\n"
     ]
    }
   ],
   "source": [
    "from sklearn.metrics import mean_squared_error\n",
    "mse = mean_squared_error(y_valid_predict, y_valid)\n",
    "print(mse) # 값이 너무크게 나옴 "
   ]
  },
  {
   "attachments": {},
   "cell_type": "markdown",
   "metadata": {},
   "source": [
    "### RMSE (Root Mean Squared Error)\n",
    "- MSE에 루트만 씌운 형태 "
   ]
  },
  {
   "cell_type": "code",
   "execution_count": 19,
   "metadata": {},
   "outputs": [
    {
     "name": "stdout",
     "output_type": "stream",
     "text": [
      "60.004988100000546\n",
      "60.004988100000546\n"
     ]
    }
   ],
   "source": [
    "# 방법 1\n",
    "import numpy as np\n",
    "print(np.sqrt(mse))\n",
    "\n",
    "# 방법 2 \n",
    "rmse = mean_squared_error(y_valid_predict, y_valid, squared=False)\n",
    "print(rmse)"
   ]
  },
  {
   "attachments": {},
   "cell_type": "markdown",
   "metadata": {},
   "source": [
    "### MAE (Mean Absolute Error)\n",
    "- 실제값과 예측값의 차이를 절대값으로 변환해서 평균화 "
   ]
  },
  {
   "cell_type": "code",
   "execution_count": 20,
   "metadata": {},
   "outputs": [
    {
     "data": {
      "text/plain": [
       "48.432230104354396"
      ]
     },
     "execution_count": 20,
     "metadata": {},
     "output_type": "execute_result"
    }
   ],
   "source": [
    "from sklearn.metrics import mean_absolute_error\n",
    "mae = mean_absolute_error(y_valid_predict, y_valid) \n",
    "mae"
   ]
  },
  {
   "attachments": {},
   "cell_type": "markdown",
   "metadata": {},
   "source": [
    "### MAPE (Mean Absolute Percentage Error)\n",
    "\n",
    "- 실제값에 대한 절대오차 비율의 평균을 퍼센트로 표현 "
   ]
  },
  {
   "cell_type": "code",
   "execution_count": 21,
   "metadata": {},
   "outputs": [
    {
     "name": "stdout",
     "output_type": "stream",
     "text": [
      "0.3472310147505409\n"
     ]
    },
    {
     "data": {
      "text/plain": [
       "0.3472310147505409"
      ]
     },
     "execution_count": 21,
     "metadata": {},
     "output_type": "execute_result"
    }
   ],
   "source": [
    "# 방법1 \n",
    "def mape(true,pred):\n",
    "    return np.mean(np.abs((true-pred) / true))\n",
    "print(mape(y_valid_predict, y_valid))\n",
    "\n",
    "# 방법2 \n",
    "from sklearn.metrics import mean_absolute_percentage_error\n",
    "mean_absolute_percentage_error(y_valid_predict, y_valid)"
   ]
  },
  {
   "attachments": {},
   "cell_type": "markdown",
   "metadata": {},
   "source": [
    "### SMAPE (Symmetric Mean Absolute Percentage Error)\n",
    "\n",
    "- 기존 MAPE의 단점을 보완 \n",
    "- 실제값과 예측값을 절대값으로 변경 후 합으로 나눈다.\n",
    "- 실제값이 예측값보다 크거나 작을 수도 있다. \n"
   ]
  },
  {
   "cell_type": "code",
   "execution_count": 22,
   "metadata": {},
   "outputs": [
    {
     "data": {
      "text/plain": [
       "0.17059206280827396"
      ]
     },
     "execution_count": 22,
     "metadata": {},
     "output_type": "execute_result"
    }
   ],
   "source": [
    "def smape(true,pred):\n",
    "    error = np.abs(true-pred) / (np.abs(true) + np.abs(pred))\n",
    "    return np.mean(error)\n",
    "smape(y_valid_predict, y_valid)"
   ]
  },
  {
   "attachments": {},
   "cell_type": "markdown",
   "metadata": {},
   "source": [
    "### 결정계수 R2 \n",
    "\n",
    "- 실제 관측값의 분산대비 예측값의 분산을 계산해 데이터 예측의 정확도 성능을 측청한다.\n",
    "- 0~1사이의 수로 나타내어지며 1에 가까울수록 100%에 가까워진다.\n"
   ]
  },
  {
   "cell_type": "code",
   "execution_count": 23,
   "metadata": {},
   "outputs": [
    {
     "data": {
      "text/plain": [
       "0.4235282260426284"
      ]
     },
     "execution_count": 23,
     "metadata": {},
     "output_type": "execute_result"
    }
   ],
   "source": [
    "from sklearn.metrics import r2_score\n",
    "r2_score(y_valid, y_valid_predict) # r2 스코어는 y_valid값을 앞으로 써줘야한다. "
   ]
  },
  {
   "attachments": {},
   "cell_type": "markdown",
   "metadata": {},
   "source": [
    "# 선형 모델 (Linear Models )"
   ]
  },
  {
   "attachments": {},
   "cell_type": "markdown",
   "metadata": {},
   "source": [
    "### 실습 캘리포니아 주택 가격 데이터 "
   ]
  },
  {
   "cell_type": "code",
   "execution_count": 26,
   "metadata": {},
   "outputs": [],
   "source": [
    "from sklearn.datasets import fetch_california_housing\n",
    "import pandas as pd \n",
    "california = fetch_california_housing()"
   ]
  },
  {
   "cell_type": "code",
   "execution_count": 27,
   "metadata": {},
   "outputs": [],
   "source": [
    "california.keys() # 데이터와 타겟 값을 찾기 \n",
    "california_df = pd.DataFrame(california.data, columns= california.feature_names)\n",
    "# 켈리포니아 데이터셋 만들어주기 "
   ]
  },
  {
   "cell_type": "code",
   "execution_count": null,
   "metadata": {},
   "outputs": [],
   "source": [
    "import seaborn as sns\n",
    "sns.pairplot(california_df) # 데이터의 컬름들을 x,y로 삼아 그래프를 그린다 그중 상관있는 그래프 찾기 "
   ]
  },
  {
   "cell_type": "code",
   "execution_count": 28,
   "metadata": {},
   "outputs": [],
   "source": [
    "model = LinearRegression()\n",
    "X_train, X_valid, y_train , y_valid = train_test_split(california.data, california.target, \n",
    "                                                       test_size = 0.2)"
   ]
  },
  {
   "cell_type": "code",
   "execution_count": 30,
   "metadata": {},
   "outputs": [
    {
     "data": {
      "text/html": [
       "<style>#sk-container-id-3 {color: black;background-color: white;}#sk-container-id-3 pre{padding: 0;}#sk-container-id-3 div.sk-toggleable {background-color: white;}#sk-container-id-3 label.sk-toggleable__label {cursor: pointer;display: block;width: 100%;margin-bottom: 0;padding: 0.3em;box-sizing: border-box;text-align: center;}#sk-container-id-3 label.sk-toggleable__label-arrow:before {content: \"▸\";float: left;margin-right: 0.25em;color: #696969;}#sk-container-id-3 label.sk-toggleable__label-arrow:hover:before {color: black;}#sk-container-id-3 div.sk-estimator:hover label.sk-toggleable__label-arrow:before {color: black;}#sk-container-id-3 div.sk-toggleable__content {max-height: 0;max-width: 0;overflow: hidden;text-align: left;background-color: #f0f8ff;}#sk-container-id-3 div.sk-toggleable__content pre {margin: 0.2em;color: black;border-radius: 0.25em;background-color: #f0f8ff;}#sk-container-id-3 input.sk-toggleable__control:checked~div.sk-toggleable__content {max-height: 200px;max-width: 100%;overflow: auto;}#sk-container-id-3 input.sk-toggleable__control:checked~label.sk-toggleable__label-arrow:before {content: \"▾\";}#sk-container-id-3 div.sk-estimator input.sk-toggleable__control:checked~label.sk-toggleable__label {background-color: #d4ebff;}#sk-container-id-3 div.sk-label input.sk-toggleable__control:checked~label.sk-toggleable__label {background-color: #d4ebff;}#sk-container-id-3 input.sk-hidden--visually {border: 0;clip: rect(1px 1px 1px 1px);clip: rect(1px, 1px, 1px, 1px);height: 1px;margin: -1px;overflow: hidden;padding: 0;position: absolute;width: 1px;}#sk-container-id-3 div.sk-estimator {font-family: monospace;background-color: #f0f8ff;border: 1px dotted black;border-radius: 0.25em;box-sizing: border-box;margin-bottom: 0.5em;}#sk-container-id-3 div.sk-estimator:hover {background-color: #d4ebff;}#sk-container-id-3 div.sk-parallel-item::after {content: \"\";width: 100%;border-bottom: 1px solid gray;flex-grow: 1;}#sk-container-id-3 div.sk-label:hover label.sk-toggleable__label {background-color: #d4ebff;}#sk-container-id-3 div.sk-serial::before {content: \"\";position: absolute;border-left: 1px solid gray;box-sizing: border-box;top: 0;bottom: 0;left: 50%;z-index: 0;}#sk-container-id-3 div.sk-serial {display: flex;flex-direction: column;align-items: center;background-color: white;padding-right: 0.2em;padding-left: 0.2em;position: relative;}#sk-container-id-3 div.sk-item {position: relative;z-index: 1;}#sk-container-id-3 div.sk-parallel {display: flex;align-items: stretch;justify-content: center;background-color: white;position: relative;}#sk-container-id-3 div.sk-item::before, #sk-container-id-3 div.sk-parallel-item::before {content: \"\";position: absolute;border-left: 1px solid gray;box-sizing: border-box;top: 0;bottom: 0;left: 50%;z-index: -1;}#sk-container-id-3 div.sk-parallel-item {display: flex;flex-direction: column;z-index: 1;position: relative;background-color: white;}#sk-container-id-3 div.sk-parallel-item:first-child::after {align-self: flex-end;width: 50%;}#sk-container-id-3 div.sk-parallel-item:last-child::after {align-self: flex-start;width: 50%;}#sk-container-id-3 div.sk-parallel-item:only-child::after {width: 0;}#sk-container-id-3 div.sk-dashed-wrapped {border: 1px dashed gray;margin: 0 0.4em 0.5em 0.4em;box-sizing: border-box;padding-bottom: 0.4em;background-color: white;}#sk-container-id-3 div.sk-label label {font-family: monospace;font-weight: bold;display: inline-block;line-height: 1.2em;}#sk-container-id-3 div.sk-label-container {text-align: center;}#sk-container-id-3 div.sk-container {/* jupyter's `normalize.less` sets `[hidden] { display: none; }` but bootstrap.min.css set `[hidden] { display: none !important; }` so we also need the `!important` here to be able to override the default hidden behavior on the sphinx rendered scikit-learn.org. See: https://github.com/scikit-learn/scikit-learn/issues/21755 */display: inline-block !important;position: relative;}#sk-container-id-3 div.sk-text-repr-fallback {display: none;}</style><div id=\"sk-container-id-3\" class=\"sk-top-container\"><div class=\"sk-text-repr-fallback\"><pre>LinearRegression()</pre><b>In a Jupyter environment, please rerun this cell to show the HTML representation or trust the notebook. <br />On GitHub, the HTML representation is unable to render, please try loading this page with nbviewer.org.</b></div><div class=\"sk-container\" hidden><div class=\"sk-item\"><div class=\"sk-estimator sk-toggleable\"><input class=\"sk-toggleable__control sk-hidden--visually\" id=\"sk-estimator-id-3\" type=\"checkbox\" checked><label for=\"sk-estimator-id-3\" class=\"sk-toggleable__label sk-toggleable__label-arrow\">LinearRegression</label><div class=\"sk-toggleable__content\"><pre>LinearRegression()</pre></div></div></div></div></div>"
      ],
      "text/plain": [
       "LinearRegression()"
      ]
     },
     "execution_count": 30,
     "metadata": {},
     "output_type": "execute_result"
    }
   ],
   "source": [
    "model.fit(X_train, y_train)"
   ]
  },
  {
   "cell_type": "code",
   "execution_count": 31,
   "metadata": {},
   "outputs": [],
   "source": [
    "y_valid_predict = model.predict(X_valid)"
   ]
  },
  {
   "cell_type": "code",
   "execution_count": 32,
   "metadata": {},
   "outputs": [
    {
     "name": "stdout",
     "output_type": "stream",
     "text": [
      "R2 Score 0.6136776329457192\n",
      "MSE 0.525511110660273\n"
     ]
    }
   ],
   "source": [
    "print(\"R2 Score\", r2_score(y_valid, y_valid_predict))\n",
    "print(\"MSE\", mean_squared_error(y_valid_predict, y_valid))"
   ]
  },
  {
   "cell_type": "code",
   "execution_count": 35,
   "metadata": {},
   "outputs": [
    {
     "data": {
      "text/plain": [
       "array([-0.72785379, -0.70896322, -0.73452073, -0.73443761])"
      ]
     },
     "execution_count": 35,
     "metadata": {},
     "output_type": "execute_result"
    }
   ],
   "source": [
    "from sklearn.model_selection import cross_val_score\n",
    "scores = cross_val_score(model, X_train, y_train, cv = 4, scoring=\"neg_root_mean_squared_error\")\n",
    "scores"
   ]
  },
  {
   "attachments": {},
   "cell_type": "markdown",
   "metadata": {},
   "source": [
    "#### cross_val_score \n",
    "- 교차검증을 하는 함수 모델과 거기에 넣은 xy값을 집어넣고 cv(교차검증 횟수) 돌리면 나온다. \n",
    "- 아직 어떤 상황에서 쓰는지 이해가 안감.. "
   ]
  },
  {
   "attachments": {},
   "cell_type": "markdown",
   "metadata": {},
   "source": [
    "# 교차 검증 "
   ]
  },
  {
   "attachments": {},
   "cell_type": "markdown",
   "metadata": {},
   "source": [
    "- 트레이닝셋과 테스트 셋의 비율 : 1만개정도면 80% 트레이닝셋 20% 테스트셋 10만개정도면 99% 트레이닝셋 1% 테스트셋 \n",
    "- random_state : Random seed 번호, 번호를 지정하면 동일한 데이터 세트로 분리해 준다.\n",
    "- test_size : 전체 데이터에서 테스트 데이터 세트 크기를 얼마로 샘플링 할것인가(기본 25%)\n",
    "- train_size : test_size의 남은 값\n",
    "- shuffle : 데이터를 분리하기 전에 섞을지 결정"
   ]
  },
  {
   "attachments": {},
   "cell_type": "markdown",
   "metadata": {},
   "source": [
    "## 릿지 회귀"
   ]
  },
  {
   "attachments": {},
   "cell_type": "markdown",
   "metadata": {},
   "source": [
    "- 내가 기억하는것 : 회귀계수를 0에 가깝게 하지만 0으로 만들지 않음 \n",
    "- 사용법 : 데이터셋 분리작업까지 똑같이 진행 후 모델만들때 부터 차이남\n",
    "- 모델 생성 : model = Ridge(alpha = 0.2) * alpha가 규제의 크기 \n",
    "- 쓰다보면 어느 부분쯤에서 지지부진한 결과가 나오게 되는데 그게 릿지 모델로 개선할 수 있는 한계점이다.\n"
   ]
  },
  {
   "attachments": {},
   "cell_type": "markdown",
   "metadata": {},
   "source": [
    "### 캘리포니아 주택 가격 릿지 회귀 간단 실습 "
   ]
  },
  {
   "cell_type": "code",
   "execution_count": null,
   "metadata": {},
   "outputs": [],
   "source": [
    "from sklearn.datasets import fetch_california_housing\n",
    "from sklearn.linear_model import Ridge\n",
    "from sklearn.model_selection import train_test_split\n",
    "california = fetch_california_housing()  # 정보들과 임포트 모듈 불러오고 \n",
    "\n",
    "# 데이터셋 분리작업 \n",
    "x_train, x_test, y_train, y_test = train_test_split(california.data, california.target, test_size = 0.2)\n",
    "# 모델생성 (릿지 규제는 0.2)\n",
    "model = Ridge(alpha = 0.2)\n",
    "# 모델 학습 \n",
    "model.fit(x_train, y_train)\n",
    "# 그뒤 테스트 \n",
    "print(f'Train Data Score: {model.score(x_train, y_train)}')\n",
    "print(f'Test Data Score: {model.score(x_test, y_test)}')"
   ]
  },
  {
   "attachments": {},
   "cell_type": "markdown",
   "metadata": {},
   "source": [
    "# 라쏘 회귀\n",
    "\n",
    "- 내가 기억하는것 : 불필요한 회귀계수를 급격하게 감소시켜 0으로 만들고 제거 \n",
    "- 사용법 : 릿지랑 똑같지만 알파는 0.01 -> 0.001 10의 단위로 바꿀 수 있다.\n"
   ]
  },
  {
   "attachments": {},
   "cell_type": "markdown",
   "metadata": {},
   "source": [
    "### 캘리포니아 주택 가격 릿지 회귀 간단 실습 "
   ]
  },
  {
   "cell_type": "code",
   "execution_count": null,
   "metadata": {},
   "outputs": [],
   "source": [
    "from sklearn.linear_model import Lasso\n",
    "#데이터셋 분리작업 진행 \n",
    "model = Lasso(alpha = 0.1)\n",
    "# 모델 학습 \n",
    "model.fit(x_train, y_train)"
   ]
  },
  {
   "attachments": {},
   "cell_type": "markdown",
   "metadata": {},
   "source": [
    "# 신축망\n",
    "\n",
    "- 내가 기억하는것: 릿지, 라쏘 두 모델 둘 다 사용한다."
   ]
  },
  {
   "attachments": {},
   "cell_type": "markdown",
   "metadata": {},
   "source": [
    "### 캘리포니아 주택 가격 신축망 실습"
   ]
  },
  {
   "cell_type": "code",
   "execution_count": null,
   "metadata": {},
   "outputs": [],
   "source": [
    "from sklearn.linear_model import ElasticNet\n",
    "\n",
    "# l1_ratio = 0 L2 규제 = 1 L1 규제 0과 1사이 혼합사용 \n",
    "model = ElasticNet(alpha=0.001, l1_ratio=0.5)\n",
    "model.fit(x_train, y_train)"
   ]
  },
  {
   "attachments": {},
   "cell_type": "markdown",
   "metadata": {},
   "source": [
    "# 학습곡선"
   ]
  },
  {
   "attachments": {},
   "cell_type": "markdown",
   "metadata": {},
   "source": [
    "- overfiting/underfiting :\n",
    "- 과대 적합이란 모델이 훈련 세트에서는 좋은 성능을 내지만 검증 세트에서는 낮은 성능을 내\n",
    "는 경우를 말한다.\n",
    "- 훈련세트의 정확도가 99% 이고, 검증세트의 정확도가 80% 수준이라면 과대 적합을 의심할\n",
    "수 있다.\n",
    "- 과소 적합은 훈련세트와 검증 세트의 성능에는 차이가 크지 않지만 모두 낮은 성능을 내는\n",
    "경우를 의미한다."
   ]
  },
  {
   "attachments": {},
   "cell_type": "markdown",
   "metadata": {},
   "source": [
    "# Logistic Regression"
   ]
  },
  {
   "attachments": {},
   "cell_type": "markdown",
   "metadata": {},
   "source": [
    "- 이진 데이터 분류 문제입니다.\n",
    "- 로지스틱 리그레션을 사용하기 위해서는 출력값을 0과 1로 변경해야 함 "
   ]
  },
  {
   "cell_type": "code",
   "execution_count": null,
   "metadata": {},
   "outputs": [],
   "source": [
    "from sklearn.model_selection import train_test_split, cross_val_score\n",
    "from sklearn.linear_model import LogisticRegression\n",
    "x_train, x_test, y_train, y_test = train_test_split(x, y, test_size=0.2)\n",
    "# 모델 생성\n",
    "model = LogisticRegression()\n",
    "# 모델 학습\n",
    "model.fit(x_train, y_train)\n",
    "# 학습 결과\n",
    "print(f'Train Data Score : {model.score(x_train, y_train)}')\n",
    "print(f'Test Data Score : {model.score(x_test, y_test)}')\n",
    "# model의 정확도 평가 \n",
    "scores = cross_val_score(model, x, y, cv = 10, scoring = 'accuracy') # accur 제대로 분류가 됐는지 측정\n",
    "print(f'CV mean score: {scores.mean()}') "
   ]
  },
  {
   "attachments": {},
   "cell_type": "markdown",
   "metadata": {},
   "source": [
    "### Box plot\n",
    "\n",
    "- Median : 데이터의 중앙값\n",
    "- 1사분위(Q1) : Median 을 기준으로 하위 25% 지점\n",
    "- 3사분위(Q3) : Median 을 기준으로 상위 25% 지점\n",
    "- IQR (상자길이) : Q3-Q1\n",
    "- Q1 - 1.5 * IQR or Q3 + 1.5 * IQR 을 whisker라고 함 \n",
    "- Outliers: Q1 - 1.5 * IQR | Q3 + 1.5 * IQR 밖에 있는데이터 이상치라고도 함 "
   ]
  },
  {
   "cell_type": "code",
   "execution_count": null,
   "metadata": {},
   "outputs": [],
   "source": [
    "# 유방암 데이터 간단 실습 \n",
    "x, y = load_breast_cancer(return_X_y=True) # xy를 바로 train_test 함수 사용할 수 있게 바꿔줌\n",
    "x_train, x_test, y_train, y_test = train_test_split(x, y)\n",
    "# 모델생성\n",
    "model = LogisticRegression()\n",
    "# 모델학슴 \n",
    "model.fit(x_train, y_train)\n",
    "# 값 출력\n",
    "print(f'Train Data Score: {model.score(x_train, y_train)}')\n",
    "print(f'Test Data Score: {model.score(x_test, y_test)}')"
   ]
  },
  {
   "attachments": {},
   "cell_type": "markdown",
   "metadata": {},
   "source": [
    "# 확률적 경사 하강법\n",
    "\n",
    "내가 이해한 부분: 기울기가 최소화 되는 방향으로 학습 "
   ]
  },
  {
   "attachments": {},
   "cell_type": "markdown",
   "metadata": {},
   "source": [
    "# Confusion Matrix\n",
    "|                     | 실제 True          | 실제 False          |\n",
    "|---                  |---                 |---                             |\n",
    "| 분류결과 True       | $$N_{TP}$$         |    $$N_{FP}$$       |\n",
    "| 분류결과 False      |   $$N_{FN}$$       |   $$N_{TN}$$        | \n"
   ]
  },
  {
   "attachments": {},
   "cell_type": "markdown",
   "metadata": {},
   "source": [
    "#### Precision(정밀도)\n",
    "- 모델이 True라고 했던것중에 진짜 True의 비율 \n",
    "- 예측한 결과가 얼마나 실제로 일치하는지 여부 \n"
   ]
  },
  {
   "attachments": {},
   "cell_type": "markdown",
   "metadata": {},
   "source": [
    "#### Recall(재현율)\n",
    "- 실제 True 중에서 모델이 True라고 예측한 것의 비율\n"
   ]
  },
  {
   "attachments": {},
   "cell_type": "markdown",
   "metadata": {},
   "source": [
    "- A (9/60 잘된분류 1/30 잘못된분류)\n",
    "\n",
    "|실제값 |예측값|예측값|\n",
    "|:---:|:--:|:----:|\n",
    "|      |암환자|일반환자|\n",
    "|암환자|9|1|\n",
    "|일반환자|30|60|\n",
    "\n",
    "- B (1/70 잘된분류 9/20 잘못된분류 )\n",
    "\n",
    "|실제값 |예측값|예측값|\n",
    "|:---:|:--:|:----:|\n",
    "|      |암환자|일반환자|\n",
    "|암환자|1|9|\n",
    "|일반환자|20|70|"
   ]
  },
  {
   "attachments": {},
   "cell_type": "markdown",
   "metadata": {},
   "source": [
    "#### accuracy(정확도)\n",
    "\n",
    "- 입력된 데이터에 대해 얼마나 정확하게 예측하는지 나타낸다.\n",
    "    - 정확도 : 예측결과와 실제값이 동일한 변수 / 전체데이터 개수 = (TP+TN) / (전체)\n",
    "- 예제로 이해해보기 \n",
    "    - A병원의 정확도 : 9+60 / (9+60+1+30) = 0.69\n",
    "    - B병원의 정확도 : 1+70 / 1+9+20+70 = 0.71\n",
    "    - B병원의 정확도가 미세하게 높다 (총합의 정확도 암의 정확도는 A가 월등함)\n"
   ]
  },
  {
   "attachments": {},
   "cell_type": "markdown",
   "metadata": {},
   "source": [
    "#### precision(정밀도)\n",
    "- 모델의 예측값이 얼마나 정확하게 예측됐는지를 나타낸다.\n",
    "    - 정밀도 : TP / TP+FP\n",
    "- 예제로 이해해보기 \n",
    "    - A병원의 암환자 정밀도 : 9/9+30 = 0.23\n",
    "    - B병원의 암환자 정밀도 : 1/1+20 = 0.04\n",
    "    - A병원의 정밀도가 높다 "
   ]
  },
  {
   "attachments": {},
   "cell_type": "markdown",
   "metadata": {},
   "source": [
    "#### recall(재현율)\n",
    "- 실제값 중에서 모델이 검출한 실제값의 비율을 나타낸다.\n",
    "- 걸러내야하는 것들중에 제대로 검출된 것의 비율을 의미한다.\n",
    "    - 정밀도 : TP/TP+FN\n",
    "- 예제로 이해해보기\n",
    "    - A병원의 암환자 재현율 : 9/9+1 = 0.9\n",
    "    - B병원의 암환자 재현율 : 1/1+9 = 0.1\n",
    "    - A병원의 재현율이 훨씬 높다 (암 환자의 경우 발견해내는것이 중요한 질병이기 때문에 무조건 A병원에 가야한다.)"
   ]
  },
  {
   "attachments": {},
   "cell_type": "markdown",
   "metadata": {},
   "source": [
    "### 재현율과 정밀도 언제 무엇을 써야할까?"
   ]
  },
  {
   "attachments": {},
   "cell_type": "markdown",
   "metadata": {},
   "source": [
    "- 두 가지는 사용하는 경우에 따라서 써야할게 다르다.\n",
    "- 재현율이 중요한 경우 \n",
    "    - 실제 positive 데이터를 negative로 잘못 판단하면 안되는경우 (암진단, 등등)\n",
    "    - 병 진단 : 실제 양성인데 음성으로 판단하면 병을 키울 수 있다.\n",
    "- 정밀도가 중요한 경우\n",
    "    - 실제 negative 데이터를 positive로 잘못 판단하면 안되는경우 \n",
    "    - 스팸메일 : 실제 스팸메일이 아닌데 스팸메일로 판단하면 메일을 받지 못할 수 있다."
   ]
  },
  {
   "attachments": {},
   "cell_type": "markdown",
   "metadata": {},
   "source": [
    "- F-score\n",
    "    - 정밀도와 재현율이 한쪽으로 치우치지 않았을때 높은 점수가 나온다.\n",
    "    - precision과 recall을 이용해 계산가능\n",
    "- 임계값\n",
    "    - 모델을 분류에서 확률(0~1)또는 음수에서 양수사이에 실수를 예측값으로 출력\n",
    "    - 사이킷런에선 predict_probar, decision_function으로 쓸 수 있다.\n",
    "    - predict_probar: 0.5이상이면 1로 예측\n",
    "    - decision_function : 0 이상이면 1로 예측 "
   ]
  },
  {
   "attachments": {},
   "cell_type": "markdown",
   "metadata": {},
   "source": [
    "## 모델 성능 평가지표 (Metric)\n",
    "- 실제값과 모델에 의해 예측된 값을 비교하여 모델의 성능을 측정하는 것 \n",
    "- 모델 평가 목적 \n",
    "    - overfiting 방지 \n",
    "- 분류 문제 성능 측정 \n",
    "    - 실제값과 예측값이 일치하는 개수를 통해 측정 "
   ]
  },
  {
   "attachments": {},
   "cell_type": "markdown",
   "metadata": {},
   "source": [
    "### ROC\n",
    "- FPR을 X축으로, TPR을 Y축으로 해서 둘간의 관계를 표현한 그래프\n",
    "    - FPR = FP / (FP+TN)\n",
    "    - TPR = TP / (FN+TP)\n",
    "- FPR이 천천히 증가하면서 TPR이 빨리 증가하는 모델을 만들어야한다.\n",
    "- 면적이 클수록 좋은 모델이다.\n",
    "\n",
    "![ROC.png](https://miro.medium.com/max/640/1*pk05QGzoWhCgRiiFbz-oKQ.webp)"
   ]
  },
  {
   "attachments": {},
   "cell_type": "markdown",
   "metadata": {},
   "source": [
    "AUROC\n",
    "- ROC Curved의 밑부분 면적\n",
    "- 넓을수록 성능이 좋다 (1에 가까울수록..)\n",
    "    - 0.5~0.7 (poor model)\n",
    "    - 0.7~0.8 (fare model)\n",
    "    - 0.8~0.9 (good model)\n",
    "    - 0.9~1.0 (excellent model)"
   ]
  },
  {
   "attachments": {},
   "cell_type": "markdown",
   "metadata": {},
   "source": [
    "# 다중분류 Metric\n"
   ]
  },
  {
   "attachments": {},
   "cell_type": "markdown",
   "metadata": {},
   "source": [
    "### F1-score (다중분류)\n",
    "\n",
    "- micro \n",
    "    - 전체 클래스에 대해 TP/FP/FN 구한뒤에 F1-score를 계산\n",
    "- macro    \n",
    "    - 각 클래스에 대해 F1-score 구한뒤 산술 평균(주어진 값을 개수로 나누기)\n",
    "- weighted\n",
    "    - 각 클래스에 대해 F1-score 구한뒤 클래스 차지하는 비율에 따라 가중평균 (가중치를 반영하여 구한 평균값)"
   ]
  },
  {
   "attachments": {},
   "cell_type": "markdown",
   "metadata": {},
   "source": [
    "### 소프트맥스 함수 (softmax Function)\n",
    "- 각 클래스에 대한 확률을 출력\n",
    "- 입력받은 값들을 0~1사이의 값들로 모두 정규화하면 출력값들의 합은 항상 1이 되는 특성을 가졌다."
   ]
  },
  {
   "attachments": {},
   "cell_type": "markdown",
   "metadata": {},
   "source": [
    "### Cross_entropy\n",
    "- 모델이 예측한 확률값을 반영해서 평가\n",
    "- 0에 가까울수록 좋은 모델\n",
    "- 정답에 해당하는 확률 값들을 음의 로그함수에 넣어서 나온값들의 평균으로 평가한다."
   ]
  },
  {
   "attachments": {},
   "cell_type": "markdown",
   "metadata": {},
   "source": [
    "## 데이터 깔끔하게 전처리 해보기"
   ]
  },
  {
   "attachments": {},
   "cell_type": "markdown",
   "metadata": {},
   "source": [
    "- 데이터의 info()값을 보았을때 결측치가 존재할경우 어떻게 해결할까?"
   ]
  },
  {
   "attachments": {},
   "cell_type": "markdown",
   "metadata": {},
   "source": [
    "## 결측치"
   ]
  },
  {
   "attachments": {},
   "cell_type": "markdown",
   "metadata": {},
   "source": [
    "### 통계치를 이용해 결측값 채우기\n",
    "- Pandas를 이용한 방법\n",
    "\n",
    "```python\n",
    "age_median = x[\"age\"].median() # x데이터 프레임의 age컬럼의 중간값을 구한다.\n",
    "x[\"age\"].fillna(age_median, inplace=True) # age컬럼의 결측치를 중간값으로 채운다.\n",
    "```\n"
   ]
  },
  {
   "attachments": {},
   "cell_type": "markdown",
   "metadata": {},
   "source": [
    "### Encoding \n",
    "- 범주형 인코딩 \n",
    "1.  라벨 인코딩    \n",
    "```python\n",
    "items = ['사과', '딸기', '포도', '배', '망고', '망고', '바나나', '바나나']\n",
    "ncoder = LabelEncoder() # 1. 객체 생성\n",
    "encoder.fit(items) # 객체 fit encoding 대상에 대해 fit \n",
    "labels = encoder.transform(items)\n",
    "print('Label tranform : ', labels)       \n",
    "print('Encoding Class : ', encoder.classes_)\n",
    "print('Inverse Transform : ', encoder.inverse_transform([0, 1, 4, 5, 3, 3, 2, 2]))\n",
    "Label tranform :  [4 0 5 3 1 1 2 2]\n",
    "Encoding Class :  ['딸기' '망고' '바나나' '배' '사과' '포도']\n",
    "Inverse Transform :  ['딸기' '망고' '사과' '포도' '배' '배' '바나나' '바나나']\n",
    "```\n",
    "\n",
    "\n",
    "2. 원핫 인코딩\n",
    "- 0,1로 만들어주는 데이터 (라벨인코더를 쓰고 만들어주기도 함 )"
   ]
  },
  {
   "attachments": {},
   "cell_type": "markdown",
   "metadata": {},
   "source": [
    "### Feature Scaling\n"
   ]
  },
  {
   "attachments": {},
   "cell_type": "markdown",
   "metadata": {},
   "source": [
    "- Standardization (표준화)\n",
    "    - 평균과 표준편차를 이용하여 평균을 0, 분산을 1인 값으로 변환\n",
    "                                       "
   ]
  },
  {
   "attachments": {},
   "cell_type": "markdown",
   "metadata": {},
   "source": [
    "- Min-Maxscaling \n",
    "    - Features의 최소값, 최대값을 이용해서 0을 정규화한다."
   ]
  },
  {
   "attachments": {},
   "cell_type": "markdown",
   "metadata": {},
   "source": [
    "## 서포트 벡터 머신"
   ]
  },
  {
   "attachments": {},
   "cell_type": "markdown",
   "metadata": {},
   "source": [
    "- 회귀 분류 이상치 탐지에 쓰인다. \n",
    "- 마진이란?\n",
    "    - 각 class에서 가장 가까운 관측치 사이의 거리를 나타낸다.\n",
    "    - 마진은 기울기로 표현 가능하다.\n",
    "- 하드마진과 소프트마진\n",
    "    - 하드마진 방식은 매우 엄격하게 두 개의 클래스를 분리하는 분리 초평면을 구하는 방법이다.\n",
    "    - 모든 트레이닝 셋은 분리 초평면을 두고 한 클래스에 속해야 한다.   \n",
    "    - 소프트마진은 경계선에 약간의 차이를 벌리는걸 하드마진과의 차이라고 볼 수 있다. \n"
   ]
  },
  {
   "attachments": {},
   "cell_type": "markdown",
   "metadata": {},
   "source": [
    "### SVM을 사용한 분류 모델 (SVC)\n",
    "```python\n",
    "model = SVC()\n",
    "model.fit(x_train, y_train)\n",
    "# SVR 커널 종류는 ‘linear’, ‘poly’, ‘rbf’, ‘sigmoid’, ‘precomputed’이 있다. \n",
    "```\n"
   ]
  },
  {
   "attachments": {},
   "cell_type": "markdown",
   "metadata": {},
   "source": [
    "### 효율적인 SVM 사용방법 \n",
    "- svm은 데이터가 정규화 되어야 좋은 성능을 보임\n",
    "- 주로 특성값을 (0,1)의 사이로 맞추는 방법을 사용\n",
    "- 스텐다드 스케일러와 민맥스 스케일러를 사용해 정규화"
   ]
  },
  {
   "attachments": {},
   "cell_type": "markdown",
   "metadata": {},
   "source": [
    "## KNN\n",
    "\n"
   ]
  }
 ],
 "metadata": {
  "kernelspec": {
   "display_name": "ml",
   "language": "python",
   "name": "python3"
  },
  "language_info": {
   "codemirror_mode": {
    "name": "ipython",
    "version": 3
   },
   "file_extension": ".py",
   "mimetype": "text/x-python",
   "name": "python",
   "nbconvert_exporter": "python",
   "pygments_lexer": "ipython3",
   "version": "3.10.6 (main, Nov  2 2022, 18:53:38) [GCC 11.3.0]"
  },
  "orig_nbformat": 4,
  "vscode": {
   "interpreter": {
    "hash": "c8aae155f827574366a4383a9f1891653118f94e22d7f1616b84a49a297bbb0b"
   }
  }
 },
 "nbformat": 4,
 "nbformat_minor": 2
}
