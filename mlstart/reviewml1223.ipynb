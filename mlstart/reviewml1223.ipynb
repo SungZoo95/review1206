{
 "cells": [
  {
   "attachments": {},
   "cell_type": "markdown",
   "metadata": {},
   "source": [
    "# 서포트 벡터 머신(Support Vector Machines)"
   ]
  },
  {
   "attachments": {},
   "cell_type": "markdown",
   "metadata": {},
   "source": [
    "- 회귀, 분류, 이상치 탐지 등에 사용되는 지도학습 방법\n",
    "- 클래스 사이의 경계에 위치한 데이터 포인트를 서포트 벡터(support vector)라고 한다.\n",
    "- 각 지지 벡터가 클래스 사이의 결정 경계를 구분하는데 얼마나 중요한지를 학습\n",
    "- 각 지지 벡터 사이의 마진이 가장 큰 방향으로 학습\n",
    "- 지지 벡터 까지의 거리와 지지 벡터의 중요도를 기반으로 예측을 수행\n",
    "\n",
    "![support vector machine](https://upload.wikimedia.org/wikipedia/commons/thumb/2/20/Svm_separating_hyperplanes.png/220px-Svm_separating_hyperplanes.png)\n",
    "\n",
    "- H3은 두 클래스의 점들을 제대로 분류하고 있지 않음\n",
    "- H1과 H2는 두 클래스의 점들을 분류하는데, H2가 H1보다 더 큰 마진을 갖고 분류하는 것을 확인할 수 있음"
   ]
  },
  {
   "cell_type": "code",
   "execution_count": 1,
   "metadata": {},
   "outputs": [
    {
     "name": "stderr",
     "output_type": "stream",
     "text": [
      "/tmp/ipykernel_666/265178491.py:5: MatplotlibDeprecationWarning: The seaborn styles shipped by Matplotlib are deprecated since 3.6, as they no longer correspond to the styles shipped by seaborn. However, they will remain available as 'seaborn-v0_8-<style>'. Alternatively, directly use the seaborn API instead.\n",
      "  plt.style.use(['seaborn-whitegrid'])\n"
     ]
    }
   ],
   "source": [
    "import multiprocessing\n",
    "import pandas as pd\n",
    "import numpy as np\n",
    "import matplotlib.pyplot as plt\n",
    "plt.style.use(['seaborn-whitegrid'])"
   ]
  },
  {
   "cell_type": "code",
   "execution_count": 3,
   "metadata": {},
   "outputs": [],
   "source": [
    "from sklearn.svm import SVR, SVC # SVC  classification, SVR regression\n",
    "from sklearn.datasets import load_diabetes\n",
    "from sklearn.datasets import load_breast_cancer, load_iris, load_wine\n",
    "from sklearn.pipeline import make_pipeline, Pipeline\n",
    "from sklearn.model_selection import train_test_split, cross_val_score, GridSearchCV, cross_validate\n",
    "from sklearn.preprocessing import StandardScaler, MinMaxScaler\n",
    "from sklearn.manifold import TSNE # 원래 데이터를 2차원으로 축소, 주로 시각화에 활용된다. "
   ]
  },
  {
   "cell_type": "code",
   "execution_count": 4,
   "metadata": {},
   "outputs": [],
   "source": [
    "import warnings\n",
    "warnings.filterwarnings(\"ignore\")"
   ]
  },
  {
   "attachments": {},
   "cell_type": "markdown",
   "metadata": {},
   "source": [
    "## SVM을 이용한 회귀 모델과 분류 모델"
   ]
  },
  {
   "attachments": {},
   "cell_type": "markdown",
   "metadata": {},
   "source": [
    "### SVM을 사용한 회귀 모델 (SVR)"
   ]
  },
  {
   "cell_type": "code",
   "execution_count": null,
   "metadata": {},
   "outputs": [],
   "source": [
    "x, y = load_boston(return_X_y=True)\n",
    "x_train, x_test, y_train, y_test = train_test_split(x, y, random_state=123)\n",
    "\n",
    "model = SVR()\n",
    "model.fit(x_train, y_train)\n",
    "\n",
    "print(f'Train Data Score: {model.score(x_train, y_train)}')\n",
    "print(f'Test Data Score: {model.score(x_test, y_test)}')"
   ]
  },
  {
   "attachments": {},
   "cell_type": "markdown",
   "metadata": {},
   "source": [
    "### SVM을 사용한 분류 모델 (SVC)"
   ]
  },
  {
   "cell_type": "code",
   "execution_count": 5,
   "metadata": {},
   "outputs": [
    {
     "name": "stdout",
     "output_type": "stream",
     "text": [
      "Train Data Score: 0.9014084507042254\n",
      "Test Data Score: 0.9230769230769231\n"
     ]
    }
   ],
   "source": [
    "x, y = load_breast_cancer(return_X_y=True)\n",
    "x_train, x_test, y_train, y_test = train_test_split(x, y, random_state=123)\n",
    "\n",
    "model = SVC()\n",
    "model.fit(x_train, y_train)\n",
    "\n",
    "print(f'Train Data Score: {model.score(x_train, y_train)}')\n",
    "print(f'Test Data Score: {model.score(x_test, y_test)}')"
   ]
  },
  {
   "attachments": {},
   "cell_type": "markdown",
   "metadata": {},
   "source": [
    "## 커널 기법\n",
    "\n",
    "- 입력 데이터를 고차원 공간에 사상해서 비선형 특징을 학습할 수 있도록 확장하는 방법\n",
    "- scikit-learn에서는 Linear, Polynomial, RBF(Radial Basis Function)등 다양한 커널 기법을 지원"
   ]
  },
  {
   "cell_type": "code",
   "execution_count": null,
   "metadata": {},
   "outputs": [],
   "source": [
    "x, y = load_boston(return_X_y=True)\n",
    "x_train, x_test, y_train, y_test = train_test_split(x, y, random_state=123)\n",
    "\n",
    "linear_svr = SVR(kernel = 'linear')\n",
    "linear_svr.fit(x_train, y_train)\n",
    "\n",
    "print(f'Linear SVR Train Data Score: {linear_svr.score(x_train, y_train)}')\n",
    "print(f'Linear SVR Test Data Score: {linear_svr.score(x_test, y_test)}')\n",
    "\n",
    "polynomial_svr = SVR(kernel = 'poly')\n",
    "polynomial_svr.fit(x_train, y_train)\n",
    "\n",
    "print(f'Polynomial SVR  Train Data Score: {polynomial_svr.score(x_train, y_train)}')\n",
    "print(f'Polynomial SVR Test Data Score: {polynomial_svr.score(x_test, y_test)}')\n",
    "\n",
    "rbf_svr = SVR(kernel = 'rbf')\n",
    "rbf_svr.fit(x_train, y_train)\n",
    "\n",
    "print(f'RBF SVR Train Data Score: {rbf_svr.score(x_train, y_train)}')\n",
    "print(f'RBF SVR Test Data Score: {rbf_svr.score(x_test, y_test)}')"
   ]
  },
  {
   "attachments": {},
   "cell_type": "markdown",
   "metadata": {},
   "source": [
    "- Linear SVR Train Data Score: 0.715506620496448\n",
    "- Linear SVR Test Data Score: 0.6380398541506058\n",
    "- Polynomial SVR  Train Data Score: 0.2024454261446289\n",
    "- Polynomial SVR Test Data Score: 0.133668450367462\n",
    "- RBF SVR Train Data Score: 0.2177283706374875\n",
    "- RBF SVR Test Data Score: 0.13544178468518187"
   ]
  },
  {
   "cell_type": "code",
   "execution_count": null,
   "metadata": {},
   "outputs": [],
   "source": [
    "from sklearn.metrics import mean_squared_error\n",
    "mean_squared_error(y_test, rbf_svr.predict(x_test))"
   ]
  },
  {
   "cell_type": "code",
   "execution_count": 6,
   "metadata": {},
   "outputs": [
    {
     "name": "stdout",
     "output_type": "stream",
     "text": [
      "Linear SVC Train Data Score: 0.960093896713615\n",
      "Linear SVC Test Data Score: 0.986013986013986\n",
      "Polynomial SVC Train Data Score: 0.9014084507042254\n",
      "Polynomial SVC Test Data Score: 0.9230769230769231\n",
      "RBF SVC Train Data Score: 0.9014084507042254\n",
      "RBF SVC Test Data Score: 0.9230769230769231\n"
     ]
    }
   ],
   "source": [
    "# 유방암 데이터를 이용한 분류\n",
    "# - 각 커널별로 유방암 데이터를 분류해보자. \n",
    "# https://scikit-learn.org/stable/modules/generated/sklearn.svm.SVC.html\n",
    "\n",
    "X, y = load_breast_cancer(return_X_y=True)\n",
    "X_train, X_test, y_train, y_test = train_test_split(X, y, random_state=123)\n",
    "\n",
    "linear_svc = SVC(kernel = 'linear')\n",
    "linear_svc.fit(X_train, y_train)\n",
    "\n",
    "print(f'Linear SVC Train Data Score: {linear_svc.score(X_train, y_train)}')\n",
    "print(f'Linear SVC Test Data Score: {linear_svc.score(X_test, y_test)}')\n",
    "\n",
    "polynomial_svc = SVC(kernel = 'poly')\n",
    "polynomial_svc.fit(X_train, y_train)\n",
    "\n",
    "print(f'Polynomial SVC Train Data Score: {polynomial_svc.score(X_train, y_train)}')\n",
    "print(f'Polynomial SVC Test Data Score: {polynomial_svc.score(X_test, y_test)}')\n",
    "\n",
    "rbf_svc = SVC(kernel = 'rbf')\n",
    "rbf_svc.fit(X_train, y_train)\n",
    "\n",
    "print(f'RBF SVC Train Data Score: {rbf_svc.score(X_train, y_train)}')\n",
    "print(f'RBF SVC Test Data Score: {rbf_svc.score(X_test, y_test)}')\n"
   ]
  },
  {
   "attachments": {},
   "cell_type": "markdown",
   "metadata": {},
   "source": [
    "## 매개변수 튜닝\n",
    "\n",
    "- SVM은 사용하는 커널에 따라 다양한 매개변수 설정 가능\n",
    "- 매개변수를 변경하면서 성능변화를 관찰\n",
    "\n",
    " - C는 얼마나 많은 데이터 샘플이 다른 클래스에 놓이는 것을 허용하는지를 결정\n",
    "  - 작을 수록 많이 허용하고, 클 수록 적게 허용한다.\n",
    "  -  C값을 낮게 설정하면 이상치들이 있을 가능성을 크게 잡아 일반적인 결정 경계를 찾아내고, 높게 설정하면 반대로 이상치의 존재 가능성을 작게 봐서 좀 더 세심하게 결정 경계를 찾아낸다.\n",
    "\n",
    "  - [참고](https://bskyvision.com/entry/%EC%84%9C%ED%8F%AC%ED%8A%B8-%EB%B2%A1%ED%84%B0-%EB%A8%B8%EC%8B%A0SVM%EC%9D%98-%EC%82%AC%EC%9A%A9%EC%9E%90%EB%A1%9C%EC%84%9C-%EA%BC%AD-%EC%95%8C%EC%95%84%EC%95%BC%ED%95%A0-%EA%B2%83%EB%93%A4-%EB%A7%A4%EA%B0%9C%EB%B3%80%EC%88%98-C%EC%99%80-gamma)\n",
    "\n",
    "\n",
    "|파라미터|default\t| 설명|\n",
    "|-------|-------|-------|\n",
    "|C\t|1.0|\t오류를 얼마나 허용할 것인지 (규제항) 클수록 하드마진, 작을수록 소프트마진에 가까움|\n",
    "|kernel\t|'rbf' (가우시안 커널)| 'linear', 'poly', 'rbf', 'sigmoid', 'precomputed'|\n",
    "|degree\t| 3| \t다항식 커널의 차수 결정 |\n",
    "|gamma\t|'scale'|\t결정경계를 얼마나 유연하게 그릴지 결정 클수록 오버피팅 발생 가능성 높아짐|\n",
    "|coef0\t|0.0\t|다항식 커널에 있는 상수항 r"
   ]
  },
  {
   "cell_type": "code",
   "execution_count": 7,
   "metadata": {},
   "outputs": [],
   "source": [
    "x, y = load_breast_cancer(return_X_y=True)\n",
    "x_train, x_test, y_train, y_test = train_test_split(x, y, random_state=123)"
   ]
  },
  {
   "cell_type": "code",
   "execution_count": 8,
   "metadata": {},
   "outputs": [
    {
     "name": "stdout",
     "output_type": "stream",
     "text": [
      "kernel=ploy, degree=2, C=0.1, gamma=auto\n",
      "Polynomial SVC Train Data Score: 0.9835680751173709\n",
      "Polynomial SVC Test Data Score: 0.993006993006993\n"
     ]
    }
   ],
   "source": [
    "polynomial_svc = SVC(kernel = 'poly', degree=2, C=0.1, gamma='auto')\n",
    "polynomial_svc.fit(x_train, y_train)\n",
    "\n",
    "print(f'kernel=ploy, degree={2}, C={0.1}, gamma={\"auto\"}')\n",
    "print(f'Polynomial SVC Train Data Score: {polynomial_svc.score(x_train, y_train)}')\n",
    "print(f'Polynomial SVC Test Data Score: {polynomial_svc.score(x_test, y_test)}')"
   ]
  },
  {
   "cell_type": "code",
   "execution_count": 9,
   "metadata": {},
   "outputs": [
    {
     "name": "stdout",
     "output_type": "stream",
     "text": [
      "kernel=ploy, C=2.0, gamma=scale\n",
      "RBF SVC Train Data Score: 0.9154929577464789\n",
      "RBF SVC Test Data Score: 0.9370629370629371\n"
     ]
    }
   ],
   "source": [
    "rbf_svc = SVC(kernel = 'rbf', C=2.0, gamma='scale')\n",
    "rbf_svc.fit(x_train, y_train)\n",
    "\n",
    "print(f'kernel=ploy, C={2.0}, gamma={\"scale\"}')\n",
    "print(f'RBF SVC Train Data Score: {rbf_svc.score(x_train, y_train)}')\n",
    "print(f'RBF SVC Test Data Score: {rbf_svc.score(x_test, y_test)}')"
   ]
  },
  {
   "attachments": {},
   "cell_type": "markdown",
   "metadata": {},
   "source": [
    "## 데이터 전처리\n",
    "\n",
    "- SVM은 입력 데이터가 정규화 되어야 좋은 성능을 보임\n",
    "- 주로 모든 특성 값을 [0, 1] 범위로 맞추는 방법을 사용\n",
    "- scikit-learn의 StandardScaler 또는 MinMaxScaler를 사용해 정규화"
   ]
  },
  {
   "cell_type": "code",
   "execution_count": null,
   "metadata": {},
   "outputs": [],
   "source": [
    "# 예 load_breast_cancer 데이터를 StandardScaler 를 이용해 정규화 하고 학습시켜보자\n",
    "# - Score 는?\n",
    "\n",
    "# model 생성\n",
    "# 그냥 학습  vs StandardScaler 로 데이터 변환후 학습 vs MinMaxScaler 로 변환후 학습 "
   ]
  },
  {
   "cell_type": "code",
   "execution_count": 10,
   "metadata": {},
   "outputs": [
    {
     "name": "stdout",
     "output_type": "stream",
     "text": [
      "SVC Train Data Score: 0.9014084507042254\n",
      "SVC Test Data Score: 0.9230769230769231\n"
     ]
    }
   ],
   "source": [
    "model = SVC()\n",
    "model.fit(X_train, y_train)\n",
    "\n",
    "print(f'SVC Train Data Score: {model.score(X_train, y_train)}')\n",
    "print(f'SVC Test Data Score: {model.score(X_test, y_test)}')"
   ]
  },
  {
   "cell_type": "code",
   "execution_count": 11,
   "metadata": {},
   "outputs": [
    {
     "name": "stdout",
     "output_type": "stream",
     "text": [
      "SVC Train Data Score: 0.9835680751173709\n",
      "SVC Test Data Score: 0.986013986013986\n"
     ]
    }
   ],
   "source": [
    "scaler = StandardScaler()\n",
    "X_train = scaler.fit_transform(X_train)\n",
    "X_test = scaler.fit_transform(X_test)\n",
    "\n",
    "model = SVC()\n",
    "model.fit(X_train, y_train)\n",
    "\n",
    "print(f'SVC Train Data Score: {model.score(X_train, y_train)}')\n",
    "print(f'SVC Test Data Score: {model.score(X_test, y_test)}')"
   ]
  },
  {
   "cell_type": "code",
   "execution_count": 12,
   "metadata": {},
   "outputs": [
    {
     "name": "stdout",
     "output_type": "stream",
     "text": [
      "SVC Train Data Score: 0.9812206572769953\n",
      "SVC Test Data Score: 0.9300699300699301\n"
     ]
    }
   ],
   "source": [
    "scaler = MinMaxScaler()\n",
    "X_train = scaler.fit_transform(X_train)\n",
    "X_test = scaler.fit_transform(X_test)\n",
    "\n",
    "model = SVC()\n",
    "model.fit(X_train, y_train)\n",
    "\n",
    "print(f'SVC Train Data Score: {model.score(X_train, y_train)}')\n",
    "print(f'SVC Test Data Score: {model.score(X_test, y_test)}')"
   ]
  },
  {
   "attachments": {},
   "cell_type": "markdown",
   "metadata": {},
   "source": [
    "## Linear Support Vector Regression"
   ]
  },
  {
   "cell_type": "code",
   "execution_count": 13,
   "metadata": {},
   "outputs": [],
   "source": [
    "import multiprocessing\n",
    "import pandas as pd\n",
    "import numpy as np\n",
    "import matplotlib.pyplot as plt\n",
    "plt.style.use(['seaborn-whitegrid'])"
   ]
  },
  {
   "cell_type": "code",
   "execution_count": 14,
   "metadata": {},
   "outputs": [],
   "source": [
    "from sklearn.svm import SVR, SVC # suport vector regression / classification\n",
    "from sklearn.datasets import load_diabetes\n",
    "from sklearn.datasets import load_breast_cancer, load_iris, load_wine\n",
    "from sklearn.pipeline import make_pipeline, Pipeline\n",
    "from sklearn.model_selection import train_test_split, cross_val_score, GridSearchCV, cross_validate\n",
    "from sklearn.preprocessing import StandardScaler, MinMaxScaler\n",
    "from sklearn.manifold import TSNE # 2차원으로 축소, 주로 시각화에 활용(비슷한 구조끼리 데이터를 정리하여 구조 이해 도움)"
   ]
  },
  {
   "cell_type": "code",
   "execution_count": 15,
   "metadata": {},
   "outputs": [],
   "source": [
    "import warnings\n",
    "warnings.filterwarnings(\"ignore\")"
   ]
  },
  {
   "attachments": {},
   "cell_type": "markdown",
   "metadata": {},
   "source": [
    "### 보스턴 주택 가격"
   ]
  },
  {
   "cell_type": "code",
   "execution_count": null,
   "metadata": {},
   "outputs": [],
   "source": [
    "x, y = load_boston(return_X_y=True)\n",
    "x_train, x_test, y_train, y_test = train_test_split(x, y, test_size=.2)\n",
    "model = SVR(kernel='linear')\n",
    "model.fit(x_train, y_train)\n",
    "print(f'Train Data Score: {model.score(x_train, y_train)}')\n",
    "print(f'Test Data Score: {model.score(x_test, y_test)}')"
   ]
  },
  {
   "cell_type": "code",
   "execution_count": null,
   "metadata": {},
   "outputs": [],
   "source": [
    "x_comp = TSNE(n_components=1).fit_transform(x) # 저차원 변환\n",
    "plt.scatter(x_comp, y); # 시각화 "
   ]
  },
  {
   "attachments": {},
   "cell_type": "markdown",
   "metadata": {},
   "source": [
    "model.fit(x_comp, y)\n",
    "predict = model.predict(x_comp)\n",
    "plt.scatter(x_comp, y)\n",
    "plt.scatter(x_comp, predict, color = 'r')"
   ]
  },
  {
   "cell_type": "code",
   "execution_count": null,
   "metadata": {},
   "outputs": [],
   "source": [
    "# pip라인 생성(SS -> SVR)"
   ]
  },
  {
   "cell_type": "code",
   "execution_count": null,
   "metadata": {},
   "outputs": [],
   "source": [
    "estimator = make_pipeline(StandardScaler(), SVR(kernel = 'linear'))\n",
    "\n",
    "result = cross_validate(\n",
    "    estimator=estimator,\n",
    "    X=x, y=y,\n",
    "    cv=5,\n",
    "    n_jobs=multiprocessing.cpu_count(),\n",
    "    verbose=True\n",
    "    )"
   ]
  },
  {
   "cell_type": "code",
   "execution_count": null,
   "metadata": {},
   "outputs": [],
   "source": [
    "estimator = make_pipeline(StandardScaler(), SVR(kernel = 'linear'))\n",
    "\n",
    "result = cross_validate(\n",
    "    estimator=estimator,\n",
    "    X=x, y=y,\n",
    "    cv=5,\n",
    "    n_jobs=multiprocessing.cpu_count(),\n",
    "    verbose=True\n",
    "    )"
   ]
  },
  {
   "cell_type": "code",
   "execution_count": null,
   "metadata": {},
   "outputs": [],
   "source": [
    "result[\"test_score\"].mean()"
   ]
  },
  {
   "cell_type": "code",
   "execution_count": null,
   "metadata": {},
   "outputs": [],
   "source": [
    "pipe = Pipeline([('scaler', StandardScaler()),\n",
    "                 ('model', SVR(kernel='linear'))])\n",
    "\n",
    "param_grid = [{'model__gamma': ['scale', 'auto'],\n",
    "               'model__C': [1.0, 0.1, 0.01],\n",
    "               'model__epsilon': [1.0, 0.1, 0.01]}] # magin 의 폭 지정(값이 커질수록 폭도 커지게된다. -> hard vs soft)\n",
    "\n",
    "gs = GridSearchCV(\n",
    "    estimator=pipe, param_grid = param_grid,\n",
    "    cv=5,\n",
    "    n_jobs=multiprocessing.cpu_count(),\n",
    "    verbose=True\n",
    "    )\n",
    "\n",
    "gs.fit(x, y)"
   ]
  },
  {
   "cell_type": "code",
   "execution_count": null,
   "metadata": {},
   "outputs": [],
   "source": [
    "gs.best_estimator_ # 가장 성능이 좋은 model "
   ]
  },
  {
   "attachments": {},
   "cell_type": "markdown",
   "metadata": {},
   "source": [
    "### 실습 당뇨병\n",
    "- 당뇨병 데이터를 이용해 다음과 같은 과정을 수행해 보세요\n",
    "- TSNE 을 이용해 저차원 변경후 시각화\n",
    "- cross_validate 를 이용한 기본 model 성능 측정\n",
    "- GridSearchCV 를 이용한 최적의 Parameter 추정 "
   ]
  },
  {
   "cell_type": "code",
   "execution_count": 16,
   "metadata": {},
   "outputs": [],
   "source": [
    "x, y = load_diabetes(return_X_y= True)"
   ]
  },
  {
   "attachments": {},
   "cell_type": "markdown",
   "metadata": {},
   "source": [
    "## Kernel SVR"
   ]
  },
  {
   "attachments": {},
   "cell_type": "markdown",
   "metadata": {},
   "source": [
    "### 보스턴 주택 가격"
   ]
  },
  {
   "cell_type": "code",
   "execution_count": null,
   "metadata": {},
   "outputs": [],
   "source": [
    "x, y = load_boston(return_X_y=True)\n",
    "x_train, x_test, y_train, y_test = train_test_split(x, y, test_size=.2)\n",
    "scaler = StandardScaler()\n",
    "scaler.fit(x_train)\n",
    "x_train = scaler.transform(x_train)\n",
    "x_test = scaler.transform(x_test)\n",
    "model = SVR(kernel='rbf')\n",
    "model.fit(x_train, y_train)\n",
    "print(f'Train Data Score: {model.score(x_train, y_train)}')\n",
    "print(f'Test Data Score: {model.score(x_test, y_test)}')\n",
    "x_comp = TSNE(n_components=1).fit_transform(x)\n",
    "plt.scatter(x_comp, y)\n",
    "model.fit(x_comp, y)\n",
    "predict = model.predict(x_comp)\n",
    "plt.scatter(x_comp, y)\n",
    "plt.scatter(x_comp, predict, color = 'r');\n",
    "\n",
    "estimator = make_pipeline(StandardScaler(), SVR(kernel = 'rbf'))\n",
    "\n",
    "cross_validate(\n",
    "    estimator=estimator,\n",
    "    x=x, y=y,\n",
    "    cv=5,\n",
    "    n_jobs=multiprocessing.cpu_count(),\n",
    "    verbose=True\n",
    "    )\n",
    "\n",
    "pipe = Pipeline([('scaler', StandardScaler()),\n",
    "                 ('model', SVR(kernel='rbf'))])\n",
    "\n",
    "param_grid = [{'model__kernel': ['rbf', 'polynomial', 'sigmoid']}]\n",
    "\n",
    "gs = GridSearchCV(\n",
    "    estimator=pipe, param_grid = param_grid,\n",
    "    cv=5,\n",
    "    n_jobs=multiprocessing.cpu_count(),\n",
    "    verbose=True\n",
    "    )\n",
    "\n",
    "gs.fit(x, y)\n",
    "\n",
    "gs.best_estimator_\n",
    "\n",
    "pipe = Pipeline([('scaler', StandardScaler()),\n",
    "                 ('model', SVR(kernel='rbf'))])\n",
    "\n",
    "param_grid = [{'model__gamma': ['scale', 'auto'],\n",
    "'model__C': [1.0, .1, .01],\n",
    "'model__epsilon': [1, .1, .01]}]\n",
    "\n",
    "gs = GridSearchCV(\n",
    "    estimator=pipe, param_grid = param_grid,\n",
    "    cv=5,\n",
    "    n_jobs=multiprocessing.cpu_count(),\n",
    "    verbose=True\n",
    "    )\n",
    "\n",
    "gs.fit(x, y)\n",
    "\n",
    "gs.best_estimator_"
   ]
  },
  {
   "attachments": {},
   "cell_type": "markdown",
   "metadata": {},
   "source": [
    "- 나머지는 다 실습으로 이해하도록 해보겠음 (보스턴 데이터 사라져서 풀방법 x )"
   ]
  },
  {
   "cell_type": "markdown",
   "metadata": {},
   "source": []
  }
 ],
 "metadata": {
  "kernelspec": {
   "display_name": "ml",
   "language": "python",
   "name": "python3"
  },
  "language_info": {
   "codemirror_mode": {
    "name": "ipython",
    "version": 3
   },
   "file_extension": ".py",
   "mimetype": "text/x-python",
   "name": "python",
   "nbconvert_exporter": "python",
   "pygments_lexer": "ipython3",
   "version": "3.10.6"
  },
  "orig_nbformat": 4,
  "vscode": {
   "interpreter": {
    "hash": "c8aae155f827574366a4383a9f1891653118f94e22d7f1616b84a49a297bbb0b"
   }
  }
 },
 "nbformat": 4,
 "nbformat_minor": 2
}
